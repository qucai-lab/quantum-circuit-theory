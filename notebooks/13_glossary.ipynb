{
 "cells": [
  {
   "cell_type": "markdown",
   "metadata": {
    "id": "IT3xoU8Pp85F"
   },
   "source": [
    "<!-- Badges: -->\n",
    "\n",
    "<!-- Title: -->\n",
    "<div align=\"center\">\n",
    "  <h1><b> Glossary </b></h1>\n",
    "  <h2> Quantum Circuit Theory and Implementations </h2>\n",
    "</div>\n",
    "<br>\n",
    "\n",
    "<b>Author:</b> <a target=\"_blank\" href=\"https://github.com/camponogaraviera\">Lucas Camponogara Viera</a>"
   ]
  },
  {
   "cell_type": "markdown",
   "metadata": {
    "id": "0U_0A5LcqCVY"
   },
   "source": [
    "<div align='center'>\n",
    "<table class=\"tfo-notebook-buttons\" align=\"head\">\n",
    "  <td>\n",
    "    <a target=\"_blank\" href=\"https://github.com/QuCAI-Lab/quantum-circuit-theory\"><img src=\"https://www.tensorflow.org/images/GitHub-Mark-32px.png\" /></a>\n",
    "  </td>\n",
    "</table>\n",
    "</div>"
   ]
  },
  {
   "cell_type": "markdown",
   "metadata": {
    "id": "o7NRDM6Ko9hj"
   },
   "source": [
    "# Glossary \n",
    "One may also resort to the [IBM Quantum glossary](https://quantum-computing.ibm.com/lab/docs/iql/terms-glossary)."
   ]
  },
  {
   "cell_type": "markdown",
   "metadata": {
    "id": "QvPJtZHt-YME"
   },
   "source": [
    "- **Dirac notation:**\n",
    "  - Ket state $|\\psi\\rangle$: is a $n$x$1$ matrix (column vector).\n",
    "  - Bra state $\\langle \\psi| = (|\\psi\\rangle)^{\\dagger}$: a.k.a dual vector is a $1$x$n$ matrix (row vector).\n",
    "\n",
    "- **Coherent state of superposition:**\n",
    "  - In the algebra of quantum mechanics, it is represented as the linear combination of linear independent and orthonormal vectors.\n",
    "\n",
    "- **Qubit:**\n",
    "  - Disambiguation: the term qubit can refer to the actual physical device in which information is stored (e.g., transmon qubit), and it can also refer to the unit of information itself that is stored in the state of those physical devices. In quantum information, a qubit is any two-level quantum system in a coherent state of superposition. It is often a superposition of the ocupation of the two lowest quantized energy levels of any quantum system. The term \"qubit\" is attributed to Benjamin Schumacher [[1]](https://journals.aps.org/pra/abstract/10.1103/PhysRevA.51.2738).\n",
    "\n",
    "- **Qudit system:** is a $d$-level system, i.e, a quantum system of $d$ energy levels.\n",
    "  - Statevector representation: is a vector of $d$ components in a Hilbert space $\\mathcal{H}$ of dimension $\\dim(\\mathcal{H})=d$ with an orthonormal basis set composed of $d$ linear independent (LI) vectors. \n",
    "  - Density matrix representation: is a $d$x$d$ unitary matrix from the $SU(d)$ group of degree $d$ (dimension).\n",
    "  - Examples:\n",
    "    - Qubit: a quantum system of 2 energy levels whose density matrix is represented by a 2x2 matrix.\n",
    "    - Qutrit: a quantum system of 3 energy levels whose density matrix is represented by a 3x3 matrix.\n",
    "\n",
    "- **An n-qubit gate:** is a gate acting on $n$ qubits. It is represented by a $2^{n}$x$2^{n}$ unitary matrix from the unitary group $U(2^{n})$.\n",
    "  - Examples:\n",
    "    - 1-qubit (a.k.a single-qubit) gate: is a local operation (i.e, acting on a single qubit) represented by a 2x2 Unitary matrix.\n",
    "    - 2-qubit gate: is a non-local operation (i.e, acting on two qubits) represented by a 4x4 Unitary matrix.\n",
    "    - 3-qubit gate: is a non-local operation (acting on 3 qubits) represented by an 8x8 Unitary matrix.\n",
    "\n"
   ]
  }
 ],
 "metadata": {
  "colab": {
   "provenance": []
  },
  "kernelspec": {
   "display_name": "Python 3 (ipykernel)",
   "language": "python",
   "name": "python3"
  },
  "language_info": {
   "codemirror_mode": {
    "name": "ipython",
    "version": 3
   },
   "file_extension": ".py",
   "mimetype": "text/x-python",
   "name": "python",
   "nbconvert_exporter": "python",
   "pygments_lexer": "ipython3",
   "version": "3.11.2"
  }
 },
 "nbformat": 4,
 "nbformat_minor": 4
}
