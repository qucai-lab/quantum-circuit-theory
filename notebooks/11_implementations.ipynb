{
 "cells": [
  {
   "cell_type": "markdown",
   "metadata": {
    "id": "IT3xoU8Pp85F"
   },
   "source": [
    "<!-- Badges: -->\n",
    "\n",
    "<!-- Title: -->\n",
    "<div align=\"center\">\n",
    "  <h1><b> Implementations </b></h1>\n",
    "  <h2> Quantum Circuit Theory and Implementations </h2>\n",
    "</div>\n",
    "<br>\n",
    "\n",
    "<b>Author:</b> <a target=\"_blank\" href=\"https://github.com/camponogaraviera\">Lucas Camponogara Viera</a>"
   ]
  },
  {
   "cell_type": "markdown",
   "metadata": {
    "id": "0U_0A5LcqCVY"
   },
   "source": [
    "<div align='center'>\n",
    "<table class=\"tfo-notebook-buttons\" align=\"head\">\n",
    "  <td>\n",
    "    <a target=\"_blank\" href=\"https://github.com/QuCAI-Lab/quantum-circuit-theory\"><img src=\"https://www.tensorflow.org/images/GitHub-Mark-32px.png\" /></a>\n",
    "  </td>\n",
    "</table>\n",
    "</div>"
   ]
  },
  {
   "cell_type": "markdown",
   "metadata": {
    "id": "YhQjTVC65JAC"
   },
   "source": [
    "---\n",
    "The reader may also resort to the [IBM's Summary of Quantum Operations](https://qiskit.org/documentation/tutorials/circuits/3_summary_of_quantum_operations.html) and the [Operations Glossary](https://quantum-computing.ibm.com/composer/docs/iqx/operations_glossary) for Qiskit implementations of the same.\n",
    "\n",
    "---"
   ]
  },
  {
   "cell_type": "code",
   "execution_count": 2,
   "metadata": {
    "id": "8OLUeFb79PVR"
   },
   "outputs": [
    {
     "name": "stdout",
     "output_type": "stream",
     "text": [
      "Author: Lucas Camponogara Viera\n",
      "\n",
      "Github username: camponogaraviera\n",
      "\n",
      "Website: https://qucai-lab.github.io/\n",
      "\n",
      "Last updated: 2023-05-20\n",
      "\n",
      "Python implementation: CPython\n",
      "Python version       : 3.11.2\n",
      "IPython version      : 8.13.2\n",
      "\n",
      "Compiler    : GCC 11.2.0\n",
      "OS          : Linux\n",
      "Release     : 5.19.0-41-generic\n",
      "Machine     : x86_64\n",
      "Processor   : x86_64\n",
      "CPU cores   : 4\n",
      "Architecture: 64bit\n",
      "\n",
      "Git repo: https://github.com/QuCAI-Lab/quantum-circuit-theory.git\n",
      "\n",
      "Git branch: dev\n",
      "\n",
      "watermark : 2.3.1\n",
      "sympy     : 1.11.1\n",
      "pennylane : 0.28.0\n",
      "IPython   : 8.13.2\n",
      "scipy     : 1.9.3\n",
      "numpy     : 1.23.5\n",
      "pylatexenc: 2.10\n",
      "matplotlib: 3.6.2\n",
      "\n",
      "Watermark: 2.3.1\n",
      "\n",
      "{'commit_hash': '2c4c28a3a',\n",
      " 'commit_source': 'installation',\n",
      " 'default_encoding': 'utf-8',\n",
      " 'ipython_path': '/home/lucas/anaconda3/envs/qct/lib/python3.11/site-packages/IPython',\n",
      " 'ipython_version': '8.13.2',\n",
      " 'os_name': 'posix',\n",
      " 'platform': 'Linux-5.19.0-41-generic-x86_64-with-glibc2.35',\n",
      " 'sys_executable': '/home/lucas/anaconda3/envs/qct/bin/python',\n",
      " 'sys_platform': 'linux',\n",
      " 'sys_version': '3.11.2 (main, Mar 27 2023, 23:42:44) [GCC 11.2.0]'}\n"
     ]
    }
   ],
   "source": [
    "%run init.ipynb"
   ]
  },
  {
   "cell_type": "markdown",
   "metadata": {
    "id": "BniTKY6u8a1E"
   },
   "source": [
    "# Table of Contents\n",
    "\n",
    "- NumPy and Sympy implementations of:\n",
    "  - Basis states.\n",
    "  - Projector operators.\n",
    "  - Single-qubit gates.\n",
    "  - Two-qubit gates.\n",
    "  - Eigenvalues and eigenvectors."
   ]
  },
  {
   "cell_type": "markdown",
   "metadata": {
    "id": "8sbAu2YEBH0s"
   },
   "source": [
    "# Basis states"
   ]
  },
  {
   "cell_type": "code",
   "execution_count": 3,
   "metadata": {
    "id": "mEZd-ZWN9H6Z"
   },
   "outputs": [
    {
     "data": {
      "text/plain": [
       "((1, 2), (1, 2), (1, 2), (1, 2), (1, 2), (1, 2))"
      ]
     },
     "execution_count": 3,
     "metadata": {},
     "output_type": "execute_result"
    }
   ],
   "source": [
    "'''Eigenstates of the Pauli-Z gate (Z-basis):'''\n",
    "zero=np.array([[1,0]]) # 2D row-like (bra vector) numpy array representing the classical state <0|.\n",
    "one=np.array([[0,1]])  # 2D row-like (bra vector) numpy array representing the classical state <1|.\n",
    "\n",
    "'''Eigenstates of the Pauli-X gate (X-basis):'''\n",
    "plus=1/(np.sqrt(2))*(zero+one)  # 2D row-like numpy array (bra vector) representing the superposition state <+| = 1/[sqrt(2)](<0| + <1|).\n",
    "minus=1/(np.sqrt(2))*(zero-one) # 2D row-like numpy array (bra vector) representing the superposition state <-| = 1/[sqrt(2)](<0| - <1|).\n",
    "\n",
    "'''Eigenstates of the Pauli-Y gate (Y-basis):'''\n",
    "oplus=1/(np.sqrt(2))*(zero+1j*one)  # 2D row-like numpy array (bra vector) representing the superposition state <⊕| = 1/[sqrt(2)](<0| + i<1|).\n",
    "ominus=1/(np.sqrt(2))*(zero-1j*one) # 2D row-like numpy array (bra vector) representing the superposition state <⊖| = 1/[sqrt(2)](<0| - i<1|).\n",
    "\n",
    "zero.shape, one.shape, plus.shape, minus.shape, oplus.shape, ominus.shape"
   ]
  },
  {
   "cell_type": "code",
   "execution_count": 4,
   "metadata": {},
   "outputs": [
    {
     "data": {
      "text/plain": [
       "'\\n# Row vector:\\nnp.array([0, 1]).reshape(1, 2)\\n\\n# Column vector:\\nnp.array([0, 1]).reshape(2, 1) \\n'"
      ]
     },
     "execution_count": 4,
     "metadata": {},
     "output_type": "execute_result"
    }
   ],
   "source": [
    "'''\n",
    "# Row vector:\n",
    "np.array([0, 1]).reshape(1, 2)\n",
    "\n",
    "# Column vector:\n",
    "np.array([0, 1]).reshape(2, 1) \n",
    "'''"
   ]
  },
  {
   "cell_type": "code",
   "execution_count": 24,
   "metadata": {},
   "outputs": [
    {
     "data": {
      "text/plain": [
       "(array([[1],\n",
       "        [0],\n",
       "        [0],\n",
       "        [0]]),\n",
       " array([[0],\n",
       "        [1],\n",
       "        [0],\n",
       "        [0]]),\n",
       " array([[0],\n",
       "        [0],\n",
       "        [1],\n",
       "        [0]]),\n",
       " array([[0],\n",
       "        [0],\n",
       "        [0],\n",
       "        [1]]))"
      ]
     },
     "execution_count": 24,
     "metadata": {},
     "output_type": "execute_result"
    }
   ],
   "source": [
    "zero_zero = np.kron(zero.T,zero.T)\n",
    "zero_one = np.kron(zero.T,one.T)\n",
    "one_zero = np.kron(one.T,zero.T)\n",
    "one_one = np.kron(one.T,one.T)\n",
    "\n",
    "zero_zero, zero_one, one_zero, one_one"
   ]
  },
  {
   "cell_type": "markdown",
   "metadata": {
    "id": "qxSKaCigBLCg"
   },
   "source": [
    "# Projector operators"
   ]
  },
  {
   "cell_type": "code",
   "execution_count": 5,
   "metadata": {
    "id": "m8QP8XYxBO_Q"
   },
   "outputs": [],
   "source": [
    "'''Projector operators of the ZZ gate:'''\n",
    "outzero = zero.T@zero # Matrix of the outer product |0><0|.\n",
    "outone = one.T@one # Matrix of the outer product |1><1|.\n",
    "\n",
    "#zeros=np.outer(np.kron(zero,zero),np.kron(zero,zero)) # Matrix of the outer product |00><00|.\n",
    "#ones=np.outer(np.kron(one,one),np.kron(one,one))      # Matrix of the outer product |11><11|.\n",
    "#zerone=np.outer(np.kron(zero,one),np.kron(zero,one))  # Matrix of the outer product |01><01|.\n",
    "#onezero=np.outer(np.kron(one,zero),np.kron(one,zero)) # Matrix of the outer product |10><10|.\n",
    "zeros=np.kron(zero.T,zero.T)@np.kron(zero,zero) # Matrix of the outer product |00><00|.\n",
    "ones=np.kron(one.T,one.T)@np.kron(one,one)      # Matrix of the outer product |11><11|.\n",
    "zerone=np.kron(zero.T,one.T)@np.kron(zero,one)  # Matrix of the outer product |01><01|.\n",
    "onezero=np.kron(one.T,zero.T)@np.kron(one,zero) # Matrix of the outer product |10><10|."
   ]
  },
  {
   "cell_type": "markdown",
   "metadata": {
    "id": "7kF7bdbRB-FR"
   },
   "source": [
    "# Single-qubit gates"
   ]
  },
  {
   "cell_type": "markdown",
   "metadata": {
    "id": "DbH8Flx7BQWe"
   },
   "source": [
    "## Pauli gates"
   ]
  },
  {
   "cell_type": "code",
   "execution_count": 6,
   "metadata": {
    "id": "CDUvYps7BQcV"
   },
   "outputs": [],
   "source": [
    "'''Matrix of the identity gate:'''\n",
    "sigma0 = np.identity(2) \n",
    "\n",
    "'''Matrix of the Pauli-X gate that performs a Pi radian rotation around the x-axis:'''\n",
    "#sigma1 = (plus.T@plus)-(minus.T@minus) # |+><+|-|-><-|\n",
    "sigma1 = np.array([[0,1],[1,0]], dtype=(np.float32)) \n",
    "\n",
    "'''Matrix of the Pauli-Y gate = iXZ that performs a Pi radian rotation around the y-axis:'''\n",
    "#sigma2 = (oplus.T@oplus)-(ominus.T@ominus) # |⊕><⊕|-|⊖><⊖|\n",
    "sigma2 = np.array([[0,-1j],[1j,0]], dtype=(np.complex64)) \n",
    "\n",
    "'''Matrix of the Pauli-Z gate = P(pi) that performs a Pi radian rotation around the z-axis:'''\n",
    "#sigma3 = (zero.T@zero)-(one.T@one) # |0><0|-|1><1|\n",
    "sigma3 = np.array([[1,0],[0,-1]], dtype=(np.float32)) "
   ]
  },
  {
   "cell_type": "code",
   "execution_count": 7,
   "metadata": {
    "colab": {
     "base_uri": "https://localhost:8080/"
    },
    "executionInfo": {
     "elapsed": 3,
     "status": "ok",
     "timestamp": 1669067570157,
     "user": {
      "displayName": "Lucas Camponogara Viera",
      "userId": "14322290658374940800"
     },
     "user_tz": -480
    },
    "id": "10VZGN2B2Hla",
    "outputId": "3c386fc8-5b5c-4e0a-94d1-2b141b53bc17"
   },
   "outputs": [
    {
     "data": {
      "text/plain": [
       "array([[0., 1.],\n",
       "       [1., 0.]], dtype=float32)"
      ]
     },
     "execution_count": 7,
     "metadata": {},
     "output_type": "execute_result"
    }
   ],
   "source": [
    "sigma1"
   ]
  },
  {
   "cell_type": "code",
   "execution_count": 8,
   "metadata": {
    "colab": {
     "base_uri": "https://localhost:8080/"
    },
    "executionInfo": {
     "elapsed": 3,
     "status": "ok",
     "timestamp": 1669067570157,
     "user": {
      "displayName": "Lucas Camponogara Viera",
      "userId": "14322290658374940800"
     },
     "user_tz": -480
    },
    "id": "wQ-HucKl2IO-",
    "outputId": "bccfebee-dc6e-412c-be2d-2cfa32023dbb"
   },
   "outputs": [
    {
     "data": {
      "text/plain": [
       "array([[ 0.+0.j, -0.-1.j],\n",
       "       [ 0.+1.j,  0.+0.j]], dtype=complex64)"
      ]
     },
     "execution_count": 8,
     "metadata": {},
     "output_type": "execute_result"
    }
   ],
   "source": [
    "sigma2"
   ]
  },
  {
   "cell_type": "code",
   "execution_count": 9,
   "metadata": {
    "colab": {
     "base_uri": "https://localhost:8080/"
    },
    "executionInfo": {
     "elapsed": 353,
     "status": "ok",
     "timestamp": 1669067570508,
     "user": {
      "displayName": "Lucas Camponogara Viera",
      "userId": "14322290658374940800"
     },
     "user_tz": -480
    },
    "id": "Vm3jP9Vt2IVH",
    "outputId": "3f827421-e790-4e71-dd39-1a880b40e9d0"
   },
   "outputs": [
    {
     "data": {
      "text/plain": [
       "array([[ 1.,  0.],\n",
       "       [ 0., -1.]], dtype=float32)"
      ]
     },
     "execution_count": 9,
     "metadata": {},
     "output_type": "execute_result"
    }
   ],
   "source": [
    "sigma3"
   ]
  },
  {
   "cell_type": "markdown",
   "metadata": {
    "id": "Lj8n68LHCNhi"
   },
   "source": [
    "## Hadamard gate "
   ]
  },
  {
   "cell_type": "code",
   "execution_count": 10,
   "metadata": {
    "id": "eZToTyd1CIFV"
   },
   "outputs": [],
   "source": [
    "# Matrix of the Hadamard gate that performs a Pi radian rotation around an axis between the x and z axes.\n",
    "\n",
    "had = (1/np.sqrt(2))*np.array([[1,1],[1,-1]]) "
   ]
  },
  {
   "cell_type": "markdown",
   "metadata": {
    "id": "p2SGAmPRCLG0"
   },
   "source": [
    "## Phase gate $S$"
   ]
  },
  {
   "cell_type": "code",
   "execution_count": 11,
   "metadata": {
    "colab": {
     "base_uri": "https://localhost:8080/"
    },
    "executionInfo": {
     "elapsed": 8,
     "status": "ok",
     "timestamp": 1669067570508,
     "user": {
      "displayName": "Lucas Camponogara Viera",
      "userId": "14322290658374940800"
     },
     "user_tz": -480
    },
    "id": "jhTNIu7mCJEC",
    "outputId": "155d7cc6-7530-4e3a-8710-fe861d06c97f"
   },
   "outputs": [
    {
     "data": {
      "text/plain": [
       "array([[1.+0.j, 0.+0.j],\n",
       "       [0.+0.j, 0.+1.j]])"
      ]
     },
     "execution_count": 11,
     "metadata": {},
     "output_type": "execute_result"
    }
   ],
   "source": [
    "# Matrix of the Phase gate S = P(pi/2) = square-root of Pauli-Z that performs a rotation of pi/2 radians around the z-axis.\n",
    "\n",
    "phase_s = np.array([[1,0],[0,1j]]) \n",
    "phase_s"
   ]
  },
  {
   "cell_type": "markdown",
   "metadata": {
    "id": "nXk3FZV7Rz03"
   },
   "source": [
    "## Phase gate $T$ a.k.a $\\pi/8$ gate"
   ]
  },
  {
   "cell_type": "code",
   "execution_count": 12,
   "metadata": {
    "colab": {
     "base_uri": "https://localhost:8080/"
    },
    "executionInfo": {
     "elapsed": 8,
     "status": "ok",
     "timestamp": 1669067570508,
     "user": {
      "displayName": "Lucas Camponogara Viera",
      "userId": "14322290658374940800"
     },
     "user_tz": -480
    },
    "id": "craWJTJ5Rz5X",
    "outputId": "4b24c67a-8054-4139-ac31-12d73b8abc01"
   },
   "outputs": [
    {
     "data": {
      "text/plain": [
       "array([[1.        +0.j        , 0.        +0.j        ],\n",
       "       [0.        +0.j        , 0.70710678+0.70710678j]])"
      ]
     },
     "execution_count": 12,
     "metadata": {},
     "output_type": "execute_result"
    }
   ],
   "source": [
    "# Matrix of the Phase gate T = fourth-root of Pauli-Z that performs a rotation of pi/4 radians around the z-axis.\n",
    "\n",
    "phase_t = np.array([[1,0],[0,np.exp(1j*np.pi/4)]]) \n",
    "phase_t"
   ]
  },
  {
   "cell_type": "markdown",
   "metadata": {
    "id": "vyDsYryBFnoW"
   },
   "source": [
    "## $R_{\\hat{n}}(\\theta)$ single-qubit standard rotation gate"
   ]
  },
  {
   "cell_type": "code",
   "execution_count": 13,
   "metadata": {
    "id": "jMzh-oHNF_2A"
   },
   "outputs": [],
   "source": [
    "def Rn(nx: int, ny: int, nz: int, theta: float) -> np.ndarray:\n",
    "  '''\n",
    "  Function to compute the Rn(theta) gate that performs a rotation by theta radian around an arbitrary axis of the Bloch sphere.\n",
    "\n",
    "  Args:\n",
    "    - nx (int): scalar value (0 or 1).\n",
    "    - ny (int): scalar value (0 or 1).\n",
    "    - nz (int): scalar value (0 or 1).\n",
    "    - theta (float): angle of rotation in radians.\n",
    "  \n",
    "  Returns:\n",
    "    - Rn (numpy.ndarray): the corresponding single-qubit standard rotation gate performing a rotation around an arbitrary axis.\n",
    "  '''\n",
    "  unit_vector = nx*sigma1 + ny*sigma2 + nz*sigma3\n",
    "  Rn = expm(-1j*theta/2*unit_vector)\n",
    "  return Rn"
   ]
  },
  {
   "cell_type": "code",
   "execution_count": 12,
   "metadata": {
    "colab": {
     "base_uri": "https://localhost:8080/"
    },
    "executionInfo": {
     "elapsed": 8,
     "status": "ok",
     "timestamp": 1669067570509,
     "user": {
      "displayName": "Lucas Camponogara Viera",
      "userId": "14322290658374940800"
     },
     "user_tz": -480
    },
    "id": "oMzv14n-T43i",
    "outputId": "09563fe3-39bf-4be8-a0d8-3b4b9d442928"
   },
   "outputs": [
    {
     "data": {
      "text/plain": [
       "array([[0.70710677+0.j        , 0.        -0.70710677j],\n",
       "       [0.        -0.70710677j, 0.70710677+0.j        ]], dtype=complex64)"
      ]
     },
     "execution_count": 12,
     "metadata": {},
     "output_type": "execute_result"
    }
   ],
   "source": [
    "Rx = Rn(1,0,0,np.pi/2) # Rotation by pi/2 radian around the x-axis.\n",
    "Rx"
   ]
  },
  {
   "cell_type": "code",
   "execution_count": 13,
   "metadata": {
    "colab": {
     "base_uri": "https://localhost:8080/"
    },
    "executionInfo": {
     "elapsed": 8,
     "status": "ok",
     "timestamp": 1669067570509,
     "user": {
      "displayName": "Lucas Camponogara Viera",
      "userId": "14322290658374940800"
     },
     "user_tz": -480
    },
    "id": "JH4GKgGvUeTD",
    "outputId": "b7225816-7493-4215-8fa5-5abb30a6e3f2"
   },
   "outputs": [
    {
     "data": {
      "text/plain": [
       "array([[ 0.70710677+0.j, -0.70710677-0.j],\n",
       "       [ 0.70710677+0.j,  0.70710677+0.j]], dtype=complex64)"
      ]
     },
     "execution_count": 13,
     "metadata": {},
     "output_type": "execute_result"
    }
   ],
   "source": [
    "Ry = Rn(0,1,0,np.pi/2) # Rotation by pi/2 radian around the x-axis.\n",
    "Ry"
   ]
  },
  {
   "cell_type": "code",
   "execution_count": 14,
   "metadata": {
    "colab": {
     "base_uri": "https://localhost:8080/"
    },
    "executionInfo": {
     "elapsed": 7,
     "status": "ok",
     "timestamp": 1669067570509,
     "user": {
      "displayName": "Lucas Camponogara Viera",
      "userId": "14322290658374940800"
     },
     "user_tz": -480
    },
    "id": "HpMpc6SHUelW",
    "outputId": "863c690d-85ae-4eaa-c0ec-05630e68dd40"
   },
   "outputs": [
    {
     "data": {
      "text/plain": [
       "array([[0.70710677-0.70710677j, 0.        +0.j        ],\n",
       "       [0.        +0.j        , 0.70710677+0.70710677j]], dtype=complex64)"
      ]
     },
     "execution_count": 14,
     "metadata": {},
     "output_type": "execute_result"
    }
   ],
   "source": [
    "Rz = Rn(0,0,1,np.pi/2) # Rotation by pi/2 radian around the x-axis.\n",
    "Rz"
   ]
  },
  {
   "cell_type": "markdown",
   "metadata": {
    "id": "j7V1Q72jBlDz"
   },
   "source": [
    "## $R_x (\\theta)$ gate"
   ]
  },
  {
   "cell_type": "code",
   "execution_count": 15,
   "metadata": {
    "id": "iFds6dNd9YRv"
   },
   "outputs": [],
   "source": [
    "def RX(theta: float) -> np.ndarray:\n",
    "  '''\n",
    "  Function to compute the Special Orthogonal matrix (SO(2) group) of the RX(theta) gate that performs a rotation by theta radian around the x-axis.\n",
    "\n",
    "  Args:\n",
    "    - theta (float): angle of rotation in radians.\n",
    "  \n",
    "  Returns:\n",
    "    - RX (numpy.ndarray): the corresponding single-qubit gate performing a rotation around the x-axis.\n",
    "  '''\n",
    "  RX = np.array([\n",
    "  [np.cos(theta/2),-1j*np.sin(theta/2)],\n",
    "  [-1j*np.sin(theta/2), np.cos(theta/2)]\n",
    "  ])\n",
    "  return RX"
   ]
  },
  {
   "cell_type": "code",
   "execution_count": 16,
   "metadata": {
    "colab": {
     "base_uri": "https://localhost:8080/"
    },
    "executionInfo": {
     "elapsed": 8,
     "status": "ok",
     "timestamp": 1669067570510,
     "user": {
      "displayName": "Lucas Camponogara Viera",
      "userId": "14322290658374940800"
     },
     "user_tz": -480
    },
    "id": "oZotuBc7A2w0",
    "outputId": "b79d07aa-1147-43ba-f34d-75f1644dadc1"
   },
   "outputs": [
    {
     "data": {
      "text/plain": [
       "array([[0.70710678+0.j        , 0.        -0.70710678j],\n",
       "       [0.        -0.70710678j, 0.70710678+0.j        ]])"
      ]
     },
     "execution_count": 16,
     "metadata": {},
     "output_type": "execute_result"
    }
   ],
   "source": [
    "rx_pi2=RX(np.pi/2) # Rotation by pi/2 radian around the x-axis.\n",
    "rx_pi2"
   ]
  },
  {
   "cell_type": "code",
   "execution_count": 17,
   "metadata": {
    "colab": {
     "base_uri": "https://localhost:8080/"
    },
    "executionInfo": {
     "elapsed": 7,
     "status": "ok",
     "timestamp": 1669067570510,
     "user": {
      "displayName": "Lucas Camponogara Viera",
      "userId": "14322290658374940800"
     },
     "user_tz": -480
    },
    "id": "1yZ5cC_OA2IU",
    "outputId": "3329486b-3d2a-4281-d592-acebe9829a65"
   },
   "outputs": [
    {
     "data": {
      "text/plain": [
       "array([[0.70710678+0.j        , 0.        +0.70710678j],\n",
       "       [0.        +0.70710678j, 0.70710678+0.j        ]])"
      ]
     },
     "execution_count": 17,
     "metadata": {},
     "output_type": "execute_result"
    }
   ],
   "source": [
    "rx_mpi2=RX(-np.pi/2) # Rotation by -pi/2 radian around the x-axis.\n",
    "rx_mpi2"
   ]
  },
  {
   "cell_type": "code",
   "execution_count": 18,
   "metadata": {
    "colab": {
     "base_uri": "https://localhost:8080/"
    },
    "executionInfo": {
     "elapsed": 7,
     "status": "ok",
     "timestamp": 1669067570510,
     "user": {
      "displayName": "Lucas Camponogara Viera",
      "userId": "14322290658374940800"
     },
     "user_tz": -480
    },
    "id": "cersv5OTLV2Y",
    "outputId": "d8facbd4-8edd-4bed-bd1a-09a8533e0148"
   },
   "outputs": [
    {
     "data": {
      "text/plain": [
       "(1+0j)"
      ]
     },
     "execution_count": 18,
     "metadata": {},
     "output_type": "execute_result"
    }
   ],
   "source": [
    "np.linalg.det(RX(-np.pi/2))"
   ]
  },
  {
   "cell_type": "markdown",
   "metadata": {
    "id": "ctP0U7CEBfxz"
   },
   "source": [
    "## $R_y (\\theta)$ gate"
   ]
  },
  {
   "cell_type": "code",
   "execution_count": 19,
   "metadata": {
    "id": "pKuldZ189TyS"
   },
   "outputs": [],
   "source": [
    "def RY(theta: float) -> np.ndarray:\n",
    "  '''\n",
    "  Function to compute the Special Orthogonal matrix (SO(2) group) of the RY(theta) gate that performs a rotation by theta radian around the y-axis.\n",
    "\n",
    "  Args:\n",
    "    - theta (float): angle of rotation in radians.\n",
    "  \n",
    "  Returns:\n",
    "    - RY (numpy.ndarray): the corresponding single-qubit gate performing a rotation around the y-axis.\n",
    "  '''\n",
    "  RY = np.array([\n",
    "    [np.cos(theta/2),-np.sin(theta/2)],\n",
    "    [np.sin(theta/2), np.cos(theta/2)]\n",
    "  ])\n",
    "  return RY"
   ]
  },
  {
   "cell_type": "code",
   "execution_count": 20,
   "metadata": {
    "colab": {
     "base_uri": "https://localhost:8080/"
    },
    "executionInfo": {
     "elapsed": 7,
     "status": "ok",
     "timestamp": 1669067570510,
     "user": {
      "displayName": "Lucas Camponogara Viera",
      "userId": "14322290658374940800"
     },
     "user_tz": -480
    },
    "id": "GE5fiHBXAzL8",
    "outputId": "176fc6ec-e6fc-4e09-e975-e0317fbd3918",
    "scrolled": true
   },
   "outputs": [
    {
     "data": {
      "text/plain": [
       "array([[ 0.70710678, -0.70710678],\n",
       "       [ 0.70710678,  0.70710678]])"
      ]
     },
     "execution_count": 20,
     "metadata": {},
     "output_type": "execute_result"
    }
   ],
   "source": [
    "ry_pi2=RY(np.pi/2) # Rotation by pi/2 radian around the y-axis.\n",
    "ry_pi2"
   ]
  },
  {
   "cell_type": "code",
   "execution_count": 21,
   "metadata": {
    "colab": {
     "base_uri": "https://localhost:8080/"
    },
    "executionInfo": {
     "elapsed": 6,
     "status": "ok",
     "timestamp": 1669067570510,
     "user": {
      "displayName": "Lucas Camponogara Viera",
      "userId": "14322290658374940800"
     },
     "user_tz": -480
    },
    "id": "R_6aUhK9AyQb",
    "outputId": "69026677-2e5e-4b82-efde-97e9367e3e6e"
   },
   "outputs": [
    {
     "data": {
      "text/plain": [
       "array([[ 0.70710678,  0.70710678],\n",
       "       [-0.70710678,  0.70710678]])"
      ]
     },
     "execution_count": 21,
     "metadata": {},
     "output_type": "execute_result"
    }
   ],
   "source": [
    "ry_mpi2=RY(-np.pi/2) # Rotation by -pi/2 radian around the y-axis.\n",
    "ry_mpi2"
   ]
  },
  {
   "cell_type": "markdown",
   "metadata": {
    "id": "WB0-SzQdDv9z"
   },
   "source": [
    "## $R_z (\\theta)$ gate"
   ]
  },
  {
   "cell_type": "code",
   "execution_count": 22,
   "metadata": {
    "id": "ZZC1wxyrDwFA"
   },
   "outputs": [],
   "source": [
    "def RZ(theta: float) -> np.ndarray:\n",
    "  '''\n",
    "  Function to compute the Special Orthogonal matrix (SO(2) group) of the RZ(theta) gate that performs a rotation by theta radian around the z-axis.\n",
    "\n",
    "  Args:\n",
    "    - theta (float): angle of rotation in radians.\n",
    "  \n",
    "  Returns:\n",
    "    - RZ (numpy.ndarray): the corresponding single-qubit gate performing a rotation around the z-axis.\n",
    "  '''\n",
    "  RZ = np.array([\n",
    "  [np.exp(-1j*theta/2), 0],\n",
    "  [0, np.exp(1j*theta/2)]\n",
    "  ])\n",
    "  return RZ"
   ]
  },
  {
   "cell_type": "code",
   "execution_count": 23,
   "metadata": {
    "colab": {
     "base_uri": "https://localhost:8080/"
    },
    "executionInfo": {
     "elapsed": 7,
     "status": "ok",
     "timestamp": 1669067570511,
     "user": {
      "displayName": "Lucas Camponogara Viera",
      "userId": "14322290658374940800"
     },
     "user_tz": -480
    },
    "id": "JTJ04h3FD4vm",
    "outputId": "59914c43-8195-424c-8984-6da7240e2d31"
   },
   "outputs": [
    {
     "data": {
      "text/plain": [
       "array([[0.70710678-0.70710678j, 0.        +0.j        ],\n",
       "       [0.        +0.j        , 0.70710678+0.70710678j]])"
      ]
     },
     "execution_count": 23,
     "metadata": {},
     "output_type": "execute_result"
    }
   ],
   "source": [
    "RZ(np.pi/2) # Rotation by pi/2 radian around the z-axis."
   ]
  },
  {
   "cell_type": "code",
   "execution_count": 24,
   "metadata": {
    "colab": {
     "base_uri": "https://localhost:8080/"
    },
    "executionInfo": {
     "elapsed": 340,
     "status": "ok",
     "timestamp": 1669067570845,
     "user": {
      "displayName": "Lucas Camponogara Viera",
      "userId": "14322290658374940800"
     },
     "user_tz": -480
    },
    "id": "hbpwAFohD7jq",
    "outputId": "43c60b29-0f55-49cf-cbd4-034efc5440a4"
   },
   "outputs": [
    {
     "data": {
      "text/plain": [
       "array([[0.70710678+0.70710678j, 0.        +0.j        ],\n",
       "       [0.        +0.j        , 0.70710678-0.70710678j]])"
      ]
     },
     "execution_count": 24,
     "metadata": {},
     "output_type": "execute_result"
    }
   ],
   "source": [
    "RZ(-np.pi/2) # Rotation by -pi/2 radian around the z-axis."
   ]
  },
  {
   "cell_type": "markdown",
   "metadata": {
    "id": "4em71KQRBVb6"
   },
   "source": [
    "# Two-qubit gates"
   ]
  },
  {
   "cell_type": "markdown",
   "metadata": {},
   "source": [
    "## CNOT"
   ]
  },
  {
   "cell_type": "markdown",
   "metadata": {},
   "source": [
    "$$CX^{q_0q_1} = \\mathbb{I} \\otimes |0\\rangle\\langle 0| + X \\otimes |1 \\rangle \\langle 1|.$$"
   ]
  },
  {
   "cell_type": "code",
   "execution_count": 18,
   "metadata": {},
   "outputs": [
    {
     "data": {
      "text/plain": [
       "array([[1., 0., 0., 0.],\n",
       "       [0., 0., 0., 1.],\n",
       "       [0., 0., 1., 0.],\n",
       "       [0., 1., 0., 0.]])"
      ]
     },
     "execution_count": 18,
     "metadata": {},
     "output_type": "execute_result"
    }
   ],
   "source": [
    "cnot_01 = np.kron(np.eye(2), outzero) + np.kron(sigma1, outone)\n",
    "cnot_01"
   ]
  },
  {
   "cell_type": "markdown",
   "metadata": {},
   "source": [
    "$$CX^{q_1q_0}=|0\\rangle\\langle 0|\\otimes \\mathbb{I} +|1\\rangle\\langle 1|\\otimes X.$$"
   ]
  },
  {
   "cell_type": "code",
   "execution_count": 20,
   "metadata": {},
   "outputs": [
    {
     "data": {
      "text/plain": [
       "array([[1., 0., 0., 0.],\n",
       "       [0., 1., 0., 0.],\n",
       "       [0., 0., 0., 1.],\n",
       "       [0., 0., 1., 0.]])"
      ]
     },
     "execution_count": 20,
     "metadata": {},
     "output_type": "execute_result"
    }
   ],
   "source": [
    "cnot_10 = np.kron(outzero, np.eye(2)) + np.kron(outone, sigma1)\n",
    "cnot_10"
   ]
  },
  {
   "cell_type": "markdown",
   "metadata": {
    "id": "GsSFhm21CYeB"
   },
   "source": [
    "## $XX$ gate:"
   ]
  },
  {
   "cell_type": "markdown",
   "metadata": {
    "id": "y9Mi_lX2NEwZ"
   },
   "source": [
    "$$XX \\equiv X\\otimes X :$$"
   ]
  },
  {
   "cell_type": "code",
   "execution_count": 25,
   "metadata": {
    "colab": {
     "base_uri": "https://localhost:8080/"
    },
    "executionInfo": {
     "elapsed": 7,
     "status": "ok",
     "timestamp": 1669067570845,
     "user": {
      "displayName": "Lucas Camponogara Viera",
      "userId": "14322290658374940800"
     },
     "user_tz": -480
    },
    "id": "EoCh_lwTBXLq",
    "outputId": "2d266662-5748-44fb-987a-6ca800354167"
   },
   "outputs": [
    {
     "data": {
      "text/plain": [
       "array([[0., 0., 0., 1.],\n",
       "       [0., 0., 1., 0.],\n",
       "       [0., 1., 0., 0.],\n",
       "       [1., 0., 0., 0.]], dtype=float32)"
      ]
     },
     "execution_count": 25,
     "metadata": {},
     "output_type": "execute_result"
    }
   ],
   "source": [
    "XX = np.kron(sigma1,sigma1) # Matrix of the XX gate.\n",
    "XX"
   ]
  },
  {
   "cell_type": "markdown",
   "metadata": {
    "id": "vjXjyu0WNEwb"
   },
   "source": [
    "$$XX \\equiv X\\otimes X = (|+\\rangle\\langle +|-|-\\rangle\\langle -|)\\otimes(|+\\rangle\\langle +|-|-\\rangle\\langle -|):$$"
   ]
  },
  {
   "cell_type": "code",
   "execution_count": 26,
   "metadata": {
    "colab": {
     "base_uri": "https://localhost:8080/"
    },
    "executionInfo": {
     "elapsed": 7,
     "status": "ok",
     "timestamp": 1669067570845,
     "user": {
      "displayName": "Lucas Camponogara Viera",
      "userId": "14322290658374940800"
     },
     "user_tz": -480
    },
    "id": "eP03caJKNEwb",
    "outputId": "5b572432-0bfa-4575-b10c-3cf5d6a11346"
   },
   "outputs": [
    {
     "data": {
      "text/plain": [
       "array([[0., 0., 0., 1.],\n",
       "       [0., 0., 1., 0.],\n",
       "       [0., 1., 0., 0.],\n",
       "       [1., 0., 0., 0.]])"
      ]
     },
     "execution_count": 26,
     "metadata": {},
     "output_type": "execute_result"
    }
   ],
   "source": [
    "np.kron((plus.T@plus)-(minus.T@minus), (plus.T@plus)-(minus.T@minus))"
   ]
  },
  {
   "cell_type": "markdown",
   "metadata": {
    "id": "C3L6v18lNEwb"
   },
   "source": [
    "$$XX \\equiv X\\otimes X = (|+\\rangle\\langle +|) \\otimes (|+\\rangle\\langle +|) - (|+\\rangle\\langle +|) \\otimes (|-\\rangle\\langle -|) - (|-\\rangle\\langle -|)\\otimes (|+\\rangle\\langle +|) + (|-\\rangle\\langle -|) \\otimes (|-\\rangle\\langle -|):$$"
   ]
  },
  {
   "cell_type": "code",
   "execution_count": 27,
   "metadata": {
    "colab": {
     "base_uri": "https://localhost:8080/"
    },
    "executionInfo": {
     "elapsed": 7,
     "status": "ok",
     "timestamp": 1669067570845,
     "user": {
      "displayName": "Lucas Camponogara Viera",
      "userId": "14322290658374940800"
     },
     "user_tz": -480
    },
    "id": "7O4JBpHjNEwb",
    "outputId": "78016606-a556-4808-9994-9877dbd3cc23"
   },
   "outputs": [
    {
     "data": {
      "text/plain": [
       "array([[0., 0., 0., 1.],\n",
       "       [0., 0., 1., 0.],\n",
       "       [0., 1., 0., 0.],\n",
       "       [1., 0., 0., 0.]])"
      ]
     },
     "execution_count": 27,
     "metadata": {},
     "output_type": "execute_result"
    }
   ],
   "source": [
    "np.kron((plus.T@plus),(plus.T@plus))-np.kron((plus.T@plus),(minus.T@minus))-np.kron((minus.T@minus),(plus.T@plus))+np.kron((minus.T@minus),(minus.T@minus))"
   ]
  },
  {
   "cell_type": "markdown",
   "metadata": {
    "id": "thxJwZV6NEwb"
   },
   "source": [
    "$$XX \\equiv X\\otimes X =(|++\\rangle\\langle ++|)+(|--\\rangle\\langle --|)-(|+-\\rangle\\langle +-|)-(|-+\\rangle\\langle -+|)$$"
   ]
  },
  {
   "cell_type": "code",
   "execution_count": 28,
   "metadata": {
    "colab": {
     "base_uri": "https://localhost:8080/"
    },
    "executionInfo": {
     "elapsed": 7,
     "status": "ok",
     "timestamp": 1669067570846,
     "user": {
      "displayName": "Lucas Camponogara Viera",
      "userId": "14322290658374940800"
     },
     "user_tz": -480
    },
    "id": "o-keoCJrNEwc",
    "outputId": "147ea6cd-3900-4395-b6d1-628d85793244"
   },
   "outputs": [
    {
     "data": {
      "text/plain": [
       "array([[0., 0., 0., 1.],\n",
       "       [0., 0., 1., 0.],\n",
       "       [0., 1., 0., 0.],\n",
       "       [1., 0., 0., 0.]])"
      ]
     },
     "execution_count": 28,
     "metadata": {},
     "output_type": "execute_result"
    }
   ],
   "source": [
    "(np.kron(plus.T,plus.T)@np.kron(plus,plus))+(np.kron(minus.T,minus.T)@np.kron(minus,minus))-(np.kron(plus.T,minus.T)@np.kron(plus,minus))-(np.kron(minus.T,plus.T)@np.kron(minus,plus))"
   ]
  },
  {
   "cell_type": "markdown",
   "metadata": {
    "id": "HTr1w7unCbr8"
   },
   "source": [
    "## $YY$ gate:"
   ]
  },
  {
   "cell_type": "markdown",
   "metadata": {
    "id": "JrnzyjQzshKd"
   },
   "source": [
    "$$YY \\equiv Y\\otimes Y :$$"
   ]
  },
  {
   "cell_type": "code",
   "execution_count": 29,
   "metadata": {
    "colab": {
     "base_uri": "https://localhost:8080/"
    },
    "executionInfo": {
     "elapsed": 7,
     "status": "ok",
     "timestamp": 1669067570846,
     "user": {
      "displayName": "Lucas Camponogara Viera",
      "userId": "14322290658374940800"
     },
     "user_tz": -480
    },
    "id": "CxuCRfLNCcEd",
    "outputId": "f2e4819c-57c2-43ec-b1be-b6b2ea16e376"
   },
   "outputs": [
    {
     "data": {
      "text/plain": [
       "array([[ 0.+0.j,  0.-0.j,  0.-0.j, -1.+0.j],\n",
       "       [ 0.+0.j,  0.+0.j,  1.-0.j,  0.-0.j],\n",
       "       [ 0.+0.j,  1.-0.j,  0.+0.j,  0.-0.j],\n",
       "       [-1.+0.j,  0.+0.j,  0.+0.j,  0.+0.j]], dtype=complex64)"
      ]
     },
     "execution_count": 29,
     "metadata": {},
     "output_type": "execute_result"
    }
   ],
   "source": [
    "YY = np.kron(sigma2,sigma2) # Matrix of the YY gate.\n",
    "YY"
   ]
  },
  {
   "cell_type": "markdown",
   "metadata": {
    "id": "VVls2U2Jys5w"
   },
   "source": [
    "# Eigenvalues and eigenvectors"
   ]
  },
  {
   "cell_type": "markdown",
   "metadata": {
    "id": "GSQc3p8UQkdy"
   },
   "source": [
    "## Verifying the eigenvalues and eigenvectors of the $Z$ and $ZZ$ operators with NumPy:"
   ]
  },
  {
   "cell_type": "code",
   "execution_count": 30,
   "metadata": {
    "colab": {
     "base_uri": "https://localhost:8080/"
    },
    "executionInfo": {
     "elapsed": 7,
     "status": "ok",
     "timestamp": 1669067570846,
     "user": {
      "displayName": "Lucas Camponogara Viera",
      "userId": "14322290658374940800"
     },
     "user_tz": -480
    },
    "id": "XFdY9c7vNEwT",
    "outputId": "6bd68f8c-1517-4cac-add0-83e1ecdf9e03"
   },
   "outputs": [
    {
     "data": {
      "text/plain": [
       "(array([ 1., -1.], dtype=float32),\n",
       " array([[1., 0.],\n",
       "        [0., 1.]], dtype=float32))"
      ]
     },
     "execution_count": 30,
     "metadata": {},
     "output_type": "execute_result"
    }
   ],
   "source": [
    "'''Eigenvalues and Eigenvectors of the Z gate.'''\n",
    "\n",
    "np.linalg.eig(sigma3) # Eigenvalues: +1, -1 | Eigenvectors: |0⟩, |1⟩."
   ]
  },
  {
   "cell_type": "code",
   "execution_count": 31,
   "metadata": {
    "colab": {
     "base_uri": "https://localhost:8080/"
    },
    "executionInfo": {
     "elapsed": 6,
     "status": "ok",
     "timestamp": 1669067570846,
     "user": {
      "displayName": "Lucas Camponogara Viera",
      "userId": "14322290658374940800"
     },
     "user_tz": -480
    },
    "id": "7ajV7P0VNEwU",
    "outputId": "776efce3-f90c-4310-de9d-7950da0d8020"
   },
   "outputs": [
    {
     "data": {
      "text/plain": [
       "(array([ 1., -1., -1.,  1.], dtype=float32),\n",
       " array([[1., 0., 0., 0.],\n",
       "        [0., 1., 0., 0.],\n",
       "        [0., 0., 1., 0.],\n",
       "        [0., 0., 0., 1.]], dtype=float32))"
      ]
     },
     "execution_count": 31,
     "metadata": {},
     "output_type": "execute_result"
    }
   ],
   "source": [
    "'''Eigenvalues and Eigenvectors of ZZ.'''\n",
    "\n",
    "ZZ = np.kron(sigma3,sigma3) # Z⊗Z.\n",
    "np.linalg.eig(ZZ) # Eigenvalues: +1, -1, -1, +1 | Eigenvectors: |00⟩, |01⟩, |10⟩, |11⟩."
   ]
  },
  {
   "cell_type": "markdown",
   "metadata": {
    "id": "oPXl4jCU-SrS"
   },
   "source": [
    "## Verifying the eigenvalues and eigenvectors of the $X$ and $XX$ operators with NumPy:"
   ]
  },
  {
   "cell_type": "code",
   "execution_count": 32,
   "metadata": {
    "colab": {
     "base_uri": "https://localhost:8080/"
    },
    "executionInfo": {
     "elapsed": 6,
     "status": "ok",
     "timestamp": 1669067570846,
     "user": {
      "displayName": "Lucas Camponogara Viera",
      "userId": "14322290658374940800"
     },
     "user_tz": -480
    },
    "id": "Hv7BxWIeNEwW",
    "outputId": "ec47d683-02b5-4708-ed29-db7b4ef58bff"
   },
   "outputs": [
    {
     "data": {
      "text/plain": [
       "(array([ 1., -1.], dtype=float32),\n",
       " array([[ 0.70710677, -0.70710677],\n",
       "        [ 0.70710677,  0.70710677]], dtype=float32))"
      ]
     },
     "execution_count": 32,
     "metadata": {},
     "output_type": "execute_result"
    }
   ],
   "source": [
    "'''Eigenvalues and Eigenvectors of X.'''\n",
    "\n",
    "#Note: the eigenvalues of the printed numpy.ndarray are not necessarily ordered.\n",
    "\n",
    "np.linalg.eig(sigma1) # Eigenvalues: +1, -1 | Eigenvectors: |+⟩, |-⟩."
   ]
  },
  {
   "cell_type": "code",
   "execution_count": 33,
   "metadata": {
    "colab": {
     "base_uri": "https://localhost:8080/"
    },
    "executionInfo": {
     "elapsed": 6,
     "status": "ok",
     "timestamp": 1669067570846,
     "user": {
      "displayName": "Lucas Camponogara Viera",
      "userId": "14322290658374940800"
     },
     "user_tz": -480
    },
    "id": "Yom6AkabNEwW",
    "outputId": "875121f0-71c4-474f-bae2-a20f7b02e36c"
   },
   "outputs": [
    {
     "data": {
      "text/plain": [
       "(array([ 1., -1.,  1., -1.], dtype=float32),\n",
       " array([[ 0.70710677,  0.70710677,  0.        ,  0.        ],\n",
       "        [ 0.        ,  0.        ,  0.70710677, -0.70710677],\n",
       "        [ 0.        ,  0.        ,  0.70710677,  0.70710677],\n",
       "        [ 0.70710677, -0.70710677,  0.        ,  0.        ]],\n",
       "       dtype=float32))"
      ]
     },
     "execution_count": 33,
     "metadata": {},
     "output_type": "execute_result"
    }
   ],
   "source": [
    "'''Eigenvalues and Eigenvectors of XX.'''\n",
    "\n",
    "np.linalg.eig(XX) # Eigenvalues: +1, -1, +1, -1."
   ]
  },
  {
   "cell_type": "markdown",
   "metadata": {
    "id": "D26bMERLBAZM"
   },
   "source": [
    "# Determinant "
   ]
  },
  {
   "cell_type": "markdown",
   "metadata": {
    "id": "9INm8WbIC402"
   },
   "source": [
    "- Verifying the determinant of the Special Orthogonal matrix $R_x$:"
   ]
  },
  {
   "cell_type": "code",
   "execution_count": 34,
   "metadata": {
    "colab": {
     "base_uri": "https://localhost:8080/"
    },
    "executionInfo": {
     "elapsed": 6,
     "status": "ok",
     "timestamp": 1669067570847,
     "user": {
      "displayName": "Lucas Camponogara Viera",
      "userId": "14322290658374940800"
     },
     "user_tz": -480
    },
    "id": "vSNyltIaBdvQ",
    "outputId": "2f2d30cc-e8e0-4064-cafc-1ee9b68ccd00"
   },
   "outputs": [
    {
     "data": {
      "text/latex": [
       "$\\displaystyle \\left[\\begin{matrix}\\cos{\\left(\\frac{\\theta}{2} \\right)} & - 1.0 i \\sin{\\left(\\frac{\\theta}{2} \\right)}\\\\- 1.0 i \\sin{\\left(\\frac{\\theta}{2} \\right)} & \\cos{\\left(\\frac{\\theta}{2} \\right)}\\end{matrix}\\right]$"
      ],
      "text/plain": [
       "Matrix([\n",
       "[       cos(theta/2), -1.0*I*sin(theta/2)],\n",
       "[-1.0*I*sin(theta/2),        cos(theta/2)]])"
      ]
     },
     "execution_count": 34,
     "metadata": {},
     "output_type": "execute_result"
    }
   ],
   "source": [
    "theta = sym.symbols('theta')\n",
    "RX=sym.Matrix([[sym.cos(theta/2),-1j*sym.sin(theta/2)], [-1j*sym.sin(theta/2),sym.cos(theta/2)]])\n",
    "RX"
   ]
  },
  {
   "cell_type": "code",
   "execution_count": 35,
   "metadata": {
    "colab": {
     "base_uri": "https://localhost:8080/"
    },
    "executionInfo": {
     "elapsed": 561,
     "status": "ok",
     "timestamp": 1669067571402,
     "user": {
      "displayName": "Lucas Camponogara Viera",
      "userId": "14322290658374940800"
     },
     "user_tz": -480
    },
    "id": "oqAQOEUfBBka",
    "outputId": "7aa5a0f0-7ae5-4428-ffd2-b6509022d58c"
   },
   "outputs": [
    {
     "data": {
      "text/latex": [
       "$\\displaystyle 1.0$"
      ],
      "text/plain": [
       "1.00000000000000"
      ]
     },
     "execution_count": 35,
     "metadata": {},
     "output_type": "execute_result"
    }
   ],
   "source": [
    "M = sym.Matrix(RX)\n",
    "M.det().simplify()"
   ]
  },
  {
   "cell_type": "markdown",
   "metadata": {
    "id": "n_N1TkEzDAzu"
   },
   "source": [
    "- Verifying the determinant of the Special Orthogonal matrix $R_y$:"
   ]
  },
  {
   "cell_type": "code",
   "execution_count": 36,
   "metadata": {
    "colab": {
     "base_uri": "https://localhost:8080/"
    },
    "executionInfo": {
     "elapsed": 7,
     "status": "ok",
     "timestamp": 1669067571403,
     "user": {
      "displayName": "Lucas Camponogara Viera",
      "userId": "14322290658374940800"
     },
     "user_tz": -480
    },
    "id": "MF0KWIiIDERk",
    "outputId": "d8da7f71-031a-440d-8765-cba69fc7ff83"
   },
   "outputs": [
    {
     "data": {
      "text/latex": [
       "$\\displaystyle \\left[\\begin{matrix}\\cos{\\left(\\frac{\\theta}{2} \\right)} & - \\sin{\\left(\\frac{\\theta}{2} \\right)}\\\\\\sin{\\left(\\frac{\\theta}{2} \\right)} & \\cos{\\left(\\frac{\\theta}{2} \\right)}\\end{matrix}\\right]$"
      ],
      "text/plain": [
       "Matrix([\n",
       "[cos(theta/2), -sin(theta/2)],\n",
       "[sin(theta/2),  cos(theta/2)]])"
      ]
     },
     "execution_count": 36,
     "metadata": {},
     "output_type": "execute_result"
    }
   ],
   "source": [
    "theta = sym.symbols('theta')\n",
    "RY=sym.Matrix([[sym.cos(theta/2),-sym.sin(theta/2)], [sym.sin(theta/2),sym.cos(theta/2)]])\n",
    "RY"
   ]
  },
  {
   "cell_type": "code",
   "execution_count": 37,
   "metadata": {
    "colab": {
     "base_uri": "https://localhost:8080/"
    },
    "executionInfo": {
     "elapsed": 6,
     "status": "ok",
     "timestamp": 1669067571403,
     "user": {
      "displayName": "Lucas Camponogara Viera",
      "userId": "14322290658374940800"
     },
     "user_tz": -480
    },
    "id": "UvMNEE5iDSuK",
    "outputId": "c0a64276-8270-44ea-f614-160d0366ddc0"
   },
   "outputs": [
    {
     "data": {
      "text/latex": [
       "$\\displaystyle 1$"
      ],
      "text/plain": [
       "1"
      ]
     },
     "execution_count": 37,
     "metadata": {},
     "output_type": "execute_result"
    }
   ],
   "source": [
    "M = sym.Matrix(RY)\n",
    "M.det().simplify()"
   ]
  },
  {
   "cell_type": "markdown",
   "metadata": {
    "id": "VH_gkl6VDDak"
   },
   "source": [
    "- Verifying the determinant of the Special Orthogonal matrix $R_z$:"
   ]
  },
  {
   "cell_type": "code",
   "execution_count": 38,
   "metadata": {
    "colab": {
     "base_uri": "https://localhost:8080/"
    },
    "executionInfo": {
     "elapsed": 6,
     "status": "ok",
     "timestamp": 1669067571403,
     "user": {
      "displayName": "Lucas Camponogara Viera",
      "userId": "14322290658374940800"
     },
     "user_tz": -480
    },
    "id": "qPdKd3OhDT0F",
    "outputId": "37f9f1a3-3d99-41cf-f066-e22a63cd64e4"
   },
   "outputs": [
    {
     "data": {
      "text/latex": [
       "$\\displaystyle \\left[\\begin{matrix}e^{- 0.5 i \\theta} & 0\\\\0 & e^{0.5 i \\theta}\\end{matrix}\\right]$"
      ],
      "text/plain": [
       "Matrix([\n",
       "[exp(-0.5*I*theta),                0],\n",
       "[                0, exp(0.5*I*theta)]])"
      ]
     },
     "execution_count": 38,
     "metadata": {},
     "output_type": "execute_result"
    }
   ],
   "source": [
    "theta = sym.symbols('theta')\n",
    "RZ=sym.Matrix([[sym.exp(-1j*theta/2),0], [0,sym.exp(1j*theta/2)]])\n",
    "RZ"
   ]
  },
  {
   "cell_type": "code",
   "execution_count": 39,
   "metadata": {
    "colab": {
     "base_uri": "https://localhost:8080/"
    },
    "executionInfo": {
     "elapsed": 5,
     "status": "ok",
     "timestamp": 1669067571403,
     "user": {
      "displayName": "Lucas Camponogara Viera",
      "userId": "14322290658374940800"
     },
     "user_tz": -480
    },
    "id": "17P-BMrwDD5u",
    "outputId": "3f7c0430-990c-44c1-e02e-d0e5a6ec80e1"
   },
   "outputs": [
    {
     "data": {
      "text/latex": [
       "$\\displaystyle 1$"
      ],
      "text/plain": [
       "1"
      ]
     },
     "execution_count": 39,
     "metadata": {},
     "output_type": "execute_result"
    }
   ],
   "source": [
    "M = sym.Matrix(RZ)\n",
    "M.det()"
   ]
  }
 ],
 "metadata": {
  "colab": {
   "collapsed_sections": [
    "8sbAu2YEBH0s",
    "qxSKaCigBLCg",
    "7kF7bdbRB-FR",
    "DbH8Flx7BQWe",
    "Lj8n68LHCNhi",
    "p2SGAmPRCLG0",
    "nXk3FZV7Rz03",
    "vyDsYryBFnoW",
    "j7V1Q72jBlDz",
    "ctP0U7CEBfxz",
    "WB0-SzQdDv9z",
    "4em71KQRBVb6",
    "GsSFhm21CYeB",
    "HTr1w7unCbr8",
    "VVls2U2Jys5w",
    "GSQc3p8UQkdy",
    "oPXl4jCU-SrS",
    "D26bMERLBAZM"
   ],
   "provenance": []
  },
  "kernelspec": {
   "display_name": "Python 3 (ipykernel)",
   "language": "python",
   "name": "python3"
  },
  "language_info": {
   "codemirror_mode": {
    "name": "ipython",
    "version": 3
   },
   "file_extension": ".py",
   "mimetype": "text/x-python",
   "name": "python",
   "nbconvert_exporter": "python",
   "pygments_lexer": "ipython3",
   "version": "3.11.2"
  }
 },
 "nbformat": 4,
 "nbformat_minor": 4
}
