{
 "cells": [
  {
   "cell_type": "markdown",
   "id": "222d5e8a",
   "metadata": {
    "id": "222d5e8a"
   },
   "source": [
    "<!-- Badges: -->\n",
    "\n",
    "<!-- Title: -->\n",
    "<div align=\"center\">\n",
    "  <h1><b> Change of basis </b></h1>\n",
    "  <h2> Quantum Circuit Theory and Implementations </h2>\n",
    "</div>\n",
    "<br>\n",
    "\n",
    "<b>Author:</b> <a target=\"_blank\" href=\"https://github.com/camponogaraviera\">Lucas Camponogara Viera</a>"
   ]
  },
  {
   "cell_type": "markdown",
   "id": "a0b0abff",
   "metadata": {
    "id": "a0b0abff"
   },
   "source": [
    "<div align='center'>\n",
    "<table class=\"tfo-notebook-buttons\" align=\"head\">\n",
    "  <td>\n",
    "    <a target=\"_blank\" href=\"https://github.com/QuCAI-Lab/quantum-circuit-theory\"><img src=\"https://www.tensorflow.org/images/GitHub-Mark-32px.png\" /></a>\n",
    "  </td>\n",
    "</table>\n",
    "</div>"
   ]
  },
  {
   "cell_type": "markdown",
   "id": "fLj_F_ARqkSG",
   "metadata": {
    "id": "fLj_F_ARqkSG"
   },
   "source": [
    "# Table of Contents\n",
    "\n",
    "- From the $Z$-basis to the $X$-basis.\n",
    "- From the $Z$-basis to the $Y$-basis.\n",
    "- Quantum circuit for measurement in a different basis.\n",
    "    - Measurement in the $𝑍$-basis.\n",
    "    - Measurement in the $X$-basis.\n",
    "    - Measurement in the $Y$-basis."
   ]
  },
  {
   "cell_type": "code",
   "execution_count": 1,
   "id": "6b0074cd",
   "metadata": {},
   "outputs": [
    {
     "name": "stdout",
     "output_type": "stream",
     "text": [
      "Author: Lucas Camponogara Viera\n",
      "\n",
      "Github username: camponogaraviera\n",
      "\n",
      "Website: https://qucai-lab.github.io/\n",
      "\n",
      "Last updated: 2023-06-08\n",
      "\n",
      "Python implementation: CPython\n",
      "Python version       : 3.11.2\n",
      "IPython version      : 8.14.0\n",
      "\n",
      "Compiler    : GCC 11.2.0\n",
      "OS          : Linux\n",
      "Release     : 5.19.0-43-generic\n",
      "Machine     : x86_64\n",
      "Processor   : x86_64\n",
      "CPU cores   : 4\n",
      "Architecture: 64bit\n",
      "\n",
      "Git repo: https://github.com/QuCAI-Lab/quantum-circuit-theory.git\n",
      "\n",
      "Git branch: dev\n",
      "\n",
      "watermark : 2.3.1\n",
      "IPython   : 8.14.0\n",
      "pennylane : 0.28.0\n",
      "matplotlib: 3.6.2\n",
      "sympy     : 1.11.1\n",
      "numpy     : 1.23.5\n",
      "scipy     : 1.9.3\n",
      "pylatexenc: 2.10\n",
      "\n",
      "Watermark: 2.3.1\n",
      "\n",
      "{'commit_hash': 'f11276427',\n",
      " 'commit_source': 'installation',\n",
      " 'default_encoding': 'utf-8',\n",
      " 'ipython_path': '/home/lucas/anaconda3/envs/qct/lib/python3.11/site-packages/IPython',\n",
      " 'ipython_version': '8.14.0',\n",
      " 'os_name': 'posix',\n",
      " 'platform': 'Linux-5.19.0-43-generic-x86_64-with-glibc2.35',\n",
      " 'sys_executable': '/home/lucas/anaconda3/envs/qct/bin/python',\n",
      " 'sys_platform': 'linux',\n",
      " 'sys_version': '3.11.2 (main, Mar 27 2023, 23:42:44) [GCC 11.2.0]'}\n"
     ]
    }
   ],
   "source": [
    "%run 10_implementations.ipynb"
   ]
  },
  {
   "cell_type": "markdown",
   "id": "67d91533",
   "metadata": {
    "jp-MarkdownHeadingCollapsed": true
   },
   "source": [
    "# From the $Z$-basis to the $X$-basis"
   ]
  },
  {
   "cell_type": "markdown",
   "id": "81857223",
   "metadata": {},
   "source": [
    "To change from the $Z$-basis to the $X$-basis one applies a Hadamard gate:\n",
    "\n",
    "\\begin{eqnarray}\n",
    "H|0\\rangle &=& \\frac{1}{\\sqrt{2}}\\Big(|0\\rangle+|1\\rangle\\Big) = R_y(\\pi/2)|0\\rangle = |+\\rangle.\\\\\n",
    "H|1\\rangle &=& \\frac{1}{\\sqrt{2}}\\Big(|0\\rangle-|1\\rangle\\Big) = R_y(-\\pi/2)|0\\rangle = |-\\rangle.\n",
    "\\end{eqnarray}\n",
    "\n",
    "\\begin{eqnarray}\n",
    "\\langle +| &=& (|+\\rangle)^{\\dagger} = (H|0\\rangle)^{\\dagger} = (|0\\rangle)^{\\dagger}H^{\\dagger} = \\langle 0|H,\\\\\n",
    "\\langle -| &=& (|-\\rangle)^{\\dagger} = (H|1\\rangle)^{\\dagger} = (|1\\rangle)^{\\dagger}H^{\\dagger} = \\langle 1|H.\n",
    "\\end{eqnarray}"
   ]
  },
  {
   "cell_type": "markdown",
   "id": "1e2d62d7-368d-41eb-b319-cbb80644d976",
   "metadata": {
    "id": "1e2d62d7-368d-41eb-b319-cbb80644d976"
   },
   "source": [
    "## Verifying $H|0\\rangle = R_y(\\pi/2)|0\\rangle = |+\\rangle$"
   ]
  },
  {
   "cell_type": "markdown",
   "id": "k1_Iu7Kc_F4f",
   "metadata": {
    "id": "k1_Iu7Kc_F4f"
   },
   "source": [
    "### **Matrix approach:**"
   ]
  },
  {
   "cell_type": "markdown",
   "id": "4_ULvxR8nozS",
   "metadata": {
    "id": "4_ULvxR8nozS"
   },
   "source": [
    "$$H |0\\rangle = \\frac{1}{\\sqrt{2}} \\begin{bmatrix} 1 & 1 \\\\ 1 & -1 \\end{bmatrix} \\begin{bmatrix} 1 \\\\ 0 \\end{bmatrix} =  \\frac{1}{\\sqrt{2}} \\begin{bmatrix} 1*1 + 1*0 \\\\ 1*1 -1*0 \\end{bmatrix} = \\frac{1}{\\sqrt{2}}\\begin{bmatrix} 1 \\\\ 1 \\end{bmatrix} =  \\frac{1}{\\sqrt{2}} \\Bigg( \\begin{bmatrix} 1 \\\\ 0 \\end{bmatrix} + \\begin{bmatrix} 0 \\\\ 1 \\end{bmatrix} \\Bigg) = \\frac{1}{\\sqrt{2}}\\Big(|0\\rangle+|1\\rangle\\Big) \\equiv |+\\rangle.$$"
   ]
  },
  {
   "cell_type": "markdown",
   "id": "3zRjPgnMrDQk",
   "metadata": {
    "id": "3zRjPgnMrDQk"
   },
   "source": [
    "\\begin{eqnarray}\n",
    "R_y(\\theta) \\doteq \\exp(-iY\\theta/2) =  \n",
    "\\begin{bmatrix} cos(\\theta/2) & -sin(\\theta/2) \\\\ sin(\\theta/2) & cos(\\theta/2) \\end{bmatrix}.\n",
    "\\end{eqnarray}"
   ]
  },
  {
   "cell_type": "markdown",
   "id": "9Al_oH4JHWVq",
   "metadata": {
    "id": "9Al_oH4JHWVq"
   },
   "source": [
    "\\begin{eqnarray}\n",
    "R_y(\\pi/2)|0\\rangle &=&  \n",
    "\\begin{bmatrix} \n",
    "cos(\\pi/4) & -sin(\\pi/4) \\\\ sin(\\pi/4) & cos(\\pi/4) \\end{bmatrix} \\begin{bmatrix} 1 \\\\ 0 \n",
    "\\end{bmatrix}\n",
    "=\n",
    "\\begin{bmatrix} \n",
    "cos(\\pi/4) \\\\ sin(\\pi/4) \n",
    "\\end{bmatrix}\\\\\n",
    "&=& \\frac{1}{\\sqrt(2)} \n",
    "\\begin{bmatrix} \n",
    "1 \\\\ 1 \n",
    "\\end{bmatrix}\n",
    "= |+\\rangle.\n",
    "\\end{eqnarray}\n",
    "\n",
    "One should note that $sin(\\pi/4) = cos(\\pi/4) = \\frac{1}{\\sqrt{2}}$.\n"
   ]
  },
  {
   "cell_type": "code",
   "execution_count": 2,
   "id": "pBGRBZDCIUCp",
   "metadata": {
    "colab": {
     "base_uri": "https://localhost:8080/"
    },
    "executionInfo": {
     "elapsed": 9,
     "status": "ok",
     "timestamp": 1663628022804,
     "user": {
      "displayName": "Lucas Camponogara Viera",
      "userId": "14322290658374940800"
     },
     "user_tz": -480
    },
    "id": "pBGRBZDCIUCp",
    "outputId": "45876c03-3153-41f1-d7b1-0f603ae4b68d"
   },
   "outputs": [
    {
     "data": {
      "text/plain": [
       "True"
      ]
     },
     "execution_count": 2,
     "metadata": {},
     "output_type": "execute_result"
    }
   ],
   "source": [
    "# sine(pi/4) = cosine(pi/4)\n",
    "np.sin(np.pi/4).round(9)  == np.cos(np.pi/4).round(9)"
   ]
  },
  {
   "cell_type": "code",
   "execution_count": 3,
   "id": "LV1HLxReIWBX",
   "metadata": {
    "colab": {
     "base_uri": "https://localhost:8080/"
    },
    "executionInfo": {
     "elapsed": 9,
     "status": "ok",
     "timestamp": 1663628022804,
     "user": {
      "displayName": "Lucas Camponogara Viera",
      "userId": "14322290658374940800"
     },
     "user_tz": -480
    },
    "id": "LV1HLxReIWBX",
    "outputId": "3560ba84-5c0b-4c31-fa90-7b4258369128"
   },
   "outputs": [
    {
     "data": {
      "text/plain": [
       "True"
      ]
     },
     "execution_count": 3,
     "metadata": {},
     "output_type": "execute_result"
    }
   ],
   "source": [
    "# sine(pi/4) = 1/sqrt(2)\n",
    "np.sin(np.pi/4).round(9) == (1/np.sqrt(2)).round(9)"
   ]
  },
  {
   "cell_type": "markdown",
   "id": "jGitZhadHchZ",
   "metadata": {
    "id": "jGitZhadHchZ"
   },
   "source": [
    "### **Verifying with NumPy:**"
   ]
  },
  {
   "cell_type": "code",
   "execution_count": 4,
   "id": "828ed967-f2ec-4fd6-b196-86a275dd6fe1",
   "metadata": {
    "id": "828ed967-f2ec-4fd6-b196-86a275dd6fe1"
   },
   "outputs": [],
   "source": [
    "zero = np.array([[1,0]]).T # |0>.\n",
    "one = np.array([[0,1]]).T  # |1>."
   ]
  },
  {
   "cell_type": "code",
   "execution_count": 5,
   "id": "bc973b17-bc94-4dfd-a763-9dc0f63c3f66",
   "metadata": {
    "colab": {
     "base_uri": "https://localhost:8080/"
    },
    "executionInfo": {
     "elapsed": 9,
     "status": "ok",
     "timestamp": 1663628022805,
     "user": {
      "displayName": "Lucas Camponogara Viera",
      "userId": "14322290658374940800"
     },
     "user_tz": -480
    },
    "id": "bc973b17-bc94-4dfd-a763-9dc0f63c3f66",
    "outputId": "20d27a15-44d5-428d-a236-4dd610d58537"
   },
   "outputs": [
    {
     "data": {
      "text/plain": [
       "array([[0.70710678],\n",
       "       [0.70710678]])"
      ]
     },
     "execution_count": 5,
     "metadata": {},
     "output_type": "execute_result"
    }
   ],
   "source": [
    "had@zero # H|0>."
   ]
  },
  {
   "cell_type": "code",
   "execution_count": 6,
   "id": "b5b8e5db-6a2c-4658-8815-d8140b37e69f",
   "metadata": {
    "colab": {
     "base_uri": "https://localhost:8080/"
    },
    "executionInfo": {
     "elapsed": 9,
     "status": "ok",
     "timestamp": 1663628022805,
     "user": {
      "displayName": "Lucas Camponogara Viera",
      "userId": "14322290658374940800"
     },
     "user_tz": -480
    },
    "id": "b5b8e5db-6a2c-4658-8815-d8140b37e69f",
    "outputId": "19a94fa4-cc85-4e4c-fc12-8fa4f9d00703"
   },
   "outputs": [
    {
     "data": {
      "text/plain": [
       "array([[0.70710678],\n",
       "       [0.70710678]])"
      ]
     },
     "execution_count": 6,
     "metadata": {},
     "output_type": "execute_result"
    }
   ],
   "source": [
    "ry_pi2@zero # RY(pi/2)|0>."
   ]
  },
  {
   "cell_type": "markdown",
   "id": "8bMlUIyiHfYi",
   "metadata": {
    "id": "8bMlUIyiHfYi"
   },
   "source": [
    "### **Verifying with Qiskit:**"
   ]
  },
  {
   "cell_type": "code",
   "execution_count": 7,
   "id": "7ebc9e46-7890-498c-adb7-637bc2d5572f",
   "metadata": {
    "colab": {
     "base_uri": "https://localhost:8080/"
    },
    "executionInfo": {
     "elapsed": 489,
     "status": "ok",
     "timestamp": 1663628023285,
     "user": {
      "displayName": "Lucas Camponogara Viera",
      "userId": "14322290658374940800"
     },
     "user_tz": -480
    },
    "id": "7ebc9e46-7890-498c-adb7-637bc2d5572f",
    "outputId": "46a2418f-c5e8-4e72-d6b4-b0ba511b6761"
   },
   "outputs": [
    {
     "name": "stdout",
     "output_type": "stream",
     "text": [
      "    ┌───┐\n",
      "q0: ┤ H ├\n",
      "    └───┘\n",
      "Statevector([0.70710678+0.j, 0.70710678+0.j],\n",
      "            dims=(2,))\n"
     ]
    },
    {
     "data": {
      "image/png": "[encoded data removed]",
      "text/plain": [
       "<Figure size 203.481x117.056 with 1 Axes>"
      ]
     },
     "execution_count": 7,
     "metadata": {},
     "output_type": "execute_result"
    }
   ],
   "source": [
    "sim = Aer.get_backend('aer_simulator')  # Define the simulator.\n",
    "\n",
    "qr = QuantumRegister(1)  # Define the number of qubits in the quantum circuit.\n",
    "qc = QuantumCircuit(qr)\n",
    "qc.h(0)  # Apply the Hadamard gate on qubit 0.\n",
    "print(qc)  # Print the circuit.\n",
    "\n",
    "'''\n",
    "qc.save_statevector()  # Save the statevector.\n",
    "qobj = assemble(qc)    # Create a Qobj from the circuit for the simulator to run.\n",
    "result = sim.run(qobj).result() # Run the simulation and return the result.\n",
    "out_state = result.get_statevector()\n",
    "print(out_state)  # Print the output statevector.\n",
    "'''\n",
    "\n",
    "print(Statevector.from_instruction(qc))\n",
    "qc.draw(output='mpl')  "
   ]
  },
  {
   "cell_type": "code",
   "execution_count": 8,
   "id": "f557213a-f3a8-41a9-acd1-24258ea4554f",
   "metadata": {
    "colab": {
     "base_uri": "https://localhost:8080/"
    },
    "executionInfo": {
     "elapsed": 7,
     "status": "ok",
     "timestamp": 1663628023286,
     "user": {
      "displayName": "Lucas Camponogara Viera",
      "userId": "14322290658374940800"
     },
     "user_tz": -480
    },
    "id": "f557213a-f3a8-41a9-acd1-24258ea4554f",
    "outputId": "4e6a80d2-fe91-4b4f-cde8-93277661716a"
   },
   "outputs": [
    {
     "name": "stdout",
     "output_type": "stream",
     "text": [
      "    ┌─────────┐\n",
      "q1: ┤ Ry(π/2) ├\n",
      "    └─────────┘\n",
      "Statevector([0.70710678+0.j, 0.70710678+0.j],\n",
      "            dims=(2,))\n"
     ]
    },
    {
     "data": {
      "image/png": "[encoded data removed]",
      "text/plain": [
       "<Figure size 203.683x117.056 with 1 Axes>"
      ]
     },
     "execution_count": 8,
     "metadata": {},
     "output_type": "execute_result"
    }
   ],
   "source": [
    "qr = QuantumRegister(1)  # Define the number of qubits in the quantum circuit.\n",
    "qc = QuantumCircuit(qr)\n",
    "qc.ry(np.pi/2,0)  # Apply the RY(pi/2) gate on qubit 0.\n",
    "print(qc)  # Print the circuit.\n",
    "\n",
    "'''\n",
    "qc.save_statevector()  # Save the statevector.\n",
    "qobj = assemble(qc)    # Create a Qobj from the circuit for the simulator to run.\n",
    "result = sim.run(qobj).result() # Run the simulation and return the result.\n",
    "out_state = result.get_statevector()\n",
    "print(out_state)  # Print the output statevector.\n",
    "'''\n",
    "\n",
    "print(Statevector.from_instruction(qc))\n",
    "qc.draw(output='mpl')  "
   ]
  },
  {
   "cell_type": "markdown",
   "id": "ac2270ef-5017-465e-a63f-4e6a9f33b832",
   "metadata": {
    "id": "ac2270ef-5017-465e-a63f-4e6a9f33b832"
   },
   "source": [
    "## Verifying $H|1\\rangle = R_y(-\\pi/2)|0\\rangle = |-\\rangle$"
   ]
  },
  {
   "cell_type": "markdown",
   "id": "fNtjVj0s_ZeK",
   "metadata": {
    "id": "fNtjVj0s_ZeK"
   },
   "source": [
    "### **Matrix approach**"
   ]
  },
  {
   "cell_type": "markdown",
   "id": "_TJOXHT5pDax",
   "metadata": {
    "id": "_TJOXHT5pDax"
   },
   "source": [
    "$$H |1\\rangle = \\frac{1}{\\sqrt{2}} \\begin{bmatrix} 1 & 1 \\\\ 1 & -1 \\end{bmatrix} \\begin{bmatrix} 0 \\\\ 1 \\end{bmatrix} =  \\frac{1}{\\sqrt{2}} \\begin{bmatrix} 1*0 + 1*1 \\\\ 1*0 -1*1 \\end{bmatrix} = \\frac{1}{\\sqrt{2}}\\begin{bmatrix} 1 \\\\ -1 \\end{bmatrix} =  \\frac{1}{\\sqrt{2}} \\Bigg( \\begin{bmatrix} 1 \\\\ 0 \\end{bmatrix} - \\begin{bmatrix} 0 \\\\ 1 \\end{bmatrix} \\Bigg) = \\frac{1}{\\sqrt{2}}\\Big(|0\\rangle-|1\\rangle\\Big) \\equiv |-\\rangle.$$"
   ]
  },
  {
   "cell_type": "markdown",
   "id": "PgPXU2lKsEMQ",
   "metadata": {
    "id": "PgPXU2lKsEMQ"
   },
   "source": [
    "\\begin{eqnarray}\n",
    "R_y(\\theta) \\doteq \\exp(-iY\\theta/2) =  \n",
    "\\begin{bmatrix} cos(\\theta/2) & -sin(\\theta/2) \\\\ sin(\\theta/2) & cos(\\theta/2) \\end{bmatrix}.\n",
    "\\end{eqnarray}"
   ]
  },
  {
   "cell_type": "markdown",
   "id": "mSmmWO5OsGug",
   "metadata": {
    "id": "mSmmWO5OsGug"
   },
   "source": [
    "\\begin{eqnarray}\n",
    "R_y(-\\pi/2)|0\\rangle &=&  \n",
    "\\begin{bmatrix} \n",
    "cos(-\\pi/4) & -sin(-\\pi/4) \\\\ sin(-\\pi/4) & cos(-\\pi/4) \\end{bmatrix} \\begin{bmatrix} 1 \\\\ 0 \n",
    "\\end{bmatrix}\n",
    "=\n",
    "\\begin{bmatrix} \n",
    "cos(-\\pi/4) \\\\ sin(-\\pi/4) \n",
    "\\end{bmatrix}\\\\\n",
    "&=&\\begin{bmatrix} \n",
    "cos(\\pi/4) \\\\ -sin(\\pi/4) \n",
    "\\end{bmatrix}\n",
    "= \\frac{1}{\\sqrt(2)} \n",
    "\\begin{bmatrix} \n",
    "1 \\\\ -1 \n",
    "\\end{bmatrix}\n",
    "= |-\\rangle.\n",
    "\\end{eqnarray}\n",
    "\n",
    "One should note that cosine is an even function, $cos(-x)=cos(x)$, and sine is an odd function, $sin(-x) = -sin(x)$. Moreover, $sin(\\pi/4) = cos(\\pi/4)=\\frac{1}{\\sqrt{2}}$.\n"
   ]
  },
  {
   "cell_type": "code",
   "execution_count": 9,
   "id": "Kf_6VSWeyofU",
   "metadata": {
    "colab": {
     "base_uri": "https://localhost:8080/"
    },
    "executionInfo": {
     "elapsed": 6,
     "status": "ok",
     "timestamp": 1663628023286,
     "user": {
      "displayName": "Lucas Camponogara Viera",
      "userId": "14322290658374940800"
     },
     "user_tz": -480
    },
    "id": "Kf_6VSWeyofU",
    "outputId": "5a3bdea1-973c-4bd7-d7f0-31068eb72137"
   },
   "outputs": [
    {
     "data": {
      "text/plain": [
       "True"
      ]
     },
     "execution_count": 9,
     "metadata": {},
     "output_type": "execute_result"
    }
   ],
   "source": [
    "# sine(pi/4) = cosine(pi/4)\n",
    "np.sin(np.pi/4).round(9)  == np.cos(np.pi/4).round(9)"
   ]
  },
  {
   "cell_type": "markdown",
   "id": "Hs7SWqISCLKr",
   "metadata": {
    "id": "Hs7SWqISCLKr"
   },
   "source": [
    "### **Verifying with NumPy:**"
   ]
  },
  {
   "cell_type": "code",
   "execution_count": 10,
   "id": "a371d192-84b8-4ed8-892f-e9267f113c4e",
   "metadata": {
    "colab": {
     "base_uri": "https://localhost:8080/"
    },
    "executionInfo": {
     "elapsed": 5,
     "status": "ok",
     "timestamp": 1663628023286,
     "user": {
      "displayName": "Lucas Camponogara Viera",
      "userId": "14322290658374940800"
     },
     "user_tz": -480
    },
    "id": "a371d192-84b8-4ed8-892f-e9267f113c4e",
    "outputId": "a1873922-c640-484b-d065-c9025a424fc1"
   },
   "outputs": [
    {
     "data": {
      "text/plain": [
       "array([[ 0.70710678],\n",
       "       [-0.70710678]])"
      ]
     },
     "execution_count": 10,
     "metadata": {},
     "output_type": "execute_result"
    }
   ],
   "source": [
    "had@one # H|1>."
   ]
  },
  {
   "cell_type": "code",
   "execution_count": 11,
   "id": "4f260424-df27-4595-8ac4-6f2a428e1bdb",
   "metadata": {
    "colab": {
     "base_uri": "https://localhost:8080/"
    },
    "executionInfo": {
     "elapsed": 5,
     "status": "ok",
     "timestamp": 1663628023286,
     "user": {
      "displayName": "Lucas Camponogara Viera",
      "userId": "14322290658374940800"
     },
     "user_tz": -480
    },
    "id": "4f260424-df27-4595-8ac4-6f2a428e1bdb",
    "outputId": "3f5fa2fd-d8fb-4917-fc8c-e3fc837dae57"
   },
   "outputs": [
    {
     "data": {
      "text/plain": [
       "array([[ 0.70710678],\n",
       "       [-0.70710678]])"
      ]
     },
     "execution_count": 11,
     "metadata": {},
     "output_type": "execute_result"
    }
   ],
   "source": [
    "ry_mpi2@zero # RY(-pi/2)|0>."
   ]
  },
  {
   "cell_type": "markdown",
   "id": "7bwVZbAgCHb5",
   "metadata": {
    "id": "7bwVZbAgCHb5"
   },
   "source": [
    "### **Verifying with Qiskit:**"
   ]
  },
  {
   "cell_type": "code",
   "execution_count": 12,
   "id": "40ec91e6-5222-4645-a0fe-47f5e2d87b7d",
   "metadata": {
    "colab": {
     "base_uri": "https://localhost:8080/"
    },
    "executionInfo": {
     "elapsed": 5,
     "status": "ok",
     "timestamp": 1663628023286,
     "user": {
      "displayName": "Lucas Camponogara Viera",
      "userId": "14322290658374940800"
     },
     "user_tz": -480
    },
    "id": "40ec91e6-5222-4645-a0fe-47f5e2d87b7d",
    "outputId": "b1201b39-e959-4766-f313-033337d3564f"
   },
   "outputs": [
    {
     "name": "stdout",
     "output_type": "stream",
     "text": [
      "    ┌───┐┌───┐\n",
      "q2: ┤ X ├┤ H ├\n",
      "    └───┘└───┘\n",
      "Statevector([ 0.70710678+0.j, -0.70710678+0.j],\n",
      "            dims=(2,))\n"
     ]
    },
    {
     "data": {
      "image/png": "[encoded data removed]",
      "text/plain": [
       "<Figure size 287.496x117.056 with 1 Axes>"
      ]
     },
     "execution_count": 12,
     "metadata": {},
     "output_type": "execute_result"
    }
   ],
   "source": [
    "qr = QuantumRegister(1)  # Define the number of qubits in the quantum circuit.\n",
    "qc = QuantumCircuit(qr)\n",
    "qc.x(0)  # Apply the Pauli-X gate on qubit 0.\n",
    "qc.h(0)  # Apply the Hadamard gate on qubit 0.\n",
    "print(qc)  # Print the circuit.\n",
    "\n",
    "'''\n",
    "qc.save_statevector()  # Save the statevector.\n",
    "qobj = assemble(qc)    # Create a Qobj from the circuit for the simulator to run.\n",
    "result = sim.run(qobj).result() # Run the simulation and return the result.\n",
    "out_state = result.get_statevector()\n",
    "print(out_state)  # Print the output statevector.\n",
    "'''\n",
    "\n",
    "print(Statevector.from_instruction(qc))\n",
    "qc.draw(output='mpl')  "
   ]
  },
  {
   "cell_type": "code",
   "execution_count": 13,
   "id": "564cf597-c276-4c1e-9f40-073a73bf3964",
   "metadata": {
    "colab": {
     "base_uri": "https://localhost:8080/"
    },
    "executionInfo": {
     "elapsed": 595,
     "status": "ok",
     "timestamp": 1663628023877,
     "user": {
      "displayName": "Lucas Camponogara Viera",
      "userId": "14322290658374940800"
     },
     "user_tz": -480
    },
    "id": "564cf597-c276-4c1e-9f40-073a73bf3964",
    "outputId": "73c16808-fae1-4ba8-9f77-d0ff3c75dd96"
   },
   "outputs": [
    {
     "name": "stdout",
     "output_type": "stream",
     "text": [
      "    ┌──────────┐\n",
      "q3: ┤ Ry(-π/2) ├\n",
      "    └──────────┘\n",
      "Statevector([ 0.70710678+0.j, -0.70710678+0.j],\n",
      "            dims=(2,))\n"
     ]
    },
    {
     "data": {
      "image/png": "[encoded data removed]",
      "text/plain": [
       "<Figure size 203.885x117.056 with 1 Axes>"
      ]
     },
     "execution_count": 13,
     "metadata": {},
     "output_type": "execute_result"
    }
   ],
   "source": [
    "qr = QuantumRegister(1)  # Define the number of qubits in the quantum circuit.\n",
    "qc = QuantumCircuit(qr)\n",
    "qc.ry(-np.pi/2,0)  # Apply the RY(-pi/2) gate on qubit 0.\n",
    "print(qc)  # Print the circuit.\n",
    "\n",
    "'''\n",
    "qc.save_statevector()  # Save the statevector.\n",
    "qobj = assemble(qc)    # Create a Qobj from the circuit for the simulator to run.\n",
    "result = sim.run(qobj).result() # Run the simulation and return the result.\n",
    "out_state = result.get_statevector()\n",
    "print(out_state)  # Print the output statevector.\n",
    "'''\n",
    "\n",
    "print(Statevector.from_instruction(qc))\n",
    "qc.draw(output='mpl')  "
   ]
  },
  {
   "cell_type": "markdown",
   "id": "d50a6bb9",
   "metadata": {
    "jp-MarkdownHeadingCollapsed": true
   },
   "source": [
    "# From the $Z$-basis to the $Y$-basis"
   ]
  },
  {
   "cell_type": "markdown",
   "id": "d12c34ee",
   "metadata": {},
   "source": [
    "Recall that:\n",
    "\n",
    "$$S = P(\\lambda = \\pi/2) = \\begin{bmatrix} 1 & 0 \\\\ 0 & i \\end{bmatrix}.$$\n",
    "\n",
    "$$S^{\\dagger} = P^{\\dagger}(\\lambda = \\pi/2) = \\begin{bmatrix} 1 & 0 \\\\ 0 & -i \\end{bmatrix}.$$\n",
    "\n",
    "And the action in the $\\{|0\\rangle, |1\\rangle \\}$ basis is:\n",
    "\n",
    "$$S|0\\rangle = |0\\rangle.$$\n",
    "$$S^{\\dagger}|0\\rangle = |0\\rangle.$$\n",
    "$$S|1\\rangle = e^{i\\pi/2}|1\\rangle = i|1\\rangle.$$\n",
    "$$S^{\\dagger}|1\\rangle = e^{-i\\pi/2}|1\\rangle = -i|1\\rangle.$$\n",
    "\n",
    "To change from the $Z$-basis to the $Y$-basis one applies the Hadamard gate $H$ followed by the phase gate $S$:\n",
    "\n",
    "\\begin{eqnarray}\n",
    "SH|0\\rangle &=& S|+\\rangle = \\frac{1}{\\sqrt{2}}\\Big(S|0\\rangle+S|1\\rangle\\Big) = \\frac{1}{\\sqrt{2}}\\Big(|0\\rangle+i|1\\rangle\\Big) = R_x(-\\pi/2)|0\\rangle = |\\oplus\\rangle.\\\\\n",
    "SH|1\\rangle &=&  S|-\\rangle = \\frac{1}{\\sqrt{2}}\\Big(S|0\\rangle-S|1\\rangle\\Big) = \\frac{1}{\\sqrt{2}}\\Big(|0\\rangle-i|1\\rangle\\Big) = R_x(\\pi/2)|0\\rangle = |\\ominus\\rangle.\n",
    "\\end{eqnarray}\n",
    "\n",
    "\\begin{eqnarray}\n",
    "\\langle \\oplus| &=& (|\\oplus\\rangle)^{\\dagger} = (SH|0\\rangle)^{\\dagger} = (|0\\rangle)^{\\dagger} (SH)^{\\dagger} = \\langle 0| H^{\\dagger}S^{\\dagger}=\\langle 0|HS^{\\dagger},\\\\\n",
    "\\langle \\ominus| &=& (|\\ominus\\rangle)^{\\dagger} = (SH|1\\rangle)^{\\dagger} = (|1\\rangle)^{\\dagger} (SH)^{\\dagger} = \\langle 1| H^{\\dagger}S^{\\dagger}=\\langle 1|HS^{\\dagger}.\n",
    "\\end{eqnarray}"
   ]
  },
  {
   "cell_type": "markdown",
   "id": "7a08e005-68b0-41d4-a630-fa041d05f0ee",
   "metadata": {
    "id": "7a08e005-68b0-41d4-a630-fa041d05f0ee",
    "tags": []
   },
   "source": [
    "## Verifying $SH|0\\rangle = R_x(-\\pi/2)|0\\rangle = |\\oplus\\rangle$"
   ]
  },
  {
   "cell_type": "markdown",
   "id": "pNX20mawmyTV",
   "metadata": {
    "id": "pNX20mawmyTV"
   },
   "source": [
    "### Verifying with NumPy"
   ]
  },
  {
   "cell_type": "markdown",
   "id": "Syzf_OBMk7sC",
   "metadata": {
    "id": "Syzf_OBMk7sC"
   },
   "source": [
    "Here, ket vectors $|0 \\rangle$ and $|1\\rangle$ will be represented using 1-D numpy arrays:"
   ]
  },
  {
   "cell_type": "code",
   "execution_count": 14,
   "id": "63b8905f-d668-4bd6-99c7-6cd76611ed72",
   "metadata": {
    "colab": {
     "base_uri": "https://localhost:8080/"
    },
    "executionInfo": {
     "elapsed": 7,
     "status": "ok",
     "timestamp": 1663628024359,
     "user": {
      "displayName": "Lucas Camponogara Viera",
      "userId": "14322290658374940800"
     },
     "user_tz": -480
    },
    "id": "63b8905f-d668-4bd6-99c7-6cd76611ed72",
    "outputId": "72dd82f3-b96d-4ec3-ad6f-538fd4fec1f6"
   },
   "outputs": [
    {
     "data": {
      "text/plain": [
       "((2,), (2,))"
      ]
     },
     "execution_count": 14,
     "metadata": {},
     "output_type": "execute_result"
    }
   ],
   "source": [
    "zero = np.array([1,0]) # 1-D NumPy array representing the state |0>.\n",
    "one = np.array([0,1])  # 1-D NumPy array representing the state |1>.\n",
    "\n",
    "zero.shape, one.shape"
   ]
  },
  {
   "cell_type": "code",
   "execution_count": 15,
   "id": "0e323e9f-f740-4fee-8598-408e43ddfa24",
   "metadata": {
    "colab": {
     "base_uri": "https://localhost:8080/"
    },
    "executionInfo": {
     "elapsed": 6,
     "status": "ok",
     "timestamp": 1663628024359,
     "user": {
      "displayName": "Lucas Camponogara Viera",
      "userId": "14322290658374940800"
     },
     "user_tz": -480
    },
    "id": "0e323e9f-f740-4fee-8598-408e43ddfa24",
    "outputId": "e912db7a-4391-40ba-cf86-fa2bae49bcc2"
   },
   "outputs": [
    {
     "data": {
      "text/plain": [
       "array([0.70710678+0.j        , 0.        +0.70710678j])"
      ]
     },
     "execution_count": 15,
     "metadata": {},
     "output_type": "execute_result"
    }
   ],
   "source": [
    "(phase_s@had)@zero # SH|0>."
   ]
  },
  {
   "cell_type": "code",
   "execution_count": 16,
   "id": "16e5fb7d-33bb-4d80-8f3b-ccac30ccb5b8",
   "metadata": {
    "colab": {
     "base_uri": "https://localhost:8080/"
    },
    "executionInfo": {
     "elapsed": 6,
     "status": "ok",
     "timestamp": 1663628024359,
     "user": {
      "displayName": "Lucas Camponogara Viera",
      "userId": "14322290658374940800"
     },
     "user_tz": -480
    },
    "id": "16e5fb7d-33bb-4d80-8f3b-ccac30ccb5b8",
    "outputId": "b679feaa-3fbf-4554-a0b4-1fb3502bcb19"
   },
   "outputs": [
    {
     "data": {
      "text/plain": [
       "array([0.70710678+0.j        , 0.        +0.70710678j])"
      ]
     },
     "execution_count": 16,
     "metadata": {},
     "output_type": "execute_result"
    }
   ],
   "source": [
    "rx_mpi2@zero # RX(-pi/2)|0>."
   ]
  },
  {
   "cell_type": "markdown",
   "id": "FhWeJ4jBDOg9",
   "metadata": {
    "id": "FhWeJ4jBDOg9"
   },
   "source": [
    "Here, ket vectors $|0 \\rangle$ and $|1\\rangle$ will be represented using 2-D numpy arrays:"
   ]
  },
  {
   "cell_type": "code",
   "execution_count": 17,
   "id": "hzSHP8KdCiAU",
   "metadata": {
    "colab": {
     "base_uri": "https://localhost:8080/"
    },
    "executionInfo": {
     "elapsed": 7,
     "status": "ok",
     "timestamp": 1663628024360,
     "user": {
      "displayName": "Lucas Camponogara Viera",
      "userId": "14322290658374940800"
     },
     "user_tz": -480
    },
    "id": "hzSHP8KdCiAU",
    "outputId": "bdfe2b39-7215-4bf3-c462-702fe1b719fa"
   },
   "outputs": [
    {
     "data": {
      "text/plain": [
       "((2, 1), (2, 1))"
      ]
     },
     "execution_count": 17,
     "metadata": {},
     "output_type": "execute_result"
    }
   ],
   "source": [
    "zero = np.array([[1,0]]).T # 2-D NumPy array representing the state |0>.\n",
    "one = np.array([[0,1]]).T  # 2-D NumPy array representing the state |1>.\n",
    "\n",
    "zero.shape, one.shape"
   ]
  },
  {
   "cell_type": "code",
   "execution_count": 18,
   "id": "PqX04yC6Cxs4",
   "metadata": {
    "colab": {
     "base_uri": "https://localhost:8080/"
    },
    "executionInfo": {
     "elapsed": 6,
     "status": "ok",
     "timestamp": 1663628024360,
     "user": {
      "displayName": "Lucas Camponogara Viera",
      "userId": "14322290658374940800"
     },
     "user_tz": -480
    },
    "id": "PqX04yC6Cxs4",
    "outputId": "11712264-ee46-49b3-942a-47748480490d"
   },
   "outputs": [
    {
     "data": {
      "text/plain": [
       "array([[0.70710678+0.j        ],\n",
       "       [0.        +0.70710678j]])"
      ]
     },
     "execution_count": 18,
     "metadata": {},
     "output_type": "execute_result"
    }
   ],
   "source": [
    "(phase_s@had)@zero # SH|0>."
   ]
  },
  {
   "cell_type": "code",
   "execution_count": 19,
   "id": "siFe4LaPCxwV",
   "metadata": {
    "colab": {
     "base_uri": "https://localhost:8080/"
    },
    "executionInfo": {
     "elapsed": 6,
     "status": "ok",
     "timestamp": 1663628024360,
     "user": {
      "displayName": "Lucas Camponogara Viera",
      "userId": "14322290658374940800"
     },
     "user_tz": -480
    },
    "id": "siFe4LaPCxwV",
    "outputId": "cac01750-1823-4990-a783-656dd2c2f2a1"
   },
   "outputs": [
    {
     "data": {
      "text/plain": [
       "array([[0.70710678+0.j        ],\n",
       "       [0.        +0.70710678j]])"
      ]
     },
     "execution_count": 19,
     "metadata": {},
     "output_type": "execute_result"
    }
   ],
   "source": [
    "rx_mpi2@zero # RX(-pi/2)|0>."
   ]
  },
  {
   "cell_type": "markdown",
   "id": "SLv8GF-omxgR",
   "metadata": {
    "id": "SLv8GF-omxgR"
   },
   "source": [
    "### Verifying with Qiskit"
   ]
  },
  {
   "cell_type": "code",
   "execution_count": 20,
   "id": "3fb627d7-6962-4861-84f2-c55777fde7c2",
   "metadata": {
    "colab": {
     "base_uri": "https://localhost:8080/"
    },
    "executionInfo": {
     "elapsed": 6,
     "status": "ok",
     "timestamp": 1663628024360,
     "user": {
      "displayName": "Lucas Camponogara Viera",
      "userId": "14322290658374940800"
     },
     "user_tz": -480
    },
    "id": "3fb627d7-6962-4861-84f2-c55777fde7c2",
    "outputId": "760e7bb8-7dc0-45a0-bcfe-bb6880695129"
   },
   "outputs": [
    {
     "name": "stdout",
     "output_type": "stream",
     "text": [
      "    ┌───┐┌───┐\n",
      "q4: ┤ H ├┤ S ├\n",
      "    └───┘└───┘\n",
      "Statevector([0.70710678+0.j        , 0.        +0.70710678j],\n",
      "            dims=(2,))\n"
     ]
    },
    {
     "data": {
      "image/png": "[encoded data removed]",
      "text/plain": [
       "<Figure size 287.496x117.056 with 1 Axes>"
      ]
     },
     "execution_count": 20,
     "metadata": {},
     "output_type": "execute_result"
    }
   ],
   "source": [
    "qr = QuantumRegister(1)  # Define the number of qubits in the quantum circuit.\n",
    "qc = QuantumCircuit(qr)\n",
    "qc.h(0)  # Apply the Hadamard gate on qubit 0.\n",
    "qc.s(0)  # Apply the S gate on qubit 0.\n",
    "print(qc)  # Print the circuit.\n",
    "\n",
    "'''\n",
    "qc.save_statevector()  # Save the statevector.\n",
    "qobj = assemble(qc)    # Create a Qobj from the circuit for the simulator to run.\n",
    "result = sim.run(qobj).result() # Run the simulation and return the result.\n",
    "out_state = result.get_statevector()\n",
    "print(out_state)  # Print the output statevector.\n",
    "'''\n",
    "\n",
    "print(Statevector.from_instruction(qc))\n",
    "qc.draw(output='mpl')  "
   ]
  },
  {
   "cell_type": "code",
   "execution_count": 21,
   "id": "4b84a2bd-b6ae-4101-a1cc-2b4eb28ed030",
   "metadata": {
    "colab": {
     "base_uri": "https://localhost:8080/"
    },
    "executionInfo": {
     "elapsed": 5,
     "status": "ok",
     "timestamp": 1663628024360,
     "user": {
      "displayName": "Lucas Camponogara Viera",
      "userId": "14322290658374940800"
     },
     "user_tz": -480
    },
    "id": "4b84a2bd-b6ae-4101-a1cc-2b4eb28ed030",
    "outputId": "501d39db-4175-49f7-bf0e-06df648e06fc"
   },
   "outputs": [
    {
     "name": "stdout",
     "output_type": "stream",
     "text": [
      "    ┌──────────┐\n",
      "q5: ┤ Rx(-π/2) ├\n",
      "    └──────────┘\n",
      "Statevector([0.70710678+0.j        , 0.        +0.70710678j],\n",
      "            dims=(2,))\n"
     ]
    },
    {
     "data": {
      "image/png": "[encoded data removed]",
      "text/plain": [
       "<Figure size 203.885x117.056 with 1 Axes>"
      ]
     },
     "execution_count": 21,
     "metadata": {},
     "output_type": "execute_result"
    }
   ],
   "source": [
    "qr = QuantumRegister(1)  # Define the number of qubits in the quantum circuit.\n",
    "qc = QuantumCircuit(qr)\n",
    "qc.rx(-np.pi/2,0)  # Apply the RX(-pi/2) gate on qubit 0.\n",
    "print(qc)  # Print the circuit.\n",
    "\n",
    "'''\n",
    "qc.save_statevector()  # Save the statevector.\n",
    "qobj = assemble(qc)    # Create a Qobj from the circuit for the simulator to run.\n",
    "result = sim.run(qobj).result() # Run the simulation and return the result.\n",
    "out_state = result.get_statevector()\n",
    "print(out_state)  # Print the output statevector.\n",
    "'''\n",
    "\n",
    "print(Statevector.from_instruction(qc))\n",
    "qc.draw(output='mpl')  "
   ]
  },
  {
   "cell_type": "markdown",
   "id": "8a2c441a-59c5-45e3-84dd-e71e8f194bab",
   "metadata": {
    "id": "8a2c441a-59c5-45e3-84dd-e71e8f194bab"
   },
   "source": [
    "## Verifying $SH|1\\rangle = R_x(\\pi/2)|0\\rangle = |\\ominus\\rangle$"
   ]
  },
  {
   "cell_type": "markdown",
   "id": "1etC8lPllTKu",
   "metadata": {
    "id": "1etC8lPllTKu"
   },
   "source": [
    "### Verifying with NumPy"
   ]
  },
  {
   "cell_type": "code",
   "execution_count": 22,
   "id": "2487853c-db3e-4fe0-a716-c92a6ff2ad47",
   "metadata": {
    "colab": {
     "base_uri": "https://localhost:8080/"
    },
    "executionInfo": {
     "elapsed": 6,
     "status": "ok",
     "timestamp": 1663628024953,
     "user": {
      "displayName": "Lucas Camponogara Viera",
      "userId": "14322290658374940800"
     },
     "user_tz": -480
    },
    "id": "2487853c-db3e-4fe0-a716-c92a6ff2ad47",
    "outputId": "d2f9706d-791f-428b-d091-89b6f8a95323"
   },
   "outputs": [
    {
     "data": {
      "text/plain": [
       "array([[0.70710678+0.j        ],\n",
       "       [0.        -0.70710678j]])"
      ]
     },
     "execution_count": 22,
     "metadata": {},
     "output_type": "execute_result"
    }
   ],
   "source": [
    "(phase_s@had)@one # SH|1>."
   ]
  },
  {
   "cell_type": "code",
   "execution_count": 23,
   "id": "5b4bc746-a109-45d0-8eb3-56c9e70bd200",
   "metadata": {
    "colab": {
     "base_uri": "https://localhost:8080/"
    },
    "executionInfo": {
     "elapsed": 5,
     "status": "ok",
     "timestamp": 1663628024953,
     "user": {
      "displayName": "Lucas Camponogara Viera",
      "userId": "14322290658374940800"
     },
     "user_tz": -480
    },
    "id": "5b4bc746-a109-45d0-8eb3-56c9e70bd200",
    "outputId": "183d791f-9173-4e1d-fc3f-3a0e402e7256"
   },
   "outputs": [
    {
     "data": {
      "text/plain": [
       "array([[0.70710678+0.j        ],\n",
       "       [0.        -0.70710678j]])"
      ]
     },
     "execution_count": 23,
     "metadata": {},
     "output_type": "execute_result"
    }
   ],
   "source": [
    "rx_pi2@zero # RX(pi/2)|0>."
   ]
  },
  {
   "cell_type": "markdown",
   "id": "5h52fMirlNya",
   "metadata": {
    "id": "5h52fMirlNya"
   },
   "source": [
    "### Verifying with Qiskit"
   ]
  },
  {
   "cell_type": "code",
   "execution_count": 24,
   "id": "743bb143-7a47-4de0-9e61-954936bca600",
   "metadata": {
    "colab": {
     "base_uri": "https://localhost:8080/"
    },
    "executionInfo": {
     "elapsed": 5,
     "status": "ok",
     "timestamp": 1663628024953,
     "user": {
      "displayName": "Lucas Camponogara Viera",
      "userId": "14322290658374940800"
     },
     "user_tz": -480
    },
    "id": "743bb143-7a47-4de0-9e61-954936bca600",
    "outputId": "6dd6b3f0-19e4-4680-d1f9-bc506519996b"
   },
   "outputs": [
    {
     "name": "stdout",
     "output_type": "stream",
     "text": [
      "    ┌───┐┌───┐┌───┐\n",
      "q6: ┤ X ├┤ H ├┤ S ├\n",
      "    └───┘└───┘└───┘\n",
      "Statevector([0.70710678+0.j        , 0.        -0.70710678j],\n",
      "            dims=(2,))\n"
     ]
    },
    {
     "data": {
      "image/png": "[encoded data removed]",
      "text/plain": [
       "<Figure size 370.906x117.056 with 1 Axes>"
      ]
     },
     "execution_count": 24,
     "metadata": {},
     "output_type": "execute_result"
    }
   ],
   "source": [
    "qr = QuantumRegister(1)  # Define the number of qubits in the quantum circuit.\n",
    "qc = QuantumCircuit(qr)\n",
    "qc.x(0)  # Apply the Pauli-X gate on qubit 0.\n",
    "qc.h(0)  # Apply the Hadamard gate on qubit 0.\n",
    "qc.s(0)  # Apply the S gate on qubit 0.\n",
    "print(qc)  # Print the circuit.\n",
    "\n",
    "'''\n",
    "qc.save_statevector()  # Save the statevector.\n",
    "qobj = assemble(qc)    # Create a Qobj from the circuit for the simulator to run.\n",
    "result = sim.run(qobj).result() # Run the simulation and return the result.\n",
    "out_state = result.get_statevector()\n",
    "print(out_state)  # Print the output statevector.\n",
    "'''\n",
    "\n",
    "print(Statevector.from_instruction(qc))\n",
    "qc.draw(output='mpl') "
   ]
  },
  {
   "cell_type": "code",
   "execution_count": 25,
   "id": "c924499f-7c19-4c97-bb05-cf93794148a8",
   "metadata": {
    "colab": {
     "base_uri": "https://localhost:8080/"
    },
    "executionInfo": {
     "elapsed": 272,
     "status": "ok",
     "timestamp": 1663628025221,
     "user": {
      "displayName": "Lucas Camponogara Viera",
      "userId": "14322290658374940800"
     },
     "user_tz": -480
    },
    "id": "c924499f-7c19-4c97-bb05-cf93794148a8",
    "outputId": "37af03aa-25d5-46ef-aae8-a8127616aea7"
   },
   "outputs": [
    {
     "name": "stdout",
     "output_type": "stream",
     "text": [
      "    ┌─────────┐\n",
      "q7: ┤ Rx(π/2) ├\n",
      "    └─────────┘\n",
      "Statevector([0.70710678+0.j        , 0.        -0.70710678j],\n",
      "            dims=(2,))\n"
     ]
    },
    {
     "data": {
      "image/png": "[encoded data removed]",
      "text/plain": [
       "<Figure size 203.885x117.056 with 1 Axes>"
      ]
     },
     "execution_count": 25,
     "metadata": {},
     "output_type": "execute_result"
    }
   ],
   "source": [
    "qr = QuantumRegister(1)  # Define the number of qubits in the quantum circuit.\n",
    "qc = QuantumCircuit(qr)\n",
    "qc.rx(np.pi/2,0)  # Apply the RX(-pi/2) gate on qubit 0.\n",
    "print(qc)  # Print the circuit.\n",
    "\n",
    "'''\n",
    "qc.save_statevector()  # Save the statevector.\n",
    "qobj = assemble(qc)    # Create a Qobj from the circuit for the simulator to run.\n",
    "result = sim.run(qobj).result() # Run the simulation and return the result.\n",
    "out_state = result.get_statevector()\n",
    "print(out_state)  # Print the output statevector.\n",
    "'''\n",
    "\n",
    "print(Statevector.from_instruction(qc))\n",
    "qc.draw(output='mpl')  "
   ]
  },
  {
   "cell_type": "markdown",
   "id": "3d52fead",
   "metadata": {
    "jp-MarkdownHeadingCollapsed": true
   },
   "source": [
    "# Quantum circuit for measurement in a different basis"
   ]
  },
  {
   "cell_type": "markdown",
   "id": "d41f7d49",
   "metadata": {},
   "source": [
    "Measurements in a quantum computer are often computed in the $Z$-basis. To perform a measurement in a different basis, a basis change must by applied.\n",
    "\n",
    "The following sections showcase how to perform a measurement in a different basis."
   ]
  },
  {
   "cell_type": "code",
   "execution_count": 26,
   "id": "3d2866ba",
   "metadata": {},
   "outputs": [
    {
     "data": {
      "text/plain": [
       "(1, (2,))"
      ]
     },
     "execution_count": 26,
     "metadata": {},
     "output_type": "execute_result"
    }
   ],
   "source": [
    "# 1D numpy array representing the classical state |1>:\n",
    "\n",
    "initial_state = np.array([0,1]) \n",
    "initial_state.ndim, initial_state.shape"
   ]
  },
  {
   "cell_type": "markdown",
   "id": "5ed3b203",
   "metadata": {
    "jp-MarkdownHeadingCollapsed": true
   },
   "source": [
    "## Measurement in the $Z$-basis"
   ]
  },
  {
   "cell_type": "markdown",
   "id": "5967f56c",
   "metadata": {},
   "source": [
    "Consider a quantum system in the state $|\\psi\\rangle=|1\\rangle$. A measurement in the $Z$-basis $\\{|0\\rangle, |1\\rangle \\}$ will be deterministic: \n",
    "\n",
    "$$Pr(|1\\rangle)=|\\langle 1|\\psi \\rangle|^2=|\\langle 1|1 \\rangle|^2=\\delta_{11}=1=100\\%.$$\n",
    "\n",
    "$$Pr(|0\\rangle)=|\\langle 0|\\psi \\rangle|^2=|\\langle 0|1 \\rangle|^2=\\delta_{10}=0\\%.$$"
   ]
  },
  {
   "cell_type": "code",
   "execution_count": 27,
   "id": "41e12b84",
   "metadata": {},
   "outputs": [
    {
     "name": "stdout",
     "output_type": "stream",
     "text": [
      "Statevector([0.+0.j, 1.+0.j],\n",
      "            dims=(2,))\n"
     ]
    },
    {
     "data": {
      "image/png": "[encoded data removed]",
      "text/plain": [
       "<Figure size 413.165x200.667 with 1 Axes>"
      ]
     },
     "execution_count": 27,
     "metadata": {},
     "output_type": "execute_result"
    }
   ],
   "source": [
    "# Measurement in the Z-basis:\n",
    "\n",
    "qr = QuantumRegister(1)      # Define the number of qubits in the quantum circuit.\n",
    "qc = QuantumCircuit(qr)      # Create the circuit.\n",
    "qc.initialize(initial_state) # Preparing the state to be measured.\n",
    "print(Statevector.from_instruction(qc)) # Statevector before measurement.\n",
    "qc.measure_all()\n",
    "qc.draw(output='mpl')  "
   ]
  },
  {
   "cell_type": "code",
   "execution_count": 28,
   "id": "97792de6",
   "metadata": {},
   "outputs": [
    {
     "name": "stdout",
     "output_type": "stream",
     "text": [
      "State after measurement: Statevector([0.+0.j, 1.+0.j],\n",
      "            dims=(2,))\n"
     ]
    }
   ],
   "source": [
    "simulator = Aer.get_backend('statevector_simulator')\n",
    "job = execute(qc, simulator)\n",
    "result = job.result()\n",
    "state = result.get_statevector()\n",
    "print(\"State after measurement:\", state)"
   ]
  },
  {
   "cell_type": "code",
   "execution_count": 29,
   "id": "3dec595d",
   "metadata": {},
   "outputs": [
    {
     "name": "stdout",
     "output_type": "stream",
     "text": [
      "Measurement results: {'1': 1000}\n"
     ]
    }
   ],
   "source": [
    "simulator = Aer.get_backend('qasm_simulator')\n",
    "job = execute(qc, simulator, shots=1000)\n",
    "result = job.result()\n",
    "counts = result.get_counts()\n",
    "print(\"Measurement results:\", counts)"
   ]
  },
  {
   "cell_type": "markdown",
   "id": "92d2c6e2",
   "metadata": {
    "jp-MarkdownHeadingCollapsed": true
   },
   "source": [
    "## Measurement in the $X$-basis"
   ]
  },
  {
   "cell_type": "markdown",
   "id": "fa485132",
   "metadata": {},
   "source": [
    "Consider a quantum system in the state $|\\psi\\rangle=|1\\rangle$. A measurement in the $X$-basis $\\{|+\\rangle, |-\\rangle \\}$ will be probabilistic: \n",
    "    \n",
    "$$Pr(|+\\rangle)=|\\langle +|\\psi \\rangle|^2=|\\langle 0|H|\\psi \\rangle|^2=|\\langle 0|H|1 \\rangle|^2=|\\langle 0|\\frac{1}{\\sqrt{2}}\\Big(|0\\rangle-|1\\rangle\\Big)|^2=\\left|\\frac{1}{\\sqrt{2}}\\right|^2=1/2=50\\%.$$    \n",
    "\n",
    "$$Pr(|-\\rangle)=|\\langle -|\\psi \\rangle|^2=|\\langle 1|H|\\psi \\rangle|^2=|\\langle 1|H|1 \\rangle|^2=|\\langle 1|\\frac{1}{\\sqrt{2}}\\Big(|0\\rangle-|1\\rangle\\Big)|^2=\\left|\\frac{-1}{\\sqrt{2}}\\right|^2=1/2=50\\%.$$ \n",
    "\n",
    "Recall that $H|1\\rangle = \\frac{1}{\\sqrt{2}}\\Big(|0\\rangle-|1\\rangle\\Big).$"
   ]
  },
  {
   "cell_type": "code",
   "execution_count": 30,
   "id": "9ed0aaa1",
   "metadata": {},
   "outputs": [
    {
     "name": "stdout",
     "output_type": "stream",
     "text": [
      "Statevector([ 0.70710678+0.j, -0.70710678+0.j],\n",
      "            dims=(2,))\n"
     ]
    },
    {
     "data": {
      "image/png": "[encoded data removed]",
      "text/plain": [
       "<Figure size 496.776x200.667 with 1 Axes>"
      ]
     },
     "execution_count": 30,
     "metadata": {},
     "output_type": "execute_result"
    }
   ],
   "source": [
    "# Measurement in the X-basis:\n",
    "\n",
    "qr = QuantumRegister(1)   # Define the number of qubits in the quantum circuit.\n",
    "qc = QuantumCircuit(qr)   # Create the circuit.\n",
    "qc.initialize(initial_state) # Preparing the state to be measured.\n",
    "qc.h(0)                      # Apply a Hadamard gate H to measure in the X-basis.\n",
    "print(Statevector.from_instruction(qc)) # Statevector before measurement.\n",
    "qc.measure_all()\n",
    "qc.draw(output='mpl')  "
   ]
  },
  {
   "cell_type": "code",
   "execution_count": 47,
   "id": "e335d7d1",
   "metadata": {},
   "outputs": [
    {
     "name": "stdout",
     "output_type": "stream",
     "text": [
      "State after measurement: Statevector([ 0.+0.0000000e+00j, -1.+1.2246468e-16j],\n",
      "            dims=(2,))\n",
      "State after measurement: Statevector([ 1.-1.2246468e-16j, -0.+0.0000000e+00j],\n",
      "            dims=(2,))\n"
     ]
    }
   ],
   "source": [
    "simulator = Aer.get_backend('statevector_simulator')\n",
    "\n",
    "for i in range(2):\n",
    "    job = execute(qc, simulator)\n",
    "    result = job.result()\n",
    "    state = result.get_statevector()\n",
    "    print(\"State after measurement:\", state)"
   ]
  },
  {
   "cell_type": "code",
   "execution_count": 48,
   "id": "b16f3d8d",
   "metadata": {},
   "outputs": [
    {
     "name": "stdout",
     "output_type": "stream",
     "text": [
      "Measurement results: {'1': 472, '0': 528}\n"
     ]
    }
   ],
   "source": [
    "simulator = Aer.get_backend('qasm_simulator')\n",
    "job = execute(qc, simulator, shots=1000)\n",
    "result = job.result()\n",
    "counts = result.get_counts()\n",
    "print(\"Measurement results:\", counts) # Probability distribution."
   ]
  },
  {
   "cell_type": "markdown",
   "id": "5b5a0ee1",
   "metadata": {
    "jp-MarkdownHeadingCollapsed": true
   },
   "source": [
    "## Measurement in the $Y$-basis"
   ]
  },
  {
   "cell_type": "markdown",
   "id": "a68aaecc",
   "metadata": {},
   "source": [
    "Consider a quantum system in the state $|\\psi\\rangle=|1\\rangle$. A measurement in the $Y$-basis $\\{|\\oplus\\rangle, |\\ominus\\rangle \\}$ will be probabilistic: \n",
    "    \n",
    "$$Pr(|\\oplus\\rangle)=|\\langle \\oplus|\\psi \\rangle|^2=|\\langle 0|HS^{\\dagger}|\\psi \\rangle|^2=|\\langle 0|HS^{\\dagger}|1 \\rangle|^2=|\\langle 0|\\frac{-i}{\\sqrt{2}}\\Big(|0\\rangle-|1\\rangle\\Big)|^2=\\left|\\frac{-i}{\\sqrt{2}}\\right|^2=1/2=50\\%.$$    \n",
    "\n",
    "$$Pr(|\\ominus\\rangle)=|\\langle \\ominus|\\psi \\rangle|^2=|\\langle 1|HS^{\\dagger}|\\psi \\rangle|^2=|\\langle 1|HS^{\\dagger}|1 \\rangle|^2=|\\langle 1|\\frac{-i}{\\sqrt{2}}\\Big(|0\\rangle-|1\\rangle\\Big)|^2=\\left|\\frac{i}{\\sqrt{2}}\\right|^2=1/2=50\\%.$$ \n",
    "\n",
    "Recall that:\n",
    "\n",
    "$$S^{\\dagger}|1\\rangle = e^{-i\\pi/2}|1\\rangle = -i|1\\rangle.$$"
   ]
  },
  {
   "cell_type": "code",
   "execution_count": 33,
   "id": "9d782f8f",
   "metadata": {},
   "outputs": [
    {
     "data": {
      "text/plain": [
       "array([[0.-0.70710678j],\n",
       "       [0.+0.70710678j]])"
      ]
     },
     "execution_count": 33,
     "metadata": {},
     "output_type": "execute_result"
    }
   ],
   "source": [
    "had = 1/np.sqrt(2)*np.array([[1, 1],[1, -1]])\n",
    "S_dagger = np.array([[1, 0],[0, -1j]])\n",
    "one = np.array([[0],[1]])\n",
    "had@S_dagger@one # Statevector before the measurement."
   ]
  },
  {
   "cell_type": "code",
   "execution_count": 34,
   "id": "012b2f26",
   "metadata": {},
   "outputs": [
    {
     "data": {
      "text/plain": [
       "True"
      ]
     },
     "execution_count": 34,
     "metadata": {},
     "output_type": "execute_result"
    }
   ],
   "source": [
    "(S_dagger@one == -1j*one).all()"
   ]
  },
  {
   "cell_type": "code",
   "execution_count": 35,
   "id": "a4ec917a",
   "metadata": {},
   "outputs": [
    {
     "data": {
      "text/plain": [
       "True"
      ]
     },
     "execution_count": 35,
     "metadata": {},
     "output_type": "execute_result"
    }
   ],
   "source": [
    "(had@S_dagger@one == -1j*had@one).all()"
   ]
  },
  {
   "cell_type": "code",
   "execution_count": 36,
   "id": "578b024c",
   "metadata": {},
   "outputs": [
    {
     "name": "stdout",
     "output_type": "stream",
     "text": [
      "Statevector([0.-0.70710678j, 0.+0.70710678j],\n",
      "            dims=(2,))\n"
     ]
    },
    {
     "data": {
      "image/png": "[encoded data removed]",
      "text/plain": [
       "<Figure size 580.387x200.667 with 1 Axes>"
      ]
     },
     "execution_count": 36,
     "metadata": {},
     "output_type": "execute_result"
    }
   ],
   "source": [
    "# Measurement in the Y-basis:\n",
    "\n",
    "qr = QuantumRegister(1)   # Define the number of qubits in the quantum circuit.\n",
    "qc = QuantumCircuit(qr)   # Create the circuit.\n",
    "qc.initialize(initial_state) # Preparing the state to be measured.\n",
    "qc.sdg(0), qc.h(0)           # Apply the conjugate transpose of the Phase gate S and the Hadamard gate H \n",
    "                             # to measure in the Y-basis.\n",
    "print(Statevector.from_instruction(qc)) # Statevector before measurement.\n",
    "qc.measure_all()\n",
    "qc.draw(output='mpl')  "
   ]
  },
  {
   "cell_type": "code",
   "execution_count": 40,
   "id": "6a4f53af",
   "metadata": {
    "scrolled": true
   },
   "outputs": [
    {
     "name": "stdout",
     "output_type": "stream",
     "text": [
      "State after measurement: Statevector([0.000000e+00-0.j, 6.123234e-17+1.j],\n",
      "            dims=(2,))\n",
      "State after measurement: Statevector([-6.123234e-17-1.j,  0.000000e+00+0.j],\n",
      "            dims=(2,))\n"
     ]
    }
   ],
   "source": [
    "simulator = Aer.get_backend('statevector_simulator')\n",
    "\n",
    "for i in range(2):\n",
    "    job = execute(qc, simulator)\n",
    "    result = job.result()\n",
    "    state = result.get_statevector()\n",
    "    print(\"State after measurement:\", state)"
   ]
  },
  {
   "cell_type": "code",
   "execution_count": 38,
   "id": "368abaa3",
   "metadata": {
    "scrolled": true
   },
   "outputs": [
    {
     "name": "stdout",
     "output_type": "stream",
     "text": [
      "Measurement results: {'1': 479, '0': 521}\n"
     ]
    }
   ],
   "source": [
    "simulator = Aer.get_backend('qasm_simulator')\n",
    "job = execute(qc, simulator, shots=1000)\n",
    "result = job.result()\n",
    "counts = result.get_counts()\n",
    "print(\"Measurement results:\", counts) # Probability distribution."
   ]
  }
 ],
 "metadata": {
  "colab": {
   "collapsed_sections": [
    "nG2ycdFqqkUW",
    "D3O-j1DC4pCi",
    "1e2d62d7-368d-41eb-b319-cbb80644d976",
    "k1_Iu7Kc_F4f",
    "jGitZhadHchZ",
    "8bMlUIyiHfYi",
    "ac2270ef-5017-465e-a63f-4e6a9f33b832",
    "fNtjVj0s_ZeK",
    "Hs7SWqISCLKr",
    "7bwVZbAgCHb5",
    "8a2c441a-59c5-45e3-84dd-e71e8f194bab",
    "1etC8lPllTKu",
    "5h52fMirlNya",
    "7a08e005-68b0-41d4-a630-fa041d05f0ee",
    "pNX20mawmyTV",
    "SLv8GF-omxgR",
    "7fb2137d-da89-4235-b909-4e6c74a4a872",
    "ed3acf9f-8827-4f78-bb36-1b0572e8906a",
    "c880929d-a2dc-4c0d-848a-60f2d6619380",
    "48887a12-eceb-4ac8-bec6-1a5a435bd0c3",
    "do1SmhqTtjxw",
    "_7p0lsFKxo01"
   ],
   "provenance": []
  },
  "kernelspec": {
   "display_name": "Python 3 (ipykernel)",
   "language": "python",
   "name": "python3"
  },
  "language_info": {
   "codemirror_mode": {
    "name": "ipython",
    "version": 3
   },
   "file_extension": ".py",
   "mimetype": "text/x-python",
   "name": "python",
   "nbconvert_exporter": "python",
   "pygments_lexer": "ipython3",
   "version": "3.11.2"
  }
 },
 "nbformat": 4,
 "nbformat_minor": 5
}
