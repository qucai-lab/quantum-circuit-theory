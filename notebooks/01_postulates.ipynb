{
 "cells": [
  {
   "cell_type": "markdown",
   "id": "223d720c",
   "metadata": {},
   "source": [
    "<!-- Badges: -->\n",
    "\n",
    "<!-- Title: -->\n",
    "<div align=\"center\">\n",
    "  <h1><b> Postulates of Quantum Mechanics </b></h1>\n",
    "  <h2> Quantum Circuit Theory and Implementations </h2>\n",
    "</div>\n",
    "<br>\n",
    "\n",
    "<b>Author:</b> <a target=\"_blank\" href=\"https://github.com/camponogaraviera\">Lucas Camponogara Viera</a>"
   ]
  },
  {
   "cell_type": "markdown",
   "id": "4381e988",
   "metadata": {},
   "source": [
    "<div align='center'>\n",
    "<table class=\"tfo-notebook-buttons\" align=\"head\">\n",
    "  <td>\n",
    "    <a target=\"_blank\" href=\"https://github.com/QuCAI-Lab\"><img src=\"https://www.tensorflow.org/images/GitHub-Mark-32px.png\" /></a>\n",
    "  </td>\n",
    "</table>\n",
    "</div>"
   ]
  },
  {
   "cell_type": "markdown",
   "id": "16c3d43f",
   "metadata": {},
   "source": [
    "The mathematical framework employed in the remainder of this Jupyter notebook is the contemporary matrix mechanics formalism of quantum mechanics initially developed by Werner Heisenberg, Max Born, and Pascual Jordan in a sequel of articles between 1925 and 1926. Within this formalism, the central pivots of the theory are the physical observables (e.g., spin, electric charge, magnetic flux, position, momentum, etc.) represented by Hermitian operators (self-adjoint matrices) where the corresponding eigenvectors form a set of orthonormal basis for the Hilbert space."
   ]
  },
  {
   "cell_type": "markdown",
   "id": "e70b8eb2-508a-4817-af12-4031fa6fafeb",
   "metadata": {},
   "source": [
    "# Table of Contents\n",
    "\n",
    "- Dirac notation\n",
    "- Postulate 1 (State Space)\n",
    "- Postulate 2 (Evolution)\n",
    "- Postulate 3 (Measurement)\n",
    "    - Projective measurement (a.k.a von Neumann measurement) and Born's rule\n",
    "    - Expectation value\n",
    "- 4 Postulate (Composite State)\n",
    "- System's dynamics: Schrödinger equation\n",
    "- Solution to the Schrödinger equation"
   ]
  },
  {
   "cell_type": "markdown",
   "id": "a7c4e71b",
   "metadata": {
    "jp-MarkdownHeadingCollapsed": true
   },
   "source": [
    "# Dirac notation"
   ]
  },
  {
   "cell_type": "markdown",
   "id": "289130a7",
   "metadata": {},
   "source": [
    "- A $d$-dimensional **Ket state** $|\\psi\\rangle$: is a $d$x$1$ tensor (column vector) represented as:\n",
    "\n",
    "$$|\\psi\\rangle = \\begin{bmatrix} \\psi_1 \\\\ \\psi_2 \\\\ \\vdots \\\\ \\psi_d \\end{bmatrix}.$$\n",
    "\n",
    "- A $d$-dimensional **Bra state** $\\langle \\psi| = (|\\psi\\rangle)^{\\dagger}$: a.k.a dual vector (transpose conjugate) is a $1$x$d$ tensor (row vector) represented as:\n",
    "\n",
    "$$\\langle \\psi| = \\begin{bmatrix} \\psi_1^{*}& \\psi_2^{*} \\cdots \\psi^{*}_d \\end{bmatrix}.$$"
   ]
  },
  {
   "cell_type": "markdown",
   "id": "c4032588",
   "metadata": {
    "jp-MarkdownHeadingCollapsed": true
   },
   "source": [
    "# Postulate 1 (State Space)"
   ]
  },
  {
   "cell_type": "markdown",
   "id": "89a4ebe6",
   "metadata": {},
   "source": [
    "Any **isolated (close)** quantum system is completely described by a normalized *state vector* $|\\psi\\rangle$ which is a unit vector embedded in a complex vector space (Hilbert space) $\\mathcal{H}$ known as the *state space* of the system endowed with an inner product $(\\cdot,\\cdot) \\doteq \\langle \\cdot | \\cdot \\rangle$.\n",
    "\n",
    "<br></br>\n",
    "\n",
    "- **First case: Discrete Spectrum.**\n",
    "\n",
    "When the spectrum of the eigenvalues are discrete, the state $|\\psi\\rangle$ of the quantum system is embedded in a Hilbert space $\\mathcal{H}$ of dimension $d=\\dim \\mathcal{H}$. In a complete and discrete orthonormal basis $\\{|o_j\\rangle\\}_{j=1}^d$, the state vector reads\n",
    "\n",
    "\\begin{eqnarray}\n",
    "|\\psi\\rangle \\doteq \\sum_{j=1}^d c_j|o_j\\rangle.\n",
    "\\end{eqnarray}\n",
    "\n",
    "The inner product for orthonormal eigenstates becomes \n",
    "\n",
    "$$\\langle o_j|o_k\\rangle = \\delta_{jk},$$\n",
    "\n",
    "and the probability amplitude $c_j$ associated with the eigenstate $|o_j\\rangle$ is obtained via the Fourier trick \n",
    "\n",
    "$$c_j=\\langle o_j|\\psi\\rangle.$$ \n",
    "\n",
    "- **Second case: Continuous Spectrum.**\n",
    "\n",
    "When the spectrum of the eigenvalues are continous, the state $|\\psi\\rangle$ of the quantum system is embedded in a infinite-dimensional Hilbert space $|\\psi\\rangle \\in \\mathcal{H}$  whose orthonormal basis $\\{|q\\rangle \\}$ is formed by an uncountably infinite set of orthonormal vectors. In this particular case, the state of the quantum system in this basis reads:\n",
    "\n",
    "\\begin{eqnarray}\n",
    "|\\psi\\rangle \\doteq \\int \\psi_{q} |q\\rangle d_{q},\n",
    "\\end{eqnarray}\n",
    "\n",
    "which is a linear combination given in terms of an integral, rather than a sum (See Ref. [2], Section 3.2.3, pg. 103). The inner product thus becomes the Dirac delta distribution\n",
    "\n",
    "\\begin{eqnarray}\n",
    "\\langle q |q'\\rangle  = \\delta (q-q'), \n",
    "\\end{eqnarray}\n",
    "\n",
    "and the analogous Fourier trick gives the complex-valued scalar wave function $\\psi_{q}$ as the probability amplitude:\n",
    "\n",
    "\\begin{eqnarray}\n",
    "\\psi_{q} = \\langle q |\\psi \\rangle.\n",
    "\\end{eqnarray}\n",
    "\n",
    "Note that $\\psi_q$ is the standard wave function of the ubiquitous Schrodinger equation of wave mechanics, often denote by $\\psi(q)$ or $\\psi(x)$ if in the position space."
   ]
  },
  {
   "cell_type": "markdown",
   "id": "a185fe29",
   "metadata": {
    "jp-MarkdownHeadingCollapsed": true
   },
   "source": [
    "# Postulate 2 (Evolution)"
   ]
  },
  {
   "cell_type": "markdown",
   "id": "8feeeffb",
   "metadata": {},
   "source": [
    "The evolution of a **closed quantum system** over time is described by a *unitary transformation* given by the action of the propagator $\\hat{U}_t\\equiv\\hat{U}(t)$ known as the Unitary time evolution operator. Therefore, the global state $|\\psi_t\\rangle$ of the system at time $t$ has evolved from the initial state $|\\psi_0\\rangle$ at time $t=0$ according to:\n",
    "\n",
    "\\begin{equation} \n",
    "|\\psi_t\\rangle=\\hat{U}_t|\\psi_0\\rangle.\n",
    "\\end{equation}  \n",
    "\n",
    "**Note:** in the particular case of closed systems, the evolution operator $\\hat{U}_t$ of the system's global state $|\\psi\\rangle$ is Unitary, however, open quantum systems (systems interacting with its surroundings) described by mixed states, in general, have non-Unitary operators describing the evolution of its subsystems."
   ]
  },
  {
   "cell_type": "markdown",
   "id": "1018983a",
   "metadata": {
    "jp-MarkdownHeadingCollapsed": true
   },
   "source": [
    "# Postulate 3 (Measurement)"
   ]
  },
  {
   "cell_type": "markdown",
   "id": "8780b849",
   "metadata": {},
   "source": [
    "Measurements of a quantum system are described by a collection \\{$M_m$\\} of *measurement operators* acting on the state space of the system with $m$ possible measurement outcomes. If the quantum system is prepared in a general state $|\\psi\\rangle$, the probability associated with a measurement outcome $o_m$ is:\n",
    "\n",
    "\\begin{equation} \n",
    "Pr(o_m)\\doteq\\langle \\psi | M^{\\dagger}_{m} M_{m} |\\psi \\rangle,\n",
    "\\end{equation} \n",
    "\n",
    "and the state of the system immediately after the measurement of the eigenvalue $o_m$ will be:\n",
    "\n",
    "\\begin{align} \n",
    "    |\\psi_{o_m} \\rangle= \\frac{M_{m} |\\psi \\rangle}{\\sqrt{\\langle \\psi | M^{\\dagger}_{m} M_{m} |\\psi \\rangle}}. \n",
    "\\end{align}\n",
    "\n",
    "The measurement operators satisfy the completeness relation:\n",
    "\n",
    "\\begin{equation} \n",
    "\\sum_{m} M_{m}^{\\dagger} M_{m} = \\mathbb{I},\n",
    "\\end{equation}\n",
    "\n",
    "meaning that probabilities must sum to one, i.e, $|\\psi\\rangle$ is normalized:\n",
    "\n",
    "\\begin{equation} \n",
    "\\sum_{m} Pr(o_m) = \\sum_{m} \\langle \\psi | M^{\\dagger}_{m} M_{m} |\\psi \\rangle = 1.\n",
    "\\end{equation}  "
   ]
  },
  {
   "cell_type": "markdown",
   "id": "008d7355",
   "metadata": {
    "jp-MarkdownHeadingCollapsed": true
   },
   "source": [
    "## Projective measurement (a.k.a von Neumann measurement) and Born's rule"
   ]
  },
  {
   "cell_type": "markdown",
   "id": "16d885f6",
   "metadata": {},
   "source": [
    "Recall that a physical observable in quantum mechanics is represented by a Hermitian ($\\hat{\\mathcal{O}}=\\hat{\\mathcal{O}}^{\\dagger}$) and, therefore, Normal ($ \\hat{\\mathcal{O}}\\hat{\\mathcal{O}}^{\\dagger}=\\hat{\\mathcal{O}}^{\\dagger}\\hat{\\mathcal{O}}$) matrix with real eigenvalues and a diagonal representation:\n",
    "\n",
    "\\begin{eqnarray}\n",
    "\\hat{\\mathcal{O}} = \\sum_{j=1}^{d=2^n} o_j P_{o_j}= \\sum_{j=1}^{d=2^n} o_j |o_j\\rangle \\langle o_j|.\n",
    "\\end{eqnarray}\n",
    "\n",
    "Where $P_{o_j}=|o_j\\rangle \\langle o_j|$ is the projector operator onto the eigenspace of the observable $\\hat{\\mathcal{O}}$ with a $d$-dimensional orthonormal basis set $\\{|o_j \\rangle\\}_{j=1}^d$ $\\Big(\\langle o_j|o_k\\rangle=\\delta_{jk}\\Big)$ of eigenvectors $|o_j \\rangle$ with eigenvalues $o_j$.\n",
    "\n",
    "Suppose the state of a quantum system is prepared in the basis of the observable $\\hat{\\mathcal{O}}$ one wants to measure, i.e, $|\\psi\\rangle \\doteq \\sum_{j=1}^d c_j|o_j\\rangle$. A projective measurement (a.k.a von Neumann measurement) entails the following conditional probability for obtaining the eigenvalue $o_j$ of $\\hat{\\mathcal{O}}$:\n",
    "\n",
    "\\begin{eqnarray} \n",
    "Pr(o_j|\\psi\\rangle)&=&\\langle \\psi | P^{\\dagger}_{o_j} P_{o_j} |\\psi \\rangle \\\\ \n",
    "&=& \\langle \\psi | P_{o_j}^2 |\\psi \\rangle\\\\\n",
    "&=& \\langle \\psi| (|o_j\\rangle \\langle o_j|o_k\\rangle \\langle o_k|)| \\psi \\rangle\\\\\n",
    "&=&\\delta_{jk}\\langle\\psi|o_j\\rangle \\langle o_k |\\psi\\rangle \\\\ \n",
    "&=& \\langle\\psi|o_j\\rangle \\langle o_j |\\psi\\rangle \\\\ \n",
    "&=& \\langle \\psi |o_j\\rangle \\langle \\psi| o_j \\rangle^*\\\\\n",
    "&=& |\\langle \\psi|o_j \\rangle|^2=|\\langle o_j|\\psi \\rangle|^2\\\\\n",
    "&=& \\left|\\langle o_j|\\sum_{k=1}^{d=2^n} c_k |o_k\\rangle\\right|^2\\\\\n",
    "&=&  \\left|\\sum_{k=1}^{d=2^n} c_k \\langle o_j|o_k\\rangle\\right|^2\\\\\n",
    "&=&\\left|\\sum_{k=1}^{d=2^n} c_k \\delta_{jk} \\right|^2 = |c_j|^2.\n",
    "\\end{eqnarray} \n",
    "\n",
    "This result is also known as Born's rule:\n",
    "\n",
    "\\begin{eqnarray}\n",
    "Pr(o_j|\\psi\\rangle) \\doteq |\\langle o_j |\\psi \\rangle|^2 = |\\langle \\psi |o_j \\rangle|^2= |c_j|^2.\n",
    "\\end{eqnarray}\n",
    "\n",
    "One can note that $Pr(o_j|\\psi\\rangle)=1$ if and only if $|o_j\\rangle=|\\psi\\rangle$, which is in agreement with the normalization condition:\n",
    "\n",
    "$$\\langle \\psi |\\psi\\rangle=\\Bigg(\\sum_{j=1}^{d=2^n}c_j|o_j\\rangle \\Bigg)^{\\dagger}\\Bigg(\\sum_{k=1}^{d=2^n} c_k |o_k\\rangle \\Bigg)=\\sum_{j,k=1}^{d=2^n} c_j^* c_k \\langle o_j|o_k\\rangle= \\sum_{j,k=1}^{d=2^n} c_j^* c_k \\delta_{jk} = \\sum_{j=1}^{d=2^n}|c_j|^2=\\sum_{j=1}^{d=2^n}Pr(o_j|\\psi\\rangle)=1.$$\n",
    "\n",
    "<br>\n",
    "\n",
    "If the system has evolved from the initial state $|\\psi(0)\\rangle$ to the final state $|\\psi(t)\\rangle$, then:\n",
    "\n",
    "\\begin{eqnarray}\n",
    "Pr(o_j|\\psi_t\\rangle) &=& |\\langle o_j | \\hat{U}(t) |\\psi(0)\\rangle|^2 \\\\\n",
    "&=& |\\langle o_j |\\psi(t)\\rangle|^2.\n",
    "\\end{eqnarray}\n",
    "\n",
    "**Remark**\n",
    "\n",
    "If the state $|\\psi\\rangle$ of the quantum system is an eigenstate of the observable being measured, the measurement outcome is `deterministic` and Einstein is right (god does not play dice). However, when $|\\psi\\rangle$ is not an eigenstate of the observable, then the measurement outcome is `probabilistic` and Einstein is wrong. The latter is a consequence of Heisenberg's uncertainty principle for conjugate observables that do not commute, i.e, $[\\hat{A},\\hat{B}] \\ne \\mathbb{O}$.\n",
    "\n",
    "Examples:\n",
    "\n",
    "- Consider a quantum system in the state $|\\psi\\rangle=|0\\rangle$.\n",
    "  - A measurement in the $\\hat{Z}$ basis is deterministic: $Pr(|0\\rangle)=|\\langle 0|\\psi \\rangle|^2=|\\langle 0|0 \\rangle|^2=1=100\\%$.\n",
    "  - A measurement in the $\\hat{X}$ basis is probabilistic: $Pr(|+\\rangle)=|\\langle +|\\psi \\rangle|^2=|\\langle 0|H|0 \\rangle|^2=1/2=50\\%$.\n",
    "  \n",
    "</br>\n",
    "\n",
    "- Consider a quantum system in the state $|\\psi\\rangle=|+\\rangle = \\frac{1}{\\sqrt{2}}(|0\\rangle + |1\\rangle)$.\n",
    "  - A measurement in the $\\hat{Z}$ basis is probabilistic: $Pr(|0\\rangle)=|\\langle 0|\\psi \\rangle|^2=|\\langle 0|+ \\rangle|^2=1/2=50\\%$.\n",
    "  - A measurement in the $\\hat{X}$ basis is deterministic: $Pr(|+\\rangle)=|\\langle +|\\psi \\rangle|^2=|\\langle +|+ \\rangle|^2=1=100\\%$."
   ]
  },
  {
   "cell_type": "markdown",
   "id": "a08efd99",
   "metadata": {
    "jp-MarkdownHeadingCollapsed": true
   },
   "source": [
    "## Expectation value"
   ]
  },
  {
   "cell_type": "markdown",
   "id": "6e9a56dc",
   "metadata": {},
   "source": [
    "The expected value of an observable $\\hat{\\mathcal{O}} \\in \\mathcal{H}$ in a quantum system prepared in the state $|\\psi\\rangle$ follows the measurement postulate: \n",
    "\n",
    "\\begin{align}\n",
    "\\langle \\hat{\\mathcal{O}}\\rangle &= \\sum_{j=1}^{d=2^n} o_j Pr(o_j|\\psi \\rangle)\\\\\n",
    "&=\\sum_{j=1}^{d=2^n} o_j|\\langle o_j |\\psi \\rangle|^2 \\\\\n",
    "&=\\sum_{j=1}^{d=2^n} o_j  \\langle \\psi |o_j \\rangle \\langle \\psi |o_j \\rangle^* \\\\\n",
    "&=\\sum_{j=1}^{d=2^n} o_j  \\langle \\psi |o_j \\rangle \\langle o_j|\\psi \\rangle \\\\\n",
    "&= \\langle \\psi | \\left(\\sum_{j=1}^{d=2^n} o_j |o_j \\rangle \\langle o_j| \\right) |\\psi \\rangle\\\\\n",
    "&= \\langle \\psi | \\left(\\sum_{j=1}^{d=2^n} o_j P_{o_j} \\right) |\\psi \\rangle\\\\\n",
    "&=\\langle \\psi |\\hat{\\mathcal{O}}|\\psi\\rangle = \\langle 0^{\\otimes n}|\\hat{U}^{\\dagger} \\hat{\\mathcal{O}} \\hat{U}|0^{\\otimes n}\\rangle \\in \\mathbb{R}.\n",
    "\\end{align}\n",
    "\n",
    "Where\n",
    "\n",
    "\\begin{align}\n",
    "|\\psi \\rangle &= \\hat{U} |0^{\\otimes n} \\rangle, \\\\\n",
    "\\langle \\psi | &= |\\psi \\rangle^{\\dagger}= (\\hat{U} |0^{\\otimes n} \\rangle)^{\\dagger} = |0^{\\otimes n} \\rangle^{\\dagger}\\hat{U}^{\\dagger} = \\langle 0^{\\otimes n}|\\hat{U}^{\\dagger},\n",
    "\\end{align}\n",
    "\n",
    "and $\\hat{U}$ denotes the unitary evolution operator, i.e, the quantum circuit that evolves the initial state $|0^{\\otimes n}\\rangle$ to the final state $|\\psi\\rangle$."
   ]
  },
  {
   "cell_type": "markdown",
   "id": "ebcb5344",
   "metadata": {
    "jp-MarkdownHeadingCollapsed": true
   },
   "source": [
    "# 4 Postulate (Composite State)"
   ]
  },
  {
   "cell_type": "markdown",
   "id": "9e5ab96c",
   "metadata": {},
   "source": [
    "Consider a quantum system composed of $N$ arbitrary subsystems, where subsystem $s$ is prepared in a qudit state $|\\psi_{s}\\rangle = \\sum_{j=1}^{d_s} c_{j_s} |o_{j}\\rangle_s$ embedded in a $d_s$-dimensional Hilbert space $\\mathcal{H}_s^{d_s}$ with orthonormal basis $\\{|o_{j}\\rangle_s \\}|_{j=1}^{d_s}$. The Hilbert state space $\\mathcal{H}^{d}_{1\\cdots N}$ of the composite physical system is given by the tensor product of its constituent Hilbert spaces (the state space of its subsystems or component physical systems): \n",
    "\n",
    "$$\\mathcal{H}^{d}_{1\\cdots N}=\\otimes_{s=1}^N \\mathcal{H}_s^{d_s}=\\mathcal{H}_1^{d_1} \\otimes \\mathcal{H}_2^{d_2} \\otimes \\cdots \\otimes \\mathcal{H}_N^{d_N},$$\n",
    "\n",
    "where $d=\\prod_{s=1}^N d_s$ is the dimension of the composite space. And the corresponding orthonormal basis of the composite state space is obtained from the tensor product between the basis of each constituent state space: \n",
    "\n",
    "$$\\{|o_{j}\\rangle \\}|_{j=1}^{d}=\\{|o_{j}\\rangle_s \\otimes \\cdot\\cdot\\cdot \\otimes|o_{k}\\rangle_N \\}|_{j,\\cdots,k=1}^{d_s,\\cdots,d_N}.$$ "
   ]
  },
  {
   "cell_type": "markdown",
   "id": "659e4e5d-8304-4a53-ae67-540dd251e451",
   "metadata": {
    "jp-MarkdownHeadingCollapsed": true
   },
   "source": [
    "# System's dynamics: Schrödinger equation<a name=\"dynamics\" />  \n",
    "\n",
    "- **Wave Mechanics** and **Matrix Mechanics** formalisms."
   ]
  },
  {
   "cell_type": "markdown",
   "id": "e4bc4e45-3249-4107-8ac4-350d4606a2d6",
   "metadata": {
    "jp-MarkdownHeadingCollapsed": true
   },
   "source": [
    "## Wave Mechanics formalism"
   ]
  },
  {
   "cell_type": "markdown",
   "id": "43a0c755-63f3-4b4e-a960-3336fab97f14",
   "metadata": {},
   "source": [
    "In the wave mechanics formalism of quantum mechanics, the dynamics of a system of particles is determined by the linear partial differential and time-dependent Schrödinger equation, which in the position representation reads:\n",
    "\n",
    "\\begin{eqnarray}\n",
    "i \\hbar \\frac{\\partial \\Psi(\\vec{r}, t)}{\\partial t} &= \\hat{H}(t)\\Psi(\\vec{r}, t).\n",
    "\\end{eqnarray}\n",
    "\n",
    "Where: \n",
    "\n",
    "- $\\Psi(\\vec{r}, t) \\doteq \\Psi(x, y, z, t): \\mathbb{R}^{4}\\rightarrow\\mathbb{C}$ is the complex valued scalar wavefunction containing the information about the particle's dynamics in the *position space* of continuous spectrum. The spectrum is the set of all eigenvalues of a given operator.\n",
    "- $\\hat{H}(t)$ is the Hamiltonian of the system, i.e, the sum of its kinetic and potential energy.\n",
    "- $i$ is the imaginary unit.\n",
    "- $\\hbar$ is the reduced Planck constante a.k.a quantum of action.\n",
    "\n",
    "The Schrödinger equation can also be written in the form:\n",
    "\n",
    "\\begin{eqnarray}\n",
    "{i\\hbar\\partial_{t}\\Psi(\\vec{q},t)=\\left(-\\frac{\\hbar^{2}}{2m} \\nabla^{2}_{\\vec{q}}+V(\\vec{q},t) \\right) \\Psi(\\vec{q},t)}.\n",
    "\\end{eqnarray}\n",
    "\n",
    "Where:\n",
    "\n",
    "- $\\partial_t \\equiv \\frac{\\partial}{\\partial_t}$.\n",
    "- $\\nabla^2_{\\vec{q}}$ is the second-order differential Laplace operator in generalized coordinates $q_j|_{j=1}^3$. \n",
    "- $V(\\vec{q}, t)$ is the time-dependent potential energy.\n",
    "\n",
    "The Laplace operator is defined as the divergence ($\\vec{\\nabla} \\cdot $) of the gradient ($\\vec{\\nabla} \\Phi$) and, therefore, it is a scalar operator and contrasts with the gradient which is a vector operator acting on a scalar field (function) $\\Phi$. \n",
    "\n",
    "- The gradient operator in **generalized coordinates**. Given a scalar field $\\Phi=\\Phi(q_1, q_2, q_3)$,\n",
    "\n",
    "$$\\vec{\\nabla}_{\\vec{q}} \\Phi = \\frac{\\partial \\Phi}{h_j\\partial q_j} \\hat{e}_j =  \\frac{1}{h_1}\\frac{\\partial \\Phi}{\\partial q_1} \\hat{e}_1 + \\frac{1}{h_2}\\frac{\\partial \\Phi}{\\partial q_2} \\hat{e}_2 + \\frac{1}{h_3}\\frac{\\partial \\Phi}{\\partial q_3} \\hat{e}_3.$$\n",
    "\n",
    "- The divergence operator in **generalized coordinates**. Given a vectorial field $\\vec{A}=A(q_1, q_2, q_3)= A_1 \\hat{e}_1+A_2 \\hat{e}_2+A_3 \\hat{e}_3$,\n",
    "\n",
    "$$\\vec{\\nabla}_{\\vec{q}} \\cdot \\vec{A} =  \\frac{1}{h_1 h_2 h_3} \\bigg[\\frac{\\partial (A_1 h_2 h_3)}{\\partial q_1} + \\frac{\\partial (A_2 h_1 h_3)}{\\partial q_2} + \\frac{\\partial (A_3 h_1 h_2)}{\\partial q_3} \\bigg].$$\n",
    "\n",
    "\n",
    "- The Laplace operator in **Cartesian coordinates**. Given a scalar field $\\Phi=\\Phi(x, y, z)$,\n",
    "\n",
    "$$\\nabla^2_{\\vec{r}} \\Phi = \\vec{\\nabla} \\cdot \\vec{\\nabla}(\\Phi) = \\partial_{rr} \\Phi = \\sum_{j=1}^3\\frac{\\partial^2 \\Phi}{\\partial r_j^2} = \\frac{\\partial^2 \\Phi}{\\partial x^2}+ \\frac{\\partial^2 \\Phi}{\\partial y^2} + \\frac{\\partial^2 \\Phi}{\\partial z^2}.$$"
   ]
  },
  {
   "cell_type": "markdown",
   "id": "b26d7777-249d-413b-b69b-d911f0283c5e",
   "metadata": {
    "jp-MarkdownHeadingCollapsed": true
   },
   "source": [
    "## Matrix Mechanics formalism"
   ]
  },
  {
   "cell_type": "markdown",
   "id": "3f2d61f7-73c7-45ab-b429-66a2c9311299",
   "metadata": {},
   "source": [
    "In the Hilbert state space (statevector) formalism (a.k.a qubit representation), the time-dependent Schrödinger equation reads:\n",
    "\n",
    "\\begin{eqnarray}\n",
    "i \\hbar\\frac{d}{dt}|\\psi(t)\\rangle= \\hat{H} |\\psi(t)\\rangle,\n",
    "\\end{eqnarray}\n",
    "\n",
    "where $|\\psi\\rangle$ is the state of the quantum system in a linear superposition (combination) according to definitions for either a continuous or a discrete case as provided in the section `\"Postulates of quantum mechanics\"`."
   ]
  },
  {
   "cell_type": "markdown",
   "id": "b632d70f-3c52-42bb-bffd-16919599f48e",
   "metadata": {
    "jp-MarkdownHeadingCollapsed": true
   },
   "source": [
    "### Schrödinger Picture (S-P)"
   ]
  },
  {
   "cell_type": "markdown",
   "id": "acd30fca-78e5-4fbf-a2bd-5ee9fd19f67d",
   "metadata": {
    "jp-MarkdownHeadingCollapsed": true
   },
   "source": [
    "In the **Schrödinger picture** (S-P) (representation), the evolution of the initial state $|\\psi_{t=0}^S\\rangle\\equiv|\\psi(t=0)\\rangle$ over a time $t$ is given by:\n",
    "\n",
    "\\begin{equation} \n",
    "|\\psi_t^S\\rangle=\\hat{U}_t|\\psi_0^S\\rangle. \\tag{1}\n",
    "\\end{equation}  \n",
    "\n",
    "While the operator describing a certain physical observable remains constant in time:\n",
    "\n",
    "\\begin{equation} \n",
    "\\hat{O}_t^S=\\hat{O}_0^S=\\sum_{j=1}^d o_j |o_j^S\\rangle\\langle o_j^S|. \\tag{2}\n",
    "\\end{equation}  "
   ]
  },
  {
   "cell_type": "markdown",
   "id": "83c083df-8583-4d1d-94aa-844ed159ecfd",
   "metadata": {
    "jp-MarkdownHeadingCollapsed": true
   },
   "source": [
    "### Heisenberg Picture (H-P)"
   ]
  },
  {
   "cell_type": "markdown",
   "id": "090edfa5-cddf-4237-b080-9dcd6a787752",
   "metadata": {},
   "source": [
    "In the **Heisenberg picture** (H-P), the operator describing a certain physical observable evolves over a time $t$ according to:\n",
    "\n",
    "\\begin{eqnarray} \n",
    "\\hat{O}_t^H &=& \\sum_{j=1}^d o_j |o_j^H (t)\\rangle\\langle o_j^H (t)| = \\sum_{j=1}^d o_j \\hat{U}_{t}^{\\dagger}|o_j^S\\rangle\\langle o_j^S|\\hat{U}_t = \\hat{U}_t^{\\dagger}\\sum_{j=1}^d o_j|o_j^S\\rangle\\langle o_j^S|\\hat{U}_t \\\\\n",
    "&=& \\hat{U}_t^{\\dagger} \\hat{O}_0^S \\hat{U}_t.\n",
    "\\end{eqnarray} \n",
    "\n",
    "where\n",
    "\n",
    "\\begin{equation} \n",
    "|o_j^H(t)\\rangle = \\hat{U}_t^{\\dagger}|o_j^S\\rangle. \\tag{3}\n",
    "\\end{equation}  \n",
    "\n",
    "While the global state $|\\psi\\rangle$ of the quantum system remains constant:\n",
    "\n",
    "\\begin{equation} \n",
    "|\\psi_t^H\\rangle = |\\psi_0^S\\rangle. \\tag{4}\n",
    "\\end{equation}  \n",
    "\n",
    "Regardless of the picture used, H-P or S-P, solution for $\\hat{U}_t$ is obtained solving the Schrödinger equation of the time evolution operator:\n",
    "\n",
    "\\begin{equation} \n",
    "i\\hbar \\partial_t \\hat{U}_t = \\hat{H}_t\\hat{U}_t. \\tag{5}\n",
    "\\end{equation}  \n",
    "\n",
    "From equations (1) and (5), one can verify the equivalent Schrödinger equation for the quantum state, as follows:\n",
    "\n",
    "\\begin{equation} \n",
    "i\\hbar \\partial_t |\\psi_t\\rangle = i\\hbar \\partial_t (\\hat{U}_t |\\psi_0\\rangle) = (i\\hbar \\partial_t \\hat{U}_t)|\\psi_0\\rangle = \\hat{H}_t \\hat{U}_t|\\psi_0\\rangle= \\hat{H}_t|\\psi_t\\rangle. \\tag{6}\n",
    "\\end{equation}  \n",
    "\n",
    "Where:\n",
    "- $\\partial_t \\equiv \\frac{\\partial}{\\partial_t}$."
   ]
  },
  {
   "cell_type": "markdown",
   "id": "0ee0ebf7-b34b-41fd-972b-2b8d89c62a8e",
   "metadata": {
    "jp-MarkdownHeadingCollapsed": true
   },
   "source": [
    "# Solution to the Schrödinger equation<a name=\"solutions\" />  \n",
    "\n",
    "- Matrix exponentiation."
   ]
  },
  {
   "cell_type": "markdown",
   "id": "1d4e1285-0e5b-4e39-b403-acc8b22dfb2e",
   "metadata": {},
   "source": [
    "Solution for the Schrödinger equation of the time-dependent evolution operator $\\hat{U}(t)$ depends mostly on the characteristic of the Hamiltonian $\\hat{H}$. In the matrix mechanics formalism, the Sch. eq. in the S-P writes\n",
    "\n",
    "\\begin{equation} \n",
    "i\\hbar \\frac{d}{dt}(\\hat{U}(t) |\\psi(0)\\rangle)=\\hat{H}(t) (\\hat{U}(t) |\\psi(0)\\rangle).\n",
    "\\end{equation}  \n",
    "\n",
    "One then has:\n",
    "\n",
    "\\begin{equation} \n",
    " \\frac{d}{dt} \\hat{U}(t) = \\frac{-i}{\\hbar}\\hat{H}\\hat{U}(t).\n",
    "\\end{equation}  \n",
    "\n",
    "A know fact from linear algebra is that any Unitary operator can be constructed by means of some Hermitian operator and a real number $\\gamma$:\n",
    "\n",
    "\\begin{eqnarray}\n",
    "\\hat{U}=e^{-i\\gamma\\hat{H}}.\n",
    "\\end{eqnarray}\n",
    "\n",
    "To show the above is true, one can prove its unitarity:\n",
    "\n",
    "\\begin{eqnarray}\n",
    "\\hat{U}^{\\dagger}&=&(e^{-i\\gamma\\hat{H}})^{\\dagger}=e^{i\\gamma\\hat{H}^{\\dagger}} = e^{i\\gamma\\hat{H}}, \\\\\n",
    "&\\implies&\n",
    "\\hat{U}\\hat{U}^{\\dagger}=e^{-i\\gamma\\hat{H}}e^{i\\gamma\\hat{H}}=\\mathbb{I},\n",
    "\\end{eqnarray}\n",
    "\n",
    "where it was used the property: $(e^{z\\hat{A}})^{\\dagger} = e^{(z\\hat{A})^{\\dagger}}=e^{\\hat{A}^{\\dagger}z^{\\dagger}}=e^{z^{\\dagger}\\hat{A}^{\\dagger}}$, for a complex number $z$ and matrix $\\hat{A}$.\n",
    "\n",
    "In the particular case of a **time-independent Hamiltonian (conservative system)**, the above relation can be used to write the closed-form solution as:\n",
    "\n",
    "\\begin{eqnarray}\n",
    "\\hat{U}(t) = e^{-i\\hat{H}t / \\hbar}.\n",
    "\\end{eqnarray}\n",
    "\n",
    "One can check this result by expanding the exponential function in Taylor series around the point $x_0=0$ (Maclaurin series) and differentiating term by term. The Maclauring series for $f(x)=e^{i\\gamma\\hat{H}}$ with $e^{\\mathbb{O}}=\\mathbb{I}$ is:\n",
    "\n",
    "\\begin{eqnarray}\n",
    "e^{i\\gamma\\hat{H}} = \\sum_{n=0}^{\\infty} \\frac{({i\\gamma\\hat{H}})^n}{n!} = \\mathbb{I}+i\\gamma \\hat{H}+\\frac{(i\\gamma \\hat{H})^2}{2}+\\frac{(i\\gamma \\hat{H})^3}{3!}+\\cdots +\\frac{(i\\gamma \\hat{H})^n}{n!}.\n",
    "\\end{eqnarray}\n",
    "\n",
    "So that for $\\gamma=-t/\\hbar$:\n",
    "\n",
    "\\begin{eqnarray}\n",
    "\\frac{d}{dt} (e^{-i\\hat{H}t / \\hbar})&=&\\frac{d}{dt} \\left( \\mathbb{I} - i\\hat{H}t/\\hbar - \\frac{\\hat{H}^2 t^2}{2\\hbar^2}  + \\cdots + \\frac{(-i\\hat{H}t)^n}{n!\\hbar^n}\\right)  \\\\\n",
    "&=& \\left(0 -i\\hat{H}/\\hbar - \\frac{\\hat{H}^2t}{\\hbar^2} + \\cdots + \\frac{n(-i\\hat{H})^nt^{n-1}}{n!\\hbar^n}\\right), \\\\\n",
    "&=&  \\frac{-i}{\\hbar}\\hat{H} \\left(\\mathbb{I} - \\frac{i\\hat{H}t}{\\hbar} + \\cdots + \\frac{(-i\\hat{H})^{n-1}t^{n-1}}{(n-1)!\\hbar^{n-1}}\\right), \\text{ defining } k \\equiv n-1\\\\\n",
    "\\\\\n",
    "&=&  \\frac{-i}{\\hbar}\\hat{H} \\left(\\mathbb{I} - \\frac{i\\hat{H}t}{\\hbar} + \\cdots + \\frac{(-i\\hat{H}t)^{k}}{k!\\hbar^{k}}\\right)\\\\\n",
    "&=& \\frac{-i}{\\hbar}\\hat{H}e^{-i\\hat{H}t / \\hbar},\n",
    "\\end{eqnarray}\n",
    "\n",
    "where it was used: $\\frac{n}{n!}=\\frac{n}{n(n-1)!}=\\frac{1}{(n-1)!}$."
   ]
  },
  {
   "cell_type": "markdown",
   "id": "15236d14-89d6-4a17-a13d-c48fb21f3eed",
   "metadata": {},
   "source": [
    "Note that for $\\hat{H}=\\sum_{j}^n \\hat{H}_j$, in general, $[\\hat{H}_j, \\hat{H}_k] \\neq 0$, and thus $e^{-i\\hat{H} \\cdot t} \\neq \\prod_j e^{-i\\hat{H}_j \\cdot t}$. That is to say:\n",
    "\n",
    "$$e^{-i\\hat{H}t} = e^{-i\\hat{H}_1\\cdot t} \\cdot e^{-i\\hat{H}_2\\cdot t} \\cdots e^{-i\\hat{H}_n\\cdot t} \\text{ iff } [\\hat{H}_j, \\hat{H}_k]=0.$$"
   ]
  },
  {
   "cell_type": "markdown",
   "id": "45e01be0-91a7-4c82-8cf6-5e7344d22e3c",
   "metadata": {},
   "source": [
    "Another way of looking at the problem of solving differential equations is to consider the first order approximation (see Ref. [1], Sec. 4.7.2):\n",
    "\n",
    "\\begin{eqnarray}\n",
    "|\\psi(t+\\Delta t)\\rangle &\\approx& |\\psi(t)\\rangle + \\Delta t \\frac{d}{dt} |\\psi(t)\\rangle\\\\\n",
    "&=& (\\mathbb{I}-\\frac{i}{\\hbar}\\hat{H}\\Delta t)|\\psi(t)\\rangle.\n",
    "\\end{eqnarray} \n",
    "\n",
    "The approximation to high order can be obtained considering small time evolutions ($t<<1$):\n",
    "\n",
    "\\begin{eqnarray}\n",
    "|\\psi(t)\\rangle &\\approx& (\\mathbb{I}-\\frac{i}{\\hbar}\\hat{H} t)|\\psi(0)\\rangle \\\\\n",
    "&=& (\\mathbb{I}-\\frac{i t}{2\\hbar}\\hat{H} )(\\mathbb{I}-\\frac{it}{2\\hbar}\\hat{H})|\\psi(0)\\rangle.\n",
    "\\end{eqnarray} \n",
    "\n",
    "Such that \n",
    "\\begin{eqnarray}\n",
    "|\\psi(t)\\rangle &=& lim_{N\\rightarrow \\infty} (\\mathbb{I}-\\frac{it}{N\\hbar}\\hat{H})^N|\\psi(0)\\rangle \\\\ \n",
    "&=& e^{-i\\hat{H}t/\\hbar} |\\psi(0)\\rangle.\n",
    "\\end{eqnarray} \n",
    "\n",
    "Where it was used: $e^{\\hat{A}} = lim_{N\\rightarrow \\infty} (\\mathbb{I}+ \\frac{\\hat{A}}{N})^N$."
   ]
  },
  {
   "cell_type": "markdown",
   "id": "f16459ff",
   "metadata": {
    "jp-MarkdownHeadingCollapsed": true
   },
   "source": [
    "# &nbsp; <a href=\"#\"><img valign=\"middle\" height=\"45px\" src=\"https://img.icons8.com/book\" width=\"45\" hspace=\"0px\" vspace=\"0px\"></a> References<a name=\"ref\" />"
   ]
  },
  {
   "cell_type": "markdown",
   "id": "654a5bf3",
   "metadata": {},
   "source": [
    "\\[1] Griffiths, David J., and Darrell F. Schroeter. Introduction to quantum mechanics. Cambridge University Press, 2018.\n",
    "- Section 3.2.3, pg. 103: scalar wave function.\n",
    "\n",
    "\\[2] Nielsen MA, Chuang IL. 2010. Quantum Computation and Quantum Information. New York: [Cambridge Univ. Press.](https://doi.org/10.1017/CBO9780511976667) 10th Anniv. Ed."
   ]
  }
 ],
 "metadata": {
  "kernelspec": {
   "display_name": "Python 3 (ipykernel)",
   "language": "python",
   "name": "python3"
  },
  "language_info": {
   "codemirror_mode": {
    "name": "ipython",
    "version": 3
   },
   "file_extension": ".py",
   "mimetype": "text/x-python",
   "name": "python",
   "nbconvert_exporter": "python",
   "pygments_lexer": "ipython3",
   "version": "3.11.2"
  }
 },
 "nbformat": 4,
 "nbformat_minor": 5
}
