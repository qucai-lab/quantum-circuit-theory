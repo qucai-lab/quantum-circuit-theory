{
 "cells": [
  {
   "cell_type": "markdown",
   "metadata": {
    "id": "CuSWcHwc0SVj"
   },
   "source": [
    "<!-- Badges: -->\n",
    "\n",
    "<!-- Title: -->\n",
    "<div align=\"center\">\n",
    "  <h1><b> The universal Gate Set </b></h1>\n",
    "  <h2> Quantum Circuit Theory and Implementations </h2>\n",
    "</div>\n",
    "<br>\n",
    "\n",
    "<b>Author:</b> <a target=\"_blank\" href=\"https://github.com/camponogaraviera\">Lucas Camponogara Viera</a>"
   ]
  },
  {
   "cell_type": "markdown",
   "metadata": {
    "id": "0U_0A5LcqCVY"
   },
   "source": [
    "<div align='center'>\n",
    "<table class=\"tfo-notebook-buttons\" align=\"head\">\n",
    "  <td>\n",
    "    <a target=\"_blank\" href=\"https://github.com/QuCAI-Lab/quantum-circuit-theory\"><img src=\"https://www.tensorflow.org/images/GitHub-Mark-32px.png\" /></a>\n",
    "  </td>\n",
    "</table>\n",
    "</div>"
   ]
  },
  {
   "cell_type": "markdown",
   "metadata": {
    "id": "QJEAuN8pEMHD",
    "jp-MarkdownHeadingCollapsed": true
   },
   "source": [
    "# The universal gate set"
   ]
  },
  {
   "cell_type": "markdown",
   "metadata": {
    "id": "uabIIqasXvNX"
   },
   "source": [
    "A universal gate set is such that any possible gate operation can be reduced to a finite sequence of gates from the set.\n",
    "\n",
    "- The `continuous gate set` $\\{R_x(\\theta), R_y(\\theta), R_z(\\theta),P(\\lambda), CNOT\\}$ comprising of single-qubit standard Pauli rotation gates, the single-qubit [phase shift gate $P(\\lambda)$](https://en.wikipedia.org/wiki/Quantum_logic_gate#Phase_shift_gates) and the two-qubit $CNOT$ gate is a common universal set of quantum gates. `However, they are not easy to implement on encoded qubits for fault-tolerance.`\n",
    "\n",
    "- The \"Clifford+T\" `finite gate set` denoted $\\{H, S, CNOT, T\\}$ is another widely used universal gate set (see Ref. [1], Chap. 10 for fault-tolerant constructions of those gates)."
   ]
  },
  {
   "cell_type": "markdown",
   "metadata": {
    "jp-MarkdownHeadingCollapsed": true
   },
   "source": [
    "# Fault-tolerant implementations"
   ]
  },
  {
   "cell_type": "markdown",
   "metadata": {},
   "source": [
    "Recall that fault-torelant implementation of Clifford gates is realized at the physical level using native gates inherent to the hardware architecture. Conversely, non-Clifford gates, such as the $T$ gate, require purification using magic state distillation **(see ref. [1]**).\n",
    "\n",
    "- $R_z$ and $R_x(\\pi/2)$ can generate any arbitrary gate from $SU(2)$ **(see ref. [2])**."
   ]
  },
  {
   "cell_type": "markdown",
   "metadata": {},
   "source": [
    "Common physical implementations of native gates are:\n",
    "\n",
    "1. {[Z-Rotation](https://quantumai.google/reference/python/cirq/rz), [Phased-X](https://quantumai.google/reference/python/cirq/PhasedXPowGate), [fSim](https://quantumai.google/reference/python/cirq/FSimGate)} is a native gate set of `Google's Sycamore` **(see ref. [3] and [4])**.\n",
    "2. {[Z-Rotation](https://quantumai.google/reference/python/cirq/rz), [Phased-X](https://quantumai.google/reference/python/cirq/PhasedXPowGate), [CZ](https://quantumai.google/reference/python/cirq/CZ)} is a native gate set of `Google’s Bristlecone` **(see ref. [3] and [4])**.\n",
    "3. {[ECR](https://docs.quantum.ibm.com/api/qiskit/qiskit.circuit.library.ECRGate), [RZ](https://docs.quantum.ibm.com/api/qiskit/qiskit.circuit.library.RZGate), [SX](https://docs.quantum.ibm.com/api/qiskit/qiskit.circuit.library.SXGate), [X](https://docs.quantum.ibm.com/api/qiskit/qiskit.circuit.library.XGate)} is a universal set of native gates available to `IBM Brisbane, IBM Kyiv`, and `IBM Sherbrooke` quantum processors **(see ref. [5])**."
   ]
  },
  {
   "cell_type": "markdown",
   "metadata": {
    "id": "jXPq0bPlCUZa",
    "jp-MarkdownHeadingCollapsed": true
   },
   "source": [
    "# Obtaining the universal gate set"
   ]
  },
  {
   "cell_type": "markdown",
   "metadata": {
    "id": "HmsurFXgCgva"
   },
   "source": []
  },
  {
   "cell_type": "markdown",
   "metadata": {
    "jp-MarkdownHeadingCollapsed": true
   },
   "source": [
    "# References"
   ]
  },
  {
   "cell_type": "markdown",
   "metadata": {},
   "source": [
    "[1] S. Bravyi and A. Kitaev, “Universal quantum computation with ideal Clifford gates and noisy ancillas,” [Phys. Rev. A, vol. 71, no. 2, p. 022316, Feb. 2005. DOI: 10.1103/PhysRevA.71.022316.](https://journals.aps.org/pra/abstract/10.1103/PhysRevA.71.022316)\n",
    "\n",
    "[2] D. C. McKay, C. J. Wood, S. Sheldon, J. M. Chow, and\n",
    "J. M. Gambetta, “Efficient z-gates for quantum computing,” [Physical\n",
    "Review A, vol. 96, no. 2, Aug. 2017.](https://journals.aps.org/pra/abstract/10.1103/PhysRevA.96.022330)\n",
    "\n",
    "[3] Frank Arute, Kunal Arya, Ryan Babbush, Dave Bacon, Joseph C Bardin, Rami Barends, Rupak Biswas, Sergio Boixo, Fernando GSL Brandao, David A Buell, et al. Quantum supremacy using a programmable superconducting processor. [Nature, 574(7779):505–510, 2019](https://www.nature.com/articles/s41586-019-1666-5).\n",
    "\n",
    "[4] [Fosel, Thomas, Murphy Yuezhen Niu, Florian Marquardt and Li Li. “Quantum circuit optimization with deep reinforcement learning.” (2021).](https://arxiv.org/abs/2103.07585)\n",
    "\n",
    "[5] [IBM, Native gates and operations.](https://docs.quantum.ibm.com/guides/native-gates)"
   ]
  }
 ],
 "metadata": {
  "colab": {
   "collapsed_sections": [
    "QJEAuN8pEMHD",
    "jXPq0bPlCUZa"
   ],
   "provenance": []
  },
  "kernelspec": {
   "display_name": "Python 3 (ipykernel)",
   "language": "python",
   "name": "python3"
  },
  "language_info": {
   "codemirror_mode": {
    "name": "ipython",
    "version": 3
   },
   "file_extension": ".py",
   "mimetype": "text/x-python",
   "name": "python",
   "nbconvert_exporter": "python",
   "pygments_lexer": "ipython3",
   "version": "3.11.5"
  }
 },
 "nbformat": 4,
 "nbformat_minor": 4
}
