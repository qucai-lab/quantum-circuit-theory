{
 "cells": [
  {
   "cell_type": "markdown",
   "metadata": {
    "id": "CuSWcHwc0SVj"
   },
   "source": [
    "<!-- Badges: -->\n",
    "\n",
    "<!-- Title: -->\n",
    "<div align=\"center\">\n",
    "  <h1><b> The universal Gate Set </b></h1>\n",
    "  <h2> Quantum Circuit Theory and Implementations </h2>\n",
    "</div>\n",
    "<br>\n",
    "\n",
    "<b>Author:</b> <a target=\"_blank\" href=\"https://github.com/camponogaraviera\">Lucas Camponogara Viera</a>"
   ]
  },
  {
   "cell_type": "markdown",
   "metadata": {
    "id": "0U_0A5LcqCVY"
   },
   "source": [
    "<div align='center'>\n",
    "<table class=\"tfo-notebook-buttons\" align=\"head\">\n",
    "  <td>\n",
    "    <a target=\"_blank\" href=\"https://github.com/QuCAI-Lab/quantum-circuit-theory\"><img src=\"https://www.tensorflow.org/images/GitHub-Mark-32px.png\" /></a>\n",
    "  </td>\n",
    "</table>\n",
    "</div>"
   ]
  },
  {
   "cell_type": "markdown",
   "metadata": {
    "id": "QJEAuN8pEMHD",
    "jp-MarkdownHeadingCollapsed": true
   },
   "source": [
    "# The universal gate set"
   ]
  },
  {
   "cell_type": "markdown",
   "metadata": {
    "id": "uabIIqasXvNX"
   },
   "source": [
    "A universal gate set is such that any possible gate operation can be reduced to a finite sequence of gates from the set.\n",
    "\n",
    "- The `continuous gate set` $\\{R_x(\\theta), R_y(\\theta), R_z(\\theta),P(\\lambda), CNOT\\}$ comprising of single-qubit standard Pauli rotation gates, the single-qubit [phase shift gate $P(\\lambda)$](https://en.wikipedia.org/wiki/Quantum_logic_gate#Phase_shift_gates) and the two-qubit $CNOT$ gate is a common universal set of quantum gates. `However, they are not easy to implement on encoded qubits for fault-tolerance.`\n",
    "\n",
    "- The \"Clifford+T\" `finite gate set` denoted $\\{H, S, CNOT, T\\}$ is another widely used universal gate set (see Ref. [1], Chap. 10 for fault-tolerant constructions of those gates)."
   ]
  },
  {
   "cell_type": "markdown",
   "metadata": {
    "jp-MarkdownHeadingCollapsed": true
   },
   "source": [
    "# Fault-tolerant implementations"
   ]
  },
  {
   "cell_type": "markdown",
   "metadata": {},
   "source": [
    "Recall that fault-torelant implementation of Clifford gates is realized at the physical level using native gates inherent to the hardware architecture. Conversely, non-Clifford gates, such as the $T$ gate, require purification using magic state distillation (see [Sergei Bravyi and Alexei Kitaev paper](https://arxiv.org/abs/quant-ph/0403025)).\n",
    "\n",
    "Common physical implementations of native gates are: $CNOT, \\sqrt{CNOT}, R_x, R_y$, and $R_z$. The last three standard rotation gates are used to decompose arbitrary single-qubit gates (see [02_single_qubit_gates](https://github.com/QuCAI-Lab/quantum-circuit-theory/blob/dev/notebooks/02_single_qubit_gates.ipynb))."
   ]
  },
  {
   "cell_type": "markdown",
   "metadata": {
    "id": "jXPq0bPlCUZa",
    "jp-MarkdownHeadingCollapsed": true
   },
   "source": [
    "# Obtaining the universal gate set"
   ]
  },
  {
   "cell_type": "markdown",
   "metadata": {
    "id": "HmsurFXgCgva"
   },
   "source": []
  }
 ],
 "metadata": {
  "colab": {
   "collapsed_sections": [
    "QJEAuN8pEMHD",
    "jXPq0bPlCUZa"
   ],
   "provenance": []
  },
  "kernelspec": {
   "display_name": "Python 3 (ipykernel)",
   "language": "python",
   "name": "python3"
  },
  "language_info": {
   "codemirror_mode": {
    "name": "ipython",
    "version": 3
   },
   "file_extension": ".py",
   "mimetype": "text/x-python",
   "name": "python",
   "nbconvert_exporter": "python",
   "pygments_lexer": "ipython3",
   "version": "3.11.2"
  }
 },
 "nbformat": 4,
 "nbformat_minor": 4
}
