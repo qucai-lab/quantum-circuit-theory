{
 "cells": [
  {
   "cell_type": "markdown",
   "id": "3871aa52",
   "metadata": {},
   "source": [
    "<!-- Badges: -->\n",
    "\n",
    "<!-- Title: -->\n",
    "<div align=\"center\">\n",
    "  <h1><b> Formalism </b></h1>\n",
    "  <h2> Quantum Circuit Theory and Implementations </h2>\n",
    "</div>\n",
    "<br>\n",
    "\n",
    "<b>Author:</b> <a target=\"_blank\" href=\"https://github.com/camponogaraviera\">Lucas Camponogara Viera</a>"
   ]
  },
  {
   "cell_type": "markdown",
   "id": "7647879e",
   "metadata": {},
   "source": [
    "<div align='center'>\n",
    "<table class=\"tfo-notebook-buttons\" align=\"head\">\n",
    "  <td>\n",
    "    <a target=\"_blank\" href=\"https://github.com/QuCAI-Lab/quantum-circuit-theory\"><img src=\"https://www.tensorflow.org/images/GitHub-Mark-32px.png\" /></a>\n",
    "  </td>\n",
    "</table>\n",
    "</div>"
   ]
  },
  {
   "cell_type": "markdown",
   "id": "c15e7bbc",
   "metadata": {},
   "source": [
    "# Table of Contents\n",
    "\n",
    "- Linear Operators.\n",
    "- Basis states.\n",
    "    - Z-basis.\n",
    "    - X-basis.\n",
    "    - Y-basis.\n",
    "- Pauli group.\n",
    "    - Pauli gates.\n",
    "    - Pauli algebra.\n",
    "- Clifford group.\n",
    "    - Clifford gates.\n",
    "- Hermitian gates.\n",
    "- Spectral decomposition theorem.\n",
    "- Operator function."
   ]
  },
  {
   "cell_type": "markdown",
   "id": "f979a6a5",
   "metadata": {
    "jp-MarkdownHeadingCollapsed": true
   },
   "source": [
    "# Linear Operators"
   ]
  },
  {
   "cell_type": "markdown",
   "id": "d6d4ffa0",
   "metadata": {},
   "source": [
    "In quantum computing, every quantum gate is defined as a `linear operator` represented by a `unitary matrix`¹ $U$. "
   ]
  },
  {
   "cell_type": "markdown",
   "id": "7c87a9c1",
   "metadata": {},
   "source": [
    "Suppose $\\{|v_j\\rangle\\}_{j=1}^{d_a}$ and $\\{|w_k\\rangle\\}_{k=1}^{d_b}$ are any orthonormal basis set for vector spaces $V^{d_a}$ and $W^{d_b}$, respectively. A linear operator is any function $O$, with a map $O$ : $V^{d_a}$ $\\rightarrow$ $W^{d_b}$, that is linear in its inputs:\n",
    "\n",
    "\\begin{eqnarray}\n",
    "O \\left(\\sum_{j=1}^{d_a} v_j |v_j\\rangle\\right) = \\sum_{j=1}^{d_a} v_j O(|v_j\\rangle).\n",
    "\\end{eqnarray}\n",
    "\n",
    "The map is voiced \"a function $O$, namely linear operator, acts on a vector $V^{d_a}$ and produces a vector $W^{d_b}$\". \n",
    "\n",
    "By definition,\n",
    "\\begin{eqnarray}\n",
    "O \\doteq \\sum_{j=1}^{d_a} v_j |w_j\\rangle \\langle v_j|\n",
    "\\end{eqnarray}\n",
    "\n",
    "is a linear operator which, using the completeness relation, yields the following outer product representation:\n",
    "\n",
    "\\begin{eqnarray}\n",
    "O = I_vOI_w &=& \\sum_{j=1}^{d_a} | v_j \\rangle \\langle v_j| O \\sum_{k=1}^{d_b}|w_k\\rangle \\langle w_k|\\\\\n",
    "&=& \\sum_{jk=1}^{d_a,d_b} \\langle v_j |O|w_k\\rangle |v_j\\rangle \\langle w_k|.\n",
    "\\end{eqnarray}"
   ]
  },
  {
   "cell_type": "markdown",
   "id": "dc7966c6",
   "metadata": {},
   "source": [
    "A quantum gate is a linear operator (transformation) that acts on a given quantum state in a given basis evolving said state. Given an arbitrary quantum state $|\\psi\\rangle$ and a gate $U$, the action of the gate upon such statevector is represented by $U|\\psi\\rangle$, which is a product between the matrix representing the gate and the vector representing the quantum state. \n",
    "\n",
    "When a given state $|o_j\\rangle$ is said to be an eigenstate of the quantum gate (linear operator) $O$, this action is described by an eigenvalue-eigenvector equation:\n",
    "\n",
    "$$O |o_j\\rangle = o_j |o_j\\rangle.$$\n",
    "\n",
    "Examples:\n",
    "\n",
    "\\begin{align}\n",
    "X|+\\rangle &= |+\\rangle. \\\\\n",
    "X|-\\rangle &= -|-\\rangle. \\\\\n",
    "Y|\\oplus \\rangle &= |\\oplus\\rangle. \\\\\n",
    "Y|\\ominus \\rangle &= -|\\ominus\\rangle. \\\\\n",
    "Z |0\\rangle &=|0\\rangle. \\\\\n",
    "Z |1\\rangle &= -|1\\rangle.\n",
    "\\end{align}\n",
    "\n",
    "---\n",
    "¹Not all quantum operations are represented by unitary matrices. See the `Q&A.ipynb` for more information."
   ]
  },
  {
   "cell_type": "markdown",
   "id": "421f4c48",
   "metadata": {},
   "source": [
    "## Matrix representation for linear operators\n",
    "\n",
    "Suppose $A: \\mathbb{V} \\rightarrow \\mathbb{W}$ is a linear operator between vector spaces $\\mathbb{V}^n$ and $\\mathbb{W}^m$ with bases $\\{|v_j\\rangle\\}_{j=1}^n$ and $\\{|w_i\\rangle\\}_{i=1}^m$, respectively. There exist a number $A_{ij}$ that is the $(ij)$-th entry of the *matrix representation* $A \\in M^{m,n}$ of the operator $A$, such that\n",
    "\n",
    "$$A|v_j\\rangle = \\sum_{i=1}^m A_{ij} |w_i\\rangle \\in \\mathbb{W}^m,$$\n",
    "\n",
    "where $j=1,\\cdots, n$ is a free suffix, and $i=1,\\cdots, m$ is a dummy suffix.\n"
   ]
  },
  {
   "cell_type": "markdown",
   "id": "0ae984f1",
   "metadata": {
    "jp-MarkdownHeadingCollapsed": true
   },
   "source": [
    "# Basis states"
   ]
  },
  {
   "cell_type": "markdown",
   "id": "a64cc87b",
   "metadata": {},
   "source": [
    "## $Z$-basis a.k.a canonical basis"
   ]
  },
  {
   "cell_type": "markdown",
   "id": "e94f6396",
   "metadata": {},
   "source": [
    "Let $|0\\rangle$ and $|1\\rangle$ be column vectors (kets), each one representing the state of a classical bit:\n",
    "\n",
    "$$|0\\rangle = \\begin{bmatrix} 1 \\\\ 0 \\end{bmatrix},$$\n",
    "$$|1\\rangle = \\begin{bmatrix} 0 \\\\ 1 \\end{bmatrix}.$$\n",
    "\n",
    "They form the ubiquitous orthonormal basis set known as canonical basis or computational basis denoted by $\\{|0\\rangle, |1\\rangle\\}$. They are the eigenstates of the $Z$ operator/gate."
   ]
  },
  {
   "cell_type": "markdown",
   "id": "641de797",
   "metadata": {},
   "source": [
    "## $X$-basis"
   ]
  },
  {
   "cell_type": "markdown",
   "id": "7f8ef553",
   "metadata": {},
   "source": [
    "A qubit state of equal probability can be represented by the following superposition states defined as linear combination (superposition) of classical bits $|0\\rangle$ and $|1\\rangle$.\n",
    "\n",
    "\\begin{align}\n",
    "|+\\rangle &\\equiv \\frac{1}{\\sqrt{2}}(|0\\rangle+|1\\rangle) = \\frac{1}{\\sqrt{2}}\\begin{bmatrix} 1 \\\\ 1 \\end{bmatrix}.\\\\\n",
    "|-\\rangle &\\equiv \\frac{1}{\\sqrt{2}}(|0\\rangle-|1\\rangle) = \\frac{1}{\\sqrt{2}}\\begin{bmatrix} 1 \\\\ -1 \\end{bmatrix}.\\\\\n",
    "\\end{align}\n",
    "\n",
    "They are the eigenstates of the $X$ operator/gate."
   ]
  },
  {
   "cell_type": "markdown",
   "id": "5643a137",
   "metadata": {},
   "source": [
    "## $Y$-basis"
   ]
  },
  {
   "cell_type": "markdown",
   "id": "f00579ef",
   "metadata": {},
   "source": [
    "\\begin{align}\n",
    "|+y\\rangle &\\equiv |\\oplus\\rangle = \\frac{1}{\\sqrt{2}}(|0\\rangle+i|1\\rangle) = \\frac{1}{\\sqrt{2}}\\begin{bmatrix} 1 \\\\ i \\end{bmatrix}.\\\\\n",
    "|-y\\rangle &\\equiv |\\ominus\\rangle = \\frac{1}{\\sqrt{2}}(|0\\rangle-i|1\\rangle) = \\frac{1}{\\sqrt{2}}\\begin{bmatrix} 1 \\\\ -i \\end{bmatrix}.\n",
    "\\end{align}\n",
    "\n",
    "They are the eigenstates of the $Y$ operator/gate."
   ]
  },
  {
   "cell_type": "markdown",
   "id": "e3ffe734",
   "metadata": {
    "jp-MarkdownHeadingCollapsed": true
   },
   "source": [
    "# Pauli group"
   ]
  },
  {
   "cell_type": "markdown",
   "id": "09186c7d",
   "metadata": {},
   "source": [
    "The Pauli group, denoted $P_n$, is the set composed of all tensor products, of a given length, between Pauli matrices $\\sigma_j$: \n",
    "\n",
    "$$P_n = \\{e^{i\\theta\\pi/2} \\sigma_{j_1} \\otimes \\cdots \\otimes \\sigma_{j_n} : \\theta = 0,1,2,3; j_k=0,1,2,3\\}.$$\n",
    "- Generators: $\\sigma_1 = X, \\sigma_2 = Y$, and $\\sigma_3 = Z$.\n",
    "- Some elements of the Pauli group are: $I$, $X$, $Y$, $Z$, ($X \\otimes X$), ($Y \\otimes Y$), and ($Z\\otimes Z$).\n",
    "\n",
    "The generator set $\\{\\sigma_j\\}|_{j=1}^3$ is composed of the Pauli matrices that generate the Pauli group.\n",
    "\n",
    "Since all quantum gates are represented by unitary matrices, the Pauli matrices are also known as Pauli gates."
   ]
  },
  {
   "cell_type": "markdown",
   "id": "d957a2db",
   "metadata": {},
   "source": [
    "Recall that Pauli operators $X, Y,$ and $Z$ are all represented by matrices that are both Hermitian and Unitary and, therefore, Involutory. Since they are Involutory, their eigenvalues are $\\pm 1$. Moreover, Hermitian and Unitary matrices are Normal matrices. The converse is not true, i.e, Normal matrices are not always Hermitian and Unitary. A Normal matrix is Unitary iff all of its eigenvalues (the matrix spectrum) lie on the unit circle of the complex plane, i.e, they have modulus (absolute value) equal to one ($|\\lambda|=1$), and hence they can be written in the form $\\lambda=e^{i\\theta}$ for some real-valued number $\\theta$. And a Normal matrix is Hermitian iff all of its eigenvalues are real ($\\lambda=\\lambda^*$)."
   ]
  },
  {
   "cell_type": "markdown",
   "id": "5a229a97",
   "metadata": {},
   "source": [
    "## Pauli gates"
   ]
  },
  {
   "cell_type": "markdown",
   "id": "4c406747",
   "metadata": {},
   "source": [
    "The set of Pauli operators denoted $\\{\\sigma_j\\}|_{j=1}^3$ is a set of $2 \\times 2$ complex-valued matrices that are each `Hermitian, Unitary and, therefore, Involutory and Normal`. Each Pauli matrix can be defined as:\n",
    "\n",
    "\\begin{eqnarray}\n",
    "\\sigma_j \\doteq \n",
    "\\begin{pmatrix}\n",
    "\\delta_{j3} & \\delta_{j1} - i \\delta_{j2} \\\\\n",
    "\\delta_{j1} + i \\delta_{j2} & -\\delta_{j3}\n",
    "\\end{pmatrix}.\n",
    "\\end{eqnarray}\n",
    "\n",
    "Where $\\delta_{jk}$ is the Kronecker delta defined as:\n",
    "\n",
    "\\begin{eqnarray}\n",
    "\\delta_{jk} \\doteq \\begin{cases}\n",
    "0, & \\mbox{if } j \\ne k. \\\\\n",
    "1, & \\mbox{if } j=k. \\end{cases}\n",
    "\\end{eqnarray}\n",
    "\n",
    "With that:\n",
    "\n",
    "\\begin{eqnarray}\n",
    "\\sigma_{j=1} \\equiv X &\\doteq& \n",
    "\\begin{pmatrix}\n",
    "0 & 1 \\\\\n",
    "1 & 0\n",
    "\\end{pmatrix}. \\\\\n",
    "\\sigma_{j=2} \\equiv Y &\\doteq&\n",
    "\\begin{pmatrix}\n",
    "0 & -i \\\\\n",
    "i & 0\n",
    "\\end{pmatrix}. \\\\\n",
    "\\sigma_{j=3} \\equiv Z &\\doteq& \n",
    "\\begin{pmatrix}\n",
    "1 & 0 \\\\\n",
    "0 & -1\n",
    "\\end{pmatrix} .\n",
    "\\end{eqnarray}"
   ]
  },
  {
   "cell_type": "markdown",
   "id": "f56761d3",
   "metadata": {},
   "source": [
    "Using the outer product representation \\begin{eqnarray}\n",
    "O = I_vOI_w &=& \\sum_{j=1}^{d_a} | v_j \\rangle \\langle v_j| O \\sum_{k=1}^{d_b}|w_k\\rangle \\langle w_k|\\\\\n",
    "&=& \\sum_{jk=1}^{d_a,d_b} \\langle v_j |O|w_k\\rangle |v_j\\rangle \\langle w_k|,\n",
    "\\end{eqnarray} \n",
    "\n",
    "the Pauli gates write:\n",
    "    \n",
    "\\begin{align}\n",
    "X&= \\sum_{j,k=0}^{1} \\langle j |\\sigma_1|k\\rangle |j\\rangle \\langle k| = |0\\rangle\\langle 1|+|1\\rangle\\langle 0|.\\\\\n",
    "Y&= \\sum_{j,k=0}^{1} \\langle j |\\sigma_2|k\\rangle |j\\rangle \\langle k|=-i|0\\rangle\\langle 1|+i|1\\rangle\\langle 0|.\\\\\n",
    "Z&= \\sum_{j,k=0}^{1} \\langle j |\\sigma_3|k\\rangle |j\\rangle \\langle k|=|0\\rangle\\langle 0|-|1\\rangle\\langle 1|.\\\\\n",
    "\\end{align}"
   ]
  },
  {
   "cell_type": "code",
   "execution_count": 3,
   "id": "ea06f2a0",
   "metadata": {
    "scrolled": true
   },
   "outputs": [
    {
     "data": {
      "text/plain": [
       "((2,), 1)"
      ]
     },
     "execution_count": 3,
     "metadata": {},
     "output_type": "execute_result"
    }
   ],
   "source": [
    "import numpy as np\n",
    "\n",
    "zero_1d=np.array([1,0])\n",
    "one_1d=np.array([0,1])\n",
    "zero_1d.shape, zero_1d.ndim"
   ]
  },
  {
   "cell_type": "code",
   "execution_count": 4,
   "id": "d4d088db",
   "metadata": {},
   "outputs": [
    {
     "name": "stdout",
     "output_type": "stream",
     "text": [
      "X gate:\n",
      "\n",
      " [[0 1]\n",
      " [1 0]]\n",
      "\n",
      "Y gate:\n",
      "\n",
      " [[0.+0.j 0.-1.j]\n",
      " [0.+1.j 0.+0.j]]\n",
      "\n",
      "Z gate:\n",
      "\n",
      " [[ 1  0]\n",
      " [ 0 -1]]\n",
      "\n"
     ]
    }
   ],
   "source": [
    "def outer_product_repr(zero, one):\n",
    "    '''\n",
    "    When using np.outer(), the input vectors are flattened if not already 1-dimensional.\n",
    "    '''\n",
    "    print(f'X gate:\\n\\n {np.outer(zero,one)+np.outer(one,zero)}\\n')\n",
    "    print(f'Y gate:\\n\\n {-1j*np.outer(zero,one)+1j*np.outer(one,zero)}\\n')\n",
    "    print(f'Z gate:\\n\\n {np.outer(zero,zero)-np.outer(one,one)}\\n')\n",
    "    \n",
    "outer_product_repr(zero_1d, one_1d)"
   ]
  },
  {
   "cell_type": "markdown",
   "id": "34e0eab8",
   "metadata": {},
   "source": [
    "## Pauli algebra"
   ]
  },
  {
   "cell_type": "markdown",
   "id": "fca7c2bb",
   "metadata": {},
   "source": [
    "The Pauli matrices satisfy the following algebra:\n",
    "\n",
    "- Negative determinant:\n",
    "$$\\det (\\sigma_j)-1.$$\n",
    "\n",
    "- Traceless:\n",
    "$$\\Tr (\\sigma_j) = 0.$$\n",
    "\n",
    "- Eigenvalues:\n",
    "$$\\lambda = \\pm 1.$$\n",
    "\n",
    "- Involution:\n",
    "$$\\sigma_j^2 = -i\\sigma_1\\sigma_2\\sigma_3=\\mathbb{I}.$$\n",
    "\n",
    "- Commutation:\n",
    "\n",
    "$$[\\sigma_j, \\sigma_k] = 2i\\epsilon_{ijk} \\sigma_k.$$\n",
    "\n",
    "- Anticommutation:\n",
    "\n",
    "$$\\{\\sigma_j,\\sigma_k\\} = 2\\delta_{jk}\\mathbb{I}.$$\n",
    "\n",
    "- Product:\n",
    "\n",
    "$$\\sigma_j \\sigma_k = \\delta_{jk} \\mathbb{I} + i\\epsilon_{jkl} \\sigma_l.$$\n",
    "\n",
    "- Exponential:\n",
    "\n",
    "$$ e^{i\\alpha(\\hat{n} \\cdot \\vec{\\sigma})}= \\cos(\\alpha) \\mathbb{I} + i \\sin(\\alpha)(\\hat{n}\\cdot \\vec{\\sigma}).$$"
   ]
  },
  {
   "cell_type": "markdown",
   "id": "ca8119b0",
   "metadata": {
    "jp-MarkdownHeadingCollapsed": true
   },
   "source": [
    "# Clifford group"
   ]
  },
  {
   "cell_type": "markdown",
   "id": "f946ff2a",
   "metadata": {},
   "source": [
    "The Clifford group, denoted by $Cl_n$, is the set of unitary matrices that preserves the Pauli group under conjugation, i.e, that normalizes the Pauli group. A unitary matrix $C$ is an element of the Clifford group $Cl_n$ if it normalizes the Pauli group $P_n$: \n",
    "\n",
    "$$Cl_n = \\{C \\in U(2^n) : CPC^{\\dagger} \\in P_n, \\forall P \\in P_n \\}.$$\n",
    "  - Generators: Hadamard ($H$) gate, phase $S$ gate, and controlled-not (CNOT) gate."
   ]
  },
  {
   "cell_type": "markdown",
   "id": "fda99182",
   "metadata": {},
   "source": [
    "The last definition means that \"the Clifford group, denoted $Cl_n$, is a set of gates $C$ from a group $U(2^n)$ of $2^{n}$x$2^{n}$ unitary matrices acting on $n$ qubits, such that the **conjugation by the unitary** $C$, denoted $CPC^{\\dagger}$, map an element $P$ of the Pauli group $P_n$ to another element of the Pauli group.\n",
    "\n",
    "One should note that every element of $P_n$ is also an element of $Cl_n$, i.e, that $P_n$ is a subset of $Cl_n$, denoted as: \n",
    "\n",
    "$$P_n \\subseteq Cl_n.$$"
   ]
  },
  {
   "cell_type": "markdown",
   "id": "1a4c5c1f",
   "metadata": {},
   "source": [
    "## Clifford gates"
   ]
  },
  {
   "cell_type": "markdown",
   "id": "61fe7d59",
   "metadata": {},
   "source": [
    "- **Clifford gate:** is an element of the Clifford group, i.e, is a unitary matrix that can be decomposed/constructed into/from Paulis, $S$, $H$, and $CNOT$ gates up to a phase. Moreover, a Clifford gate maps Pauli operators to other Pauli operators, and they alone do not form a universal set of quantum gates.\n",
    "\n",
    "- Examples of Clifford gates: $I$, $X$, $Y$, $Z$, Hadamard ($H$), phase ($S$), controlled-not ($CNOT$), controlled-Z ($CZ$), and SWAP.\n",
    "\n",
    "- Examples of non-Clifford gates: the [Toffoli gate](https://qiskit.org/documentation/stubs/qiskit.circuit.library.CCXGate.html) (a.k.a $CCX$ or Deutsch), the [Fredkin gate](https://qiskit.org/documentation/tutorials/circuits/3_summary_of_quantum_operations.html#Controlled-swap-gate-(Fredkin-Gate)) (a.k.a CSWAP), and the [phase gate T](https://qiskit.org/documentation/stubs/qiskit.circuit.library.TGate.html) (a.k.a pi/8 or fourth-root of Pauli-$Z$)."
   ]
  },
  {
   "cell_type": "markdown",
   "id": "7699ca40",
   "metadata": {},
   "source": [
    "According to the [Gottesman–Knill theorem](https://en.wikipedia.org/wiki/Gottesman%E2%80%93Knill_theorem), a stabilizer circuit, i.e, a circuit composed only of gates from the Clifford set, can be efficiently simulated (in polynomial time) in a classical computer via a Clifford simulator [[1]](https://journals.aps.org/pra/abstract/10.1103/PhysRevA.70.052328). For this reason, the Clifford set is the main gate set used in machine learning-based quantum error mitigation. One example is the [CDR error mitigation technique](https://mitiq.readthedocs.io/en/latest/guide/cdr-4-low-level.html) used to approximate a target quantum circuit. "
   ]
  },
  {
   "cell_type": "markdown",
   "id": "0bddeb9a",
   "metadata": {
    "jp-MarkdownHeadingCollapsed": true
   },
   "source": [
    "# Hermitian Gates"
   ]
  },
  {
   "cell_type": "markdown",
   "id": "af139a39",
   "metadata": {},
   "source": [
    "Formally, all quantum gates are represented by Unitary matrices and some quantum gates are also represented by Hermitian operators (matrices).\n",
    "\n",
    "The most frequently used `Hermitian quantum gates` are:\n",
    "\n",
    "- [The $CNOT$ gate](https://qiskit.org/documentation/stubs/qiskit.circuit.library.CXGate.html) (a.k.a $CX$): a two-qubit `Hermitian` and `Clifford` gate used to flip ($\\pi$ radian) the state of the target qubit if the control qubit is in the state $|1\\rangle$. It is similar to a classical XOR gate.\n",
    "\n",
    "- [The SWAP gate](https://qiskit.org/documentation/stubs/qiskit.circuit.library.SwapGate.html): a two-qubit gate used to swap the states between two qubits. Used mostly during qubit routing in order to match the topology (graph connectivity) of a specific quantum device.\n",
    "\n",
    "- [The Toffoli gate](https://qiskit.org/documentation/stubs/qiskit.circuit.library.CCXGate.html) (a.k.a $CCX$ or Deutsch): a three-qubit gate with two control qubits and one target qubit.\n",
    "\n",
    "- The [Fredkin](https://qiskit.org/documentation/tutorials/circuits/3_summary_of_quantum_operations.html#Controlled-swap-gate-(Fredkin-Gate)) (CSWAP) gate: a three-qubit gate used to swap the second and third qubits if the first qubit (LSB) is in the state $|1\\rangle$.\n"
   ]
  },
  {
   "cell_type": "markdown",
   "id": "d195ca01",
   "metadata": {},
   "source": [
    "Not all quantum gates are represented by Hermitian operators (matrices). Examples of `non-Hermitian` quantum gates are:\n",
    "\n",
    "- The [phase gate S](https://qiskit.org/documentation/stubs/qiskit.circuit.library.SGate.html) (square-root of Pauli-$Z$): $=P(\\lambda = \\pi/2) = e^{i\\pi/4}R_z(\\pi/2) = \\sqrt{Z}$. \n",
    "\n",
    "- The [phase gate T](https://qiskit.org/documentation/stubs/qiskit.circuit.library.TGate.html) (a.k.a $\\pi/8$ or fourth-root of Pauli-$Z$): $=P(\\lambda =\\pi/4) = e^{i\\pi/8}R_z(\\pi/4) = \\sqrt{S}=\\sqrt[4]{Z}$."
   ]
  },
  {
   "cell_type": "markdown",
   "id": "4d2e879f",
   "metadata": {
    "jp-MarkdownHeadingCollapsed": true
   },
   "source": [
    "# Spectral decomposition theorem"
   ]
  },
  {
   "cell_type": "markdown",
   "id": "9796ecf0",
   "metadata": {},
   "source": [
    "**Spectral decomposition theorem for Normal matrices** *Any Normal operator $\\hat{\\mathcal{O}}$ on a vector space $V$ of dimension $\\dim V=d$ is unitarily diagonalizable with respect to some orthonormal basis for $V$. Conversely, any unitarily diagonalizable operator is normal.*\n",
    "\n",
    "It follows that an operator is Normal iff it is unitarily diagonalizable. Therefore, any Normal operator has a spectral (eigenvalue) decomposition in terms of the outer product representation, and in the basis of its eigenvectors, of the form:\n",
    "\n",
    "$$ \\hat{O} = \\sum_{j=1}^{d}= o_j P_{o_j} = \\sum_{j=1}^{d} o_j |o_j \\rangle \\langle o_j|.$$\n",
    "\n",
    "Where:\n",
    "\n",
    "- $o_j$ and $P_{o_j}$ are the corresponding eigenvalue and projector operator of the observable $\\hat{O}$, respectively. \n",
    "\n",
    "- $\\{o_j\\}|_{j=1}^d$ is a basis set of $d$ linearly independent orthonormal eigenvectors $|o_j\\rangle$ of $\\hat{O}$ with eigenvalue $o_j$.\n",
    "\n",
    "Note that:\n",
    "\n",
    "$$ \\Bigg( \\sum_{j=1}^{d} o_j |o_j \\rangle \\langle o_j| \\Bigg) |o_k \\rangle =  \\sum_{j=1}^{d} o_j |o_j \\rangle \\delta_{jk}= o_k |o_k \\rangle = \\hat{O} |o_k \\rangle.$$\n",
    "\n",
    "**Note:** the above theorem does not imply that any diagonalizable operator is Normal, this is only true for `unitary diagonalization`. There are matrices which are not Normal, but are diagonalizable by orthogonal operators (`orthogonal diagonalization`). See the `spectral theorem for Symmetric matrices` for more information."
   ]
  },
  {
   "cell_type": "markdown",
   "id": "baf70c9d",
   "metadata": {},
   "source": [
    "Let $A \\in M^{n,n}$ be a square matrix of dimension $n$x$n$.\n",
    "\n",
    "- 1) $A$ is `unitary diagonalizable` if and only if $A$ is Normal: $AA^{\\dagger}=A^{\\dagger}A$.\n",
    "\n",
    "- 2) $A$ is `orthogonally diagonalizable` if and only if $A$ is symmetric: $A=A^{T}$."
   ]
  },
  {
   "cell_type": "markdown",
   "id": "b4622fb7",
   "metadata": {},
   "source": [
    "With that, one can write the following spectral decompositions for the single-qubit Pauli gates:\n",
    "\n",
    "\\begin{align}\n",
    "X&= \\sum_{j=1}^{d} x_j |x_j \\rangle \\langle x_j| = |+\\rangle\\langle +|-|-\\rangle\\langle -|.\\\\\n",
    "Y&= \\sum_{j=1}^{d} y_j |y_j \\rangle \\langle y_j|=|\\oplus\\rangle\\langle \\oplus|-|\\ominus\\rangle\\langle \\ominus|.\\\\\n",
    "Z&= \\sum_{j=1}^{d} z_j |z_j \\rangle \\langle z_j|=|0\\rangle\\langle 0|-|1\\rangle\\langle 1|.\\\\\n",
    "\\end{align}"
   ]
  },
  {
   "cell_type": "markdown",
   "id": "1768eb83",
   "metadata": {
    "jp-MarkdownHeadingCollapsed": true
   },
   "source": [
    "# Operator function"
   ]
  },
  {
   "cell_type": "markdown",
   "id": "72a88458",
   "metadata": {},
   "source": [
    "Given the spectral decomposition theorem, it is possible to write the operator function (matrix function) on a Normal matrix $\\hat{O}$ as follows:\n",
    "\n",
    "$$f(\\hat{O})= \\sum_j f(o_j) |o_j\\rangle \\langle o_j|,$$\n",
    "\n",
    "which is equivalent to (after writing $\\hat{O} = UDU^{\\dagger}$)\n",
    "\n",
    "\\begin{eqnarray}\n",
    "f(\\hat{O}) = Uf(D)U^{\\dagger}.\n",
    "\\end{eqnarray}\n",
    "\n",
    "For the exponential function over the field $\\mathbb{C}^n$ of the complex numbers, this becomes:\n",
    "\n",
    "$$ e^{i\\theta\\hat{O}} = \\sum_{j=1}^n e^{i\\theta o_j} |o_j\\rangle \\langle o_j| = e^{i\\theta o_1} |o_{1}\\rangle \\langle o_{1}| + \\cdots + e^{i\\theta o_n} |o_{n}\\rangle \\langle o_{n}|.$$\n",
    "\n",
    "To see this is true, recall that the eigenvalues of a matrix are multiplied by a scalar when the matrix is multiplied by the same scalar, while the eigenvectors are left unchanged. One can extend this identity to a tensor product of Normal operators noting that `the tensor product of two Hermitian operators is another Hermitian operator`. Recall that Hermitian and Unitary operators are also Normal operators and, therefore, they also have a spectral decomposition in terms of the outer product representation."
   ]
  },
  {
   "cell_type": "markdown",
   "id": "d0a1bc6b",
   "metadata": {
    "jp-MarkdownHeadingCollapsed": true
   },
   "source": [
    "# &nbsp; <a href=\"#\"><img valign=\"middle\" height=\"45px\" src=\"https://img.icons8.com/book\" width=\"45\" hspace=\"0px\" vspace=\"0px\"></a> References"
   ]
  },
  {
   "cell_type": "markdown",
   "id": "e2d59cf3",
   "metadata": {},
   "source": [
    "\\[1] Scott Aaronson and Daniel Gottesman. 2004. Improved simulation of stabilizer circuits. [Phys. Rev. A 70, 5](https://journals.aps.org/pra/abstract/10.1103/PhysRevA.70.052328) (Nov. 2004),\n",
    "052328.\n",
    "\n",
    "\\[2] https://en.wikipedia.org/wiki/Clifford_gates"
   ]
  }
 ],
 "metadata": {
  "kernelspec": {
   "display_name": "Python 3 (ipykernel)",
   "language": "python",
   "name": "python3"
  },
  "language_info": {
   "codemirror_mode": {
    "name": "ipython",
    "version": 3
   },
   "file_extension": ".py",
   "mimetype": "text/x-python",
   "name": "python",
   "nbconvert_exporter": "python",
   "pygments_lexer": "ipython3",
   "version": "3.11.2"
  }
 },
 "nbformat": 4,
 "nbformat_minor": 5
}
