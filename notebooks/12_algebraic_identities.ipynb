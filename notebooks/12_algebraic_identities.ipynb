{
 "cells": [
  {
   "cell_type": "markdown",
   "metadata": {
    "id": "IT3xoU8Pp85F"
   },
   "source": [
    "<!-- Badges: -->\n",
    "\n",
    "<!-- Title: -->\n",
    "<div align=\"center\">\n",
    "  <h1><b> Useful Linear Algebra Identities for Quantum Circuits </b></h1>\n",
    "  <h2> Quantum Circuit Theory and Implementations </h2>\n",
    "</div>\n",
    "<br>\n",
    "\n",
    "<b>Author:</b> <a target=\"_blank\" href=\"https://github.com/camponogaraviera\">Lucas Camponogara Viera</a>"
   ]
  },
  {
   "cell_type": "markdown",
   "metadata": {
    "id": "0U_0A5LcqCVY"
   },
   "source": [
    "<div align='center'>\n",
    "<table class=\"tfo-notebook-buttons\" align=\"head\">\n",
    "  <td>\n",
    "    <a target=\"_blank\" href=\"https://github.com/QuCAI-Lab/quantum-circuit-theory\"><img src=\"https://www.tensorflow.org/images/GitHub-Mark-32px.png\" /></a>\n",
    "  </td>\n",
    "</table>\n",
    "</div>"
   ]
  },
  {
   "cell_type": "markdown",
   "metadata": {
    "id": "4AH0fLJOvHt8"
   },
   "source": [
    "---\n",
    "The mathematical framework employed in the remainder of this Jupyter notebook is the contemporary `matrix mechanics formalism` of quantum mechanics initially developed by Werner Heisenberg, Max Born, and Pascual Jordan in a sequel of articles between 1925 and 1926. \n",
    "\n",
    "To review concepts of linear algebra for quantum computing, resort to the [linear-algebra](https://github.com/QuCAI-Lab/linear-algebra) dedicated repository.\n",
    "\n",
    "---"
   ]
  },
  {
   "cell_type": "code",
   "execution_count": 2,
   "metadata": {
    "colab": {
     "base_uri": "https://localhost:8080/"
    },
    "executionInfo": {
     "elapsed": 4,
     "status": "error",
     "timestamp": 1683810819229,
     "user": {
      "displayName": "Lucas Camponogara Viera",
      "userId": "14322290658374940800"
     },
     "user_tz": 180
    },
    "id": "tQ6tz0Dw8Z5m",
    "outputId": "ea588850-1ea5-48b1-a398-b2c02262dc36"
   },
   "outputs": [
    {
     "name": "stdout",
     "output_type": "stream",
     "text": [
      "Author: Lucas Camponogara Viera\n",
      "\n",
      "Github username: camponogaraviera\n",
      "\n",
      "Website: https://qucai-lab.github.io/\n",
      "\n",
      "Last updated: 2023-05-11\n",
      "\n",
      "Python implementation: CPython\n",
      "Python version       : 3.11.2\n",
      "IPython version      : 8.13.2\n",
      "\n",
      "Compiler    : GCC 11.2.0\n",
      "OS          : Linux\n",
      "Release     : 5.19.0-41-generic\n",
      "Machine     : x86_64\n",
      "Processor   : x86_64\n",
      "CPU cores   : 4\n",
      "Architecture: 64bit\n",
      "\n",
      "Git repo: https://github.com/QuCAI-Lab/quantum-circuit-theory.git\n",
      "\n",
      "Git branch: dev\n",
      "\n",
      "numpy     : 1.23.5\n",
      "sympy     : 1.11.1\n",
      "pylatexenc: 2.10\n",
      "matplotlib: 3.6.2\n",
      "IPython   : 8.13.2\n",
      "watermark : 2.3.1\n",
      "pennylane : 0.28.0\n",
      "scipy     : 1.9.3\n",
      "\n",
      "Watermark: 2.3.1\n",
      "\n",
      "{'commit_hash': '2c4c28a3a',\n",
      " 'commit_source': 'installation',\n",
      " 'default_encoding': 'utf-8',\n",
      " 'ipython_path': '/home/lucas/anaconda3/envs/qct/lib/python3.11/site-packages/IPython',\n",
      " 'ipython_version': '8.13.2',\n",
      " 'os_name': 'posix',\n",
      " 'platform': 'Linux-5.19.0-41-generic-x86_64-with-glibc2.35',\n",
      " 'sys_executable': '/home/lucas/anaconda3/envs/qct/bin/python',\n",
      " 'sys_platform': 'linux',\n",
      " 'sys_version': '3.11.2 (main, Mar 27 2023, 23:42:44) [GCC 11.2.0]'}\n"
     ]
    }
   ],
   "source": [
    "%run init.ipynb"
   ]
  },
  {
   "cell_type": "markdown",
   "metadata": {
    "id": "giyAYar_9SxD"
   },
   "source": [
    "# Table of Contents\n",
    "\n",
    "- Notation.\n",
    "- Representations.\n",
    "- Identities.\n",
    "    - Retangular matrices.\n",
    "    - Vectors.\n",
    "    - Kronecker product between vectors.\n",
    "    - Kronecker product between retangular matrices.\n",
    "    - Kronecker product with vectors and matrices.\n",
    "    - Commutator.\n",
    "    - Matrix exponential.\n",
    "    - Rotations.\n",
    "  "
   ]
  },
  {
   "cell_type": "markdown",
   "metadata": {
    "id": "L9iJddiN0EP-"
   },
   "source": [
    "# Notation"
   ]
  },
  {
   "cell_type": "markdown",
   "metadata": {
    "id": "6Wf6Lgb10EP-"
   },
   "source": [
    "Using index notation, let's define the following conventions:\n",
    "\n",
    "- $[A_{ij}]$ denotes a matrix $A$ with entries $A_{ij}$.\n",
    "- $[a_j]$ denotes a column-like vector $|a\\rangle$ with entries $a_j$.\n",
    "- $[a^*_j]$ denotes the dual vector (complex conjugate transpose) to $|a\\rangle$, i.e, the row-like (bra) vector $\\langle a|$ with complex conjugate entries $a^*_j$.\n",
    "- $C_{ij}\\delta_{ij}=C_{ii}$ denotes contraction."
   ]
  },
  {
   "cell_type": "markdown",
   "metadata": {
    "id": "F6XlOF_t62F-"
   },
   "source": [
    "# Representations"
   ]
  },
  {
   "cell_type": "markdown",
   "metadata": {
    "id": "hEgJv48Z0EQA"
   },
   "source": [
    "## Vector representation\n",
    "\n",
    "The $i$-th entry from the result of the matrix multiplication between a matrix $A \\in M^{m,n}$ and a column vector $\\mathbb{v} \\in \\mathbb{V}^n$ can be obtained as follows:\n",
    "\n",
    "$$v'_i = [A\\mathbb{v}]_i = \\sum_{j=1}^n A_{ij}v_j \\in \\mathbb{V}^m,$$\n",
    "\n",
    "where $i=1,\\cdots, m$ is a free suffix, and $j=1,\\cdots, n$ is a dummy suffix.\n",
    "\n",
    "## Matrix representation for linear operators\n",
    "\n",
    "Suppose $A: \\mathbb{V} \\rightarrow \\mathbb{W}$ is a linear operator between vector spaces $\\mathbb{V}^n$ and $\\mathbb{W}^m$ with bases $\\{|v_j\\rangle\\}_{j=1}^n$ and $\\{|w_i\\rangle\\}_{i=1}^m$, respectively. There exist a number $A_{ij}$ that is the $(ij)$-th entry of the *matrix representation* $A \\in M^{m,n}$ of the operator $A$, such that\n",
    "\n",
    "$$A|v_j\\rangle = \\sum_{i=1}^m A_{ij} |w_i\\rangle \\in \\mathbb{W}^m,$$\n",
    "\n",
    "where $j=1,\\cdots, n$ is a free suffix, and $i=1,\\cdots, m$ is a dummy suffix.\n",
    "\n",
    "## Matrix representation for operator products\n",
    "\n",
    "The $(ij)$-th entry of the matrix representation for the linear transformation AB is the matrix product of the matrix representations for matrices $A \\in M^{m,n}$ and $B \\in M^{n,p}$, as follows (**see Exercise 2.3 of ref. [1]**):\n",
    "\n",
    "$$[AB]_{ij} = \\sum_{k=1}^n A_{ik}B_{kj} \\in M^{m,p},$$\n",
    "\n",
    "where $i = 1, \\cdots, m$ and $j=1,\\cdots, p$ are free suffixes, and $k=1,\\cdots,n$ is a dummy suffix.\n",
    "\n"
   ]
  },
  {
   "cell_type": "markdown",
   "metadata": {
    "id": "C3zD8dTx0EP_"
   },
   "source": [
    "## Inner Product\n",
    "\n",
    "A function named inner product is a positive semi-definite bilinear map defined as $\\langle \\cdot,\\cdot \\rangle : \\mathbb{V}^d$ x $\\mathbb{V}^d \\rightarrow \\mathbb{C}$. The map is voiced: \"a function $\\langle \\cdot,\\cdot \\rangle$, namely inner product, takes as input two vectors from a vector space and produces a scalar quantity as output\". Every inner product induces a norm by: \n",
    "\n",
    "$$||\\mathbb{V}||=\\sqrt{\\langle \\mathbb{V},\\mathbb{V}\\rangle}.$$ \n",
    "\n",
    "In this sense, every inner product space is a normed vector space. If the normed space is also complete (a Banach space), the inner product space is a Hilbert space.\n",
    "\n",
    "- In a finite dimensional Euclidean space, the inner product between coordinate vectors $\\vec{a}$ and $\\vec{b}$ is the dot product:\n",
    "\n",
    "$$ \\vec{a} \\cdot \\vec{b} = \\sum_{i, j=1}^d a_i b_j \\delta_{ij} = \\sum_{j=1}^d a_j b_j = a_1 b_1 + a_2b_2 + \\cdots + a_db_d .$$\n",
    "\n",
    "## Vector representation for the inner product on a Hilbert space $\\mathbb{C}^d$\n",
    "\n",
    "Let $|v\\rangle = \\sum_{i=1}^{\\dim \\mathbb{V}} v_i |i \\rangle$ and $|w\\rangle = \\sum_{j=1}^{\\dim \\mathbb{W}} w_i |j \\rangle$ be complex vectors with respect to some orthonormal basis on a Hilbert space $\\mathbb{C}^d$. Their inner product can be defined as:\n",
    "\n",
    "\\begin{eqnarray}\n",
    "\\langle v | w \\rangle \\equiv (|v\\rangle, |w\\rangle) &\\doteq& |v\\rangle^{\\dagger} |w\\rangle = \\left( \\sum_{i=1}^{\\dim \\mathbb{V}} v_i |i \\rangle \\right)^{\\dagger} \\left(\\sum_{j=1}^{\\dim \\mathbb{W}} w_j | j \\rangle\\right) = \\sum_{i=1}^{\\dim \\mathbb{V}} \\sum_{j=1}^{\\dim \\mathbb{W}}  v_i^*w_j \\langle i|j\\rangle = \\sum_{i,j=1}^d v_i^* w_j \\delta_{ij} \\\\\n",
    "&=&\n",
    "\\sum_{i=1}^d v_i^* w_i = v_1^* w_1 + v_2^* w_2 + \\cdots + v_d^* w_d \\\\\n",
    "&=& \n",
    "\\begin{pmatrix} v_1^* & v_2^* & \\cdots & v_d^* \\end{pmatrix}\n",
    "\\begin{pmatrix} w_1 \\\\ w_2 \\\\ \\vdots \\\\ w_d \\end{pmatrix}.\n",
    "\\end{eqnarray}\n",
    "\n",
    "**Note:** $\\mathbb{C}^d$ is used interchangeably to denote the field of complex scalars and a complex vector space.\n",
    "\n",
    "## Adjoint operators\n",
    "\n",
    "The inner product for the *adjoint* (a.k.a *Hermitian conjugate*) of a linear operator $A$ on a Hilbert space $\\mathbb{C}^d$ can be defined for all vectors $|v\\rangle, |w\\rangle \\in \\mathbb{C}^d$, as follows:\n",
    "\n",
    "$$\\langle v|A w\\rangle \\equiv (|v\\rangle, A|w\\rangle)=(A^{\\dagger}|v\\rangle,|w\\rangle).$$"
   ]
  },
  {
   "cell_type": "markdown",
   "metadata": {
    "id": "qGJ-v_PB0EP_"
   },
   "source": [
    "## Kronecker Product\n",
    "\n",
    "Suppose $M^{r,s}$ denote the space of retangular matrices of dimension $r$×$s$ over any field. Let $A\\in M^{m,n}$ and $B\\in M^{p,q}$ denote $m$x$n$ and $p$x$q$ retangular matrices over any field, respectively. In matrix representation, the abstract tensor product is the Kronecker product with the following block matrix representation:\n",
    "\n",
    "\\begin{eqnarray}\n",
    "(A \\otimes B) \\doteq \\begin{bmatrix} A_{11} B && \\cdots && A_{1n} B \\\\ \n",
    "\\vdots  &&\\ddots  && \\vdots \\\\ \n",
    "A_{m1} B && \\cdots && A_{mn} B\\end{bmatrix} \\in M^{mp, nq},\n",
    "\\end{eqnarray}\n",
    "\n",
    "with dimension $(mp)$x$(nq)$. \n",
    "\n",
    "## Kronecker product representation\n",
    "\n",
    "The Kronecker product between matrices $A \\in M^{m,n}, B \\in M^{p,q}$ can be represented as follows:\n",
    "\n",
    "$$ A \\otimes B \\doteq [A_{ij}B] \\in M^{mp, nq}.$$\n",
    "\n",
    "The Kronecker product between vectors $|a\\rangle, |b\\rangle \\in \\mathbb{V}^n$ can be represented as follows:\n",
    "\n",
    "$$|ab\\rangle \\equiv |a\\rangle \\otimes |b\\rangle \\doteq [a_j|b\\rangle],$$\n",
    "\n",
    "$$\\langle ab| \\equiv \\langle a| \\otimes \\langle b| \\doteq [a^*_j \\langle b|].$$"
   ]
  },
  {
   "cell_type": "markdown",
   "metadata": {
    "id": "jYUw2UzJ0EQB"
   },
   "source": [
    "# Identities \n"
   ]
  },
  {
   "cell_type": "markdown",
   "metadata": {
    "id": "7jEjUPkr0sNe"
   },
   "source": [
    "## Retangular matrices\n"
   ]
  },
  {
   "cell_type": "markdown",
   "metadata": {
    "id": "LmnXGz5H0EQB"
   },
   "source": [
    "\n",
    "Let $M^{m,n}$ denote the space of retangular matrices of dimension $m$×$n$ over the field $\\mathbb{C}^n$ of the complex numbers. And let $A\\in M^{p,q}$, $B\\in M^{q,r}$, $C\\in M^{q,r}$, and $D\\in M^{r,s}$ denote retangular matrices with dimensions such that matrix addition and multiplication are well defined. The following properties hold:\n",
    "\n",
    "- 1) The matrix product is left–distributive with respect to matrix addition: $$A(B+C) = AB+AC.$$\n",
    "\n",
    "- 2) The matrix product is right–distributive with respect to matrix addition: $$(B+C)D=BD+CD.$$\n",
    "\n",
    "- 3) Follows from (1) and (2). The matrix product is distributive with respect to matrix addition (for $A,B \\in M^{p,q}$ and $C,D \\in M^{q,r}$): $$(A+B)(C+D) = AC+AD+BC+BD.$$\n",
    "\n",
    "- 4) Anti-distributivity of a matrix product: $$(AB)^{\\dagger} = B^{\\dagger}A^{\\dagger}.$$\n",
    "- 5) Involution: $$(A^{\\dagger})^{\\dagger} = A .$$"
   ]
  },
  {
   "cell_type": "markdown",
   "metadata": {
    "id": "Mvlp2TNm0t6q"
   },
   "source": [
    "## Vectors\n"
   ]
  },
  {
   "cell_type": "markdown",
   "metadata": {
    "id": "ejVY07-Z0EQB"
   },
   "source": [
    "\n",
    "Let $\\mathbb{V}^n$ denote a vector space with dimension $\\dim(\\mathbb{V})=n$ over the scalar field $\\mathbb{C}^n$ of the complex numbers. For all matrices $A, \\in M^{m,n}$ and $\\forall |v\\rangle, |a\\rangle, |b\\rangle \\in \\mathbb{V}^n$, the following holds:\n",
    "\n",
    "- 1) Anti-distributivity: $$(A|v\\rangle)^{\\dagger}=\\langle v| A^{\\dagger}.$$\n",
    "\n",
    "- 2) Conjugate transpose (a.k.a Hermitian adjoint) of the outer product: $$(|a\\rangle\\langle b|)^{\\dagger}=|b\\rangle\\langle a|.$$\n",
    "\n",
    "**Note:** $\\mathbb{C}^n$ is used interchangeably to denote the field of complex scalars and a complex vector space. Here, I will stick with the $\\mathbb{V}^n$ notation for a vector space over any field."
   ]
  },
  {
   "cell_type": "markdown",
   "metadata": {
    "id": "TkBJL9UO0wcI"
   },
   "source": [
    "## Kronecker product between vectors\n"
   ]
  },
  {
   "cell_type": "markdown",
   "metadata": {
    "id": "39Tiasjt0EQC"
   },
   "source": [
    "\n",
    "$\\forall |a\\rangle, |b\\rangle, |c\\rangle, |d\\rangle \\in \\mathbb{V}^n$, the following identities hold (regardless of the scalar field):\n",
    "\n",
    "\\begin{eqnarray}\n",
    "(|a\\rangle + |b\\rangle)\\otimes(|c\\rangle + |d\\rangle)&=&|a\\rangle \\otimes |c\\rangle + |a\\rangle \\otimes |d\\rangle + |b\\rangle \\otimes |c\\rangle + |b\\rangle \\otimes |d\\rangle.\\\\\n",
    "|a\\rangle \\otimes \\langle b| &=& |a\\rangle \\langle b|.\\\\\n",
    "(|a\\rangle \\langle c|) \\otimes (|b\\rangle \\langle d|)  &=& \\big(|a\\rangle \\otimes |b\\rangle\\big)\\big(\\langle c| \\otimes \\langle d|\\big) \\equiv |ab\\rangle \\langle cd|.\n",
    "\\end{eqnarray}"
   ]
  },
  {
   "cell_type": "markdown",
   "metadata": {
    "id": "2dBxj8wQ0yJx"
   },
   "source": [
    "## Kronecker product between retangular matrices\n"
   ]
  },
  {
   "cell_type": "markdown",
   "metadata": {
    "id": "Bsi5fJ9k0EQC"
   },
   "source": [
    "\n",
    "Let $M^{i,j}$ denote the space of retangular matrices of dimension $i$×$j$ over any field (real or complex). Then, $\\forall A \\in M^{k,l}, B \\in M^{m,n}, C \\in M^{p,q}, D \\in M^{r,s}$, with dimensions such that matrix addition and multiplication are well defined, the following properties hold:\n",
    "\n",
    "- 1) The Kronecker product is left–distributive (for $m=p, n=q$): $$A \\otimes (B+C) = A\\otimes B+A\\otimes C.$$\n",
    "\n",
    "- 2) The Kronecker product is right–distributive (for $k=m, l=n$): $$(A+B)\\otimes C = A\\otimes C+B\\otimes C.$$\n",
    "\n",
    "- 3) Follows from (1) and (2). The Kronecker product is distributive: $$(A+B) \\otimes (C+D) = A\\otimes C+A\\otimes D+B\\otimes C+B\\otimes D.$$\n",
    "\n",
    "- 4) Mixed product property (for $l=p, n=r$): $$ (A\\otimes B)(C\\otimes D) = AC\\otimes BD.$$\n",
    "<br>\n",
    "\n",
    "- 5) Conjugate transpose (a.k.a Hermitian adjoint) of a Tensor product of unitary matrices: $$(A \\otimes B)^{\\dagger} = A^{\\dagger} \\otimes B^{\\dagger}.$$\n",
    "\n",
    "- 6) Tensor product of unitaries is unitary: $$(A\\otimes B)^{\\dagger}(A\\otimes B) = \\mathbb{I}.$$"
   ]
  },
  {
   "cell_type": "markdown",
   "metadata": {
    "id": "1q-jgMT10zxN"
   },
   "source": [
    "## Kronecker product with vectors and matrices\n"
   ]
  },
  {
   "cell_type": "markdown",
   "metadata": {
    "id": "Ra7iz4mB0EQC"
   },
   "source": [
    "\n",
    "For all matrices $A, B \\in M^{m,n}$ and $\\forall |v\\rangle, |w\\rangle \\in \\mathbb{V}^n$ such that matrix multiplication is well defined:\n",
    "\n",
    "\\begin{eqnarray}\n",
    "A |v\\rangle \\otimes B |w\\rangle = (A\\otimes B)(|v\\rangle \\otimes |w\\rangle) \\equiv (A\\otimes B)|vw\\rangle.\n",
    "\\end{eqnarray}\n",
    "\n",
    "For all matrices $A, B \\in M^{m,m}$ and $\\forall |v\\rangle, |w\\rangle \\in \\mathbb{V}^m$ such that matrix multiplication is well defined:\n",
    "\n",
    "$$(|v\\rangle\\langle v| \\otimes A+|w\\rangle\\langle w| \\otimes B)(|i\\rangle \\otimes |j\\rangle) = |v\\rangle\\langle v|i\\rangle \\otimes A |j\\rangle + |w\\rangle\\langle w|i\\rangle \\otimes B |j\\rangle.$$\n",
    "\n",
    "This last identity is useful for computing the action of a controlled gate with one control qubit and one target qubit. Recall that $|\\psi\\rangle\\langle\\psi|$ is an outer product, i.e, has dimension of a matrix."
   ]
  },
  {
   "cell_type": "markdown",
   "metadata": {
    "id": "yMREF3-w01OP"
   },
   "source": [
    "## Commutator\n"
   ]
  },
  {
   "cell_type": "markdown",
   "metadata": {
    "id": "NHDqmXpN0EQD"
   },
   "source": [
    "\n",
    "Let $A \\in M^{m,m}$ and $B \\in M^{n,n}$ represent complex square matrices. Let $\\{\\sigma_i\\}_{i=1}^3$ be the set of Pauli matrices.\n",
    "\n",
    "$$[A\\otimes \\mathbb{I}_n, \\mathbb{I}_m \\otimes B] = \\mathbb{O}.$$\n",
    "\n",
    "$$[\\sigma_j \\otimes \\sigma_j, \\sigma_k \\otimes \\sigma_k] = \\mathbb{O}.$$\n",
    "\n",
    "$$[\\sigma_j \\otimes \\sigma_j \\otimes \\sigma_0, \\sigma_0 \\otimes \\sigma_k \\otimes \\sigma_k] \\ne \\mathbb{O}.$$"
   ]
  },
  {
   "cell_type": "markdown",
   "metadata": {
    "id": "0zlNNouH02ub"
   },
   "source": [
    "## Matrix exponential\n"
   ]
  },
  {
   "cell_type": "markdown",
   "metadata": {
    "id": "ixn2V-Hi0EQD"
   },
   "source": [
    "\n",
    "Let $A \\in M^{m,m}$ and $B \\in M^{n,n}$ represent complex square matrices. Let $\\theta$, $t_1$ and $t_2$ be scalars, where $\\theta$ is a real-valued number.\n",
    "\n",
    "- 1) For any involutory matrix $A \\in M^{m,m}$: $$e^{\\pm i\\theta A} = \\cos(\\theta) \\mathbb{I} \\pm i \\sin(\\theta)A.$$\n",
    "\n",
    "- 2) Commutativity of matrix exponentials: $$e^{(At_1+Bt_2)}=e^{At_1}e^{Bt_2} = e^{Bt_2}e^{At_1} \\text{ iff } [A,B] = \\mathbb{O}.$$\n",
    "\n",
    "- 3) Exponential of kronecker products: $$e^{A\\otimes \\mathbb{I}_m}=e^A\\otimes \\mathbb{I}_m.$$\n",
    "\n",
    "- 4) Kronecker product between matrix exponentials: $$e^A \\otimes e^B=e^{A \\otimes \\mathbb{I}_n} e^{\\mathbb{I}_m \\otimes B}=e^{A \\otimes \\mathbb{I}_n + \\mathbb{I}_m \\otimes B}.$$\n",
    "\n",
    "Recall that, If $A$ is an involutory matrix:\n",
    "\\begin{eqnarray}\n",
    "A^n=\n",
    "\\begin{cases}\n",
    "\\mathbb{I}, &\\text{if } n \\text{ is an even integer.}\\\\\n",
    "A, &\\text{if } n \\text{ is an odd integer.}\n",
    "\\end{cases}\n",
    "\\end{eqnarray}"
   ]
  },
  {
   "cell_type": "markdown",
   "metadata": {
    "id": "3E08U8mY0jqk"
   },
   "source": [
    "## Rotations"
   ]
  },
  {
   "cell_type": "markdown",
   "metadata": {
    "id": "oeIOccji0ZFC"
   },
   "source": [
    "Consider the following identity for a rotation matrix $R_{\\hat{n}}(\\theta)$:\n",
    "\n",
    "$$ R_{\\hat{n}}(\\theta) \\equiv e^{-i(\\hat{n} \\cdot \\vec{\\sigma})\\theta /2}= \\cos(\\theta/2) I - i \\sin(\\theta/2)(\\hat{n}\\cdot \\vec{\\sigma}).$$\n",
    "\n",
    "\n",
    "See the proof for `Matrix exponential` in section 7.1.\n",
    "\n",
    "Where:\n",
    "- $\\hat{n}=n_x\\hat{e}_x, n_y\\hat{e}_y, n_z\\hat{e}_z$ is a 3-dimensional unit vector.\n",
    "- $\\hat{e}_i$ denotes the right-handed orthonormal vector (a.k.a versor) satisfying $\\hat{e}_i\\cdot\\hat{e}_j=\\delta_{ij}$.\n",
    "- $\\vec{\\sigma}=\\hat{\\sigma_1} \\hat{e}_x + \\hat{\\sigma_2} \\hat{e}_y + \\hat{\\sigma_3} \\hat{e}_z$ is the three-component Pauli vector with $\\hat{\\sigma}_j|_{j=1}^3 \\in \\{X, Y, Z\\}$.\n",
    "- $X$, $Y$, and $Z$ are the 2x2 Pauli matrices (Hermitian, involutory and unitary matrices).\n",
    "- $\\hat{n}\\cdot \\vec{\\sigma}=n_xX+n_yY+n_zZ$.\n",
    "- $i^2=-1$ is the imaginary unit.\n",
    "\n",
    "The following identities hold:\n",
    "\n",
    "- 1) Product of two rotations: $$R_{\\hat{n}}(\\theta_2)R_{\\hat{n}}(\\theta_1)=R_{\\hat{n}}(\\theta_1+\\theta_2).$$\n",
    "\n",
    "- 2) Tensor product of rotations: $$R_{\\hat{n}_j}(\\theta_1) \\otimes R_{\\hat{n}_k}(\\theta_2)= e^{-\\frac{i}{2}((\\theta_1\\hat{\\sigma}_j) \\otimes \\mathbb{I}+\\mathbb{I} \\otimes (\\theta_2\\hat{\\sigma}_k))}.$$"
   ]
  },
  {
   "cell_type": "markdown",
   "metadata": {
    "id": "t3oYZ1YydwtD"
   },
   "source": [
    "# Proving and Verifying Identities"
   ]
  },
  {
   "cell_type": "markdown",
   "metadata": {
    "id": "G11Tdyb5rzTo"
   },
   "source": [
    "## $A(B+C) = AB+AC$"
   ]
  },
  {
   "cell_type": "markdown",
   "metadata": {
    "id": "8S3wOZokr6PA"
   },
   "source": [
    "Let $A \\in M^{m,n}$, $B \\in M^{n,p}$, and $C \\in M^{n,p}$ be matrices on the space of retangular matrices. Using the matrix representation for operator products, given by\n",
    "\n",
    "$$C_{ij}=[AB']_{ij} = \\sum_{k=1}^n A_{ik}B'_{kj} \\in M^{m,p},$$\n",
    "\n",
    "\n",
    "the $(ij)$-th entry of the matrix representation for the linear transformation $A(B+C)$ writes:\n",
    "\n",
    "\\begin{align}\n",
    "(A(B+C))_{ij}&=\\sum_{k=1}^n A_{ik}(B+C)_{kj} \\in M^{m,p} = \\sum_{k=1}^n A_{ik}(B_{kj}+C_{kj}) = \\sum_{k=1}^n \\big(A_{ik}B_{kj}+A_{ik}C_{kj}\\big) \\\\\n",
    "&= \\sum_{k=1}^n A_{ik}B_{kj}+\\sum_{k=1}^n A_{ik}C_{kj}= (AB)_{ij}(AC)_{ij}.\n",
    "\\end{align}\n",
    "\n",
    "Q.E.D."
   ]
  },
  {
   "cell_type": "markdown",
   "metadata": {
    "id": "dlxWB10nN7_O"
   },
   "source": [
    "## $(AB)^{\\dagger} = B^{\\dagger}A^{\\dagger}$"
   ]
  },
  {
   "cell_type": "markdown",
   "metadata": {
    "id": "UN4S45UFUXGK"
   },
   "source": [
    "Using the matrix representation for operator products, let us denote the $(ij)$-th entry of the matrix representation for the linear transformation AB between matrices $A \\in M^{m,n}$ and  $B \\in M^{n,p}$, as follows:\n",
    "\n",
    "$$C_{ij}=[AB]_{ij} = \\sum_{k=1}^n A_{ik}B_{kj} \\in M^{m,p}.$$\n",
    "\n"
   ]
  },
  {
   "cell_type": "markdown",
   "metadata": {
    "id": "z3FdGtKXOGXa"
   },
   "source": [
    "One then has:\n",
    "\n",
    "\\begin{eqnarray}\n",
    "(C_{ij})^{\\dagger}&=&((C_{ij})^T)^*=(C_{ji})^*=\\Bigg([AB]_{ji}\\Bigg)^* = \\Bigg(\\sum_{k=1}^n A_{jk}B_{ki}\\Bigg)^* = \\sum_{k=1}^n A_{jk}^*B_{ki}^* = \\sum_{k=1}^n B_{ki}^*A_{jk}^*=\\sum_{k=1}^n {(B^T)}^*_{ik}{(A^T)}^*_{kj}\\\\\n",
    "&=&\\sum_{k=1}^n B^{\\dagger}_{ik}A^{\\dagger}_{kj}=[B^{\\dagger}A^{\\dagger}]_{ij}.\n",
    "\\end{eqnarray}\n",
    "\n",
    "Q.E.D."
   ]
  },
  {
   "cell_type": "markdown",
   "metadata": {
    "id": "n3q7o84rp5kk"
   },
   "source": [
    "**Alternative:**\n",
    "\n",
    "Consider the inner product for the *adjoint* of a linear operator $A$ on a Hilbert space $\\mathbb{C}^d$, stated as\n",
    "\n",
    "$$\\langle v|C w\\rangle \\equiv (|v\\rangle, C|w\\rangle)=(C^{\\dagger}|v\\rangle,|w\\rangle).$$\n",
    "\n",
    "one then has:\n",
    "\n",
    "$$ ((AB)^{\\dagger}|v\\rangle, |w\\rangle)=(|v\\rangle, (AB)|w\\rangle) = (|v\\rangle, A(B|w\\rangle))=(A^{\\dagger}|v\\rangle, B|w\\rangle)=(B^{\\dagger}A^{\\dagger}|v\\rangle, |w\\rangle).$$\n",
    "\n",
    "Noting the equality between the first and the last terms:\n",
    "\n",
    "$$((AB)^{\\dagger}|v\\rangle, |w\\rangle)=(B^{\\dagger}A^{\\dagger}|v\\rangle, |w\\rangle)\\implies (AB)^{\\dagger}=B^{\\dagger}A^{\\dagger}.$$\n",
    "\n",
    "Q.E.D."
   ]
  },
  {
   "cell_type": "markdown",
   "metadata": {
    "id": "8JRVm3-Jzhth"
   },
   "source": [
    "## $(A^{\\dagger})^{\\dagger}=A$"
   ]
  },
  {
   "cell_type": "markdown",
   "metadata": {
    "id": "lop9SPL_X8WC"
   },
   "source": [
    "Consider the inner product for the *adjoint* of a linear operator $A$ on a Hilbert space $\\mathbb{C}^d$, stated as\n",
    "\n",
    "$$\\langle v|A w\\rangle \\equiv (|v\\rangle, A|w\\rangle)=(A^{\\dagger}|v\\rangle,|w\\rangle).$$\n",
    "\n",
    "And recall the conjugate symmetry property of the inner product, stated as\n",
    "\n",
    "$$\\langle v|w\\rangle = (\\langle w|v\\rangle)^* \\equiv (|v\\rangle,|w\\rangle)=(|w\\rangle,|v\\rangle)^*.$$ \n",
    "\n",
    "One then has:\n",
    "\n",
    "$$(|v\\rangle, A|w\\rangle)^*=(A|w\\rangle,|v\\rangle)=(A^{\\dagger}|v\\rangle, |w\\rangle)^*=(|w\\rangle, A^{\\dagger}|v\\rangle)=((A^{\\dagger})^{\\dagger}|w\\rangle,|v\\rangle),$$\n",
    "\n",
    "where in the last term, the inner product definition was applied with the substitution $A\\rightarrow A^{\\dagger}$. \n",
    "\n",
    "Noting the equality between the second and the last terms:\n",
    "\n",
    "$$(A|w\\rangle,|v\\rangle)=((A^{\\dagger})^{\\dagger}|w\\rangle,|v\\rangle)\\implies (A^{\\dagger})^{\\dagger}=A.$$\n",
    "\n",
    "\n",
    "Q.E.D."
   ]
  },
  {
   "cell_type": "markdown",
   "metadata": {
    "id": "HZKli9mxzxGi"
   },
   "source": [
    "**Alternative:**\n",
    "\n",
    "Another way to obtain the same result is by using the property (that will be verified later) \n",
    "\n",
    "$$(A|v\\rangle)^{\\dagger} = (|v\\rangle)^{\\dagger}A^{\\dagger} = \\langle v|A^{\\dagger},$$ \n",
    "\n",
    "such that\n",
    "\n",
    "\\begin{eqnarray}\n",
    "(|v\\rangle, A|w\\rangle)&=&(A^{\\dagger}|v\\rangle,|w\\rangle) = (A^{\\dagger}|v\\rangle)^{\\dagger}|w\\rangle = |v\\rangle^{\\dagger}(A^{\\dagger})^{\\dagger}|w\\rangle = \\langle v|(A^{\\dagger})^{\\dagger}|w\\rangle = (|v\\rangle,(A^{\\dagger})^{\\dagger}|w\\rangle) \\\\\n",
    "&\\implies&  (A^\\dagger)^\\dagger=A.\n",
    "\\end{eqnarray}\n",
    "\n",
    "Q.E.D."
   ]
  },
  {
   "cell_type": "markdown",
   "metadata": {
    "id": "VOJRQ1w_dwrM"
   },
   "source": [
    "## $(A|v\\rangle)^{\\dagger} = |v\\rangle^{\\dagger}A^{\\dagger} = \\langle v| A^{\\dagger}$"
   ]
  },
  {
   "cell_type": "markdown",
   "metadata": {
    "id": "6LwKFvb3MoCW"
   },
   "source": [
    "Consider the inner product for the *adjoint* of a linear operator $A$ on a Hilbert space $\\mathbb{C}^d$, stated as\n",
    "\n",
    "$$\\langle w|A v\\rangle \\equiv (|w\\rangle, A|v\\rangle)=(A^{\\dagger}|w\\rangle,|v\\rangle).$$\n",
    "\n",
    "One then has\n",
    "\n",
    "\\begin{eqnarray}\n",
    "(|w\\rangle, A|v\\rangle)^*=(A|v\\rangle,|w\\rangle)=(A|v\\rangle)^{\\dagger}|w\\rangle=(A^{\\dagger}|w\\rangle,|v\\rangle)^*=(|v\\rangle,A^{\\dagger}|w\\rangle)=|v\\rangle^{\\dagger}A^{\\dagger}|w\\rangle.\n",
    "\\end{eqnarray}\n",
    "\n",
    "Noting the equality between the third and the last terms:\n",
    "\n",
    "$$(A|v\\rangle)^{\\dagger}|w\\rangle = |v\\rangle^{\\dagger}A^{\\dagger}|w\\rangle \\implies (A|v\\rangle)^{\\dagger}=|v\\rangle^{\\dagger} A^{\\dagger}.$$\n",
    "Q.E.D."
   ]
  },
  {
   "cell_type": "markdown",
   "metadata": {
    "id": "5j32HyrMrOaE"
   },
   "source": [
    "## $(|a\\rangle + |b\\rangle)\\otimes(|c\\rangle + |d\\rangle)=|a\\rangle \\otimes |c\\rangle + |a\\rangle \\otimes |d\\rangle + |b\\rangle \\otimes |c\\rangle + |b\\rangle \\otimes |d\\rangle$\n",
    "\n",
    "**Distributive property.**"
   ]
  },
  {
   "cell_type": "markdown",
   "metadata": {
    "id": "LF-llFESVAoj"
   },
   "source": [
    "**Index notation approach:**\n"
   ]
  },
  {
   "cell_type": "markdown",
   "metadata": {
    "id": "0gAf0z-mrPYo"
   },
   "source": [
    "Let's first compute the right-distributive property:\n",
    "\n",
    "\\begin{eqnarray}\n",
    "(|a\\rangle+|b\\rangle)\\otimes |c\\rangle &=& \\Bigg([a_{j}] + [b_{j}] \\Bigg) \\otimes |c\\rangle = [a_j + b_j] \\otimes |c\\rangle = [(a_j + b_j) |c\\rangle] = [a_j |c\\rangle + b_j |c\\rangle] = [a_j |c\\rangle] + [b_j |c\\rangle] \\\\\n",
    "&=&\n",
    "|a\\rangle \\otimes |c\\rangle+ |b\\rangle \\otimes |c\\rangle.\n",
    "\\end{eqnarray}\n",
    "\n",
    "Let's now compute the left-distributive property:\n",
    "\n",
    "\\begin{eqnarray}\n",
    "|a\\rangle \\otimes (|b\\rangle+|c\\rangle) = [a_j (|b\\rangle+|c\\rangle)] = [a_j |b\\rangle  + a_j |c\\rangle] = [a_j |b\\rangle] + [a_j |c\\rangle] = |a\\rangle \\otimes |b\\rangle + |a\\rangle \\otimes |c\\rangle.\n",
    "\\end{eqnarray}\n",
    "\n",
    "Using both properties, one finally gets:\n",
    "\n",
    "\\begin{eqnarray}\n",
    "(|a\\rangle+|b\\rangle)\\otimes (|c\\rangle+|d\\rangle) &=& |a\\rangle \\otimes (|c\\rangle+|d\\rangle) + |b\\rangle \\otimes (|c\\rangle+|d\\rangle) \\\\\n",
    "&=& |a\\rangle \\otimes |c\\rangle + |a\\rangle \\otimes |d\\rangle + |b\\rangle \\otimes |c\\rangle + |b\\rangle \\otimes |d\\rangle.\n",
    "\\end{eqnarray}\n",
    "\n",
    "Q.E.D."
   ]
  },
  {
   "cell_type": "markdown",
   "metadata": {
    "id": "8reczGGXXwbq"
   },
   "source": [
    "## $|a\\rangle \\otimes \\langle b| = |a\\rangle \\langle b|$\n"
   ]
  },
  {
   "cell_type": "markdown",
   "metadata": {
    "id": "r-5OZGtv_Doh"
   },
   "source": [
    "**Index notation approach:**\n"
   ]
  },
  {
   "cell_type": "markdown",
   "metadata": {
    "id": "TuLsaq4VXxAe"
   },
   "source": [
    "$\\forall \\hspace{1mm} |a\\rangle, |b\\rangle \\in \\mathbb{C}^n$:\n",
    "\n",
    "$$|a\\rangle \\otimes \\langle b| = [a_i \\langle b|] = [a_i b^*_j] = |a\\rangle \\langle b|,$$\n",
    "\n",
    "for $i, j=1, \\cdots, n$.\n",
    "\n",
    "Q.E.D."
   ]
  },
  {
   "cell_type": "markdown",
   "metadata": {
    "id": "YhEo4jrY_ERH"
   },
   "source": [
    "**Matrix approach:**\n"
   ]
  },
  {
   "cell_type": "markdown",
   "metadata": {
    "id": "wCpskeqU_GNF"
   },
   "source": [
    "\\begin{eqnarray}\n",
    "|a\\rangle \\otimes \\langle b| &=& \n",
    "\\begin{bmatrix} \n",
    "a_1 \\\\ \n",
    "\\vdots \\\\\n",
    "a_n\n",
    "\\end{bmatrix}\n",
    "\\otimes\n",
    "\\begin{bmatrix} \n",
    "b^*_1 &\\cdots& b^*_n\n",
    "\\end{bmatrix} \n",
    "=\n",
    "\\begin{bmatrix} \n",
    "a_1 [b^*_1 &\\cdots& b^*_n] \\\\\n",
    "&\\vdots& \\\\\n",
    "a_n [b^*_1 &\\cdots& b^*_n]\n",
    "\\end{bmatrix}\n",
    "=\n",
    "\\begin{bmatrix} \n",
    "a_1b^*_1 & a_1b^*_2 &\\cdots& a_1b^*_n \\\\\n",
    "\\vdots & \\vdots & \\cdots & \\vdots \\\\\n",
    "a_nb^*_1 & a_nb^*_2 & \\cdots & a_nb^*_n\n",
    "\\end{bmatrix}.\n",
    "\\\\\n",
    "|a\\rangle \\langle b| &=& \n",
    "\\begin{bmatrix} \n",
    "a_1 \\\\ \n",
    "\\vdots \\\\\n",
    "a_n\n",
    "\\end{bmatrix}\n",
    "\\begin{bmatrix} \n",
    "b^*_1 &\\cdots& b^*_n\n",
    "\\end{bmatrix} \n",
    "=\n",
    "\\begin{bmatrix} \n",
    "a_1b^*_1 & a_1b^*_2 &\\cdots& a_1b^*_n \\\\\n",
    "\\vdots & \\vdots & \\cdots & \\vdots \\\\\n",
    "a_nb^*_1 & a_nb^*_2 & \\cdots & a_nb^*_n\n",
    "\\end{bmatrix}.\n",
    "\\\\ &\\implies& |a\\rangle \\otimes \\langle b| = |a\\rangle \\langle b|.\n",
    "\\end{eqnarray}\n",
    "\n",
    "Q.E.D."
   ]
  },
  {
   "cell_type": "markdown",
   "metadata": {
    "id": "b7fab640-60fe-4291-ac17-51c11c156a5f"
   },
   "source": [
    "## $(|a\\rangle \\langle c|) \\otimes (|b\\rangle \\langle d|)  = \\big(|a\\rangle \\otimes |b\\rangle\\big)\\big(\\langle c| \\otimes \\langle d|\\big) \\equiv |ab\\rangle \\langle cd|$"
   ]
  },
  {
   "cell_type": "markdown",
   "metadata": {
    "id": "-p8sxmhg5GAR"
   },
   "source": [
    "Note: the verification will be carried out for state vectors in the two-dimensional Hilbert space, but it can be extended to a space of $n$-dimensions."
   ]
  },
  {
   "cell_type": "code",
   "execution_count": 28,
   "metadata": {
    "colab": {
     "base_uri": "https://localhost:8080/",
     "height": 235
    },
    "executionInfo": {
     "elapsed": 16,
     "status": "error",
     "timestamp": 1683810796448,
     "user": {
      "displayName": "Lucas Camponogara Viera",
      "userId": "14322290658374940800"
     },
     "user_tz": 180
    },
    "id": "SgS8YMBG5hxk",
    "outputId": "b54d9cd2-99cb-4435-de8a-6ad2e0bafb1d"
   },
   "outputs": [
    {
     "data": {
      "text/plain": [
       "((2, 1), (2, 1), (1, 2), (1, 2))"
      ]
     },
     "execution_count": 28,
     "metadata": {},
     "output_type": "execute_result"
    }
   ],
   "source": [
    "'''Defining 2D state vectors with SymPy. Recall that for the kronecker product, the shape of the matrices do matter.'''\n",
    "\n",
    "a1,a2,b1,b2,c1,c2,d1,d2=sym.symbols('a1,a2,b1,b2,c1,c2,d1,d2') # Unpacking\n",
    "\n",
    "# 2-D column-like arrays representing ket vectors:\n",
    "a=sym.Matrix([[a1,a2]]).T  \n",
    "b=sym.Matrix([[b1,b2]]).T \n",
    "\n",
    "# 2-D row-like arrays representing bra vectors:\n",
    "c=sym.Matrix([[c1,c2]])  \n",
    "d=sym.Matrix([[d1,d2]]) \n",
    "\n",
    "# Reading dimensions:\n",
    "a.shape, b.shape, c.shape, d.shape"
   ]
  },
  {
   "cell_type": "markdown",
   "metadata": {
    "id": "vyWqJ6eF4-z7"
   },
   "source": [
    "### **Matrix approach:**\n",
    "\n"
   ]
  },
  {
   "cell_type": "markdown",
   "metadata": {
    "id": "qymBc1A321dP"
   },
   "source": [
    "**Left hand side:**\n",
    "\n",
    "For any vectors $|a\\rangle$, $|b\\rangle \\in \\mathbb{C}^2$:\n",
    "\n",
    "\\begin{eqnarray}\n",
    "(|a\\rangle \\langle c|) \\otimes (|b\\rangle \\langle d|) &=& \n",
    "\\Bigg(\n",
    "\\begin{bmatrix} \n",
    "a_1 \\\\ \n",
    "a_2\n",
    "\\end{bmatrix}\n",
    "\\begin{bmatrix} \n",
    "c_1 & c_2\n",
    "\\end{bmatrix}\n",
    "\\Bigg)\n",
    "\\otimes\n",
    "\\Bigg(\n",
    "\\begin{bmatrix} \n",
    "b_1 \\\\ \n",
    "b_2\n",
    "\\end{bmatrix}\n",
    "\\begin{bmatrix} \n",
    "d_1 & d_2\n",
    "\\end{bmatrix} \\Bigg) \\\\\n",
    "&=&\n",
    "\\begin{bmatrix} \n",
    "a1c1 & a1c2 \\\\\n",
    "a2c1 & a2c2\n",
    "\\end{bmatrix}\n",
    "\\otimes\n",
    "\\begin{bmatrix} \n",
    "b1d1 & b1d2 \\\\\n",
    "b2d1 & b2d2\n",
    "\\end{bmatrix} \\\\\n",
    "&=& \n",
    "\\begin{bmatrix} \n",
    "a1c1\\begin{bmatrix} \n",
    "b1d1 & b1d2 \\\\\n",
    "b2d1 & b2d2\n",
    "\\end{bmatrix}  & a1c2\\begin{bmatrix} \n",
    "b1d1 & b1d2 \\\\\n",
    "b2d1 & b2d2\n",
    "\\end{bmatrix}  \\\\\n",
    "a2c1\\begin{bmatrix} \n",
    "b1d1 & b1d2 \\\\\n",
    "b2d1 & b2d2\n",
    "\\end{bmatrix}  & a2c2\\begin{bmatrix} \n",
    "b1d1 & b1d2 \\\\\n",
    "b2d1 & b2d2\n",
    "\\end{bmatrix} \n",
    "\\end{bmatrix} \\\\\n",
    "&=& \n",
    "\\begin{bmatrix} \n",
    "a1c1 b1d1 & a1c1 b1d2 & a1c2 b1d1 & a1c2 b1d2\\\\\n",
    "a1c1 b2d1 & a1c1 b2d2 & a1c2 b2d1 & a1c2 b2d2\\\\\n",
    "a2c1 b1d1 & a2c1 b1d2 & a2c2 b1d1 & a2c2 b1d2\\\\\n",
    "a2c1 b2d1 & a2c1 b2d2 & a2c2 b2d1 & a2c2 b2d2\\\\\n",
    "\\end{bmatrix} \\\\\n",
    "&=&\n",
    "\\begin{bmatrix} \n",
    "a1b1c1d1 & a1b1c1d2 & a1b1c2d1 & a1b1c2d2 \\\\\n",
    "a1b2c1d1 & a1b2c1d2 & a1b2c2d1 & a1b2c2d2 \\\\\n",
    "a2b1c1d1 & a2b1c1d2 & a2b1c2d1 & a2b1c2d2 \\\\\n",
    "a2b2c1d1 & a2b2c1d2 & a2b2c2d1 & a2b2c2d2 \\\\\n",
    "\\end{bmatrix}.\n",
    "\\end{eqnarray}\n",
    "\n",
    "Q.E.D."
   ]
  },
  {
   "cell_type": "markdown",
   "metadata": {
    "id": "kSgv4GUZ8Y7J"
   },
   "source": [
    "**Right hand side:**\n",
    "\n",
    "For any vectors $|a\\rangle$, $|b\\rangle \\in \\mathbb{C}^2$:\n",
    "\n",
    "\\begin{eqnarray}\n",
    "\\big(|a\\rangle \\otimes |b\\rangle\\big)\\big(\\langle c| \\otimes \\langle d|\\big) &=&\n",
    "\\Bigg(\n",
    "\\begin{bmatrix} \n",
    "a_1 \\\\ \n",
    "a_2\n",
    "\\end{bmatrix}\n",
    "\\otimes\n",
    "\\begin{bmatrix} \n",
    "b_1 \\\\ \n",
    "b_2\n",
    "\\end{bmatrix}\n",
    "\\Bigg)\n",
    "\\Bigg(\n",
    "\\begin{bmatrix} \n",
    "c_1 & c_2\n",
    "\\end{bmatrix}\n",
    "\\otimes\n",
    "\\begin{bmatrix} \n",
    "d_1 & d_2\n",
    "\\end{bmatrix} \\Bigg) \\\\\n",
    "&=&\n",
    "\\begin{bmatrix} \n",
    "a_1 b_1 \\\\ \n",
    "a_1 b_2\\\\\n",
    "a_2 b_1 \\\\\n",
    "a_2 b_2\n",
    "\\end{bmatrix}\n",
    "\\begin{bmatrix} \n",
    "c_1d_1 & c_1d_2 & c_2d_1 & c_2d_2\n",
    "\\end{bmatrix} \\\\\n",
    "&=& \n",
    "\\begin{bmatrix} \n",
    "a1b1c1d1 & a1b1c1d2 & a1b1c2d1 & a1b1c2d2 \\\\\n",
    "a1b2c1d1 & a1b2c1d2 & a1b2c2d1 & a1b2c2d2 \\\\\n",
    "a2b1c1d1 & a2b1c1d2 & a2b1c2d1 & a2b1c2d2 \\\\\n",
    "a2b2c1d1 & a2b2c1d2 & a2b2c2d1 & a2b2c2d2 \\\\\n",
    "\\end{bmatrix}.\n",
    "\\end{eqnarray}"
   ]
  },
  {
   "cell_type": "markdown",
   "metadata": {
    "id": "QSZIi6ATn4AX"
   },
   "source": [
    "### **Verifying with SymPy:**"
   ]
  },
  {
   "cell_type": "code",
   "execution_count": 29,
   "metadata": {
    "executionInfo": {
     "elapsed": 14,
     "status": "aborted",
     "timestamp": 1683810796449,
     "user": {
      "displayName": "Lucas Camponogara Viera",
      "userId": "14322290658374940800"
     },
     "user_tz": 180
    },
    "id": "p2BO8vOLzVuw"
   },
   "outputs": [
    {
     "data": {
      "text/plain": [
       "True"
      ]
     },
     "execution_count": 29,
     "metadata": {},
     "output_type": "execute_result"
    }
   ],
   "source": [
    "# Using SymPy's TensorProduct:\n",
    "\n",
    "TensorProduct(a*c,b*d) == TensorProduct(a,b)*TensorProduct(c,d)"
   ]
  },
  {
   "cell_type": "markdown",
   "metadata": {
    "id": "HvWn175P0bXC"
   },
   "source": [
    "### **Verifying with NumPy:**"
   ]
  },
  {
   "cell_type": "code",
   "execution_count": 30,
   "metadata": {
    "executionInfo": {
     "elapsed": 15,
     "status": "aborted",
     "timestamp": 1683810796450,
     "user": {
      "displayName": "Lucas Camponogara Viera",
      "userId": "14322290658374940800"
     },
     "user_tz": 180
    },
    "id": "e3e9db92-6676-43d4-b600-4a6676ff8b56"
   },
   "outputs": [
    {
     "data": {
      "text/plain": [
       "True"
      ]
     },
     "execution_count": 30,
     "metadata": {},
     "output_type": "execute_result"
    }
   ],
   "source": [
    "# Using outer product:\n",
    "\n",
    "(np.kron(np.outer(a,c),np.outer(b,d)) == (np.kron(a,b))@(np.kron(c,d))).all() "
   ]
  },
  {
   "cell_type": "code",
   "execution_count": 36,
   "metadata": {
    "executionInfo": {
     "elapsed": 15,
     "status": "aborted",
     "timestamp": 1683810796451,
     "user": {
      "displayName": "Lucas Camponogara Viera",
      "userId": "14322290658374940800"
     },
     "user_tz": 180
    },
    "id": "69e74c74-c08f-4cb3-b419-8f0a5b17db2e"
   },
   "outputs": [
    {
     "data": {
      "text/plain": [
       "True"
      ]
     },
     "execution_count": 36,
     "metadata": {},
     "output_type": "execute_result"
    }
   ],
   "source": [
    "# Using NumPy's '@' operator:\n",
    "\n",
    "(np.kron(a@c, b@d) == (np.kron(a,b))@(np.kron(c,d))).all() "
   ]
  },
  {
   "cell_type": "code",
   "execution_count": 37,
   "metadata": {
    "executionInfo": {
     "elapsed": 15,
     "status": "aborted",
     "timestamp": 1683810796451,
     "user": {
      "displayName": "Lucas Camponogara Viera",
      "userId": "14322290658374940800"
     },
     "user_tz": 180
    },
    "id": "a3412b1d-521e-4790-9fdc-f1929510d3f9"
   },
   "outputs": [
    {
     "data": {
      "text/plain": [
       "array([[a1*b1*c1*d1, a1*b1*c1*d2, a1*b1*c2*d1, a1*b1*c2*d2],\n",
       "       [a1*b2*c1*d1, a1*b2*c1*d2, a1*b2*c2*d1, a1*b2*c2*d2],\n",
       "       [a2*b1*c1*d1, a2*b1*c1*d2, a2*b1*c2*d1, a2*b1*c2*d2],\n",
       "       [a2*b2*c1*d1, a2*b2*c1*d2, a2*b2*c2*d1, a2*b2*c2*d2]], dtype=object)"
      ]
     },
     "execution_count": 37,
     "metadata": {},
     "output_type": "execute_result"
    }
   ],
   "source": [
    "# Visualizing the left side using outer product:\n",
    "\n",
    "np.kron(np.outer(a,c),np.outer(b,d))"
   ]
  },
  {
   "cell_type": "code",
   "execution_count": 38,
   "metadata": {
    "executionInfo": {
     "elapsed": 16,
     "status": "aborted",
     "timestamp": 1683810796452,
     "user": {
      "displayName": "Lucas Camponogara Viera",
      "userId": "14322290658374940800"
     },
     "user_tz": 180
    },
    "id": "357f39c9-7e27-4361-ae0e-f534602ef056"
   },
   "outputs": [
    {
     "data": {
      "text/plain": [
       "array([[a1*b1*c1*d1, a1*b1*c1*d2, a1*b1*c2*d1, a1*b1*c2*d2],\n",
       "       [a1*b2*c1*d1, a1*b2*c1*d2, a1*b2*c2*d1, a1*b2*c2*d2],\n",
       "       [a2*b1*c1*d1, a2*b1*c1*d2, a2*b1*c2*d1, a2*b1*c2*d2],\n",
       "       [a2*b2*c1*d1, a2*b2*c1*d2, a2*b2*c2*d1, a2*b2*c2*d2]], dtype=object)"
      ]
     },
     "execution_count": 38,
     "metadata": {},
     "output_type": "execute_result"
    }
   ],
   "source": [
    "# Visualizing the left side (using NumPy @ operator):\n",
    "\n",
    "np.kron(a@c, b@d)"
   ]
  },
  {
   "cell_type": "code",
   "execution_count": 39,
   "metadata": {
    "executionInfo": {
     "elapsed": 17,
     "status": "aborted",
     "timestamp": 1683810796453,
     "user": {
      "displayName": "Lucas Camponogara Viera",
      "userId": "14322290658374940800"
     },
     "user_tz": 180
    },
    "id": "f5c08a0f-7932-498b-bf03-15b360a2a666"
   },
   "outputs": [
    {
     "data": {
      "text/plain": [
       "array([[a1*b1*c1*d1, a1*b1*c1*d2, a1*b1*c2*d1, a1*b1*c2*d2],\n",
       "       [a1*b2*c1*d1, a1*b2*c1*d2, a1*b2*c2*d1, a1*b2*c2*d2],\n",
       "       [a2*b1*c1*d1, a2*b1*c1*d2, a2*b1*c2*d1, a2*b1*c2*d2],\n",
       "       [a2*b2*c1*d1, a2*b2*c1*d2, a2*b2*c2*d1, a2*b2*c2*d2]], dtype=object)"
      ]
     },
     "execution_count": 39,
     "metadata": {},
     "output_type": "execute_result"
    }
   ],
   "source": [
    "# Visualizing the right side:\n",
    "\n",
    "(np.kron(a,b))@(np.kron(c,d))"
   ]
  },
  {
   "cell_type": "markdown",
   "metadata": {
    "id": "DnB_dlXYUBt3"
   },
   "source": [
    "## $A \\otimes (B+C) = A\\otimes B+A\\otimes C$\n",
    "\n",
    "**The Kronecker product is left–distributive.**"
   ]
  },
  {
   "cell_type": "markdown",
   "metadata": {
    "id": "0pexjuspUDD1"
   },
   "source": [
    "**Index notation approach:**\n",
    "\n",
    "$$A \\otimes (B+C) = [A_{ij}(B+C)] = [A_{ij}B + A_{ij}C] = [A_{ij}B] + [A_{ij}C] =A\\otimes B+A\\otimes C.$$\n",
    "\n",
    "Q.E.D."
   ]
  },
  {
   "cell_type": "markdown",
   "metadata": {
    "id": "rAVieW1AcxFG"
   },
   "source": [
    "**Matrix approach:**\n"
   ]
  },
  {
   "cell_type": "markdown",
   "metadata": {
    "id": "_WGo-KhzcxRY"
   },
   "source": [
    "\\begin{eqnarray}\n",
    "A\\otimes (B+C) &=&\n",
    "\\begin{bmatrix} \n",
    "a_{11} &\\cdots& a_{1n}\\\\\n",
    "\\vdots &\\ddots& \\vdots \\\\\n",
    "a_{m1} &\\cdots& a_{mn}\n",
    "\\end{bmatrix}\n",
    "\\otimes (B+C)\n",
    "\\\\\n",
    "&=&\n",
    "\\begin{bmatrix} \n",
    "a_{11}(B+C) &\\cdots& a_{1n}(B+C)\\\\\n",
    "\\vdots &\\ddots& \\vdots \\\\\n",
    "a_{m1}(B+C) &\\cdots& a_{mn}(B+C)\n",
    "\\end{bmatrix}\n",
    "\\\\\n",
    "&=&\n",
    "\\begin{bmatrix} \n",
    "(a_{11}B+a_{11}C) &\\cdots& (a_{1n}B+a_{1n}C)\\\\\n",
    "\\vdots &\\ddots& \\vdots \\\\\n",
    "(a_{m1}B+a_{m1}C) &\\cdots& (a_{mn}B+a_{mn}C)\n",
    "\\end{bmatrix} \\\\\n",
    "&=&\n",
    "\\begin{bmatrix} \n",
    "a_{11}B &\\cdots& a_{1n}B\\\\\n",
    "\\vdots &\\ddots& \\vdots \\\\\n",
    "a_{m1}B &\\cdots& a_{mn}B\n",
    "\\end{bmatrix}\n",
    "+\n",
    "\\begin{bmatrix} \n",
    "a_{11}C &\\cdots& a_{1n}C\\\\\n",
    "\\vdots &\\ddots& \\vdots \\\\\n",
    "a_{m1}C &\\cdots& a_{mn}C\n",
    "\\end{bmatrix}\\\\\n",
    "&=& A\\otimes B+A\\otimes C\n",
    "\\end{eqnarray}\n",
    "\n",
    "Q.E.D."
   ]
  },
  {
   "cell_type": "markdown",
   "metadata": {
    "id": "r8jiPap9UAvj"
   },
   "source": [
    "## $(A+B)\\otimes C = A\\otimes C+B\\otimes C$\n",
    "\n",
    "**The Kronecker product is right–distributive.**"
   ]
  },
  {
   "cell_type": "markdown",
   "metadata": {
    "id": "oARv2GpZUCcH"
   },
   "source": [
    "**Index notation approach:**\n",
    "\n",
    "\\begin{eqnarray}\n",
    "(A+B)\\otimes C &=& \\Bigg([A_{ij}] + [B_{ij}] \\Bigg) \\otimes C = [A_{ij} + B_{ij}] \\otimes C = [(A_{ij}+B_{ij})C] = [A_{ij}C+B_{ij}C] = [A_{ij}C]+[B_{ij}C] \\\\\n",
    "&=& A\\otimes C+B\\otimes C.\n",
    "\\end{eqnarray}\n",
    "\n",
    "Q.E.D."
   ]
  },
  {
   "cell_type": "markdown",
   "metadata": {
    "id": "6AfZ50Nkcur1"
   },
   "source": [
    "**Matrix approach:**\n"
   ]
  },
  {
   "cell_type": "markdown",
   "metadata": {
    "id": "7uCYy_QCcvUW"
   },
   "source": [
    "\\begin{eqnarray}\n",
    "(A+B)\\otimes C &=& \n",
    "\\Bigg(\n",
    "\\begin{bmatrix} \n",
    "a_{11} &\\cdots& a_{1n}\\\\\n",
    "\\vdots &\\ddots& \\vdots \\\\\n",
    "a_{m1} &\\cdots& a_{mn}\n",
    "\\end{bmatrix}\n",
    "+\n",
    "\\begin{bmatrix} \n",
    "b_{11} &\\cdots& b_{1n}\\\\\n",
    "\\vdots &\\ddots& \\vdots \\\\\n",
    "b_{m1} &\\cdots& b_{mn}\n",
    "\\end{bmatrix}\n",
    "\\Bigg)\n",
    "\\otimes C\n",
    "\\\\\n",
    "&=&\n",
    "\\begin{bmatrix} \n",
    "(a_{11}+b_{11}) &\\cdots& (a_{1n}+b_{1n})\\\\\n",
    "\\vdots &\\ddots& \\vdots \\\\\n",
    "(a_{m1}+b_{m1}) &\\cdots& (a_{mn}+b_{mn})\n",
    "\\end{bmatrix}\n",
    "\\otimes C \\\\\n",
    "&=&\n",
    "\\begin{bmatrix} \n",
    "(a_{11}+b_{11})C &\\cdots& (a_{1n}+b_{1n})C\\\\\n",
    "\\vdots &\\ddots& \\vdots \\\\\n",
    "(a_{m1}+b_{m1})C &\\cdots& (a_{mn}+b_{mn})C\n",
    "\\end{bmatrix} \\\\\n",
    "&=&\n",
    "\\begin{bmatrix} \n",
    "(a_{11}C+b_{11}C) &\\cdots& (a_{1n}C+b_{1n}C)\\\\\n",
    "\\vdots &\\ddots& \\vdots \\\\\n",
    "(a_{m1}C+b_{m1}C) &\\cdots& (a_{mn}C+b_{mn}C)\n",
    "\\end{bmatrix} \\\\\n",
    "&=&\n",
    "\\begin{bmatrix} \n",
    "a_{11}C &\\cdots& a_{1n}C\\\\\n",
    "\\vdots &\\ddots& \\vdots \\\\\n",
    "a_{m1}C &\\cdots& a_{mn}C\n",
    "\\end{bmatrix}\n",
    "+\n",
    "\\begin{bmatrix} \n",
    "b_{11}C &\\cdots& b_{1n}C\\\\\n",
    "\\vdots &\\ddots& \\vdots \\\\\n",
    "b_{m1}C &\\cdots& b_{mn}C\n",
    "\\end{bmatrix}\\\\\n",
    "&=& A\\otimes C+B\\otimes C\n",
    "\\end{eqnarray}\n",
    "\n",
    "Q.E.D."
   ]
  },
  {
   "cell_type": "markdown",
   "metadata": {
    "id": "Sy1J816qq8Ll"
   },
   "source": [
    "## $(A+B) \\otimes (C+D) = A\\otimes C+A\\otimes D+B\\otimes C+B\\otimes D$\n",
    "\n",
    "**The Kronecker product is distributive.**"
   ]
  },
  {
   "cell_type": "markdown",
   "metadata": {
    "id": "L8w-v2_rq8jY"
   },
   "source": [
    "Using the right-distributive property, one gets\n",
    "\n",
    "$$(A+B) \\otimes (C+D) =  A\\otimes (C+D)+B\\otimes (C+D),$$\n",
    "\n",
    "finally, the left-distributive property yields\n",
    "\n",
    "$$A\\otimes (C+D)+B\\otimes (C+D) =  A\\otimes C+A\\otimes D+B\\otimes C+B\\otimes D.$$\n",
    "\n",
    "Q.E.D."
   ]
  },
  {
   "cell_type": "markdown",
   "metadata": {
    "id": "rh0zMoBap3ed"
   },
   "source": [
    "## $(A\\otimes B)(C\\otimes D) = AC\\otimes BD$\n",
    "\n",
    "**Mixed product property.**"
   ]
  },
  {
   "cell_type": "markdown",
   "metadata": {
    "id": "EmVweOi3m3ks"
   },
   "source": [
    "**Index notation approach:**\n"
   ]
  },
  {
   "cell_type": "markdown",
   "metadata": {
    "id": "qcm_rTreq4A8"
   },
   "source": [
    "Let $A \\in M^{m,n}, B \\in M^{p,q}, C \\in M^{n,s}, D \\in M^{q,r}$ be retangular matrices such that the matrix products are well defined:\n",
    "\n",
    "$$[AC]_{ij} = \\sum_{k=1}^n A_{ik}C_{kj} \\in M^{m,s},$$\n",
    "\n",
    "\n",
    "for $i=1,\\cdots,m$ and $j=1,\\cdots,s$.\n",
    "\n",
    "And \n",
    "$$[BD]_{ij} = \\sum_{k=1}^q B_{ik}D_{kj} \\in M^{p,r},$$ \n",
    "\n",
    "for $i=1,\\cdots,p$ and $j=1,\\cdots,r$.\n",
    "\n",
    "Each corresponding to the ($ij$)-th entry of their resulting matrix after multiplication.\n",
    "\n",
    "One also has\n",
    "\n",
    "$$ A \\otimes B \\equiv [A_{ik}B] \\in M^{mp, nq},$$\n",
    "\n",
    "and \n",
    "\n",
    "$$ C \\otimes D \\equiv [C_{kj}D] \\in M^{nq, sr}.$$\n",
    "\n",
    "With that, one has\n",
    "\n",
    "\\begin{eqnarray}\n",
    "[(A\\otimes B)(C\\otimes D)]_{ij} &=& \\sum_{k'=1}^{nq} \\Bigg([A_{ik}B]_{i'k'} [C_{kj}D]_{k'j'}\\Bigg)=\n",
    "\\sum_{k=1}^n A_{ik}BC_{kj}D\\\\\n",
    "&=&\\Bigg(\\sum_{k=1}^n A_{ik}C_{kj}\\Bigg)(BD)\n",
    "=[AC]_{ij}(BD)\\\\\n",
    "&=& [(AC) \\otimes (BD)]_{ij},\n",
    "\\end{eqnarray}\n",
    "\n",
    "which is the $(ij)$-th block of $(A\\otimes B)(C\\otimes D) = AC\\otimes BD$.\n",
    "\n",
    "Q.E.D."
   ]
  },
  {
   "cell_type": "markdown",
   "metadata": {
    "id": "ZgGgjhQvmcbL"
   },
   "source": [
    "**Matrix approach:**\n"
   ]
  },
  {
   "cell_type": "markdown",
   "metadata": {
    "id": "nICCUBzCmhVu"
   },
   "source": [
    "\\begin{eqnarray}\n",
    "(A\\otimes B)(C\\otimes D) &=&\n",
    "\\begin{bmatrix} \n",
    "A_{11} B && \\cdots && A_{1n} B \\\\ \n",
    "\\vdots  &&\\ddots  && \\vdots \\\\ \n",
    "A_{m1} B && \\cdots && A_{mn} B\n",
    "\\end{bmatrix}\n",
    "\\begin{bmatrix} \n",
    "C_{11} D && \\cdots && C_{1s} D \\\\ \n",
    "\\vdots  &&\\ddots  && \\vdots \\\\ \n",
    "C_{n1} D && \\cdots && C_{ns} D\n",
    "\\end{bmatrix}\\\\\n",
    "&=& \n",
    "\\begin{bmatrix} \n",
    "(A_{11}BC_{11}D +\\cdots+ A_{1n}BC_{n1}D) & \\cdots & (A_{11}BC_{1s}D +\\cdots+ A_{1n}BC_{ns}D) \\\\ \n",
    "\\vdots  &\\ddots& \\vdots \\\\ \n",
    "(A_{m1}BC_{11}D + \\cdots + A_{mn}BC_{n1}D) &\\cdots& (A_{m1}BC_{1s}D + \\cdots + A_{mn}BC_{ns}D)\n",
    "\\end{bmatrix}\\\\\n",
    "&=&\n",
    "\\begin{bmatrix} \n",
    "(A_{11}C_{11} +\\cdots+ A_{1n}C_{n1})BD & \\cdots & (A_{11}C_{1s} +\\cdots+ A_{1n}C_{ns})BD \\\\ \n",
    "\\vdots  &\\ddots& \\vdots \\\\ \n",
    "(A_{m1}C_{11} + \\cdots + A_{mn}C_{n1})BD &\\cdots& (A_{m1}C_{1s} + \\cdots + A_{mn}C_{ns})BD\n",
    "\\end{bmatrix}\\\\\n",
    "&=&\n",
    "\\begin{bmatrix} \n",
    "\\Bigg(\\sum_{k=1}^n A_{1k}C_{k1}\\Bigg)BD && \\cdots && \\Bigg(\\sum_{k=1}^n A_{1k}C_{ks}\\Bigg)BD \\\\ \n",
    "\\vdots  &&\\ddots  && \\vdots \\\\ \n",
    "\\Bigg(\\sum_{k=1}^n A_{mk}C_{k1}\\Bigg)BD && \\cdots && \\Bigg(\\sum_{k=1}^n A_{mk}C_{ks}\\Bigg)BD\n",
    "\\end{bmatrix}\\\\\n",
    "&=&\n",
    "\\begin{bmatrix} \n",
    "(AC)_{11}BD && \\cdots && (AC)_{1s}BD\\\\ \n",
    "\\vdots  &&\\ddots  && \\vdots \\\\ \n",
    "(AC)_{m1}BD && \\cdots && (AC)_{ms}BD\n",
    "\\end{bmatrix}\\\\\n",
    "&=&\n",
    "\\begin{bmatrix} \n",
    "(AC)_{11} && \\cdots && (AC)_{1s}\\\\ \n",
    "\\vdots  &&\\ddots  && \\vdots \\\\ \n",
    "(AC)_{m1} && \\cdots && (AC)_{ms}\n",
    "\\end{bmatrix}\n",
    "\\otimes BD\n",
    "\\\\\n",
    "&=& AC\\otimes BD\n",
    "\\end{eqnarray}\n",
    "\n",
    "Q.E.D."
   ]
  },
  {
   "cell_type": "markdown",
   "metadata": {},
   "source": [
    "## $(A \\otimes B)^{\\dagger} = A^{\\dagger} \\otimes B^{\\dagger}.$"
   ]
  },
  {
   "cell_type": "markdown",
   "metadata": {},
   "source": [
    "Let $$A \\otimes B \\equiv [A_{ik}B] \\in M^{mp, nq}.$$\n",
    "\n",
    "One then has:\n",
    "\n",
    "\\begin{eqnarray}\n",
    "(A\\otimes B)^{\\dagger}=((A\\otimes B)^*)^T=\\Bigg([A_{ik}B]^*\\Bigg)^T= [A^*_{ik}B^*]^T = [A^*_{ki}B^{\\dagger}] = [A^{\\dagger}_{ik}B^{\\dagger}]=A^{\\dagger} \\otimes B^{\\dagger}.\n",
    "\\end{eqnarray}\n",
    "\n",
    "Q.E.D."
   ]
  },
  {
   "cell_type": "code",
   "execution_count": 18,
   "metadata": {},
   "outputs": [
    {
     "data": {
      "text/plain": [
       "True"
      ]
     },
     "execution_count": 18,
     "metadata": {},
     "output_type": "execute_result"
    }
   ],
   "source": [
    "# 2D verification with SymPy.\n",
    "\n",
    "A11, A12, A21, A22, B11, B12, B21, B22,v1,v2,w1,w2=sym.symbols('A11, A12, A21, A22, B11, B12, B21, B22,v1,v2,w1,w2') # Unpacking\n",
    "\n",
    "# 2x2 matrices:\n",
    "A=sym.Matrix([[A11,A12],[A21,A22]])\n",
    "B=sym.Matrix([[B11,B12],[B21,B22]])\n",
    "\n",
    "TensorProduct(A,B).H == TensorProduct(A.H, B.H)"
   ]
  },
  {
   "cell_type": "markdown",
   "metadata": {},
   "source": [
    "Some visuals:"
   ]
  },
  {
   "cell_type": "code",
   "execution_count": 19,
   "metadata": {},
   "outputs": [
    {
     "data": {
      "text/latex": [
       "$\\displaystyle \\left[\\begin{matrix}A_{11} B_{11} & A_{11} B_{12} & A_{12} B_{11} & A_{12} B_{12}\\\\A_{11} B_{21} & A_{11} B_{22} & A_{12} B_{21} & A_{12} B_{22}\\\\A_{21} B_{11} & A_{21} B_{12} & A_{22} B_{11} & A_{22} B_{12}\\\\A_{21} B_{21} & A_{21} B_{22} & A_{22} B_{21} & A_{22} B_{22}\\end{matrix}\\right]$"
      ],
      "text/plain": [
       "Matrix([\n",
       "[A11*B11, A11*B12, A12*B11, A12*B12],\n",
       "[A11*B21, A11*B22, A12*B21, A12*B22],\n",
       "[A21*B11, A21*B12, A22*B11, A22*B12],\n",
       "[A21*B21, A21*B22, A22*B21, A22*B22]])"
      ]
     },
     "execution_count": 19,
     "metadata": {},
     "output_type": "execute_result"
    }
   ],
   "source": [
    "TensorProduct(A,B)"
   ]
  },
  {
   "cell_type": "code",
   "execution_count": 20,
   "metadata": {},
   "outputs": [
    {
     "data": {
      "text/latex": [
       "$\\displaystyle \\left[\\begin{matrix}\\overline{A_{11}} \\overline{B_{11}} & \\overline{A_{11}} \\overline{B_{21}} & \\overline{A_{21}} \\overline{B_{11}} & \\overline{A_{21}} \\overline{B_{21}}\\\\\\overline{A_{11}} \\overline{B_{12}} & \\overline{A_{11}} \\overline{B_{22}} & \\overline{A_{21}} \\overline{B_{12}} & \\overline{A_{21}} \\overline{B_{22}}\\\\\\overline{A_{12}} \\overline{B_{11}} & \\overline{A_{12}} \\overline{B_{21}} & \\overline{A_{22}} \\overline{B_{11}} & \\overline{A_{22}} \\overline{B_{21}}\\\\\\overline{A_{12}} \\overline{B_{12}} & \\overline{A_{12}} \\overline{B_{22}} & \\overline{A_{22}} \\overline{B_{12}} & \\overline{A_{22}} \\overline{B_{22}}\\end{matrix}\\right]$"
      ],
      "text/plain": [
       "Matrix([\n",
       "[conjugate(A11)*conjugate(B11), conjugate(A11)*conjugate(B21), conjugate(A21)*conjugate(B11), conjugate(A21)*conjugate(B21)],\n",
       "[conjugate(A11)*conjugate(B12), conjugate(A11)*conjugate(B22), conjugate(A21)*conjugate(B12), conjugate(A21)*conjugate(B22)],\n",
       "[conjugate(A12)*conjugate(B11), conjugate(A12)*conjugate(B21), conjugate(A22)*conjugate(B11), conjugate(A22)*conjugate(B21)],\n",
       "[conjugate(A12)*conjugate(B12), conjugate(A12)*conjugate(B22), conjugate(A22)*conjugate(B12), conjugate(A22)*conjugate(B22)]])"
      ]
     },
     "execution_count": 20,
     "metadata": {},
     "output_type": "execute_result"
    }
   ],
   "source": [
    "TensorProduct(A,B).H"
   ]
  },
  {
   "cell_type": "markdown",
   "metadata": {},
   "source": [
    "## Tensor product of unitaries is unitary"
   ]
  },
  {
   "cell_type": "markdown",
   "metadata": {},
   "source": [
    "Any unitary matrix satisfies \n",
    "$$ U^{\\dagger}U = UU^{\\dagger} = \\mathbb{I}.$$\n",
    "\n",
    "Then, for any unitaries $A_{nxn}$ and $B_{nxn}$, it suffices to show:\n",
    "\n",
    "$$(A\\otimes B)^{\\dagger}(A\\otimes B) = (A^{\\dagger} \\otimes B^{\\dagger})(A\\otimes B) = A^{\\dagger}A \\otimes B^{\\dagger}B = \\mathbb{I}_{nxn} \\otimes \\mathbb{I}_{nxn} = \\mathbb{I}_{n^2xn^2},$$\n",
    "\n",
    "where it was used the previous identity and the mixed product property $(A\\otimes B)(C\\otimes D) = AC\\otimes BD$.\n",
    "\n",
    "Q.E.D."
   ]
  },
  {
   "cell_type": "markdown",
   "metadata": {
    "id": "NNFyBlG94rym"
   },
   "source": [
    "## $A |v\\rangle \\otimes B |w\\rangle = (A\\otimes B)(|v\\rangle \\otimes |w\\rangle) \\equiv (A\\otimes B)|vw\\rangle$"
   ]
  },
  {
   "cell_type": "markdown",
   "metadata": {
    "id": "2ueHZQ2D5Unu"
   },
   "source": [
    "Note: the verification will be carried out for state vectors in the two-dimensional Hilbert space, but it can be extended to a space of $n$-dimensions."
   ]
  },
  {
   "cell_type": "code",
   "execution_count": 40,
   "metadata": {
    "executionInfo": {
     "elapsed": 18,
     "status": "aborted",
     "timestamp": 1683810796454,
     "user": {
      "displayName": "Lucas Camponogara Viera",
      "userId": "14322290658374940800"
     },
     "user_tz": 180
    },
    "id": "aJjkKvYBnmVc"
   },
   "outputs": [
    {
     "data": {
      "text/plain": [
       "((2, 1), (2, 1), (2, 2), (2, 2))"
      ]
     },
     "execution_count": 40,
     "metadata": {},
     "output_type": "execute_result"
    }
   ],
   "source": [
    "'''Definitions.'''\n",
    "\n",
    "A11, A12, A21, A22, B11, B12, B21, B22,v1,v2,w1,w2=sym.symbols('A11, A12, A21, A22, B11, B12, B21, B22,v1,v2,w1,w2') # Unpacking\n",
    "\n",
    "# 2-D column-like arrays representing ket vectors:\n",
    "v=sym.Matrix([[v1,v2]]).T  \n",
    "w=sym.Matrix([[w1,w2]]).T \n",
    "\n",
    "# 2x2 matrices:\n",
    "A=sym.Matrix([[A11,A12],[A21,A22]])\n",
    "B=sym.Matrix([[B11,B12],[B21,B22]])\n",
    "\n",
    "# Reading dimensions:\n",
    "v.shape, w.shape, A.shape, B.shape"
   ]
  },
  {
   "cell_type": "markdown",
   "metadata": {
    "id": "PxWzSF8Y5Unu"
   },
   "source": [
    "### **Verifying with SymPy:**"
   ]
  },
  {
   "cell_type": "code",
   "execution_count": 41,
   "metadata": {
    "executionInfo": {
     "elapsed": 18,
     "status": "aborted",
     "timestamp": 1683810796455,
     "user": {
      "displayName": "Lucas Camponogara Viera",
      "userId": "14322290658374940800"
     },
     "user_tz": 180
    },
    "id": "p0xpvC4Ay4Vc"
   },
   "outputs": [
    {
     "data": {
      "text/plain": [
       "True"
      ]
     },
     "execution_count": 41,
     "metadata": {},
     "output_type": "execute_result"
    }
   ],
   "source": [
    "TensorProduct(A*v, B*w).expand() == TensorProduct(A, B)*TensorProduct(v,w)"
   ]
  },
  {
   "cell_type": "code",
   "execution_count": 42,
   "metadata": {
    "executionInfo": {
     "elapsed": 21,
     "status": "aborted",
     "timestamp": 1683810796458,
     "user": {
      "displayName": "Lucas Camponogara Viera",
      "userId": "14322290658374940800"
     },
     "user_tz": 180
    },
    "id": "ShOnsDL14bPN"
   },
   "outputs": [
    {
     "data": {
      "text/latex": [
       "$\\displaystyle \\left[\\begin{matrix}A_{11} B_{11} v_{1} w_{1} + A_{11} B_{12} v_{1} w_{2} + A_{12} B_{11} v_{2} w_{1} + A_{12} B_{12} v_{2} w_{2}\\\\A_{11} B_{21} v_{1} w_{1} + A_{11} B_{22} v_{1} w_{2} + A_{12} B_{21} v_{2} w_{1} + A_{12} B_{22} v_{2} w_{2}\\\\A_{21} B_{11} v_{1} w_{1} + A_{21} B_{12} v_{1} w_{2} + A_{22} B_{11} v_{2} w_{1} + A_{22} B_{12} v_{2} w_{2}\\\\A_{21} B_{21} v_{1} w_{1} + A_{21} B_{22} v_{1} w_{2} + A_{22} B_{21} v_{2} w_{1} + A_{22} B_{22} v_{2} w_{2}\\end{matrix}\\right]$"
      ],
      "text/plain": [
       "Matrix([\n",
       "[A11*B11*v1*w1 + A11*B12*v1*w2 + A12*B11*v2*w1 + A12*B12*v2*w2],\n",
       "[A11*B21*v1*w1 + A11*B22*v1*w2 + A12*B21*v2*w1 + A12*B22*v2*w2],\n",
       "[A21*B11*v1*w1 + A21*B12*v1*w2 + A22*B11*v2*w1 + A22*B12*v2*w2],\n",
       "[A21*B21*v1*w1 + A21*B22*v1*w2 + A22*B21*v2*w1 + A22*B22*v2*w2]])"
      ]
     },
     "execution_count": 42,
     "metadata": {},
     "output_type": "execute_result"
    }
   ],
   "source": [
    "# Visualizing the left hand side:\n",
    "\n",
    "TensorProduct(A*v, B*w).expand()"
   ]
  },
  {
   "cell_type": "code",
   "execution_count": 43,
   "metadata": {
    "executionInfo": {
     "elapsed": 22,
     "status": "aborted",
     "timestamp": 1683810796459,
     "user": {
      "displayName": "Lucas Camponogara Viera",
      "userId": "14322290658374940800"
     },
     "user_tz": 180
    },
    "id": "oqf6sD5k4G7_"
   },
   "outputs": [
    {
     "data": {
      "text/latex": [
       "$\\displaystyle \\left[\\begin{matrix}A_{11} B_{11} v_{1} w_{1} + A_{11} B_{12} v_{1} w_{2} + A_{12} B_{11} v_{2} w_{1} + A_{12} B_{12} v_{2} w_{2}\\\\A_{11} B_{21} v_{1} w_{1} + A_{11} B_{22} v_{1} w_{2} + A_{12} B_{21} v_{2} w_{1} + A_{12} B_{22} v_{2} w_{2}\\\\A_{21} B_{11} v_{1} w_{1} + A_{21} B_{12} v_{1} w_{2} + A_{22} B_{11} v_{2} w_{1} + A_{22} B_{12} v_{2} w_{2}\\\\A_{21} B_{21} v_{1} w_{1} + A_{21} B_{22} v_{1} w_{2} + A_{22} B_{21} v_{2} w_{1} + A_{22} B_{22} v_{2} w_{2}\\end{matrix}\\right]$"
      ],
      "text/plain": [
       "Matrix([\n",
       "[A11*B11*v1*w1 + A11*B12*v1*w2 + A12*B11*v2*w1 + A12*B12*v2*w2],\n",
       "[A11*B21*v1*w1 + A11*B22*v1*w2 + A12*B21*v2*w1 + A12*B22*v2*w2],\n",
       "[A21*B11*v1*w1 + A21*B12*v1*w2 + A22*B11*v2*w1 + A22*B12*v2*w2],\n",
       "[A21*B21*v1*w1 + A21*B22*v1*w2 + A22*B21*v2*w1 + A22*B22*v2*w2]])"
      ]
     },
     "execution_count": 43,
     "metadata": {},
     "output_type": "execute_result"
    }
   ],
   "source": [
    "# Visualizing the right hand side:\n",
    "\n",
    "TensorProduct(A, B)*TensorProduct(v,w)"
   ]
  },
  {
   "cell_type": "markdown",
   "metadata": {
    "id": "r61zXyt-1kDJ"
   },
   "source": [
    "### **Verifying with NumPy:**"
   ]
  },
  {
   "cell_type": "code",
   "execution_count": 44,
   "metadata": {
    "executionInfo": {
     "elapsed": 22,
     "status": "aborted",
     "timestamp": 1683810796459,
     "user": {
      "displayName": "Lucas Camponogara Viera",
      "userId": "14322290658374940800"
     },
     "user_tz": 180
    },
    "id": "uCM4k3SD1rCn"
   },
   "outputs": [
    {
     "data": {
      "text/plain": [
       "array([[(A11*v1 + A12*v2)*(B11*w1 + B12*w2)],\n",
       "       [(A11*v1 + A12*v2)*(B21*w1 + B22*w2)],\n",
       "       [(A21*v1 + A22*v2)*(B11*w1 + B12*w2)],\n",
       "       [(A21*v1 + A22*v2)*(B21*w1 + B22*w2)]], dtype=object)"
      ]
     },
     "execution_count": 44,
     "metadata": {},
     "output_type": "execute_result"
    }
   ],
   "source": [
    "# Visualizing the left hand side:\n",
    "\n",
    "np.kron(A@v,B@w)"
   ]
  },
  {
   "cell_type": "code",
   "execution_count": 45,
   "metadata": {
    "executionInfo": {
     "elapsed": 23,
     "status": "aborted",
     "timestamp": 1683810796460,
     "user": {
      "displayName": "Lucas Camponogara Viera",
      "userId": "14322290658374940800"
     },
     "user_tz": 180
    },
    "id": "vmU2z-iayBnm"
   },
   "outputs": [
    {
     "data": {
      "text/plain": [
       "array([[A11*B11*v1*w1 + A11*B12*v1*w2 + A12*B11*v2*w1 + A12*B12*v2*w2],\n",
       "       [A11*B21*v1*w1 + A11*B22*v1*w2 + A12*B21*v2*w1 + A12*B22*v2*w2],\n",
       "       [A21*B11*v1*w1 + A21*B12*v1*w2 + A22*B11*v2*w1 + A22*B12*v2*w2],\n",
       "       [A21*B21*v1*w1 + A21*B22*v1*w2 + A22*B21*v2*w1 + A22*B22*v2*w2]],\n",
       "      dtype=object)"
      ]
     },
     "execution_count": 45,
     "metadata": {},
     "output_type": "execute_result"
    }
   ],
   "source": [
    "# Visualizing the right hand side:\n",
    "\n",
    "np.kron(A, B)@np.kron(v,w)"
   ]
  },
  {
   "cell_type": "markdown",
   "metadata": {
    "id": "tubczuM4SyIu"
   },
   "source": [
    "## $(|v\\rangle\\langle v| \\otimes A+|w\\rangle\\langle w| \\otimes B)(|i\\rangle \\otimes |j\\rangle) = |v\\rangle\\langle v|i\\rangle \\otimes A |j\\rangle + |w\\rangle\\langle w|i\\rangle \\otimes B |j\\rangle$"
   ]
  },
  {
   "cell_type": "markdown",
   "metadata": {
    "id": "4NDpDi0-qT61"
   },
   "source": [
    "**Verifying with SymPy:**"
   ]
  },
  {
   "cell_type": "code",
   "execution_count": 46,
   "metadata": {
    "executionInfo": {
     "elapsed": 23,
     "status": "aborted",
     "timestamp": 1683810796460,
     "user": {
      "displayName": "Lucas Camponogara Viera",
      "userId": "14322290658374940800"
     },
     "user_tz": 180
    },
    "id": "_sTFHEF4M_1D"
   },
   "outputs": [
    {
     "data": {
      "text/plain": [
       "((2, 1), (2, 1), (2, 2), (2, 2))"
      ]
     },
     "execution_count": 46,
     "metadata": {},
     "output_type": "execute_result"
    }
   ],
   "source": [
    "'''Definitions.'''\n",
    "\n",
    "A11, A12, A21, A22, B11, B12, B21, B22, v1, v2, w1, w2, i1, i2, j1, j2 =sym.symbols('A11, A12, A21, A22, B11, B12, B21, B22, v1, v2, w1, w2, i1, i2, j1, j2') # Unpacking\n",
    "\n",
    "# 2-D column-like arrays representing ket vectors:\n",
    "v=sym.Matrix([[v1,v2]]).T  \n",
    "w=sym.Matrix([[w1,w2]]).T \n",
    "i=sym.Matrix([[i1,i2]]).T  \n",
    "j=sym.Matrix([[j1,j2]]).T \n",
    "\n",
    "# 2x2 matrices:\n",
    "A=sym.Matrix([[A11,A12],[A21,A22]])\n",
    "B=sym.Matrix([[B11,B12],[B21,B22]])\n",
    "\n",
    "# Reading dimensions:\n",
    "v.shape, w.shape, A.shape, B.shape"
   ]
  },
  {
   "cell_type": "markdown",
   "metadata": {
    "id": "viEsGcs8RPSB"
   },
   "source": [
    "Using the right–distributivity property, given by \n",
    "\n",
    "$$(A'+B')|c'\\rangle=A'|c'\\rangle+B'|c'\\rangle,$$\n",
    "\n",
    "then\n",
    "$$(|v\\rangle\\langle v| \\otimes A+|w\\rangle\\langle w| \\otimes B)(|i\\rangle \\otimes |j\\rangle) = (|v\\rangle\\langle v| \\otimes A)(|i\\rangle \\otimes |j\\rangle)+(|w\\rangle\\langle w| \\otimes B)(|i\\rangle \\otimes |j\\rangle).$$"
   ]
  },
  {
   "cell_type": "code",
   "execution_count": 47,
   "metadata": {
    "executionInfo": {
     "elapsed": 23,
     "status": "aborted",
     "timestamp": 1683810796461,
     "user": {
      "displayName": "Lucas Camponogara Viera",
      "userId": "14322290658374940800"
     },
     "user_tz": 180
    },
    "id": "Jdtk8c9NQ9c5"
   },
   "outputs": [
    {
     "data": {
      "text/plain": [
       "True"
      ]
     },
     "execution_count": 47,
     "metadata": {},
     "output_type": "execute_result"
    }
   ],
   "source": [
    "outerv=v*v.T\n",
    "outerw=w*w.T\n",
    "\n",
    "((TensorProduct(outerv,A)+TensorProduct(outerw,B))*TensorProduct(i,j)).expand() == (TensorProduct(outerv,A)*TensorProduct(i,j))+(TensorProduct(outerw,B)*TensorProduct(i,j))"
   ]
  },
  {
   "cell_type": "markdown",
   "metadata": {
    "id": "lai3PLcERRRL"
   },
   "source": [
    "Henceforth, applying\n",
    "\n",
    "$$A' |i\\rangle \\otimes B' |j\\rangle = (A'\\otimes B')(|i\\rangle \\otimes |j\\rangle),$$\n",
    "\n",
    "finally yields\n",
    "\n",
    "$$(|v\\rangle\\langle v| \\otimes A+|w\\rangle\\langle w| \\otimes B)(|i\\rangle \\otimes |j\\rangle) = |v\\rangle\\langle v|i\\rangle \\otimes A |j\\rangle + |w\\rangle\\langle w|i\\rangle \\otimes B |j\\rangle.$$"
   ]
  },
  {
   "cell_type": "code",
   "execution_count": 48,
   "metadata": {
    "executionInfo": {
     "elapsed": 23,
     "status": "aborted",
     "timestamp": 1683810796461,
     "user": {
      "displayName": "Lucas Camponogara Viera",
      "userId": "14322290658374940800"
     },
     "user_tz": 180
    },
    "id": "YCD1rBoVRZNV"
   },
   "outputs": [
    {
     "data": {
      "text/plain": [
       "True"
      ]
     },
     "execution_count": 48,
     "metadata": {},
     "output_type": "execute_result"
    }
   ],
   "source": [
    "((TensorProduct(outerv,A)+TensorProduct(outerw,B))*TensorProduct(i,j)).expand() == (TensorProduct(v*v.T*i,A*j)+TensorProduct(w*w.T*i,B*j)).expand()"
   ]
  },
  {
   "cell_type": "markdown",
   "metadata": {
    "id": "YjhmLTGIgh8-"
   },
   "source": [
    "## $[A\\otimes \\mathbb{I}_n,\\mathbb{I}_m\\otimes B] = \\mathbb{O}$"
   ]
  },
  {
   "cell_type": "markdown",
   "metadata": {
    "id": "SyTWQjuPglXU"
   },
   "source": [
    "Let $A \\in M^{m,m}$ and $B \\in M^{n,n}$ be complex square matrices. \n",
    "\n",
    "$$[A\\otimes \\mathbb{I}_n,\\mathbb{I}_m\\otimes B] = (A\\otimes \\mathbb{I}_n)(\\mathbb{I}_m\\otimes B)-(\\mathbb{I}_m\\otimes B)(A\\otimes \\mathbb{I}_n) = (A\\mathbb{I}_m \\otimes \\mathbb{I}_n B)-(\\mathbb{I}_m A \\otimes B\\mathbb{I}_n) = (A \\otimes B) - (A \\otimes B) = \\mathbb{O}.$$\n",
    "\n",
    "Q.E.D."
   ]
  },
  {
   "cell_type": "markdown",
   "metadata": {
    "id": "qGlKa7uOZtSH"
   },
   "source": [
    "## $[\\sigma_j \\otimes \\sigma_j, \\sigma_k \\otimes \\sigma_k] = \\mathbb{O}$"
   ]
  },
  {
   "cell_type": "markdown",
   "metadata": {
    "id": "2U4IzqQ_GZl-"
   },
   "source": [
    "Let $\\{\\sigma_i\\}_{i=1}^3$ be the set of Pauli matrices. Considering only the case where $j \\ne k$.\n",
    "\n",
    "\\begin{eqnarray}\n",
    "[\\sigma_j \\otimes \\sigma_j, \\sigma_k \\otimes \\sigma_k] = (\\sigma_j \\otimes \\sigma_j) \\cdot (\\sigma_k \\otimes \\sigma_k) - (\\sigma_k \\otimes \\sigma_k) \\cdot (\\sigma_j \\otimes \\sigma_j),\n",
    "\\end{eqnarray}\n",
    "\n",
    "and using $(A\\otimes B)\\cdot(C\\otimes D)=AC\\otimes BD$, one then has\n",
    "\n",
    "\\begin{eqnarray}\n",
    "[\\sigma_j \\otimes \\sigma_j, \\sigma_k \\otimes \\sigma_k]=\\sigma_j \\sigma_k \\otimes \\sigma_j \\sigma_k - \\sigma_k \\sigma_j \\otimes \\sigma_k \\sigma_j.\n",
    "\\end{eqnarray}\n",
    "\n",
    "In the next step, one uses the $\\mathfrak{su}(2)$ Lie algebra ($\\sigma_j \\sigma_k = \\delta_{jk} \\sigma_0 +i\\epsilon_{jkl} \\sigma_l$) noting that, for $j \\ne k$, it becomes $\\sigma_j \\sigma_k = i\\epsilon_{jkl} \\sigma_l$. \n",
    "\n",
    "Hence\n",
    "\n",
    "\\begin{eqnarray} \n",
    "[\\sigma_j \\otimes \\sigma_j, \\sigma_k \\otimes \\sigma_k] &=& (i\\epsilon_{jkl} \\sigma_l \\otimes i\\epsilon_{jkl} \\sigma_l) - (i\\epsilon_{kjl} \\sigma_l \\otimes i\\epsilon_{kjl} \\sigma_l) \\\\\n",
    "&=& (i^2 \\epsilon^2_{jkl} \\sigma_l \\otimes \\sigma_l) -(i^2 \\epsilon^2_{kjl}\\sigma_l \\otimes \\sigma_l),\n",
    "\\end{eqnarray}\n",
    "\n",
    "which after using the anticyclic (odd) permutation property of the Levi-Civita epsilon $\\epsilon_{ijk} = -\\epsilon_{jik}$, becomes\n",
    "\n",
    "\\begin{eqnarray} \n",
    "&=& (i^2 \\epsilon_{jkl}^2 \\sigma_l \\otimes \\sigma_l) -(i^2 (-\\epsilon_{jkl})^2 \\sigma_l \\otimes \\sigma_l) \\\\\n",
    "&=& (i^2 \\epsilon^2_{jkl} \\sigma_l \\otimes \\sigma_l)-(i^2 \\epsilon^2_{jkl}\\sigma_l \\otimes \\sigma_l)\\\\\n",
    "&=& \\mathbb{O}.\n",
    "\\end{eqnarray}\n",
    "\n",
    "Q.E.D."
   ]
  },
  {
   "cell_type": "markdown",
   "metadata": {
    "id": "HBxBEuEJZ44h"
   },
   "source": [
    "## $[\\sigma_j \\otimes \\sigma_j \\otimes \\sigma_0, \\sigma_0 \\otimes \\sigma_k \\otimes \\sigma_k] \\ne \\mathbb{O}$"
   ]
  },
  {
   "cell_type": "markdown",
   "metadata": {
    "id": "N9fj_8g5R3Lf"
   },
   "source": [
    "Let $\\{\\sigma_i\\}_{i=1}^3$ be the set of Pauli matrices. Considering only the case where $j \\ne k$.\n",
    "\n",
    "\\begin{align}\n",
    "[\\sigma_j \\otimes \\sigma_j \\otimes \\sigma_0, \\sigma_0 \\otimes \\sigma_k \\otimes \\sigma_k] = (\\sigma_j \\otimes \\sigma_j \\otimes \\sigma_0)(\\sigma_0 \\otimes \\sigma_k \\otimes \\sigma_k)-(\\sigma_0 \\otimes \\sigma_k \\otimes \\sigma_k)(\\sigma_j \\otimes \\sigma_j \\otimes \\sigma_0).\n",
    "\\end{align}\n",
    "\n",
    "From here, using the associative property $(A \\otimes B)\\otimes C = A\\otimes (B \\otimes C)$, one may choose the following subspaces on which the operators will act\n",
    "\n",
    "\\begin{align}\n",
    "&= (\\sigma_j \\otimes (\\sigma_j \\otimes \\sigma_0))(\\sigma_0 \\otimes (\\sigma_k \\otimes \\sigma_k))-(\\sigma_0 \\otimes (\\sigma_k \\otimes \\sigma_k))(\\sigma_j \\otimes (\\sigma_j \\otimes \\sigma_0)).\n",
    "\\end{align}\n",
    "\n",
    "Now, the property $(A \\otimes B)(C \\otimes D) = AC \\otimes BD$ yields\n",
    "\n",
    "\\begin{align}\n",
    "&= (\\sigma_j \\sigma_0) \\otimes [(\\sigma_j \\otimes \\sigma_0)(\\sigma_k \\otimes \\sigma_k)] - (\\sigma_0\\sigma_j) \\otimes [(\\sigma_k \\otimes \\sigma_k)(\\sigma_j \\otimes \\sigma_0)],\n",
    "\\end{align}\n",
    "\n",
    "applying the aforementioned property again, for the square brackets, yields\n",
    "\n",
    "\\begin{align}\n",
    "&= (\\sigma_j \\sigma_0) \\otimes [\\sigma_j \\sigma_k \\otimes \\sigma_0 \\sigma_k] - (\\sigma_0 \\sigma_j) \\otimes [\\sigma_k \\sigma_j \\otimes \\sigma_k \\sigma_0] \\\\\n",
    "&=\\sigma_j \\otimes [\\sigma_j \\sigma_k \\otimes \\sigma_k] - \\sigma_j \\otimes [\\sigma_k \\sigma_j \\otimes \\sigma_k].\n",
    "\\end{align}\n",
    "\n",
    "Now, using the $\\mathfrak{su}(2)$ Lie algebra ($\\sigma_j \\sigma_k = \\delta_{jk} \\sigma_0 +i\\epsilon_{jkl} \\sigma_l$) and noting that, for $j \\ne k$, it becomes $\\sigma_j \\sigma_k = i\\epsilon_{jkl} \\sigma_l$, one then gets\n",
    "\n",
    "\\begin{align}\n",
    "&=(\\sigma_j \\otimes i\\epsilon_{jkl} \\sigma_l \\otimes \\sigma_k)-(\\sigma_j \\otimes i\\epsilon_{kjl} \\sigma_l \\otimes \\sigma_k),\n",
    "\\end{align}\n",
    "\n",
    "and finally, using $\\epsilon_{ijk}=-\\epsilon_{jik}$\n",
    "\n",
    "\\begin{align}\n",
    "&=(\\sigma_j \\otimes i\\epsilon_{jkl} \\sigma_l \\otimes \\sigma_k)+(\\sigma_j \\otimes i\\epsilon_{jkl} \\sigma_l \\otimes \\sigma_k) \\\\\n",
    "&= 2(\\sigma_j \\otimes i\\epsilon_{jkl} \\sigma_l \\otimes \\sigma_k) = 2i\\epsilon_{jkl}\\sigma_j\\otimes \\sigma_l \\otimes \\sigma_k \\ne 0.\n",
    "\\end{align}\n",
    "\n",
    "Q.E.D."
   ]
  },
  {
   "cell_type": "markdown",
   "metadata": {
    "id": "k29_l-HtR5Gz"
   },
   "source": [
    "## $e^{\\pm i\\theta A} = \\cos(\\theta) \\mathbb{I} \\pm i \\sin(\\theta)A$"
   ]
  },
  {
   "cell_type": "markdown",
   "metadata": {
    "id": "svy1vPmOR6wr"
   },
   "source": [
    "Let $A \\in M^{m,m}$ be a $m$x$m$ involutory matrix, such that $A^2=\\mathbb{I}$.\n",
    "\n",
    "Using the Taylor series expansion for the exponential function of a square matrix $A$, given by\n",
    "\n",
    "\\begin{eqnarray}\n",
    "e^{A}=\\sum_{i=0}^{\\infty}\\frac{A^{n}}{n!} = \\mathbb{I} +A+\\frac{A^{2}}{2}+\\frac{A^{3}}{3!}+\\cdots+\\frac{A^{n}}{n!},\n",
    "\\end{eqnarray}\n",
    "\n",
    "one then has\n",
    "\n",
    "\\begin{eqnarray}\n",
    "e^{\\pm i\\theta A} &=& \\mathbb{I} \\pm i\\theta A + \\frac{(i\\theta A)^2}{2!} + \\frac{(\\pm i\\theta A)^3}{3!} + \\frac{(i\\theta A)^4}{4!} +  \\frac{(\\pm i\\theta A)^5}{5!} + \\cdots + \\frac{(\\pm i\\theta A)^n}{n!}\\\\\n",
    "&=& \\mathbb{I} \\pm i\\theta A - \\frac{(\\theta A)^2}{2!} \\pm \\frac{(i\\theta A)^3}{3!} + \\frac{(\\theta A)^{4}}{4!} \\pm \\frac{(i\\theta A)^5}{5!} + \\cdots + \\frac{(\\pm i\\theta A)^n}{n!} \\\\\n",
    "&=& \\mathbb{I} \\pm i\\theta A - \\frac{\\theta^2}{2!} \\mathbb{I} \\pm i \\Bigg(\\frac{-\\theta^3}{3!}\\Bigg) A + \\frac{\\theta^4}{4!} \\mathbb{I} \\pm i \\frac{\\theta^5}{5!}A + \\cdots +\\\\\n",
    "&=&\\left(1-\\frac{\\theta^{2}}{2}+\\frac{\\theta^{4}}{4!}+\\cdots+\\right) \\mathbb{I} \\pm i\\left(\\theta-\\frac{\\theta^{3}}{3!}+\\frac{\\theta^{5}}{5!}+\\cdots+\\right)A\\\\\n",
    "&=& \\cos(\\theta) \\mathbb{I} \\pm i \\sin(\\theta)A.\n",
    "\\end{eqnarray}\n",
    "\n",
    "Q.E.D."
   ]
  },
  {
   "cell_type": "markdown",
   "metadata": {
    "id": "HCTP2WcYym3p"
   },
   "source": [
    "Examples:\n",
    "\n",
    "\\begin{equation}\n",
    "\\exp(\\pm iX\\theta/2) = cos(\\theta/2)I\\pm isin(\\theta/2)X = \\begin{bmatrix} \\cos(\\theta/2) & \\pm i\\sin(\\theta/2) \\\\ \\pm i\\sin(\\theta/2) & \\cos(\\theta/2) \\end{bmatrix}.\n",
    "\\end{equation}\n",
    "\n",
    "\\begin{equation}\n",
    "\\exp(\\pm iY\\theta/2) = cos(\\theta/2)I\\pm isin(\\theta/2)Y = \\begin{bmatrix} \\cos(\\theta/2) & \\pm\\sin(\\theta/2) \\\\ \\mp \\sin(\\theta/2) & \\cos(\\theta/2) \\end{bmatrix}.\n",
    "\\end{equation}\n",
    "\n",
    "\\begin{equation}\n",
    "\\exp(\\pm iZ\\phi/2) = cos(\\phi/2)I\\pm isin(\\phi/2)Z = \\begin{bmatrix} e^{\\pm i\\phi/2} & 0 \\\\0 & \\mp e^{i\\phi/2}\n",
    "\\end{bmatrix}.\n",
    "\\end{equation}"
   ]
  },
  {
   "cell_type": "markdown",
   "metadata": {
    "id": "IAaok5xP_nED"
   },
   "source": [
    "## $e^{(At_1+Bt_2)}=e^{At_1}e^{Bt_2}$ iff $[A,B] = \\mathbb{O}$"
   ]
  },
  {
   "cell_type": "markdown",
   "metadata": {
    "id": "yhho-5_d_qiv"
   },
   "source": [
    "Let $A \\in M^{m,m}$ and $B \\in M^{n,n}$ represent two commuting square matrices over the scalar field of the complex numbers $\\mathbb{C}^m$.\n",
    "\n",
    "Using the Taylor series expansion for the exponential function of a square matrix $A$, given by\n",
    "\n",
    "\\begin{eqnarray}\n",
    "e^{A}=\\sum_{i=0}^{\\infty}\\frac{A^{n}}{n!} = \\mathbb{I} +A+\\frac{A^{2}}{2}+\\frac{A^{3}}{3!}+\\cdots+\\frac{A^{n}}{n!},\n",
    "\\end{eqnarray}\n",
    "\n",
    "one has\n",
    "\n",
    "\\begin{eqnarray}\n",
    "e^{(A'+B')} &=& \\sum_{i=0}^{\\infty}\\frac{(A'+B')^{n}}{n!} = \\mathbb{I} +(A'+B')+\\frac{(A'+B')^{2}}{2}+\\frac{(A'+B')^{3}}{3!}+\\cdots+\\frac{(A'+B')^{n}}{n!}\n",
    "\\\\&=&\n",
    "\\mathbb{I} +(A'+B')+\\frac{1}{2}(A'+B')(A'+B')+\\frac{1}{3!}(A'+B')(A'+B')(A'+B')+\\cdots+\\frac{(A'+B')^{n}}{n!}\n",
    "\\\\&=&\n",
    "\\mathbb{I} +(A'+B')+\\frac{1}{2}(A'^2+A'B'+B'A'+B'^2)+\\frac{1}{3!}(A'^2+A'B'+B'A'+B'^2)(A'+B')+\\cdots+.\n",
    "\\end{eqnarray}\n",
    "\n",
    "where it was used the property $(A+B)(C+D) = AC+AD+BC+BD$. \n",
    "\n",
    "If $[A',B']=\\mathbb{0}$, then\n",
    "\n",
    "\\begin{eqnarray}\n",
    "e^{(A'+B')} &=& \\mathbb{I}+(A'+B')+\\frac{1}{2}(A'^2+2A'B'+B'^2)+\\frac{1}{3!}(A'^2+2A'B'+B'^2)(A'+B')+\\cdots\n",
    "\\\\\n",
    "&=& \\mathbb{I}+(A'+B')+\\frac{1}{2}(A'^2+2A'B'+B'^2)+\\frac{1}{3!}(A'^3+A'^2B'+2A'B'A'+2A'B'^2+B'^2A'+B'^3)+\\cdots\n",
    "\\\\\n",
    "&=& \\mathbb{I}+(A'+B')+\\frac{1}{2}(A'^2+2A'B'+B'^2)+\\frac{1}{3!}(A'^3+A'^2B'+2A'^2B'+2A'B'^2+A'B'^2+B'^3)+\\cdots\n",
    "\\\\\n",
    "&=& \\mathbb{I}+(A'+B')+\\frac{1}{2}(A'^2+2A'B'+B'^2)+\\frac{1}{2\\cdot 3}(A'^3+3A'^2B'+3A'B'^2+B'^3)+\\cdots\n",
    "\\\\\n",
    "&=&\\mathbb{I}+B'+\\frac{B'^{2}}{2}+\\frac{B'^{3}}{3!}+A'+A'B'+\\frac{A'B'^{2}}{2}+\\frac{A'^{2}}{2}+\\frac{A'^{2}B'}{2}+\\frac{A'^3}{3!}+\\cdots\n",
    "\\\\\n",
    "&=& (\\mathbb{I} +A'+\\frac{A'^{2}}{2}+\\frac{A'^{3}}{3!}+\\cdots)(\\mathbb{I}+B'+\\frac{B'^{2}}{2}+\\frac{B'^{3}}{3!}+\\cdots)\n",
    "\\\\\n",
    "&=& e^{A'} e^{B'}.\n",
    "\\end{eqnarray}\n",
    "\n",
    "\n",
    "\n",
    "Q.E.D."
   ]
  },
  {
   "cell_type": "markdown",
   "metadata": {
    "id": "bib5iZkfiaoN"
   },
   "source": [
    "**Verifying using Cauchy product:**\n",
    "\n",
    "$$...$$"
   ]
  },
  {
   "cell_type": "markdown",
   "metadata": {
    "id": "rZKVlDABFYWS"
   },
   "source": [
    "## $e^{A\\otimes \\mathbb{I}_m}=e^A\\otimes \\mathbb{I}_m$"
   ]
  },
  {
   "cell_type": "markdown",
   "metadata": {
    "id": "hhoPoTD1wJdw"
   },
   "source": [
    "### **Verifying using Taylor series expansion:**"
   ]
  },
  {
   "cell_type": "markdown",
   "metadata": {
    "id": "JeW8LtOPFZOQ"
   },
   "source": [
    "Let $A \\in M^{m,m}$ be a $m$x$m$ square matrix over the scalar field of the complex numbers $\\mathbb{C}^m$.\n",
    "\n",
    "Using the Taylor series expansion for the exponential function of a square matrix $A$, given by\n",
    "\n",
    "\\begin{eqnarray}\n",
    "e^{A}=\\sum_{i=0}^{\\infty}\\frac{A^{n}}{n!} = \\mathbb{I} +A+\\frac{A^{2}}{2}+\\frac{A^{3}}{3!}+\\cdots+\\frac{A^{n}}{n!},\n",
    "\\end{eqnarray}\n",
    "\n",
    "one has\n",
    "\n",
    "\\begin{eqnarray}\n",
    "e^{A\\otimes \\mathbb{I}_m} &=& \\sum_{i=0}^{\\infty}\\frac{(A\\otimes \\mathbb{I}_m)^{n}}{n!} = (\\mathbb{I}_m\\otimes\\mathbb{I}_m)+(A\\otimes \\mathbb{I}_m)+\\frac{(A\\otimes \\mathbb{I}_m)^{2}}{2}+\\frac{(A\\otimes \\mathbb{I}_m)^{3}}{3!}+\\cdots+\\frac{(A\\otimes \\mathbb{I}_m)^{n}}{n!} \\\\\n",
    "&=& \n",
    "(\\mathbb{I}_m\\otimes\\mathbb{I}_m)+(A\\otimes \\mathbb{I}_m)+\\frac{1}{2}(A\\otimes \\mathbb{I}_m)(A\\otimes \\mathbb{I}_m)+\\frac{1}{3!}(A\\otimes \\mathbb{I}_m)(A\\otimes \\mathbb{I}_m)(A\\otimes \\mathbb{I}_m)+\\cdots+\\frac{(A\\otimes \\mathbb{I}_m)^{n}}{n!}\\\\\n",
    "&=&\n",
    "(\\mathbb{I}_m\\otimes\\mathbb{I}_m)+(A\\otimes \\mathbb{I}_m)+\\frac{1}{2}(A^2\\otimes \\mathbb{I}_m^2)+\\frac{1}{3!}(A^2\\otimes \\mathbb{I}_m^2)(A\\otimes \\mathbb{I}_m)+\\cdots+\\frac{1}{n!}(A^{n-1}\\otimes \\mathbb{I}_m^{n-1})(A\\otimes \\mathbb{I}_m) \\\\\n",
    "&=&\n",
    "(\\mathbb{I}_m\\otimes\\mathbb{I}_m)+(A\\otimes \\mathbb{I}_m)+\\frac{1}{2}(A^2\\otimes \\mathbb{I}_m^2)+\\frac{1}{3!}(A^3\\otimes \\mathbb{I}_m^3)+\\cdots+\\frac{1}{n!}(A^n\\otimes \\mathbb{I}_m^n)\\\\\n",
    "&=&\n",
    "(\\mathbb{I}_m\\otimes\\mathbb{I}_m)+(A\\otimes \\mathbb{I}_m)+\\frac{1}{2}(A^2\\otimes \\mathbb{I}_m)+\\frac{1}{3!}(A^3\\otimes \\mathbb{I}_m)+\\cdots+\\frac{1}{n!}(A^n \\otimes \\mathbb{I}_m)\\\\\n",
    "&=&\n",
    "\\bigg(\\mathbb{I}_m+A+\\frac{1}{2}A^2+\\frac{1}{3!}A^3 + \\cdots + \\frac{1}{n!}A^n\\bigg)\\otimes \\mathbb{I}_m = e^A \\otimes \\mathbb{I}_m,\n",
    "\\end{eqnarray}\n",
    "\n",
    "where it was used $(A\\otimes B)(C\\otimes D) = AC\\otimes BD$, followed by $\\mathbb{I}^n =\\mathbb{I}$, and finally the right–distributive property $(A+B)\\otimes C = A\\otimes C + B\\otimes C$.\n",
    "\n",
    "Q.E.D."
   ]
  },
  {
   "cell_type": "markdown",
   "metadata": {
    "id": "8mTa4ilkydaQ"
   },
   "source": [
    "### **Verifying with NumPy:**"
   ]
  },
  {
   "cell_type": "code",
   "execution_count": 91,
   "metadata": {
    "executionInfo": {
     "elapsed": 24,
     "status": "aborted",
     "timestamp": 1683810796462,
     "user": {
      "displayName": "Lucas Camponogara Viera",
      "userId": "14322290658374940800"
     },
     "user_tz": 180
    },
    "id": "TUYQGv8gycRY"
   },
   "outputs": [
    {
     "data": {
      "text/plain": [
       "True"
      ]
     },
     "execution_count": 91,
     "metadata": {},
     "output_type": "execute_result"
    }
   ],
   "source": [
    "A=np.array([[1,35],[56,6]]) # One can try different entry values for the matrix.\n",
    "I=sigma0 # Identity.\n",
    "\n",
    "np.allclose(expm(np.kron(A,I)), np.kron(expm(A), I)) # e^{I⊗A}=I⊗e^{A}"
   ]
  },
  {
   "cell_type": "markdown",
   "metadata": {
    "id": "9L6GTAZy-lxz"
   },
   "source": [
    "## $e^{\\mathbb{I}_m⊗A}=\\mathbb{I}_m⊗e^{A}$"
   ]
  },
  {
   "cell_type": "markdown",
   "metadata": {
    "id": "QqHURPBU-muZ"
   },
   "source": [
    "**Verifying with NumPy:**"
   ]
  },
  {
   "cell_type": "code",
   "execution_count": 84,
   "metadata": {},
   "outputs": [
    {
     "data": {
      "text/plain": [
       "True"
      ]
     },
     "execution_count": 84,
     "metadata": {},
     "output_type": "execute_result"
    }
   ],
   "source": [
    "A = np.array([[1, 35], [56, 6]])  # One can try different entry values for the matrix.\n",
    "I = np.identity(2)  # Identity.\n",
    "\n",
    "result = np.allclose(expm(np.kron(I, A)), np.kron(I, expm(A))) # e^{I⊗A}=I⊗e^{A}\n",
    "result"
   ]
  },
  {
   "cell_type": "markdown",
   "metadata": {
    "id": "b2YEKLgBXOTq"
   },
   "source": [
    "## $e^A \\otimes e^B=e^{A \\otimes \\mathbb{I}_n} e^{\\mathbb{I}_m \\otimes B}=e^{A \\otimes \\mathbb{I}_n + \\mathbb{I}_m \\otimes B}$"
   ]
  },
  {
   "cell_type": "markdown",
   "metadata": {
    "id": "JHAq4xrXjhuy"
   },
   "source": [
    "Let $A \\in M^{m,m}$ and $B \\in M^{n,n}$ represent complex square matrices. \n",
    "\n",
    "Since $[A\\otimes \\mathbb{I}_n,\\mathbb{I}_m\\otimes B] = \\mathbb{O}$, one has\n",
    "\n",
    "$$e^{A \\otimes \\mathbb{I}_n + \\mathbb{I}_m \\otimes B}=e^{A \\otimes \\mathbb{I}_n} e^{\\mathbb{I}_m \\otimes B}.$$\n",
    "\n",
    "Applying $e^{A\\otimes \\mathbb{I}}=e^A\\otimes \\mathbb{I}$ and $e^{\\mathbb{I} \\otimes A}=\\mathbb{I} \\otimes e^A$, one then gets\n",
    "\n",
    "$$e^{A \\otimes \\mathbb{I}_n} e^{\\mathbb{I}_m \\otimes B}=(e^A\\otimes \\mathbb{I}_n)(\\mathbb{I}_m \\otimes e^B).$$\n",
    "\n",
    "Finally, the mixed product property, $(A\\otimes B)(C\\otimes D) = AC\\otimes BD$, yields\n",
    "\n",
    "$$(e^A\\otimes \\mathbb{I}_n)(\\mathbb{I}_m \\otimes e^B)=e^A\\mathbb{I}_m \\otimes \\mathbb{I}_n e^B = e^A \\otimes e^B.$$\n",
    "\n",
    "Q.E.D."
   ]
  },
  {
   "cell_type": "markdown",
   "metadata": {
    "id": "Ft4XpBZxjiTe"
   },
   "source": [
    "### **Verifying using Taylor series expansion:**"
   ]
  },
  {
   "cell_type": "markdown",
   "metadata": {
    "id": "A2MweJuyXRQ6"
   },
   "source": [
    "Let $A \\in M^{m,m}$ and $B \\in M^{n,n}$ represent complex square matrices. \n",
    "\n",
    "Using the Taylor series expansion for the exponential function of a square matrix $A$, given by\n",
    "\n",
    "\\begin{eqnarray}\n",
    "e^{A}=\\sum_{i=0}^{\\infty}\\frac{A^{i}}{i!} = \\mathbb{I} +A+\\frac{A^{2}}{2}+\\frac{A^{3}}{3!}+\\cdots+\\frac{A^{i}}{i!},\n",
    "\\end{eqnarray}\n",
    "\n",
    "one has\n",
    "\n",
    "\\begin{eqnarray}\n",
    "e^A \\otimes e^B &=& \\sum_{k=0}^{\\infty} \\frac{A^k}{k!} \\otimes \\sum_{j=0}^{\\infty} \\frac{B^j}{j!} \n",
    "\\\\\n",
    "&=& \\sum_{k=0}^{\\infty} \\sum_{j=0}^{\\infty} \\frac{A^k \\otimes B^j}{k!j!}\n",
    "\\\\\n",
    "&=& \\sum_{k=0}^{\\infty} \\sum_{j=0}^{\\infty} \\frac{(A^k \\mathbb{I}_m) \\otimes (\\mathbb{I}_n B^j)}{k!j!}\n",
    "\\\\\n",
    "&=&\\sum_{k=0}^{\\infty}\\sum_{j=0}^{\\infty} \\frac{(A^k \\otimes \\mathbb{I}_n)(\\mathbb{I}_m \\otimes B^j)}{k!j!}\n",
    "\\\\\n",
    "&=&\\sum_{k=0}^{\\infty}\\sum_{j=0}^{\\infty} \\frac{(A^k \\otimes \\mathbb{I}_n^k)(\\mathbb{I}_m^j \\otimes B^j)}{k!j!}\n",
    "\\\\\n",
    "&=&\\sum_{k=0}^{\\infty} \\sum_{j=0}^{\\infty} \\frac{(A \\otimes \\mathbb{I}_n )^k(\\mathbb{I}_m \\otimes B)^j}{k!j!}\n",
    "\\\\\n",
    "&=& \\sum_{k=0}^{\\infty}\\frac{(A \\otimes \\mathbb{I}_n)^k}{k!}\\sum_{j=0}^{\\infty}\\frac{(\\mathbb{I}_m \\otimes B)^j}{j!}\n",
    "\\\\\n",
    "&=& e^{A \\otimes \\mathbb{I}_n} e^{\\mathbb{I}_m \\otimes B}.\n",
    "\\end{eqnarray}\n",
    "\n",
    "Q.E.D."
   ]
  },
  {
   "cell_type": "markdown",
   "metadata": {
    "id": "PKegnniy-Cfy"
   },
   "source": [
    "### **Verifying with NumPy:**\n",
    "\n",
    "- Considering the particular case, where $A=$ Pauli-X and $B=$ Pauli-Y."
   ]
  },
  {
   "cell_type": "code",
   "execution_count": 54,
   "metadata": {
    "executionInfo": {
     "elapsed": 25,
     "status": "aborted",
     "timestamp": 1683810796464,
     "user": {
      "displayName": "Lucas Camponogara Viera",
      "userId": "14322290658374940800"
     },
     "user_tz": 180
    },
    "id": "85PEjHhK85Wa"
   },
   "outputs": [
    {
     "data": {
      "text/plain": [
       "True"
      ]
     },
     "execution_count": 54,
     "metadata": {},
     "output_type": "execute_result"
    }
   ],
   "source": [
    "A=sigma1 # Pauli-X.\n",
    "B=sigma2 # Pauli-Y.\n",
    "I=sigma0 # Identity.\n",
    "\n",
    "((expm(np.kron(A,I))@expm(np.kron(I,B))).round(4) == (np.kron(expm(A),I)@np.kron(I,expm(B))).round(4)).all() # e^{A⊗I}e^{I⊗B}=(e^{A}⊗I)(I⊗e^{B})"
   ]
  },
  {
   "cell_type": "code",
   "execution_count": 55,
   "metadata": {
    "executionInfo": {
     "elapsed": 26,
     "status": "aborted",
     "timestamp": 1683810796465,
     "user": {
      "displayName": "Lucas Camponogara Viera",
      "userId": "14322290658374940800"
     },
     "user_tz": 180
    },
    "id": "K879xCloL8Y0"
   },
   "outputs": [
    {
     "data": {
      "text/plain": [
       "array([[2.3811+0.j    , 0.    -1.8134j, 1.8134+0.j    , 0.    -1.3811j],\n",
       "       [0.    +1.8134j, 2.3811+0.j    , 0.    +1.3811j, 1.8134+0.j    ],\n",
       "       [1.8134+0.j    , 0.    -1.3811j, 2.3811+0.j    , 0.    -1.8134j],\n",
       "       [0.    +1.3811j, 1.8134+0.j    , 0.    +1.8134j, 2.3811+0.j    ]])"
      ]
     },
     "execution_count": 55,
     "metadata": {},
     "output_type": "execute_result"
    }
   ],
   "source": [
    "(expm(np.kron(A,I))@expm(np.kron(I,B))).round(4) # e^{A⊗I}e^{I⊗B}."
   ]
  },
  {
   "cell_type": "code",
   "execution_count": 56,
   "metadata": {
    "executionInfo": {
     "elapsed": 26,
     "status": "aborted",
     "timestamp": 1683810796465,
     "user": {
      "displayName": "Lucas Camponogara Viera",
      "userId": "14322290658374940800"
     },
     "user_tz": 180
    },
    "id": "abfpicZtJTji"
   },
   "outputs": [
    {
     "data": {
      "text/plain": [
       "array([[2.3811+0.j    , 0.    -1.8134j, 1.8134+0.j    , 0.    -1.3811j],\n",
       "       [0.    +1.8134j, 2.3811+0.j    , 0.    +1.3811j, 1.8134+0.j    ],\n",
       "       [1.8134+0.j    , 0.    -1.3811j, 2.3811+0.j    , 0.    -1.8134j],\n",
       "       [0.    +1.3811j, 1.8134+0.j    , 0.    +1.8134j, 2.3811+0.j    ]])"
      ]
     },
     "execution_count": 56,
     "metadata": {},
     "output_type": "execute_result"
    }
   ],
   "source": [
    "(np.kron(expm(A),I)@np.kron(I,expm(B))).round(4) # (e^{A}⊗I)(I⊗e^{B})."
   ]
  },
  {
   "cell_type": "code",
   "execution_count": 57,
   "metadata": {
    "executionInfo": {
     "elapsed": 27,
     "status": "aborted",
     "timestamp": 1683810796466,
     "user": {
      "displayName": "Lucas Camponogara Viera",
      "userId": "14322290658374940800"
     },
     "user_tz": 180
    },
    "id": "5Hg99bmVJevM"
   },
   "outputs": [
    {
     "data": {
      "text/plain": [
       "array([[2.3811+0.j    , 0.    -1.8134j, 1.8134+0.j    , 0.    -1.3811j],\n",
       "       [0.    +1.8134j, 2.3811+0.j    , 0.    +1.3811j, 1.8134+0.j    ],\n",
       "       [1.8134+0.j    , 0.    -1.3811j, 2.3811+0.j    , 0.    -1.8134j],\n",
       "       [0.    +1.3811j, 1.8134+0.j    , 0.    +1.8134j, 2.3811+0.j    ]],\n",
       "      dtype=complex64)"
      ]
     },
     "execution_count": 57,
     "metadata": {},
     "output_type": "execute_result"
    }
   ],
   "source": [
    "np.kron(expm(A),expm(B)).round(4) # e^{A}⊗e^{B}."
   ]
  },
  {
   "cell_type": "markdown",
   "metadata": {
    "id": "NBFnvx8C0pEV"
   },
   "source": [
    "## $R_{\\hat{n}}(\\theta_2)R_{\\hat{n}}(\\theta_1)=R_{\\hat{n}}(\\theta_1+\\theta_2)$"
   ]
  },
  {
   "cell_type": "markdown",
   "metadata": {
    "id": "wwgP9nMU1M1N"
   },
   "source": [
    "$$R_{\\hat{n}}(\\theta_2)R_{\\hat{n}}(\\theta_1)=e^{-i(\\hat{n}\\cdot \\vec{\\sigma})\\theta_2/2}e^{-i(\\hat{n}\\cdot \\vec{\\sigma})\\theta_1/2}.$$\n",
    "\n",
    "Now, since $[\\theta_1(\\hat{n}\\cdot\\vec{\\sigma}),\\theta_2(\\hat{n}\\cdot\\vec{\\sigma})]=\\mathbb{O}$, one can use $e^{At_1}e^{Bt_2}=e^{(At_1+Bt_2)}$ to obtain\n",
    "\n",
    "$$R_{\\hat{n}}(\\theta_2)R_{\\hat{n}}(\\theta_1)=e^{-i(\\hat{n}\\cdot \\vec{\\sigma})\\theta_2/2}e^{-i(\\hat{n}\\cdot \\vec{\\sigma})\\theta_1/2} = e^{-i(\\hat{n}\\cdot \\vec{\\sigma}) (\\theta_1+\\theta_2)/2}=R_{\\hat{n}}(\\theta_1+\\theta_2).$$\n",
    "\n",
    "Q.E.D."
   ]
  },
  {
   "cell_type": "markdown",
   "metadata": {
    "id": "vKVCkiSA1M3X"
   },
   "source": [
    "## $R_{\\hat{n}_j}(\\theta_1) \\otimes R_{\\hat{n}_k}(\\theta_2)= e^{-\\frac{i}{2}((\\theta_1\\hat{\\sigma}_j) \\otimes \\mathbb{I}+\\mathbb{I} \\otimes (\\theta_2\\hat{\\sigma}_k))}$"
   ]
  },
  {
   "cell_type": "markdown",
   "metadata": {
    "id": "NszIN_Lg1M6L"
   },
   "source": [
    "$$R_{\\hat{n}_j}(\\theta_1) \\otimes R_{\\hat{n}_k}(\\theta_2)=e^{-i(\\hat{n}_j\\cdot \\vec{\\sigma})\\theta_1/2} \\otimes e^{-i(\\hat{n}_k\\cdot \\vec{\\sigma})\\theta_2/2},$$\n",
    "\n",
    "and using $e^A \\otimes e^B=e^{A \\otimes \\mathbb{I}_n} e^{\\mathbb{I}_m \\otimes B}=e^{A \\otimes \\mathbb{I}_n + \\mathbb{I}_m \\otimes B},$ one gets\n",
    "\n",
    "$$R_{\\hat{n}_j}(\\theta_1) \\otimes R_{\\hat{n}_k}(\\theta_2)=e^{-i(\\hat{n}_j\\cdot \\vec{\\sigma})\\theta_1/2} \\otimes e^{-i(\\hat{n}_k\\cdot \\vec{\\sigma})\\theta_2/2} = e^{-\\frac{i}{2}((\\theta_1\\hat{\\sigma}_j) \\otimes \\mathbb{I}+\\mathbb{I} \\otimes (\\theta_2 \\hat{\\sigma}_k))}.$$\n",
    "\n",
    "Q.E.D."
   ]
  }
 ],
 "metadata": {
  "colab": {
   "collapsed_sections": [
    "L9iJddiN0EP-",
    "F6XlOF_t62F-",
    "jYUw2UzJ0EQB",
    "7jEjUPkr0sNe",
    "Mvlp2TNm0t6q",
    "TkBJL9UO0wcI",
    "2dBxj8wQ0yJx",
    "1q-jgMT10zxN",
    "yMREF3-w01OP",
    "0zlNNouH02ub",
    "3E08U8mY0jqk",
    "G11Tdyb5rzTo",
    "dlxWB10nN7_O",
    "8JRVm3-Jzhth",
    "VOJRQ1w_dwrM",
    "5j32HyrMrOaE",
    "8reczGGXXwbq",
    "DnB_dlXYUBt3",
    "r8jiPap9UAvj",
    "Sy1J816qq8Ll",
    "rh0zMoBap3ed",
    "NNFyBlG94rym",
    "tubczuM4SyIu",
    "YjhmLTGIgh8-",
    "qGlKa7uOZtSH",
    "HBxBEuEJZ44h",
    "k29_l-HtR5Gz",
    "IAaok5xP_nED",
    "rZKVlDABFYWS",
    "9L6GTAZy-lxz",
    "b2YEKLgBXOTq",
    "Ft4XpBZxjiTe",
    "PKegnniy-Cfy",
    "NBFnvx8C0pEV",
    "vKVCkiSA1M3X"
   ],
   "provenance": []
  },
  "kernelspec": {
   "display_name": "Python 3 (ipykernel)",
   "language": "python",
   "name": "python3"
  },
  "language_info": {
   "codemirror_mode": {
    "name": "ipython",
    "version": 3
   },
   "file_extension": ".py",
   "mimetype": "text/x-python",
   "name": "python",
   "nbconvert_exporter": "python",
   "pygments_lexer": "ipython3",
   "version": "3.11.5"
  }
 },
 "nbformat": 4,
 "nbformat_minor": 4
}
