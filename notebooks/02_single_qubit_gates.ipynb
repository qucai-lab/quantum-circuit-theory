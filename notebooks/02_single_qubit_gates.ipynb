{
 "cells": [
  {
   "cell_type": "markdown",
   "metadata": {
    "id": "CuSWcHwc0SVj"
   },
   "source": [
    "<!-- Badges: -->\n",
    "\n",
    "<!-- Title: -->\n",
    "<div align=\"center\">\n",
    "  <h1><b> Single-qubit gates </b></h1>\n",
    "  <h2> Quantum Circuit Theory and Implementations </h2>\n",
    "</div>\n",
    "<br>\n",
    "\n",
    "<b>Author:</b> <a target=\"_blank\" href=\"https://github.com/camponogaraviera\">Lucas Camponogara Viera</a>"
   ]
  },
  {
   "cell_type": "markdown",
   "metadata": {
    "id": "0U_0A5LcqCVY"
   },
   "source": [
    "<div align='center'>\n",
    "<table class=\"tfo-notebook-buttons\" align=\"head\">\n",
    "  <td>\n",
    "    <a target=\"_blank\" href=\"https://github.com/QuCAI-Lab/quantum-circuit-theory\"><img src=\"https://www.tensorflow.org/images/GitHub-Mark-32px.png\" /></a>\n",
    "  </td>\n",
    "</table>\n",
    "</div>"
   ]
  },
  {
   "cell_type": "markdown",
   "metadata": {
    "id": "fvpQ36Ee7SNf"
   },
   "source": [
    "# Table of Contents\n",
    "\n",
    "- Pauli gates.\n",
    "- Hadamard gate a.k.a superposition gate.\n",
    "- $R_{\\hat{n}}(\\theta)$ standard rotation single-qubit gate.\n",
    "- $P(\\lambda)$ single-qubit phase gate.\n",
    "    - Phase gate S.\n",
    "    - Phase gate T.\n",
    "- $U(\\alpha, \\beta, \\gamma, \\delta)$ arbitrary single-qubit gate.\n",
    "- $U(\\theta, \\phi, \\lambda)$ three-parameter single-qubit gate.\n",
    "- Qiskit $U1(\\lambda)\\equiv U(0,0,\\lambda)=P(\\lambda)$.\n",
    "- Qiskit $U2(\\phi, \\lambda) \\equiv U(\\pi/2, \\phi, \\lambda)$."
   ]
  },
  {
   "cell_type": "markdown",
   "metadata": {
    "id": "zFKdm2IFF26h"
   },
   "source": [
    "# Pauli gates"
   ]
  },
  {
   "cell_type": "markdown",
   "metadata": {
    "id": "z8P2cEbO02pM"
   },
   "source": [
    "Pauli gates are single-qubit `Hermitian` gates represented by the unitary Pauli matrices $X, Y$ and $Z$ that perform a rotation of $\\theta=\\pi$ radians around the $x$, $y$, and $z$ axes, respectively. "
   ]
  },
  {
   "cell_type": "markdown",
   "metadata": {
    "id": "xJYitEZA4tIf"
   },
   "source": [
    "### Pauli-$X$ gate a.k.a [bit-flip](https://qiskit.org/documentation/tutorials/circuits/3_summary_of_quantum_operations.html#X:-bit-flip-gate) gate\n"
   ]
  },
  {
   "cell_type": "markdown",
   "metadata": {
    "id": "JwaNhFjqF4zA"
   },
   "source": [
    "Let $X$ denote the involutory operator representing the Pauli-$X$ gate.\n",
    "\n",
    "- It performs a single-qubit rotation of $\\pi$ radians around the $x$-axis:\n",
    "\n",
    "\\begin{equation}\n",
    "X \\equiv \\sigma_x \\equiv \\sigma_1 \\doteq \\begin{bmatrix} 0 & 1 \\\\ 1 & 0 \\end{bmatrix}.\n",
    "\\end{equation}\n",
    "\n",
    "- Action on the canonical basis $\\{|0\\rangle, |1\\rangle\\}$:\n",
    "\n",
    "$$ X |0\\rangle = |1\\rangle.$$ \n",
    "$$X |1\\rangle = |0\\rangle.$$  \n",
    "\n",
    "- Action on the $X$-basis $\\{|+\\rangle, |-\\rangle\\}$:\n",
    "\n",
    "\\begin{align}\n",
    "X |+\\rangle &= \\frac{1}{\\sqrt{2}}(X|0\\rangle+X|1\\rangle)=\\frac{1}{\\sqrt{2}}(|1\\rangle+|0\\rangle)=|+\\rangle = \\frac{1}{\\sqrt{2}}\\begin{bmatrix} 1 \\\\ 1 \\end{bmatrix}.\\\\\n",
    "X |-\\rangle &= \\frac{1}{\\sqrt{2}}(X|0\\rangle-X|1\\rangle) =\\frac{1}{\\sqrt{2}}(|1\\rangle-|0\\rangle)=-|-\\rangle=\\frac{1}{\\sqrt{2}}\\begin{bmatrix} -1 \\\\ 1 \\end{bmatrix}.\n",
    "\\end{align}\n",
    "\n",
    "Meaning that $|+\\rangle$ and $|-\\rangle$ are two eigenstates of the $X$-gate, i.e, they form an orthonormal basis set a.k.a the $X$-basis. With that, one can write the following spectral decomposition:\n",
    "\n",
    "$$X=\\sum_{j=0}^{d=1} x_j |x_j \\rangle \\langle x_j| = |+\\rangle \\langle +|-|-\\rangle \\langle -|.$$"
   ]
  },
  {
   "cell_type": "markdown",
   "metadata": {
    "id": "rQ5-KHIq4uRC"
   },
   "source": [
    "### Pauli-$Y$ gate a.k.a [bit- and phase-flip](https://qiskit.org/documentation/tutorials/circuits/3_summary_of_quantum_operations.html#Y:-bit--and-phase-flip-gate) gate\n"
   ]
  },
  {
   "cell_type": "markdown",
   "metadata": {
    "id": "ccu7VHHmG1Zg"
   },
   "source": [
    "- Performs a single-qubit rotation of $\\pi$ radians around the $y$-axis:\n",
    "\n",
    "\\begin{equation}\n",
    "Y \\equiv \\sigma_y \\equiv \\sigma_2 \\doteq \\begin{bmatrix} 0 & -i \\\\ i & 0 \\end{bmatrix}.\n",
    "\\end{equation}\n",
    "\n",
    "- Action on the canonical basis $\\{|0\\rangle, |1\\rangle\\}$:\n",
    "\n",
    "\\begin{align}\n",
    "Y |0\\rangle &= i|1\\rangle.\\\\\n",
    "Y |1\\rangle &= -i|0\\rangle.\n",
    "\\end{align}\n",
    "\n",
    "- Action on the $Y$-basis $\\{|\\oplus\\rangle, |\\ominus\\rangle\\}$:\n",
    "\n",
    "\\begin{align}\n",
    "Y |\\oplus\\rangle &= \\frac{1}{\\sqrt{2}}(Y|0\\rangle+iY|1\\rangle) = \\frac{1}{\\sqrt{2}}(i|1\\rangle+|0\\rangle) = |\\oplus\\rangle = \\frac{1}{\\sqrt{2}}\\begin{bmatrix} 1 \\\\ i \\end{bmatrix}.\\\\\n",
    "Y |\\ominus\\rangle &= \\frac{1}{\\sqrt{2}}(Y|0\\rangle-iY|1\\rangle) = \\frac{1}{\\sqrt{2}}(i|1\\rangle-|0\\rangle) = -|\\ominus\\rangle = \\frac{1}{\\sqrt{2}}\\begin{bmatrix} -1 \\\\ i \\end{bmatrix}.\n",
    "\\end{align}\n",
    "\n",
    "Meaning that $|\\oplus\\rangle$ and $|\\ominus\\rangle$ are two eigenstates of the $Y$-gate. With that, one can write the following spectral decomposition:\n",
    "\n",
    "$$Y=\\sum_{j=0}^{d=1} y_j |y_j \\rangle \\langle y_j| = |⊕\\rangle \\langle⊕|-|⊖\\rangle \\langle⊖|.$$"
   ]
  },
  {
   "cell_type": "markdown",
   "metadata": {
    "id": "JIdovbe34vUk"
   },
   "source": [
    "### Pauli-$Z$ gate a.k.a [$P(\\pi)$ phase-flip](https://qiskit.org/documentation/tutorials/circuits/3_summary_of_quantum_operations.html#Z:-phase-flip-gate) gate\n"
   ]
  },
  {
   "cell_type": "markdown",
   "metadata": {
    "id": "KOxAC1-OG1b7"
   },
   "source": [
    "Let $Z$ denote the involutory operator representing the Pauli-$Z$ gate.\n",
    "\n",
    "- It performs a single-qubit rotation of $\\pi$ radians around the $z$-axis:\n",
    "\n",
    "\\begin{equation}\n",
    "Z \\equiv \\sigma_z \\equiv \\sigma_3 \\doteq \\begin{bmatrix} 1 & 0 \\\\ 0 & -1 \\end{bmatrix}.\n",
    "\\end{equation}\n",
    "\n",
    "- Action on the canonical basis $\\{|0\\rangle, |1\\rangle\\}$:\n",
    "\n",
    "\\begin{eqnarray}\n",
    "Z |0\\rangle &=& |0\\rangle. \\\\\n",
    "Z |1\\rangle &=& -|1\\rangle.\n",
    "\\end{eqnarray}\n",
    "\n",
    "- Action of the $X$-basis $\\{|+\\rangle, |-\\rangle\\}$:\n",
    "\n",
    "$$Z |+\\rangle = \\frac{1}{\\sqrt{2}}(Z|0\\rangle+Z|1\\rangle) =\\frac{1}{\\sqrt{2}}(|0\\rangle-|1\\rangle)  = |-\\rangle.$$\n",
    "$$Z |-\\rangle = \\frac{1}{\\sqrt{2}}(Z|0\\rangle-Z|1\\rangle) = \\frac{1}{\\sqrt{2}}(|0\\rangle+|1\\rangle)=|+\\rangle.$$\n",
    "\n",
    "Meaning that $|0\\rangle$ and $|1\\rangle$ are the two eigenstates of the $Z$-gate. With that, one can write the following spectral decomposition: $$Z=\\sum_{j=0}^{d=1} z_j |z_j \\rangle \\langle z_j|=|0\\rangle\\langle 0|-|1\\rangle\\langle 1|.$$\n",
    "\n",
    "One can observe that the action of the $Z$ gate on state $|1\\rangle$ induces a phase factor $e^{i\\pi}=-1$. Due to this phase factor, the $Z$ gate is also known as the \"phase flip gate\".\n",
    "\n",
    "**Note: the phase flip gate should not be confused with the phase gate, which is a completely different gate.**"
   ]
  },
  {
   "cell_type": "markdown",
   "metadata": {
    "id": "Xw7496K03i5h"
   },
   "source": [
    "# Hadamard gate a.k.a superposition gate"
   ]
  },
  {
   "cell_type": "markdown",
   "metadata": {
    "id": "mqMUEjmj3pw5"
   },
   "source": [
    "[The Hadamard gate](https://qiskit.org/documentation/stubs/qiskit.circuit.library.HGate.html) (a.k.a $H$ or superposition gate) is a single-qubit `Hermitian` and `Clifford` gate that induces a rotation of $\\pi$ radians around an axis between the $x$ and $z$ axes. It is used to change the basis from the $Z$-basis to the $X$-basis and vice-versa. Let $H$ denote the Hermitian operator representing the Hadamard gate. \n",
    "\n",
    "- It performs a single-qubit rotation of $\\pi$ radians around the $x+z$-axis:\n",
    "\n",
    "\\begin{equation}\n",
    "H \\doteq \\frac{1}{\\sqrt{2}}\\begin{bmatrix} 1 & 1 \\\\ 1 & -1 \\end{bmatrix}.\n",
    "\\end{equation}\n",
    "\n",
    "- Action on the canonical basis $\\{|0\\rangle, |1\\rangle\\}$:\n",
    "\n",
    "$$H |0\\rangle = \\frac{1}{\\sqrt{2}}\\Big(|0\\rangle+|1\\rangle\\Big) \\equiv |+\\rangle.$$\n",
    "$$H |1\\rangle = \\frac{1}{\\sqrt{2}}\\Big(|0\\rangle-|1\\rangle\\Big) \\equiv |-\\rangle.$$\n",
    "\n",
    "- Action of the $X$-basis $\\{|+\\rangle, |-\\rangle\\}$:\n",
    "\n",
    "\\begin{eqnarray}\n",
    "H |+\\rangle &=& \\frac{1}{\\sqrt{2}}(H|0\\rangle+H|1\\rangle)=\\frac{1}{2}\\Big[\\Big(|0\\rangle+|1\\rangle \\Big)+ \\Big(|0\\rangle-|1\\rangle\\Big)\\Big]=|0\\rangle,\\\\\n",
    "&=& H(H|0\\rangle) = |0\\rangle.\n",
    "\\end{eqnarray}\n",
    "\\begin{eqnarray}\n",
    "H|-\\rangle &=&\\frac{1}{\\sqrt{2}} (H|0\\rangle-H|1\\rangle)=\\frac{1}{2}\\Big[\\Big(|0\\rangle+|1\\rangle\\Big)-\\Big(|0\\rangle-|1\\rangle\\Big)\\Big]=|1\\rangle,\\\\\n",
    "&=& H(H|1\\rangle) = |1\\rangle.\n",
    "\\end{eqnarray}\n",
    "\n",
    "Therefore, the Hadamard gate transforms the state of the qubit between the $X$ and $Z$ bases. Moreover, due to the first two relations, the Hadamard gate is also known as \"superposition gate\"."
   ]
  },
  {
   "cell_type": "markdown",
   "metadata": {
    "id": "HP_PCPhxX20t"
   },
   "source": [
    "# $R_{\\hat{n}}(\\theta)$ standard rotation single-qubit gate\n"
   ]
  },
  {
   "cell_type": "markdown",
   "metadata": {
    "id": "SkCF0OLA-LsN"
   },
   "source": [
    "A single-qubit standard rotation gate $R_{\\hat{n}}(\\theta)$ performing an arbitrary angle of $\\theta$ radians around an arbitrary $\\hat{n}$ axis of the Bloch sphere can be generated by exponentiating the corresponding Pauli operator, as follows:\n",
    "\n",
    "$$ R_{\\hat{n}}(\\theta) \\equiv e^{-i(\\hat{n} \\cdot \\vec{\\sigma})\\theta /2}= \\cos(\\theta/2) \\mathbb{I} - i \\sin(\\theta/2)(\\hat{n}\\cdot \\vec{\\sigma}).$$\n",
    "\n",
    "See the [algebraic_identities.ipynb](https://github.com/QuCAI-Lab/quantum-circuit-theory/blob/dev/notebooks/algebraic_identities.ipynb) for the proof.\n",
    "\n",
    "Where:\n",
    "- $\\hat{n}=n_x\\hat{e}_x, n_y\\hat{e}_y, n_z\\hat{e}_z$ is a 3-dimensional unit vector.\n",
    "- $\\hat{e}_i$ denotes the right-handed orthonormal vector (a.k.a versor) satisfying $\\hat{e}_i\\cdot\\hat{e}_j=\\delta_{ij}$.\n",
    "- $\\vec{\\sigma}=\\hat{\\sigma_1} \\hat{e}_x + \\hat{\\sigma_2} \\hat{e}_y + \\hat{\\sigma_3} \\hat{e}_z$ is the three-component Pauli vector with $\\hat{\\sigma}_j|_{j=1}^3 \\in \\{X, Y, Z\\}$.\n",
    "- $X$, $Y$, and $Z$ are the 2x2 Pauli operators (Hermitian, involutory and unitary matrices).\n",
    "- $\\hat{n}\\cdot \\vec{\\sigma}=n_xX+n_yY+n_zZ$.\n",
    "- $i^2=-1$ is the imaginary unit."
   ]
  },
  {
   "cell_type": "markdown",
   "metadata": {
    "id": "sxXnEcwKJpsE"
   },
   "source": [
    "Examples:\n",
    "\n",
    "\\begin{equation}\n",
    "\\exp(\\pm iX\\theta/2) = cos(\\theta/2)I\\pm isin(\\theta/2)X = \\begin{bmatrix} \\cos(\\theta/2) & \\pm i\\sin(\\theta/2) \\\\ \\pm i\\sin(\\theta/2) & \\cos(\\theta/2) \\end{bmatrix}.\n",
    "\\end{equation}\n",
    "\n",
    "\\begin{equation}\n",
    "\\exp(\\pm iY\\theta/2) = cos(\\theta/2)I\\pm isin(\\theta/2)Y = \\begin{bmatrix} \\cos(\\theta/2) & \\pm\\sin(\\theta/2) \\\\ \\mp \\sin(\\theta/2) & \\cos(\\theta/2) \\end{bmatrix}.\n",
    "\\end{equation}\n",
    "\n",
    "\\begin{equation}\n",
    "\\exp(\\pm iZ\\phi/2) = cos(\\phi/2)I\\pm isin(\\phi/2)Z = \\begin{bmatrix} e^{\\pm i\\phi/2} & 0 \\\\0 & \\mp e^{i\\phi/2}\n",
    "\\end{bmatrix}.\n",
    "\\end{equation}"
   ]
  },
  {
   "cell_type": "markdown",
   "metadata": {
    "id": "FBEi6ZsbJqZh"
   },
   "source": [
    "The frequently used single-qubit standard rotation gates are given by the following $SO(2)$ matrices (**minus sign convention**):\n",
    "\n",
    "\\begin{equation}\n",
    "R_x(\\theta) \\equiv  R_{(1,0,0)}(\\theta)= \\exp(- iX\\theta/2) = cos(\\theta/2)I- isin(\\theta/2)X = \\begin{bmatrix} \\cos(\\theta/2) & - i\\sin(\\theta/2) \\\\ - i\\sin(\\theta/2) & \\cos(\\theta/2) \\end{bmatrix}.\n",
    "\\end{equation}\n",
    "\n",
    "\\begin{equation}\n",
    "R_y(\\theta)\\equiv R_{(0,1,0)}(\\theta) = \\exp(- iY\\theta/2) = cos(\\theta/2)I- isin(\\theta/2)Y = \\begin{bmatrix} \\cos(\\theta/2) & -\\sin(\\theta/2) \\\\  \\sin(\\theta/2) & \\cos(\\theta/2) \\end{bmatrix}.\n",
    "\\end{equation}\n",
    "\n",
    "\\begin{equation}\n",
    "R_z(\\phi)\\equiv R_{(0,0,1)}(\\phi) = \\exp(- iZ\\phi/2) = cos(\\phi/2)I- isin(\\phi/2)Z = \\begin{bmatrix} e^{- i\\phi/2} & 0 \\\\0 & e^{i\\phi/2}\n",
    "\\end{bmatrix}.\n",
    "\\end{equation}\n",
    "\n",
    "Note: [Barenco et al.](https://arxiv.org/pdf/quant-ph/9503016.pdf) at page 9 adopts the **plus sign convention**."
   ]
  },
  {
   "cell_type": "markdown",
   "metadata": {
    "id": "GE8HSRrNIwlw"
   },
   "source": [
    "**Particular cases:**\n",
    "\n",
    "1. $Z=e^{i\\pi/2}R_z(\\pi)$.\n",
    "2. $S=e^{i\\pi/4}R_z(\\pi/2)=\\sqrt{Z}$.\n",
    "3. $T=e^{i\\pi/8}R_z(\\pi/4)$.\n",
    "4. $Y^{1/2} = \\sqrt{Y}=R_y (\\pi/2)$.\n",
    "5. $Y^{-1/2} = R_y (-\\pi/2) = (Y^{1/2})^{\\dagger}$.\n",
    "6. $H=R_y(\\pi/2)Z =  Y^{1/2}Z = R_y(-\\pi/2)X=Y^{-1/2}X$.\n",
    "\n",
    "See chapter [06_gate_circuit_identities.ipynb](https://github.com/QuCAI-Lab/quantum-circuit-theory/blob/dev/notebooks/06_gate_circuit_identities.ipynb) for an algebraic proof of the above."
   ]
  },
  {
   "cell_type": "markdown",
   "metadata": {
    "id": "rS02gS37b3Xa"
   },
   "source": [
    "# $P(\\lambda)$ single-qubit phase gate\n"
   ]
  },
  {
   "cell_type": "markdown",
   "metadata": {
    "id": "kLuvzEoLb4EM"
   },
   "source": [
    "\\begin{align}\n",
    "P(\\lambda)=e^{i\\lambda/2}R_z(\\lambda)=\n",
    "\\begin{bmatrix}\n",
    "1 & 0 \\\\ 0 & e^{i\\lambda}\n",
    "\\end{bmatrix}.\n",
    "\\end{align}\n",
    "\n",
    "The action of the phase gate is:\n",
    "\n",
    "$$P(\\lambda) |0\\rangle = |0\\rangle.$$\n",
    "$$P(\\lambda) |1\\rangle = e^{i\\lambda}|1\\rangle.$$\n",
    "\n",
    "**Particular cases:**\n",
    "\n",
    "- $R_z(\\lambda) = e^{-i\\lambda/2}P(\\lambda)$.\n",
    "- $Z = P(\\lambda=\\pi) = e^{i\\pi/2}R_z(\\pi)=iR_z(\\pi)$.\n",
    "- $S = P(\\lambda = \\pi/2) = e^{i\\pi/4}R_z(\\pi/2) = \\sqrt{Z}$. \n",
    "- $T = P(\\lambda =\\pi/4) = e^{i\\pi/8}R_z(\\pi/4) = \\sqrt{S}=\\sqrt[4]{Z}$."
   ]
  },
  {
   "cell_type": "markdown",
   "metadata": {
    "id": "szviTtjgWgUf"
   },
   "source": [
    "- The [phase gate S](https://qiskit.org/documentation/stubs/qiskit.circuit.library.SGate.html) (square-root of Pauli-$Z$): is a single-qubit `non-Hermitian` and `Clifford` gate that performs a rotation by $\\theta=\\pi/2$ radians around the $z$-axis:\n",
    "\n",
    "\\begin{align}\n",
    "S=\\sqrt{Z}=P(\\lambda=\\pi/2)=\n",
    "\\begin{bmatrix}\n",
    "1 & 0 \\\\ 0 & i\n",
    "\\end{bmatrix}.\n",
    "\\end{align}\n",
    "\n",
    "The action of the phase gate S is:\n",
    "\n",
    "$$S|0\\rangle = |0\\rangle.$$\n",
    "$$S|1\\rangle = e^{i\\pi/2}|1\\rangle = i|1\\rangle.$$"
   ]
  },
  {
   "cell_type": "markdown",
   "metadata": {
    "id": "jE_o06T1Wisn"
   },
   "source": [
    "- The [phase gate T](https://qiskit.org/documentation/stubs/qiskit.circuit.library.TGate.html) (a.k.a $\\pi/8$ or fourth-root of Pauli-$Z$): is a single-qubit `non-Hermitian` and `non-Clifford` gate that performs a rotation of $\\theta=\\pi/4$ radians around the $z$-axis:\n",
    "\n",
    "\\begin{align}\n",
    "T=\\sqrt{S}=\\sqrt[4]{Z}=P(\\lambda =\\pi/4)=\\begin{bmatrix}\n",
    "1 & 0 \\\\ 0 & e^{i\\pi/4}\n",
    "\\end{bmatrix}.\n",
    "\\end{align}\n",
    "\n",
    "The action of the phase gate T is:\n",
    "\n",
    "$$T|0\\rangle = |0\\rangle.$$\n",
    "$$T|1\\rangle = e^{i\\pi/4}|1\\rangle.$$"
   ]
  },
  {
   "cell_type": "markdown",
   "metadata": {
    "id": "dQGhhXgeSQok"
   },
   "source": [
    "# $U(\\alpha, \\beta, \\gamma, \\delta)$ arbitrary single-qubit gate\n"
   ]
  },
  {
   "cell_type": "markdown",
   "metadata": {
    "id": "CGzYeVp1lK8Q"
   },
   "source": [
    "Any arbitrary single qubit unitary gate can be written in the form:\n",
    "\n",
    "\\begin{align}\n",
    "U(\\theta) &= e^{i\\alpha}R_{\\hat{n}}(\\theta)=e^{i\\alpha} e^{-i\\theta (\\hat{n} \\cdot \\vec{\\sigma})/2}\\\\\n",
    "&=e^{i\\alpha} \\left(cos\\left(\\frac{\\theta}{2}\\right)\\mathbb{I}-sin\\left(\\frac{\\theta}{2}\\right)(\\hat{n}\\cdot \\vec{\\sigma})\\right) \\\\\n",
    "&= \\begin{bmatrix} \\cos(\\theta/2)-in_z\\sin(\\theta/2) & -n_y \\sin(\\theta/2)-in_x\\sin(\\theta/2) \\\\ n_y\\sin(\\theta/2)-in_x\\sin(\\theta/2) & \\cos(\\theta/2)+in_z\\sin(\\theta/2) \\end{bmatrix}.\n",
    "\\end{align}\n",
    "\n",
    "\n",
    "Moreover, a general single qubit unitary gate can also be written as:\n",
    "\n",
    "\\begin{eqnarray}\n",
    "  U(\\alpha, \\beta, \\gamma, \\delta) &=& e^{i\\alpha}R_{\\hat{n}}(\\beta)R_{\\hat{m}}(\\gamma)R_{\\hat{n}}(\\delta), \\\\\n",
    "  U &=& \\begin{bmatrix} e^{i(\\alpha-\\beta/2-\\delta/2)} \\cos(\\gamma/2) & -e^{i(\\alpha-\\beta/2+\\delta/2)}\\sin(\\gamma/2) \\\\ e^{i(\\alpha+\\beta/2-\\delta/2)}\\sin(\\gamma/2) & e^{i(\\alpha+\\beta/2+\\delta/2)}\\cos(\\gamma/2) \\end{bmatrix}.\n",
    "\\end{eqnarray}\n",
    "\n",
    "Where:\n",
    "- $R_{\\hat{n}}$ is the single-qubit standard rotation gate.\n",
    "- $\\alpha$, $\\beta$, $\\gamma$, $\\delta$ and $\\theta \\in \\mathbb{R}$ are real-valued constants (a.k.a Euler angles).\n"
   ]
  },
  {
   "cell_type": "markdown",
   "metadata": {
    "id": "NdKmc83NczWl"
   },
   "source": [
    "# $U(\\theta, \\phi, \\lambda)$ three-parameter single-qubit gate\n",
    "\n"
   ]
  },
  {
   "cell_type": "markdown",
   "metadata": {
    "id": "gshghqoLpRgZ"
   },
   "source": [
    "The three-parameter single-qubit $U(\\theta, \\phi, \\lambda)$ gate reads:\n",
    "\n",
    "\\begin{equation}\n",
    "U(\\theta, \\phi, \\lambda) = R_z(\\phi)R_x(-\\pi/2)R_z(\\theta)R_x(\\pi/2)R_z(\\lambda) = \\begin{bmatrix} \\cos(\\theta/2) & -e^{i\\lambda}\\sin(\\theta/2) \\\\ e^{i\\phi}\\sin(\\theta/2) & e^{i(\\lambda+\\phi)}\\cos(\\theta/2) \\end{bmatrix}.\n",
    "\\end{equation}\n",
    "\n",
    "$$U(\\theta, \\phi, \\lambda)=e^{-i\\frac{\\pi+\\theta}{2}}P\\Big(\\pi+\\phi\\Big)\\sqrt{X}P\\Big(\\pi+\\theta\\Big)\\sqrt{X}P(\\lambda).$$\n",
    "\n",
    "Where:\n",
    "\n",
    "  - $0\\leq\\lambda < 2\\pi$ represents a phase.\n",
    "  - $0\\leq \\phi < 2\\pi$ changes the coherence.\n",
    "  - $0\\leq \\theta \\leq \\pi$ performs the rotation around a given axis."
   ]
  },
  {
   "cell_type": "markdown",
   "metadata": {
    "id": "WDZCSPjV1Prt"
   },
   "source": [
    "**Particular cases:**\n",
    "\n",
    "- $X = U(\\pi, 0, \\pi)$.\n",
    "- $Y = U(\\pi, \\pi/2, \\pi/2)$.\n",
    "- $Z = U(0,0,\\pi) = P(\\lambda=\\pi)$.\n",
    "- $H=U(\\pi/2,0,\\pi)$.\n",
    "- $R_x(\\theta) = U(\\theta, -\\pi/2,\\pi/2)$.\n",
    "- $R_y(\\theta) = U(\\theta, 0,0)$.\n",
    "- $R_z(\\phi) = e^{-i\\phi/2}U(0, 0, \\lambda=\\phi) = e^{-i\\phi/2}P(\\phi)$."
   ]
  },
  {
   "cell_type": "markdown",
   "metadata": {
    "id": "Z27AUxJ57ART"
   },
   "source": [
    "# Qiskit $U1(\\lambda)\\equiv U(0,0,\\lambda)=P(\\lambda)$ "
   ]
  },
  {
   "cell_type": "markdown",
   "metadata": {
    "id": "eiAeRT_T7KxD"
   },
   "source": [
    "Performs a single-qubit rotation about the Z axis. \n",
    "\n",
    "[\"This is a diagonal gate. It can be implemented virtually in hardware via framechanges (i.e. at zero error and duration).\" —IBM.](https://qiskit.org/documentation/stubs/qiskit.circuit.library.U1Gate.html).\n",
    "\n",
    "\\begin{align}\n",
    "U1(\\lambda)\\equiv U(0,0,\\lambda)=\n",
    "\\begin{bmatrix}\n",
    "1 & 0 \\\\ 0 & e^{i\\lambda}\n",
    "\\end{bmatrix}\n",
    "=P(\\lambda).\n",
    "\\end{align}\n",
    "\n",
    "**Particular cases:**\n",
    "\n",
    "- $U1(\\lambda) = P(\\lambda) = e^{i\\lambda/2}R_z(\\lambda)$.\n",
    "- $U1(\\lambda)^{\\dagger} = U1(-\\lambda)$.\n",
    "- $Z=U1(\\pi) = P(\\lambda = \\pi) = e^{i\\pi/2}R_z(\\pi)$.\n",
    "- $S=U1(\\pi/2) = P(\\lambda = \\pi/2) = e^{i\\pi/4}R_z(\\pi/2)$.\n",
    "- $T=U1(\\pi/4) = P(\\lambda =\\pi/4) = e^{i\\pi/8}R_z(\\pi/4)$."
   ]
  },
  {
   "cell_type": "markdown",
   "metadata": {
    "id": "rIQ83Wee7lUZ"
   },
   "source": [
    "# Qiskit $U2(\\phi, \\lambda) \\equiv U(\\pi/2, \\phi, \\lambda)$ "
   ]
  },
  {
   "cell_type": "markdown",
   "metadata": {
    "id": "Dg1qXA_k8k13"
   },
   "source": [
    "Performs a single-qubit rotation about the X+Z axis. \n",
    "\n",
    "[\"Implemented using one X90 pulse on IBM Quantum systems.\" —IBM](https://qiskit.org/documentation/stubs/qiskit.circuit.library.U2Gate.html)."
   ]
  },
  {
   "cell_type": "markdown",
   "metadata": {
    "id": "6I05-L1_7o9K"
   },
   "source": [
    "\\begin{align}\n",
    "U2(\\phi, \\lambda) \\equiv U(\\pi/2, \\phi, \\lambda)=\\frac{1}{\\sqrt{2}}\n",
    "\\begin{bmatrix}\n",
    "1 & -e^{i\\lambda} \\\\ e^{i\\phi} & e^{i(\\phi+\\lambda)}\n",
    "\\end{bmatrix}.\n",
    "\\end{align}\n",
    "\n",
    "$$U2(\\phi, \\lambda)=e^{i\\frac{\\phi+\\lambda}{2}}Rz(\\phi)Ry(\\pi/2)Rz(\\lambda)=e^{-i\\pi/4}P\\Big(\\frac{\\pi}{2}+\\phi\\Big)\\sqrt{X}P\\Big(\\lambda-\\frac{\\pi}{2}\\Big).$$\n",
    "\n",
    "**Particular cases:**\n",
    "\n",
    "- $H=U2(0, \\pi)$.\n",
    "- $R_y(\\pi/2)=U2(0, 0)$.\n",
    "- $R_x(\\pi/2)=U2(-\\pi/2,\\pi/2)$."
   ]
  }
 ],
 "metadata": {
  "colab": {
   "collapsed_sections": [
    "zFKdm2IFF26h",
    "xJYitEZA4tIf",
    "rQ5-KHIq4uRC",
    "JIdovbe34vUk",
    "Xw7496K03i5h",
    "HP_PCPhxX20t",
    "rS02gS37b3Xa",
    "dQGhhXgeSQok",
    "NdKmc83NczWl",
    "Z27AUxJ57ART",
    "rIQ83Wee7lUZ"
   ],
   "provenance": []
  },
  "kernelspec": {
   "display_name": "Python 3 (ipykernel)",
   "language": "python",
   "name": "python3"
  },
  "language_info": {
   "codemirror_mode": {
    "name": "ipython",
    "version": 3
   },
   "file_extension": ".py",
   "mimetype": "text/x-python",
   "name": "python",
   "nbconvert_exporter": "python",
   "pygments_lexer": "ipython3",
   "version": "3.11.2"
  }
 },
 "nbformat": 4,
 "nbformat_minor": 4
}
