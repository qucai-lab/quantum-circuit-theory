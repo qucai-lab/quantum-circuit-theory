{
 "cells": [
  {
   "cell_type": "markdown",
   "metadata": {
    "id": "CuSWcHwc0SVj"
   },
   "source": [
    "<!-- Badges: -->\n",
    "\n",
    "<!-- Title: -->\n",
    "<div align=\"center\">\n",
    "  <h1><b> Trotterization </b></h1>\n",
    "  <h2> Quantum Circuit Theory and Implementations </h2>\n",
    "</div>\n",
    "<br>\n",
    "\n",
    "<b>Author:</b> <a target=\"_blank\" href=\"https://github.com/camponogaraviera\">Lucas Camponogara Viera</a>"
   ]
  },
  {
   "cell_type": "markdown",
   "metadata": {
    "id": "0U_0A5LcqCVY"
   },
   "source": [
    "<div align='center'>\n",
    "<table class=\"tfo-notebook-buttons\" align=\"head\">\n",
    "  <td>\n",
    "    <a target=\"_blank\" href=\"https://github.com/QuCAI-Lab/quantum-circuit-theory\"><img src=\"https://www.tensorflow.org/images/GitHub-Mark-32px.png\" /></a>\n",
    "  </td>\n",
    "</table>\n",
    "</div>"
   ]
  },
  {
   "cell_type": "markdown",
   "metadata": {},
   "source": [
    "# Table of Contents\n",
    "\n",
    "- The Trotter-Susuki formula\n",
    "- The Heisenberg XXX Spin-1/2 Lattice Model for $N=3$ Three Particles\n",
    "- Decomposition of $U_{\\text{Heis3}}(t)$ using Trotterization\n",
    "- About the Trotterized Evolution\n",
    "    - Verifying identities with NumPy\n",
    "    - Verifying identities with Qiskit Opflow"
   ]
  },
  {
   "cell_type": "markdown",
   "metadata": {
    "jp-MarkdownHeadingCollapsed": true
   },
   "source": [
    "# &nbsp; <img valign=\"middle\" height=\"45px\" src=\"https://img.icons8.com/python\" width=\"45\" hspace=\"0px\" vspace=\"0px\"> Importing modules"
   ]
  },
  {
   "cell_type": "code",
   "execution_count": 1,
   "metadata": {},
   "outputs": [],
   "source": [
    "import IPython\n",
    "\n",
    "import numpy as np \n",
    "from scipy.linalg import expm # Numerical exponentiation.\n",
    "\n",
    "import qiskit\n",
    "from qiskit import QuantumCircuit, QuantumRegister\n",
    "from qiskit.circuit import Parameter\n",
    "\n",
    "from qiskit.opflow import I, X, Y, Z, S, H, CX"
   ]
  },
  {
   "cell_type": "code",
   "execution_count": 3,
   "metadata": {},
   "outputs": [
    {
     "name": "stdout",
     "output_type": "stream",
     "text": [
      "2.3.1\n"
     ]
    }
   ],
   "source": [
    "### If using Google Colab, one needs to restart Colab Runtime after pip install. ###\n",
    "\n",
    "try:\n",
    "  import pkg_resources, watermark\n",
    "  pkg_resources.require(\"watermark>=2.3.1\") # Force watermark version.\n",
    "  print(watermark.__version__)\n",
    "except:\n",
    "  import subprocess, sys\n",
    "  if \"google.colab\" in sys.modules:\n",
    "    cmd = \"python3 -m pip install --upgrade watermark\" # Upgrade watermak.\n",
    "\n",
    "    process = subprocess.Popen(cmd,shell=True,bufsize=1,stdout=subprocess.PIPE, \\\n",
    "                              stderr=subprocess.STDOUT,encoding='utf-8',errors='replace') \n",
    "    while True: \n",
    "      out = process.stdout.readline() # The first line of the file.\n",
    "      if out == '' and process.poll() is not None: # Run the loop until condition is True.\n",
    "        break \n",
    "      if out:\n",
    "        print(out.strip(), flush=False) # Removes leading and trailing empty spaces. \n",
    "        sys.stdout.flush()\n",
    "    #raise # To raise the import error. Upgrade will be successful regardless."
   ]
  },
  {
   "cell_type": "code",
   "execution_count": 4,
   "metadata": {},
   "outputs": [
    {
     "name": "stdout",
     "output_type": "stream",
     "text": [
      "Author: LucasCamponogaraViera\n",
      "\n",
      "Github username: QuCAI-Lab\n",
      "\n",
      "Website: https://github.com/QuCAI-Lab/quantum-circuit-theory\n",
      "\n",
      "Last updated: 2024-02-13\n",
      "\n",
      "Python implementation: CPython\n",
      "Python version       : 3.11.2\n",
      "IPython version      : 8.21.0\n",
      "\n",
      "Compiler    : GCC 11.2.0\n",
      "OS          : Linux\n",
      "Release     : 6.5.0-17-generic\n",
      "Machine     : x86_64\n",
      "Processor   : x86_64\n",
      "CPU cores   : 4\n",
      "Architecture: 64bit\n",
      "\n",
      "IPython  : 8.21.0\n",
      "watermark: 2.3.1\n",
      "qiskit   : 0.42.1\n",
      "numpy    : 1.23.5\n",
      "\n",
      "Watermark: 2.3.1\n",
      "\n"
     ]
    }
   ],
   "source": [
    "# If you get hit by the error \"No module named watermark\", run this cell twice!\n",
    "\n",
    "#%load_ext watermark\n",
    "%reload_ext watermark\n",
    "%watermark -a 'LucasCamponogaraViera' -gu 'QuCAI-Lab' -ws 'https://github.com/QuCAI-Lab/quantum-circuit-theory' -w -u -d -v -m -iv"
   ]
  },
  {
   "cell_type": "code",
   "execution_count": 5,
   "metadata": {},
   "outputs": [
    {
     "name": "stdout",
     "output_type": "stream",
     "text": [
      "{'commit_hash': '8b1204b6c',\n",
      " 'commit_source': 'installation',\n",
      " 'default_encoding': 'utf-8',\n",
      " 'ipython_path': '/home/lucas/anaconda3/envs/qct/lib/python3.11/site-packages/IPython',\n",
      " 'ipython_version': '8.21.0',\n",
      " 'os_name': 'posix',\n",
      " 'platform': 'Linux-6.5.0-17-generic-x86_64-with-glibc2.35',\n",
      " 'sys_executable': '/home/lucas/anaconda3/envs/qct/bin/python',\n",
      " 'sys_platform': 'linux',\n",
      " 'sys_version': '3.11.2 (main, Mar 27 2023, 23:42:44) [GCC 11.2.0]'}\n"
     ]
    }
   ],
   "source": [
    "print(IPython.sys_info())"
   ]
  },
  {
   "cell_type": "markdown",
   "metadata": {
    "id": "51xuHXqH67rc",
    "jp-MarkdownHeadingCollapsed": true
   },
   "source": [
    "# The Trotter-Susuki formula"
   ]
  },
  {
   "cell_type": "markdown",
   "metadata": {
    "id": "jY0xoxYp8bI8"
   },
   "source": [
    "Consider the following decomposition for a general Hamiltonian $\\hat{H}$:\n",
    "\n",
    "\\begin{align}\n",
    "\\hat{H} = \\hat{H}_a + \\hat{H}_b.\n",
    "\\end{align}\n",
    "\n",
    "If the reduced Hamiltonians commute, i.e, $[\\hat{H}_{a},\\hat{H}_{b}]=\\mathbb{O}$, then the evolution operator is a product of reduced evolution operators:\n",
    "\n",
    "\\begin{align}\n",
    "\\hat{U} = e^{-i\\hat{H}t/ħ} = e^{-i\\hat{H}_{a}t/\\hbar-i\\hat{H}_{b}t/\\hbar} = e^{-i\\hat{H}_{a}t/\\hbar}e^{-i\\hat{H}_{b}t/\\hbar} = \\hat{U}_{a}\\hat{U}_{b} = \\hat{U}_{b}\\hat{U}_{a}.\n",
    "\\end{align}\n",
    "\n",
    "\n",
    "\n",
    "\n"
   ]
  },
  {
   "cell_type": "markdown",
   "metadata": {
    "id": "lPlERZHD8dY1"
   },
   "source": [
    "In the case where $[H_a^{(0,1)},H_b^{(1,2)}]\\ne\\mathbb{O}$, one cannot simply write the evolution operator $\\hat{U}$ as a product of evolution operators, therefore, another method must be adopted. There are several techniques to approximate a time Unitary evolution $\\hat{U}=e^{-i\\hat{H}t/\\hbar}$ into gate operations for quantum simulation, to name a few:\n",
    "\n",
    "1. Trotter-Susuki formula.\n",
    "2. Randomized evolution (Qdrift, density matrix exponentiation).\n",
    "3. Linear combination of unitaries.\n",
    "4. Quantum Walks (Qubitization).\n",
    "\n"
   ]
  },
  {
   "cell_type": "markdown",
   "metadata": {
    "id": "1L7ylXjB8fDs"
   },
   "source": [
    "The Lie product formula (a.k.a Trotter-Susuki formula) is defined as (setting $\\hbar\\equiv1$):\n",
    "\n",
    "\\begin{align}\n",
    "U_{Trotter}(t) = e^{-it\\Big(\\hat{H}_a + \\hat{H}_b\\Big)} \\equiv \\lim_{N\\rightarrow\\infty}\\Big(e^{-it \\hat{H}_a/N}e^{-it \\hat{H}_b /N}\\Big)^{N}.\n",
    "\\end{align}\n",
    "\n",
    "Advantages of using Trotterization:\n",
    "\n",
    "- The algorithm is ancilla-free.\n",
    "\n",
    "- It leverages the commutative property of the component Hamiltonians to achieve efficient simulation.\n",
    "\n",
    "- It preserves the locality property of some unidimensional systems with nearest neighbor interactions enabling quantum simulation speed up.\n",
    "\n",
    "\n",
    "\n",
    "\n",
    "\n"
   ]
  },
  {
   "cell_type": "markdown",
   "metadata": {
    "id": "M6wCWiPk8gqb"
   },
   "source": [
    "The outline of the Trotterization algorithm a.k.a as product-formula method or splitting method is as follows:\n",
    "\n",
    "**1.** Write the Hamiltonian operator $\\hat{H}$ of the system of interest in the form:\n",
    "\n",
    "\\begin{eqnarray}\n",
    "\\hat{H}= \\sum_{\\gamma=1}^{\\Gamma} \\hat{H}_{\\gamma},\n",
    "\\end{eqnarray}\n",
    "where $\\hat{H}_{\\gamma}$ is itself a Hermitian operator.\n",
    "\n",
    "**2.** Write the unitary evolution operator $U$ in terms of product of exponentials using the first-order Lie-Trotter formula defined as:\n",
    "\n",
    "\\begin{eqnarray}\n",
    "\\mathcal{L}_1(t) = e^{-it \\hat{H}_{1}} \\cdots e^{-it \\hat{H}_{\\Gamma}} = e^{-it \\hat{H}} + O(t^2),\n",
    "\\end{eqnarray}\n",
    "where $O(t^2)$ is the trotter error.\n",
    "\n",
    "**3.** Perform $e^{-it\\hat{H}}$ up to some error $\\epsilon$ according to the spectral norm:\n",
    "\n",
    "\\begin{eqnarray}\n",
    "||\\hat{U}-e^{-it\\hat{H}}|| \\leq \\epsilon.\n",
    "\\end{eqnarray}\n",
    "\n",
    "**4.** Define the total cost of the simulation as:\n",
    "\\begin{eqnarray}\n",
    "\\text{total cost} = \\text{no. of steps } \\times \\text{ cost}/\\text{step}.\n",
    "\\end{eqnarray}\n",
    "\n",
    "In step 3, each exponential in the evolution operator $U_{\\text{Heis3}}(t)$ is transpiled into a quantum gate."
   ]
  },
  {
   "cell_type": "markdown",
   "metadata": {
    "id": "7I355p1S8jDl",
    "jp-MarkdownHeadingCollapsed": true
   },
   "source": [
    "# The Heisenberg XXX Spin-1/2 Lattice Model for $N=3$ Three Particles"
   ]
  },
  {
   "cell_type": "markdown",
   "metadata": {
    "id": "PIIagqGO9JCd"
   },
   "source": [
    "The [Quantum Heisenberg XXX spin-1/2 model](https://en.wikipedia.org/wiki/Quantum_Heisenberg_model#XXX_model) is a particular case of the general [XYZ Quantum Heisenberg Model](https://en.wikipedia.org/wiki/Quantum_Heisenberg_model) when the coupling coefficients are $J_x = J_y = J_z \\doteq J$. The particle interaction of the aforementioned spin model for a system of $N$ quantum spin-1/2 particles arranged in a 1D (one-dimensional) Markov chain, where each particle is represented by a qubit, is given by the following `Hamiltonian operator`:\n",
    "\n",
    "\\begin{eqnarray}\n",
    "h_{\\text{heis}} &=& \\sum_{\\langle jk \\rangle =0}^{N-1} J \\left(\\sigma_x^{(j)} \\otimes \\sigma_x^{(k)} + \\sigma_y^{(j)} \\otimes \\sigma_y^{(k)} + \\sigma_z^{(j)} \\otimes \\sigma_z^{(k)}\\right).\n",
    "\\end{eqnarray}\n",
    "Where: \n",
    "- $J$ is a real-valued [coupling](https://en.m.wikipedia.org/wiki/Coupling_constant) constant that determines the interaction strength.\n",
    "- $\\langle jk \\rangle$ specifies interaction only between nearest neighbor qubits $j$ and $k$ ($j,k \\in \\{0,1,2\\}$).\n",
    "- $\\otimes$ denotes the [Kronecker product](https://en.wikipedia.org/wiki/Kronecker_product) symbol between two matrices.\n",
    "\n",
    "<br></br>\n",
    "In classical mechanics, the Hamiltonian $H$ corresponds to the sum of kinetic and potential energy of a **time-independent holonomic and monogenic system** \\[Goldstein, H.]. In quantum mechanics, the Hamiltonian is promoted to a so-called Hermitian operator $\\hat{H}$ represented by a self-adjoint complex matrix within the matrix mechanics formalism."
   ]
  },
  {
   "cell_type": "markdown",
   "metadata": {},
   "source": [
    "The Pauli operators in this 1D spin lattice satisfy the following Lie algebra for the (anti-)commutation relations:\n",
    "\n",
    "\n",
    "\\begin{eqnarray}\n",
    "\\text{commutator: } \\{\\sigma_a^{j}, \\sigma_b^{k} \\} = 2\\delta_{jk}\\delta_{ab}\\sigma_0^{j},\\\\\n",
    "\\end{eqnarray}\n",
    "\\begin{eqnarray}\n",
    "\\text{anti-commutator: }\n",
    "[\\sigma_a^{j}, \\sigma_b^{k}] = 2i\\delta_{jk}\\epsilon_{abc}\\sigma_c^{j}.\n",
    "\\end{eqnarray}\n",
    "\n",
    "Where\n",
    "\n",
    "- $[\\hat{A},\\hat{B}]$ denotes the bilinear skew-symmetric map $[,]: \\mathcal{g} x \\mathcal{g} \\rightarrow \\mathcal{g}$ (a.k.a commutator) between operators $\\hat{A}$ and $\\hat{B}$:\n",
    "\n",
    "\\begin{align}\n",
    "[\\hat{A},\\hat{B}]\\doteq\\hat{A}\\hat{B} - \\hat{B}\\hat{A}.\n",
    "\\end{align}\n",
    "- $i=\\sqrt{-1}$ denotes the imaginary unit.\n",
    "- $\\epsilon_{abc}$ denotes the normalized Levi-Civita symbol ($\\epsilon_{xyz}=1$) with $a, b, c \\in \\{x,y,z\\}$:\n",
    "\n",
    "\\begin{align*}\n",
    "\\varepsilon_{abc} \\doteq\n",
    "\\begin{cases}\n",
    "+1 & \\text{for even permutation of }(a,b,c). \\\\\n",
    "-1 & \\text{for odd permutation of } (a,b,c).  \\\\\n",
    "\\;\\;\\,0 & \\text{for any repeated index}.\n",
    "\\end{cases}\n",
    "\\end{align*}\n",
    "\n",
    "- $\\delta_{jk}$ denotes the Kronecker delta:\n",
    "\n",
    "\\begin{eqnarray}\n",
    "\\delta_{jk} \\doteq \\begin{cases}\n",
    "0, & \\mbox{if } j \\ne k, \\\\\n",
    "1, & \\mbox{if } j=k. \\end{cases}\n",
    "\\end{eqnarray}\n",
    "- $\\{\\sigma_x,\\sigma_y,\\sigma_z\\}$ denotes the $SU(2)$ set of [Pauli operators](https://en.wikipedia.org/wiki/Pauli_matrices) (2x2 complex Hermitian and Unitary matrices sharing equal eigenvalues of $\\pm 1$)."
   ]
  },
  {
   "cell_type": "markdown",
   "metadata": {},
   "source": [
    "For the particular case of a system of $N=3$ spin-1/2 particles arranged in a line, and setting $J=1$, one then has:\n",
    "\n",
    "\\begin{eqnarray}\n",
    "h_{\\text{heis}} &=& \\sigma_x^{(0)}\\otimes\\sigma_x^{(1)}\\otimes \\mathbb{I}^{(2)} + \\mathbb{I}^{(0)} \\otimes\\sigma_x^{(1)}\\otimes\\sigma_x^{(2)} + \\sigma_y^{(0)}\\otimes\\sigma_y^{(1)}\\otimes \\mathbb{I}^{(2)} + \\mathbb{I}^{(0)} \\otimes \\sigma_y^{(1)}\\otimes\\sigma_y^{(2)} + \\mathbb{I}^{(0)} \\otimes\\sigma_z^{(0)}\\otimes\\sigma_z^{(1)} + \\mathbb{I}^{(0)}\\otimes\\sigma_z^{(1)}\\otimes\\sigma_z^{(2)}.\n",
    "\\end{eqnarray}\n",
    "\n",
    "However, the convention adopted by the quantum community is the following shorthand notation (omitting the Kronecker product ($\\otimes$) and the 2x2 identity matrix $\\mathbb{I}$):\n",
    "\n",
    "\\begin{eqnarray}\n",
    "h_{\\text{heis3}} = \\sigma_x^{(0)}\\sigma_x^{(1)} + \\sigma_x^{(1)}\\sigma_x^{(2)} + \\sigma_y^{(0)}\\sigma_y^{(1)} + \\sigma_y^{(1)}\\sigma_y^{(2)} + \\sigma_z^{(0)}\\sigma_z^{(1)} + \\sigma_z^{(1)}\\sigma_z^{(2)}.\n",
    "\\end{eqnarray}"
   ]
  },
  {
   "cell_type": "markdown",
   "metadata": {
    "jp-MarkdownHeadingCollapsed": true
   },
   "source": [
    "# Decomposition of $U_{\\text{Heis3}}(t)$ using Trotterization"
   ]
  },
  {
   "cell_type": "markdown",
   "metadata": {},
   "source": [
    "Consider the following decomposition for the Hamiltonian $H_{heis3}$:\n",
    "\n",
    "\\begin{align}\n",
    "H_{heis3} = H_a^{(0,1)} + H_b^{(1,2)},\n",
    "\\end{align}\n",
    "where\n",
    "\\begin{align}\n",
    "H_a^{(0,1)}  =\\big(X^{(0)} \\otimes X^{(1)} + Y^{(0)}\\otimes Y^{(1)} + Z^{(0)}\\otimes Z^{(1)}\\big)\\otimes \\mathbb{I}^{(2)}, \\\\\n",
    "H_b^{(1,2)} = \\mathbb{I}^{(0)}\\otimes \\big(X^{(1)}\\otimes X^{(2)} +  Y^{(1)}\\otimes Y^{(2)} + Z^{(1)}\\otimes Z^{(2)}\\big),\n",
    "\\end{align}\n",
    "\n",
    "We note that the pair of operators in the exponential of $U_{Trotter}(t)$ commute, i.e,\n",
    "\n",
    "$$[X\\otimes X,Y\\otimes Y] = [X\\otimes X,Z\\otimes Z] = [Y\\otimes Y,Z\\otimes Z] =\\mathbb{O}.$$"
   ]
  },
  {
   "cell_type": "code",
   "execution_count": null,
   "metadata": {},
   "outputs": [],
   "source": []
  },
  {
   "cell_type": "markdown",
   "metadata": {},
   "source": [
    "**Proof:**\n",
    "\n",
    "Let $\\{\\sigma_i\\}_{i=1}^3$ be the set of Pauli matrices. Considering only the case where $j \\ne k$:\n",
    "\n",
    "\\begin{eqnarray}\n",
    "[\\sigma_j \\otimes \\sigma_j, \\sigma_k \\otimes \\sigma_k] = (\\sigma_j \\otimes \\sigma_j) \\cdot (\\sigma_k \\otimes \\sigma_k) - (\\sigma_k \\otimes \\sigma_k) \\cdot (\\sigma_j \\otimes \\sigma_j),\n",
    "\\end{eqnarray}\n",
    "\n",
    "and using $(A\\otimes B)\\cdot(C\\otimes D)=AC\\otimes BD$, one then has\n",
    "\n",
    "\\begin{eqnarray}\n",
    "[\\sigma_j \\otimes \\sigma_j, \\sigma_k \\otimes \\sigma_k]=\\sigma_j \\sigma_k \\otimes \\sigma_j \\sigma_k - \\sigma_k \\sigma_j \\otimes \\sigma_k \\sigma_j.\n",
    "\\end{eqnarray}\n",
    "\n",
    "In the next step, one uses the $\\mathfrak{su}(2)$ Lie algebra ($\\sigma_j \\sigma_k = \\delta_{jk} \\sigma_0 +i\\epsilon_{jkl} \\sigma_l$) noting that, for $j \\ne k$, it becomes $\\sigma_j \\sigma_k = i\\epsilon_{jkl} \\sigma_l$. \n",
    "\n",
    "Hence\n",
    "\n",
    "\\begin{eqnarray} \n",
    "[\\sigma_j \\otimes \\sigma_j, \\sigma_k \\otimes \\sigma_k] &=& (i\\epsilon_{jkl} \\sigma_l \\otimes i\\epsilon_{jkl} \\sigma_l) - (i\\epsilon_{kjl} \\sigma_l \\otimes i\\epsilon_{kjl} \\sigma_l) \\\\\n",
    "&=& (i^2 \\epsilon^2_{jkl} \\sigma_l \\otimes \\sigma_l) -(i^2 \\epsilon^2_{kjl}\\sigma_l \\otimes \\sigma_l),\n",
    "\\end{eqnarray}\n",
    "\n",
    "which after using the anticyclic (odd) permutation property of the Levi-Civita epsilon $\\epsilon_{ijk} = -\\epsilon_{jik}$, becomes\n",
    "\n",
    "\\begin{eqnarray} \n",
    "&=& (i^2 \\epsilon_{jkl}^2 \\sigma_l \\otimes \\sigma_l) -(i^2 (-\\epsilon_{jkl})^2 \\sigma_l \\otimes \\sigma_l) \\\\\n",
    "&=& (i^2 \\epsilon^2_{jkl} \\sigma_l \\otimes \\sigma_l)-(i^2 \\epsilon^2_{jkl}\\sigma_l \\otimes \\sigma_l)\\\\\n",
    "&=& \\mathbb{O}.\n",
    "\\end{eqnarray}\n",
    "\n",
    "Q.E.D."
   ]
  },
  {
   "cell_type": "code",
   "execution_count": null,
   "metadata": {},
   "outputs": [],
   "source": []
  },
  {
   "cell_type": "markdown",
   "metadata": {},
   "source": [
    "With the above result in hands, the exponential $e^{-itH_a^{01}} $ can be written in the form:\n",
    "\n",
    "\\begin{eqnarray}\n",
    "e^{-itH_a^{01}} &=& e^{-it(X\\otimes X+ Y\\otimes Y + Z\\otimes Z)\\otimes \\mathbb{I}} \\\\ \n",
    "&=& e^{-it(X\\otimes X\\otimes \\mathbb{I} + Y\\otimes Y\\otimes \\mathbb{I} + Z\\otimes Z\\otimes \\mathbb{I})} \\\\\n",
    "&=& e^{-itX\\otimes X\\otimes \\mathbb{I}}e^{-itY\\otimes Y\\otimes \\mathbb{I}}e^{-itZ\\otimes Z\\otimes \\mathbb{I}},\n",
    "\\end{eqnarray}\n",
    "\n",
    "which after using $e^{A\\otimes \\mathbb{I}} = e^{A}\\otimes \\mathbb{I}$ becomes\n",
    "\n",
    "\\begin{eqnarray}\n",
    "e^{-itH_a^{01}}&=& \\Big(e^{-itX\\otimes X}\\otimes \\mathbb{I}\\Big)\\Big(e^{-itY\\otimes Y}\\otimes \\mathbb{I}\\Big)\\Big(e^{-itZ\\otimes Z}\\otimes \\mathbb{I}\\Big), \\\\\n",
    "&=& \\Big(e^{-itX\\otimes X}\\Big)\\Big(e^{-itY\\otimes Y}\\Big)\\Big(e^{-itZ\\otimes Z}\\Big)\\otimes \\mathbb{I},\n",
    "\\end{eqnarray}\n",
    "\n",
    "where it was used $(A \\otimes \\mathbb{I})(B \\otimes \\mathbb{I})(C \\otimes \\mathbb{I})=(AB\\otimes \\mathbb{I})(C \\otimes \\mathbb{I})=(ABC)\\otimes \\mathbb{I}$.\n",
    "\n",
    "And equivalenty for $e^{-itH_b^{12}}$:\n",
    "\n",
    "\\begin{eqnarray}\n",
    "e^{-itH_b^{12}} &= \\mathbb{I}\\otimes\\Big( e^{-itX\\otimes X}\\Big)\\Big( e^{-itY\\otimes Y}\\Big)\\Big( e^{-itZ\\otimes Z}\\Big).\n",
    "\\end{eqnarray}\n",
    "\n",
    "The unitary evolution operator for the decomposition of $H_{heis3}$ according to the Trotter-Suzuki fomula thus becomes:\n",
    "\n",
    "\\begin{eqnarray}\n",
    "U_{\\text{Heis3}}(t) &=& e^{-itH_{heis3}} = e^{-it\\Big(H_a^{(0,1)} + H_b^{(1,2)}\\Big)} = \\lim_{N\\rightarrow\\infty}\\Big(e^{-it H_a^{(0,1)}/N}e^{-it H_b^{(1,2)} /N}\\Big)^{N}\\\\\n",
    "&=& \\lim_{N\\rightarrow\\infty}\\left(\\Big(e^{-it X^0\\otimes X^1/N}e^{-it Y^0\\otimes Y^1/N}e^{-it Z^0\\otimes Z^1/N}\\otimes \\mathbb{I}\\Big)\\Big(\\mathbb{I}\\otimes e^{-it X^1\\otimes X^2/N}e^{-it Y^1\\otimes Y^2/N}e^{-it Z^1 \\otimes Z^2/N}\\Big)\\right)^{N}.\n",
    "\\end{eqnarray}\n",
    "\n",
    "With the definitions\n",
    "\n",
    "\\begin{eqnarray}\n",
    "XX(2t)^{(j,k)}\\equiv e^{-it X^j \\otimes X^k}, \\\\\n",
    "YY(2t)^{(j,k)}\\equiv e^{-it Y^j \\otimes Y^k}, \\\\\n",
    "ZZ(2t)^{(j,k)}\\equiv e^{-it Z^j \\otimes Z^k},\n",
    "\\end{eqnarray}\n",
    "\n",
    "one then has:\n",
    "\n",
    "\\begin{eqnarray}\n",
    "U_{\\text{Heis3}}(t) = \\lim_{N\\rightarrow\\infty}\\Big[\\Big(XX(2t/N)^{(0,1)}YY(2t/N)^{(0,1)}ZZ(2t/N)^{(0,1)}\\otimes \\mathbb{I}\\Big)\\Big(\\mathbb{I}\\otimes XX(2t/N)^{(1,2)}YY(2t/N)^{(1,2)}ZZ(2t/N)^{(1,2)}\\Big)\\Big]^{N}.\n",
    "\\end{eqnarray}"
   ]
  },
  {
   "cell_type": "markdown",
   "metadata": {
    "jp-MarkdownHeadingCollapsed": true
   },
   "source": [
    "# About the Trotterized Evolution\n",
    "\n",
    "Is it possible to change the order of the gates in the trotterized circuit?"
   ]
  },
  {
   "cell_type": "code",
   "execution_count": 6,
   "metadata": {},
   "outputs": [
    {
     "data": {
      "image/png": "[encoded data removed]",
      "text/plain": [
       "<Figure size 640.171x284.278 with 1 Axes>"
      ]
     },
     "execution_count": 6,
     "metadata": {},
     "output_type": "execute_result"
    }
   ],
   "source": [
    "t = Parameter('t')\n",
    "qr = QuantumRegister(2)\n",
    "\n",
    "ZZ_qc = QuantumCircuit(qr, name='ZZ')\n",
    "ZZ_qc.cnot(0,1)\n",
    "ZZ_qc.rz(2 * t, 1)\n",
    "ZZ_qc.cnot(0,1)\n",
    "ZZg = ZZ_qc.to_instruction()\n",
    "\n",
    "XX_qc = QuantumCircuit(qr, name='XX')\n",
    "XX_qc.h([0,1])\n",
    "XX_qc.append(ZZg, [0,1])\n",
    "XX_qc.h([0,1])\n",
    "XXg = XX_qc.to_instruction()\n",
    "\n",
    "YY_qc = QuantumCircuit(qr, name='YY')\n",
    "YY_qc.sdg([0,1])\n",
    "YY_qc.h([0,1])\n",
    "YY_qc.append(ZZg, [0,1])\n",
    "YY_qc.h([0,1])\n",
    "YY_qc.s([0,1])\n",
    "YYg = YY_qc.to_instruction()\n",
    "\n",
    "num_qubits = 3\n",
    "Trot_qr = QuantumRegister(num_qubits)\n",
    "Trot_qc = QuantumCircuit(Trot_qr, name='Trot')\n",
    "for i in range(0, num_qubits - 1):\n",
    "    Trot_qc.append(ZZg, [Trot_qr[i], Trot_qr[i+1]])\n",
    "    Trot_qc.append(YYg, [Trot_qr[i], Trot_qr[i+1]])\n",
    "    Trot_qc.append(XXg, [Trot_qr[i], Trot_qr[i+1]])\n",
    "Trot_gate = Trot_qc.to_instruction()\n",
    "Trot_qc.draw(output='mpl')"
   ]
  },
  {
   "cell_type": "markdown",
   "metadata": {},
   "source": [
    "Consider the following decomposition for each trotterized evolution time step:\n",
    "\n",
    "$$U(t) \\approx \\Big(\\prod_{i \\in \\rm{odd}} e^{-i t X_iX_{i+1}} e^{-i t Y_iY_{i+1}} e^{-i t Z_iZ_{i+1}} \\Big)  \\Big(\\prod_{i \\in \\rm{even}} e^{-i t X_iX_{i+1}} e^{-i t Y_iY_{i+1}} e^{-i t Z_iZ_{i+1}}\\Big).$$"
   ]
  },
  {
   "cell_type": "markdown",
   "metadata": {},
   "source": [
    "Explicitly, the unitary operator correspoding to the circuit above reads (little-endian convention):\n",
    "\n",
    "\\begin{eqnarray}\n",
    "U(t) &=& (e^{-i t (X_2 \\otimes X_1)}\\otimes \\mathbb{I}_0) (e^{-i t (Y_2 \\otimes Y_1)}\\otimes \\mathbb{I}_0)(e^{-i t (Z_2 \\otimes Z_1)}\\otimes \\mathbb{I}_0) (\\mathbb{I}_2\\otimes e^{-i t (X_1\\otimes X_0)}) (\\mathbb{I}_2 \\otimes e^{-i t (Y_1\\otimes Y_0)})(\\mathbb{I}_2 \\otimes e^{-i t (Z_1\\otimes Z_0)})\\\\ \n",
    "&=& e^{-it (X_2 \\otimes X_1 \\otimes \\mathbb{I}_0)} e^{-i t (Y_2 \\otimes Y_1 \\otimes \\mathbb{I}_0)} e^{-i t (Z_2 \\otimes Z_1 \\otimes \\mathbb{I}_0)} e^{-it (\\mathbb{I}_2\\otimes X_1\\otimes X_0)} e^{-i t (\\mathbb{I}_2 \\otimes Y_1\\otimes Y_0)}e^{-i t (\\mathbb{I}_2 \\otimes Z_1\\otimes Z_0)}.\n",
    "\\end{eqnarray}\n",
    "\n",
    "Where it was used $e^{A\\otimes \\mathbb{I}} = e^{A}\\otimes \\mathbb{I}$."
   ]
  },
  {
   "cell_type": "markdown",
   "metadata": {},
   "source": [
    "Moreover, (for $j\\neq k$):\n",
    "\n",
    "$$[\\sigma_j\\otimes\\sigma_j,\\sigma_k\\otimes\\sigma_k]=\\mathbb{O},$$\n",
    "\n",
    "meaning that\n",
    "$$[X \\otimes X, Y \\otimes Y] = [X \\otimes X, Z \\otimes Z] = [Y \\otimes Y, Z \\otimes Z]=\\mathbb{O}.$$\n",
    "\n",
    "Since $e^{A+B}=e^Ae^B$ iff $[A,B] = \\mathbb{O}$, one then has\n",
    " \n",
    "$$e^{-i t (X\\otimes X+Y\\otimes Y)}= e^{-i t X\\otimes X} e^{-i t Y\\otimes Y} = e^{-i t Y\\otimes Y}  e^{-i t X\\otimes X},$$\n",
    "\n",
    "and since $[A \\otimes \\mathbb{I}, B \\otimes \\mathbb{I}] = [A, B] \\otimes \\mathbb{I}= \\mathbb{O}$ iff $[A,B] = \\mathbb{O}$, then\n",
    "\n",
    "$$e^{-i  t(X\\otimes X\\otimes \\mathbb{I} + Y\\otimes Y\\otimes \\mathbb{I})}=e^{-i t X\\otimes X\\otimes \\mathbb{I}}e^{-i tY\\otimes Y\\otimes \\mathbb{I}} = e^{-i t Y\\otimes Y \\otimes \\mathbb{I}}  e^{-i t X\\otimes X \\otimes \\mathbb{I}},$$\n",
    "\n",
    "such that\n",
    "$$e^{-it(X\\otimes X\\otimes I + Y\\otimes Y\\otimes I + Z\\otimes Z\\otimes I)} = e^{-itX\\otimes X\\otimes I}e^{-itY\\otimes Y\\otimes I}e^{-itZ\\otimes Z\\otimes I}.$$"
   ]
  },
  {
   "cell_type": "markdown",
   "metadata": {},
   "source": [
    "However, one should also note that (for $j\\neq k$):\n",
    "\n",
    "$$[\\sigma_j\\otimes\\sigma_j\\otimes\\sigma_0,\\sigma_0\\otimes\\sigma_k\\otimes\\sigma_k] \\ne \\mathbb{O},$$\n",
    "\n",
    "so that\n",
    "\\begin{eqnarray}\n",
    "e^{-i t (Y\\otimes Y \\otimes \\mathbb{I}+\\mathbb{I}\\otimes X\\otimes X)} &\\neq& e^{-i t Y\\otimes Y\\otimes \\mathbb{I}} e^{-i t \\mathbb{I}\\otimes X\\otimes X},\n",
    "\\end{eqnarray}\n",
    "\n",
    "hence\n",
    "\n",
    "\\begin{eqnarray}\n",
    "e^{-i t Y\\otimes Y \\otimes \\mathbb{I}}e^{-i t\\mathbb{I} \\otimes X \\otimes X} &\\ne& e^{-i t\\mathbb{I}\\otimes X \\otimes X}e^{-i t Y \\otimes Y \\otimes \\mathbb{I}}\\\\\n",
    "e^{-itX\\otimes X\\otimes I}e^{-itI\\otimes Z\\otimes Z} &\\neq& e^{-itI\\otimes Z\\otimes Z}e^{-itX\\otimes X\\otimes I}.\n",
    "\\end{eqnarray}"
   ]
  },
  {
   "cell_type": "markdown",
   "metadata": {
    "jp-MarkdownHeadingCollapsed": true
   },
   "source": [
    "## Proof that $[\\sigma_j\\otimes\\sigma_j\\otimes\\sigma_0,\\sigma_0\\otimes\\sigma_k\\otimes\\sigma_k] \\ne \\mathbb{O}$."
   ]
  },
  {
   "cell_type": "markdown",
   "metadata": {
    "jp-MarkdownHeadingCollapsed": true
   },
   "source": [
    "Let $\\{\\sigma_i\\}_{i=1}^3$ be the set of Pauli matrices. Considering only the case where $j \\ne k$.\n",
    "\n",
    "\\begin{align}\n",
    "[\\sigma_j \\otimes \\sigma_j \\otimes \\sigma_0, \\sigma_0 \\otimes \\sigma_k \\otimes \\sigma_k] = (\\sigma_j \\otimes \\sigma_j \\otimes \\sigma_0)(\\sigma_0 \\otimes \\sigma_k \\otimes \\sigma_k)-(\\sigma_0 \\otimes \\sigma_k \\otimes \\sigma_k)(\\sigma_j \\otimes \\sigma_j \\otimes \\sigma_0).\n",
    "\\end{align}\n",
    "\n",
    "From here, using the associative property $(A \\otimes B)\\otimes C = A\\otimes (B \\otimes C)$, one may choose the following subspaces on which the operators will act\n",
    "\n",
    "\\begin{align}\n",
    "&= (\\sigma_j \\otimes (\\sigma_j \\otimes \\sigma_0))(\\sigma_0 \\otimes (\\sigma_k \\otimes \\sigma_k))-(\\sigma_0 \\otimes (\\sigma_k \\otimes \\sigma_k))(\\sigma_j \\otimes (\\sigma_j \\otimes \\sigma_0)).\n",
    "\\end{align}\n",
    "\n",
    "Now, the property $(A \\otimes B)(C \\otimes D) = AC \\otimes BD$ yields\n",
    "\n",
    "\\begin{align}\n",
    "&= (\\sigma_j \\sigma_0) \\otimes [(\\sigma_j \\otimes \\sigma_0)(\\sigma_k \\otimes \\sigma_k)] - (\\sigma_0\\sigma_j) \\otimes [(\\sigma_k \\otimes \\sigma_k)(\\sigma_j \\otimes \\sigma_0)],\n",
    "\\end{align}\n",
    "\n",
    "applying the aforementioned property again, for the square brackets, yields\n",
    "\n",
    "\\begin{align}\n",
    "&= (\\sigma_j \\sigma_0) \\otimes [\\sigma_j \\sigma_k \\otimes \\sigma_0 \\sigma_k] - (\\sigma_0 \\sigma_j) \\otimes [\\sigma_k \\sigma_j \\otimes \\sigma_k \\sigma_0] \\\\\n",
    "&=\\sigma_j \\otimes [\\sigma_j \\sigma_k \\otimes \\sigma_k] - \\sigma_j \\otimes [\\sigma_k \\sigma_j \\otimes \\sigma_k].\n",
    "\\end{align}\n",
    "\n",
    "Now, using the $\\mathfrak{su}(2)$ Lie algebra ($\\sigma_j \\sigma_k = \\delta_{jk} \\sigma_0 +i\\epsilon_{jkl} \\sigma_l$) and noting that, for $j \\ne k$, it becomes $\\sigma_j \\sigma_k = i\\epsilon_{jkl} \\sigma_l$, one then gets\n",
    "\n",
    "\\begin{align}\n",
    "&=(\\sigma_j \\otimes i\\epsilon_{jkl} \\sigma_l \\otimes \\sigma_k)-(\\sigma_j \\otimes i\\epsilon_{kjl} \\sigma_l \\otimes \\sigma_k),\n",
    "\\end{align}\n",
    "\n",
    "and finally, using $\\epsilon_{ijk}=-\\epsilon_{jik}$\n",
    "\n",
    "\\begin{align}\n",
    "&=(\\sigma_j \\otimes i\\epsilon_{jkl} \\sigma_l \\otimes \\sigma_k)+(\\sigma_j \\otimes i\\epsilon_{jkl} \\sigma_l \\otimes \\sigma_k) \\\\\n",
    "&= 2(\\sigma_j \\otimes i\\epsilon_{jkl} \\sigma_l \\otimes \\sigma_k) = 2i\\epsilon_{jkl}\\sigma_j\\otimes \\sigma_l \\otimes \\sigma_k \\ne 0.\n",
    "\\end{align}\n",
    "\n",
    "Q.E.D."
   ]
  },
  {
   "cell_type": "markdown",
   "metadata": {
    "jp-MarkdownHeadingCollapsed": true
   },
   "source": [
    "## Verifying identities with NumPy"
   ]
  },
  {
   "cell_type": "code",
   "execution_count": 7,
   "metadata": {},
   "outputs": [],
   "source": [
    "'''Eigenstates of the Pauli-Z gate (Z-basis):'''\n",
    "zero=np.array([[1,0]]) # A 2-D row-like (bra vector) numpy array representing the classical state <0|.\n",
    "one=np.array([[0,1]])  # A 2-D row-like (bra vector) numpy array representing the classical state <1|.\n",
    "\n",
    "'''Eigenstates of the Pauli-X gate (X-basis):'''\n",
    "plus=1/(np.sqrt(2))*(zero+one)      # 2-D row-like numpy array (bra vector) representing the superposition state <+| = 1/[sqrt(2)](<0| + <1|).\n",
    "minus=1/(np.sqrt(2))*(zero-one)     # 2-D row-like numpy array (bra vector) representing the superposition state <-| = 1/[sqrt(2)](<0| - <1|).\n",
    "\n",
    "'''1-qubit gates SU(2):'''\n",
    "sigma0 = np.identity(2) # Matrix of the identity gate.\n",
    "sigma1 = np.array([[0,1],[1,0]], dtype=(np.float32)) # Matrix of the Pauli-X gate that performs a Pi radian rotation around the x-axis.\n",
    "sigma2 = np.array([[0,-1j],[1j,0]], dtype=(np.complex64)) # Matrix of the Pauli-Y gate. Y=iXZ.\n",
    "\n",
    "'''2-qubit gates SU(4):'''\n",
    "XX = np.kron(sigma1,sigma1) # Matrix of the XX gate.\n",
    "YY = np.kron(sigma2,sigma2) # Matrix of the YY gate."
   ]
  },
  {
   "cell_type": "markdown",
   "metadata": {},
   "source": [
    "$$e^{-it(X\\otimes X + Y\\otimes Y )} = e^{-itX\\otimes X}e^{-itY\\otimes Y}:$$\n",
    "\n",
    "Obs: setting $t=1$."
   ]
  },
  {
   "cell_type": "code",
   "execution_count": 8,
   "metadata": {},
   "outputs": [
    {
     "data": {
      "text/plain": [
       "True"
      ]
     },
     "execution_count": 8,
     "metadata": {},
     "output_type": "execute_result"
    }
   ],
   "source": [
    "(expm(-1j*(XX+YY)).round(6) == (expm(-1j*XX)@expm(-1j*YY)).round(6)).all()"
   ]
  },
  {
   "cell_type": "markdown",
   "metadata": {},
   "source": [
    "$$e^{-itX\\otimes X}e^{-itY\\otimes Y}=e^{-itY\\otimes Y}e^{-itX\\otimes X}:$$\n",
    "\n",
    "Obs: setting $t=1$."
   ]
  },
  {
   "cell_type": "code",
   "execution_count": 9,
   "metadata": {},
   "outputs": [
    {
     "data": {
      "text/plain": [
       "True"
      ]
     },
     "execution_count": 9,
     "metadata": {},
     "output_type": "execute_result"
    }
   ],
   "source": [
    "((expm(-1j*XX)@expm(-1j*YY)).round(6) == (expm(-1j*YY)@expm(-1j*XX)).round(6)).all()"
   ]
  },
  {
   "cell_type": "markdown",
   "metadata": {},
   "source": [
    "$$e^{-i\\ t (X\\otimes X \\otimes \\mathbb{I} + Y\\otimes Y \\otimes \\mathbb{I})} = e^{-i\\ t X\\otimes X \\otimes \\mathbb{I}}e^{-i\\ t Y\\otimes Y \\otimes \\mathbb{I}}:$$\n",
    "\n",
    "Obs: setting $t=1$."
   ]
  },
  {
   "cell_type": "code",
   "execution_count": 10,
   "metadata": {},
   "outputs": [
    {
     "data": {
      "text/plain": [
       "True"
      ]
     },
     "execution_count": 10,
     "metadata": {},
     "output_type": "execute_result"
    }
   ],
   "source": [
    "XXI = np.kron(XX, sigma0)\n",
    "YYI = np.kron(YY, sigma0)\n",
    "\n",
    "(expm(-1j*(XXI+YYI)).round(6) == (expm(-1j*XXI)@expm(-1j*YYI)).round(6)).all()"
   ]
  },
  {
   "cell_type": "markdown",
   "metadata": {},
   "source": [
    "$$ e^{-i t X\\otimes X \\otimes \\mathbb{I}} e^{-i t Y\\otimes Y \\otimes \\mathbb{I}} = e^{-i t Y\\otimes Y \\otimes \\mathbb{I}}  e^{-i t X\\otimes X \\otimes \\mathbb{I}}:$$\n",
    "\n",
    "Obs: setting $t=1$."
   ]
  },
  {
   "cell_type": "code",
   "execution_count": 11,
   "metadata": {},
   "outputs": [
    {
     "data": {
      "text/plain": [
       "True"
      ]
     },
     "execution_count": 11,
     "metadata": {},
     "output_type": "execute_result"
    }
   ],
   "source": [
    "((expm(-1j*XXI)@expm(-1j*YYI)).round(6) == (expm(-1j*YYI)@expm(-1j*XXI)).round(6)).all()"
   ]
  },
  {
   "cell_type": "markdown",
   "metadata": {},
   "source": [
    "$$e^{-it (Y\\otimes Y \\otimes \\mathbb{I}+\\mathbb{I}\\otimes X\\otimes X)} \\ne e^{-it Y\\otimes Y\\otimes \\mathbb{I}} e^{-i t \\mathbb{I}\\otimes X\\otimes X}:$$\n",
    "\n",
    "Obs: setting $t=1$."
   ]
  },
  {
   "cell_type": "code",
   "execution_count": 12,
   "metadata": {},
   "outputs": [
    {
     "data": {
      "text/plain": [
       "False"
      ]
     },
     "execution_count": 12,
     "metadata": {},
     "output_type": "execute_result"
    }
   ],
   "source": [
    "'''Return should be >>> False.'''\n",
    "\n",
    "IXX = np.kron(sigma0, XX)\n",
    "\n",
    "(expm(-1j*(YYI+IXX)).round(6) == (expm(-1j*YYI)@expm(-1j*IXX)).round(6)).all()"
   ]
  },
  {
   "cell_type": "markdown",
   "metadata": {
    "jp-MarkdownHeadingCollapsed": true
   },
   "source": [
    "## Verifying identities with Qiskit Opflow"
   ]
  },
  {
   "cell_type": "code",
   "execution_count": 13,
   "metadata": {},
   "outputs": [],
   "source": [
    "H1 = (X^X^I)+(Y^Y^I)\n",
    "H2 = (X^X^I)+(I^Y^Y)"
   ]
  },
  {
   "cell_type": "markdown",
   "metadata": {},
   "source": [
    "$$[X\\otimes X \\otimes I,I\\otimes Z\\otimes Z] \\neq 0.$$"
   ]
  },
  {
   "cell_type": "code",
   "execution_count": 14,
   "metadata": {},
   "outputs": [
    {
     "data": {
      "text/plain": [
       "PauliSumOp(SparsePauliOp(['XYZ', 'XYZ'],\n",
       "              coeffs=[0.-1.j, 0.-1.j]), coeff=1.0)"
      ]
     },
     "execution_count": 14,
     "metadata": {},
     "output_type": "execute_result"
    }
   ],
   "source": [
    "((X^X^I)@(I^Z^Z))-((I^Z^Z)@(X^X^I))"
   ]
  },
  {
   "cell_type": "markdown",
   "metadata": {},
   "source": [
    "$$e^{-it (X\\otimes X \\otimes \\mathbb{I} + Y\\otimes Y \\otimes \\mathbb{I})} = e^{-it X\\otimes X \\otimes \\mathbb{I}}e^{-it Y\\otimes Y \\otimes \\mathbb{I}}:$$\n",
    "\n",
    "Obs: setting $t=1$."
   ]
  },
  {
   "cell_type": "code",
   "execution_count": 15,
   "metadata": {},
   "outputs": [
    {
     "data": {
      "text/plain": [
       "True"
      ]
     },
     "execution_count": 15,
     "metadata": {},
     "output_type": "execute_result"
    }
   ],
   "source": [
    "H1 = (X^X^I)+(Y^Y^I)\n",
    "(H1.exp_i().to_matrix().round(7) == ((X^X^I).exp_i()@(Y^Y^I).exp_i()).to_matrix().round(7)).all()"
   ]
  },
  {
   "cell_type": "markdown",
   "metadata": {},
   "source": [
    "$$e^{-it (Y\\otimes Y \\otimes \\mathbb{I}+\\mathbb{I}\\otimes X\\otimes X)} \\ne e^{-it Y\\otimes Y\\otimes \\mathbb{I}} e^{-it \\mathbb{I}\\otimes X\\otimes X}:$$\n",
    "\n",
    "Obs: setting $\\Delta t=1$."
   ]
  },
  {
   "cell_type": "code",
   "execution_count": 16,
   "metadata": {},
   "outputs": [
    {
     "data": {
      "text/plain": [
       "False"
      ]
     },
     "execution_count": 16,
     "metadata": {},
     "output_type": "execute_result"
    }
   ],
   "source": [
    "'''Return should be >>> False.'''\n",
    "\n",
    "H2 = (Y^Y^I)+(I^X^X)\n",
    "(H2.exp_i().to_matrix().round(3) == ((Y^Y^I).exp_i()@(I^X^X).exp_i()).to_matrix().round(3)).all()"
   ]
  },
  {
   "cell_type": "markdown",
   "metadata": {},
   "source": [
    "# &nbsp; <a href=\"#\"><img valign=\"middle\" height=\"45px\" src=\"https://img.icons8.com/book\" width=\"45\" hspace=\"0px\" vspace=\"0px\"></a> References<a name=\"ref\" />"
   ]
  },
  {
   "cell_type": "markdown",
   "metadata": {},
   "source": [
    "\\[1] Nielsen MA, Chuang IL. 2010. Quantum Computation and Quantum Information. New York: [Cambridge Univ. Press.](https://doi.org/10.1017/CBO9780511976667) 10th Anniv. Ed.<a name=\"ref1\" />  \n",
    "- Corollary 4.2, pg. 176: Gate decomposition.\n",
    "- Theorem 4.3, pg. 207: Trotter formula. \n",
    "- Chapter 4.7.2, pg. 206: The quantum simulation algorithm. \n",
    "\n",
    "\\[2] [ibmq-qsim-challenge.ipynb](https://github.com/qiskit-community/open-science-prize-2021/blob/main/ibmq-qsim-challenge.ipynb).\n",
    "\n",
    "\\[3] [ibmq-qsim-sup-mat.ipynb](https://github.com/qiskit-community/open-science-prize-2021/blob/main/ibmq-qsim-sup-mat.ipynb).\n",
    "\n",
    "\\[4] [YQIS 6 Invited 8: Yuan Su, Trotterization and Trotter error](https://www.youtube.com/watch?v=KPofFJc57gU).<a name=\"ref5\" />  "
   ]
  }
 ],
 "metadata": {
  "colab": {
   "collapsed_sections": [
    "51xuHXqH67rc",
    "7I355p1S8jDl"
   ],
   "provenance": []
  },
  "kernelspec": {
   "display_name": "Python 3 (ipykernel)",
   "language": "python",
   "name": "python3"
  },
  "language_info": {
   "codemirror_mode": {
    "name": "ipython",
    "version": 3
   },
   "file_extension": ".py",
   "mimetype": "text/x-python",
   "name": "python",
   "nbconvert_exporter": "python",
   "pygments_lexer": "ipython3",
   "version": "3.11.2"
  }
 },
 "nbformat": 4,
 "nbformat_minor": 4
}
