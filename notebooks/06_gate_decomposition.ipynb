{
 "cells": [
  {
   "cell_type": "markdown",
   "metadata": {
    "id": "CuSWcHwc0SVj"
   },
   "source": [
    "<!-- Badges: -->\n",
    "\n",
    "<!-- Title: -->\n",
    "<div align=\"center\">\n",
    "  <h1><b> Gate Decomposition </b></h1>\n",
    "  <h2> Quantum Circuit Theory and Implementations </h2>\n",
    "</div>\n",
    "<br>\n",
    "\n",
    "<b>Author:</b> <a target=\"_blank\" href=\"https://github.com/camponogaraviera\">Lucas Camponogara Viera</a>"
   ]
  },
  {
   "cell_type": "markdown",
   "metadata": {
    "id": "0U_0A5LcqCVY"
   },
   "source": [
    "<div align='center'>\n",
    "<table class=\"tfo-notebook-buttons\" align=\"head\">\n",
    "  <td>\n",
    "    <a target=\"_blank\" href=\"https://github.com/QuCAI-Lab/quantum-circuit-theory\"><img src=\"https://www.tensorflow.org/images/GitHub-Mark-32px.png\" /></a>\n",
    "  </td>\n",
    "</table>\n",
    "</div>"
   ]
  },
  {
   "cell_type": "code",
   "execution_count": 1,
   "metadata": {},
   "outputs": [
    {
     "name": "stdout",
     "output_type": "stream",
     "text": [
      "Author: Lucas Camponogara Viera\n",
      "\n",
      "Github username: camponogaraviera\n",
      "\n",
      "Website: https://qucai-lab.github.io/\n",
      "\n",
      "Last updated: 2024-03-08\n",
      "\n",
      "Python implementation: CPython\n",
      "Python version       : 3.11.2\n",
      "IPython version      : 8.22.1\n",
      "\n",
      "Compiler    : GCC 11.2.0\n",
      "OS          : Linux\n",
      "Release     : 6.5.0-21-generic\n",
      "Machine     : x86_64\n",
      "Processor   : x86_64\n",
      "CPU cores   : 4\n",
      "Architecture: 64bit\n",
      "\n",
      "Git repo: https://github.com/QuCAI-Lab/quantum-circuit-theory.git\n",
      "\n",
      "Git branch: dev\n",
      "\n",
      "numpy     : 1.23.5\n",
      "matplotlib: 3.6.2\n",
      "sympy     : 1.11.1\n",
      "pylatexenc: 2.10\n",
      "scipy     : 1.9.3\n",
      "pennylane : 0.28.0\n",
      "IPython   : 8.22.1\n",
      "watermark : 2.3.1\n",
      "\n",
      "Watermark: 2.3.1\n",
      "\n",
      "{'commit_hash': 'cf4a6f5b6',\n",
      " 'commit_source': 'installation',\n",
      " 'default_encoding': 'utf-8',\n",
      " 'ipython_path': '/home/lucas/anaconda3/envs/qct/lib/python3.11/site-packages/IPython',\n",
      " 'ipython_version': '8.22.1',\n",
      " 'os_name': 'posix',\n",
      " 'platform': 'Linux-6.5.0-21-generic-x86_64-with-glibc2.35',\n",
      " 'sys_executable': '/home/lucas/anaconda3/envs/qct/bin/python',\n",
      " 'sys_platform': 'linux',\n",
      " 'sys_version': '3.11.2 (main, Mar 27 2023, 23:42:44) [GCC 11.2.0]'}\n"
     ]
    }
   ],
   "source": [
    "%run 10_implementations.ipynb"
   ]
  },
  {
   "cell_type": "markdown",
   "metadata": {
    "id": "tNJfsBTG7zbB",
    "jp-MarkdownHeadingCollapsed": true
   },
   "source": [
    "# Table of Contents\n",
    "\n",
    "- Pauli decomposition. \n",
    "- Single-qubit gate decomposition.\n",
    "- Two-qubit gate decomposition.\n",
    "- Multi-qubit gate decomposition."
   ]
  },
  {
   "cell_type": "markdown",
   "metadata": {
    "id": "QC7yitp31rqn",
    "jp-MarkdownHeadingCollapsed": true
   },
   "source": [
    "# Pauli decomposition"
   ]
  },
  {
   "cell_type": "markdown",
   "metadata": {
    "id": "HbqL_x6h1yav"
   },
   "source": [
    "Since measurements in the quantum computer are performed in the computational basis a.k.a Pauli-Z basis, when the quantum observable $\\hat{\\mathcal{O}}$ is not diagonalized in the computational basis, a change of basis circuit is necessary to rotate from the eigenbasis of the observable into the computational basis:\n",
    "\n",
    "$$\\langle \\psi| \\hat{\\mathcal{O}} |\\psi\\rangle = \\langle 0^{\\otimes n}|\\hat{U}^{\\dagger}W^{\\dagger} \\hat{\\mathcal{O}} W\\hat{U}|0^{\\otimes n}\\rangle \\in \\mathbb{R},$$\n",
    "\n",
    "where $W$ denotes the change of basis circuit.\n",
    "\n",
    "However, finding the change of basis circuit for a general observable is not a trivial task. Therefore, it is useful to write the Hermitian observable into the Pauli basis, i.e, decompose it into a sum of Pauli observables:\n",
    "\n",
    "$$\\hat{\\mathcal{O}} = \\sum_{j=1}^{d=2^n} c_j P_j, \\ \\ \\ P_j \\in \\{I, X, Y, Z\\}^{\\otimes n}.$$\n",
    "\n",
    "\n",
    "With that, the new measurement becomes\n",
    "\n",
    "$$\\langle \\psi| \\hat{\\mathcal{O}} |\\psi\\rangle =\\langle \\psi| \\Big(\\sum_{j=1}^{d=2^n} c_j P_j \\Big) |\\psi\\rangle= \\sum_{j=1}^{d=2^n} c_j \\langle \\psi | P_j | \\psi \\rangle \\in \\mathbb{R}.$$"
   ]
  },
  {
   "cell_type": "markdown",
   "metadata": {
    "id": "GouVh4ZGT1Au",
    "jp-MarkdownHeadingCollapsed": true
   },
   "source": [
    "# Single-qubit gate decomposition"
   ]
  },
  {
   "cell_type": "markdown",
   "metadata": {
    "id": "nuzawo-akThJ",
    "jp-MarkdownHeadingCollapsed": true
   },
   "source": [
    "## Z-Y Decomposition"
   ]
  },
  {
   "cell_type": "markdown",
   "metadata": {
    "id": "F-aYDHG7M5MF"
   },
   "source": [
    "See Theorem 4.1 of [Ref. [1]](#) on page 175 for a Proof.\n",
    "\n",
    "Z-Y Decomposition for a single-qubit Unitary gate $U$:\n",
    "\n",
    "\\begin{equation}\n",
    "U = e^{i\\alpha}R_z(\\beta)R_y(\\gamma)R_z(\\delta).\n",
    "\\end{equation}\n",
    "\n",
    "Where $\\alpha$, $\\beta$, $\\gamma$ and $\\delta$ are real-valued numbers."
   ]
  },
  {
   "cell_type": "markdown",
   "metadata": {
    "id": "hjElqJUqkksD",
    "jp-MarkdownHeadingCollapsed": true
   },
   "source": [
    "## X-Y Decomposition"
   ]
  },
  {
   "cell_type": "markdown",
   "metadata": {
    "id": "eLk8kXVUM9i2"
   },
   "source": [
    "See Exercise 4.10 of [Ref. [1]](#) on page 176.\n",
    "\n",
    "X-Y Decomposition for a single-qubit Unitary gate $U$:\n",
    "\n",
    "\\begin{eqnarray}\n",
    "U = e^{i\\alpha} R_x(\\beta)R_y(\\gamma)R_x(\\delta).\n",
    "\\end{eqnarray}\n",
    "\n",
    "Where $\\alpha$, $\\beta$, $\\gamma$ and $\\delta$ are real-valued numbers."
   ]
  },
  {
   "cell_type": "markdown",
   "metadata": {
    "id": "YkDTnZ9LkxI3",
    "jp-MarkdownHeadingCollapsed": true
   },
   "source": [
    "## ABC Decomposition"
   ]
  },
  {
   "cell_type": "markdown",
   "metadata": {
    "id": "apkZ7vrpM1nv"
   },
   "source": [
    "See Corollary 4.2 of [Ref. [1]](#) on page 176, or [Barenco et al.](https://journals.aps.org/pra/abstract/10.1103/PhysRevA.52.3457) Lemma 4.3 for a Proof.\n",
    "\n",
    "A Unitary gate U acting on a single qubit can always be decomposed into:\n",
    "\n",
    "\\begin{equation}\n",
    "U = e^{i\\alpha}AXBXC,\n",
    "\\end{equation}\n",
    "\n",
    "where $\\alpha$ is a overall phase factor and $ABC=I$ for unitary operators $A$, $B$, and $C \\in SU(2)$ acting on a single qubit."
   ]
  },
  {
   "cell_type": "markdown",
   "metadata": {
    "id": "xbTqF9g7knZN",
    "jp-MarkdownHeadingCollapsed": true
   },
   "source": [
    "## V-Z Decomposition"
   ]
  },
  {
   "cell_type": "markdown",
   "metadata": {
    "id": "FGfZg_y9bG7N"
   },
   "source": [
    "\\begin{equation}\n",
    "U = e^{i\\alpha}R_z(\\beta)V^{\\dagger}R_z(\\gamma)VR_z(\\delta).\n",
    "\\end{equation}\n",
    "\n",
    "Where:\n",
    "\n",
    "- $V=X^{1/2} = \\sqrt(X)$.\n",
    "- $R_z(\\theta)=V^{\\dagger}R_y(\\theta)V$."
   ]
  },
  {
   "cell_type": "markdown",
   "metadata": {
    "id": "RDe3kzNRT2jv",
    "jp-MarkdownHeadingCollapsed": true
   },
   "source": [
    "# Two-qubit gate decomposition"
   ]
  },
  {
   "cell_type": "markdown",
   "metadata": {
    "id": "C8QAxw8fbAhh"
   },
   "source": [
    "See [Barenco et al.](https://journals.aps.org/pra/abstract/10.1103/PhysRevA.52.3457) Lemma 5.1 on page 10 for a Proof.\n",
    "\n",
    "A Control-W gate can be decomposed into:\n",
    "\n",
    "\\begin{equation}\n",
    "C(W) = \\Phi_1(\\theta)A_2C(X)B_2C(X)C_2 \\in SU(2),\n",
    "\\end{equation}\n",
    "\n",
    "for $A$, $B$, and $C \\in SU(2)$, where\n",
    "\n",
    "\\begin{equation}\n",
    "\\Phi_1 = \\begin{pmatrix} 1 & 0 \\\\ 0 & e^{i\\theta} \\end{pmatrix} \\otimes I_{2x2},\n",
    "\\end{equation}\n",
    "\n",
    "is a phase gate applied to the first qubit. And $A_2$, $B_2$ and $C_2$ are gates applied to the second qubit."
   ]
  },
  {
   "cell_type": "markdown",
   "metadata": {},
   "source": [
    "See [Barenco et al.](https://journals.aps.org/pra/abstract/10.1103/PhysRevA.52.3457) Lemma 5.5 on page 13 for a Proof.\n",
    "\n",
    "\\begin{equation}\n",
    "C(V) = A_2 C(X) B_2 \\in SU(2),\n",
    "\\end{equation}\n",
    "\n",
    "Where $V = R_z(\\alpha) \\cdot R_y(\\theta) \\cdot R_z(\\alpha) \\cdot \\sigma_x$, with real values $\\alpha$ and $\\theta$."
   ]
  },
  {
   "cell_type": "markdown",
   "metadata": {
    "jp-MarkdownHeadingCollapsed": true
   },
   "source": [
    "# Multi-qubit gate decomposition"
   ]
  },
  {
   "cell_type": "markdown",
   "metadata": {},
   "source": [
    "See [Barenco et al.](https://journals.aps.org/pra/abstract/10.1103/PhysRevA.52.3457) Lemma 6.1 on page 14 for a Proof.\n",
    "\n",
    "A $CCU$ gate can be decomposed into:\n",
    "\n",
    "\\begin{equation}\n",
    "CCU \\in SU(2^3) = CV(1,2)CX(0,1)CVdagger(1,2)CX(0,1)CV(0,2) \\in SU(2),\n",
    "\\end{equation}"
   ]
  },
  {
   "cell_type": "markdown",
   "metadata": {
    "id": "SaUQHccyBdXN",
    "jp-MarkdownHeadingCollapsed": true
   },
   "source": [
    "# Exercises"
   ]
  },
  {
   "cell_type": "markdown",
   "metadata": {
    "id": "UWUIsWudBe_H"
   },
   "source": [
    "Exercise 4.11 of [Ref. [1]](#) on page 176.\n",
    "\n",
    "---\n",
    "**Exercise 4.11:** Suppose $\\hat{m}$ and $\\hat{n}$ are non-parallel real unit vectors in three dimensions. Use Theorem 4.1 to show that an arbitrary single qubit unitary U may be written\n",
    "\n",
    "$$U=e^{i\\alpha} R_{\\hat{n}}(\\beta)R_{\\hat{m}}(\\gamma)R_{\\hat{n}}(\\delta).$$\n",
    "\n",
    "for appropriate choices of $\\alpha$, $\\beta$, $\\gamma$ and $\\delta$.\n",
    "\n",
    "---"
   ]
  },
  {
   "cell_type": "markdown",
   "metadata": {
    "id": "5xGtLTpIskCq",
    "jp-MarkdownHeadingCollapsed": true
   },
   "source": [
    "# References &nbsp; <a href=\"#\"><img valign=\"middle\" height=\"45px\" src=\"https://img.icons8.com/book\" width=\"45\" hspace=\"0px\" vspace=\"0px\"></a> \n"
   ]
  },
  {
   "cell_type": "markdown",
   "metadata": {
    "id": "8ecrFPfwsmxm"
   },
   "source": [
    "\\[1] Nielsen MA, Chuang IL. 2010. Quantum Computation and Quantum Information. New York: [Cambridge Univ. Press.](https://doi.org/10.1017/CBO9780511976667) 10th Anniv. Ed. \n",
    "- Chapter 4.\n",
    "\n",
    "\\[2] Barenco, A., Bennett, C.H., Cleve, R., DiVincenzo, D.P., Margolus, N., Shor, P., Sleator, T., Smolin, J.A. and Weinfurter, H. (1995) Elementary gates for quantum computation. [Phys. Rev. A 52, 3457–3467](https://journals.aps.org/pra/abstract/10.1103/PhysRevA.52.3457)."
   ]
  }
 ],
 "metadata": {
  "colab": {
   "collapsed_sections": [
    "QC7yitp31rqn",
    "GouVh4ZGT1Au",
    "nuzawo-akThJ",
    "hjElqJUqkksD",
    "YkDTnZ9LkxI3",
    "xbTqF9g7knZN",
    "RDe3kzNRT2jv",
    "qEnnuARYczf2",
    "3bdTsAiPoY9q",
    "SaUQHccyBdXN",
    "5xGtLTpIskCq"
   ],
   "provenance": []
  },
  "kernelspec": {
   "display_name": "Python 3 (ipykernel)",
   "language": "python",
   "name": "python3"
  },
  "language_info": {
   "codemirror_mode": {
    "name": "ipython",
    "version": 3
   },
   "file_extension": ".py",
   "mimetype": "text/x-python",
   "name": "python",
   "nbconvert_exporter": "python",
   "pygments_lexer": "ipython3",
   "version": "3.11.2"
  }
 },
 "nbformat": 4,
 "nbformat_minor": 4
}
