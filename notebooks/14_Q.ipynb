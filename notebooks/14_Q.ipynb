{
 "cells": [
  {
   "cell_type": "markdown",
   "metadata": {
    "id": "CuSWcHwc0SVj"
   },
   "source": [
    "<!-- Badges: -->\n",
    "\n",
    "<!-- Title: -->\n",
    "<div align=\"center\">\n",
    "  <h1><b> Q&A </b></h1>\n",
    "  <h2> Quantum Circuit Theory and Implementations </h2>\n",
    "</div>\n",
    "<br>\n",
    "\n",
    "<b>Author:</b> <a target=\"_blank\" href=\"https://github.com/camponogaraviera\">Lucas Camponogara Viera</a>"
   ]
  },
  {
   "cell_type": "markdown",
   "metadata": {
    "id": "0U_0A5LcqCVY"
   },
   "source": [
    "<div align='center'>\n",
    "<table class=\"tfo-notebook-buttons\" align=\"head\">\n",
    "  <td>\n",
    "    <a target=\"_blank\" href=\"https://github.com/QuCAI-Lab/quantum-circuit-theory\"><img src=\"https://www.tensorflow.org/images/GitHub-Mark-32px.png\" /></a>\n",
    "  </td>\n",
    "</table>\n",
    "</div>"
   ]
  },
  {
   "cell_type": "code",
   "execution_count": null,
   "metadata": {
    "id": "m3iY9T7ccE8J"
   },
   "outputs": [],
   "source": []
  },
  {
   "cell_type": "markdown",
   "metadata": {
    "id": "Tu9HZrEnbg4m"
   },
   "source": [
    "- **Q: \"Why must all quantum observables be Hermitian?\"**\n",
    "  - Answer: Quantum observables are linear operators describing physical quantities and, therefore, they must have real eigenvalues $\\lambda_j = \\lambda_j^*$, hence they should be represented by Hermitian matrices. Within the matrix mechanics formalism of quantum mechanics, initially developed by Werner Heisenberg, Max Born, and Pascual Jordan, the physical observables (e.g., `hamiltonian`, `electric charge`, `magnetic flux`, `position`, `momentum`, etc.) are represented by self-adjoint (Hermitian) operators where the corresponding eigenvectors form a set of orthonormal basis for the Hilbert space."
   ]
  },
  {
   "cell_type": "markdown",
   "metadata": {
    "id": "M68opSlTbi7J"
   },
   "source": [
    "- **Q: \"Are all quantum gates represented by Hermitian matrices?\"**\n",
    "  - Answer: no! Examples of non-Hermitian quantum gates are: the [phase gate T](https://qiskit.org/documentation/stubs/qiskit.circuit.library.TGate.html), and the [phase gate S](https://qiskit.org/documentation/stubs/qiskit.circuit.library.SGate.html)."
   ]
  },
  {
   "cell_type": "markdown",
   "metadata": {
    "id": "pWBX6LK2blCb"
   },
   "source": [
    "- **Q: \"Are all quantum observables represented by Unitary matrices?\"**\n",
    "  - Answer: no! This is not a requirement. Most observables are not unitary including: position and momentum."
   ]
  },
  {
   "cell_type": "markdown",
   "metadata": {
    "id": "Ey0LYaaebn3s"
   },
   "source": [
    "- **Q: \"Are all quantum gates represented by Unitary matrices?\"**\n",
    "  - Answer: yes! Unitary matrices have the property to preserve the inner product between two arbitrary states. Hence, the norm of a state is also preserved and, consequently, the probability amplitude of all possible measurement outcomes: \n",
    "  \n",
    "  $$\\langle \\psi_i|\\hat{U}^{\\dagger} \\hat{U} |\\psi_j\\rangle = \\langle \\psi_i|\\psi_j\\rangle. \\\\ \\text{(Preserve the inner product)}$$\n",
    "\n",
    "<br>\n",
    "\n",
    "  $$\\langle \\psi|\\hat{U}^{\\dagger} \\hat{U} |\\psi\\rangle = \\langle \\psi |\\psi\\rangle=|\\psi|^2=\\Bigg(\\sum_{j=1}^{d=2^n}c_j|o_j\\rangle \\Bigg)^{\\dagger}\\Bigg(\\sum_{k=1}^{d=2^n} c_k |o_k\\rangle \\Bigg)=\\sum_{j,k=1}^{d=2^n} c_j^* c_k \\langle o_j|o_k\\rangle= \\sum_{j,k=1}^{d=2^n} c_j^* c_k \\delta_{jk} = \\sum_{j=1}^{d=2^n}|c_j|^2=\\sum_{j=1}^{d=2^n}Pr(o_j|\\psi\\rangle)=1. \\\\ \\text{(Preserve the norm)}$$"
   ]
  },
  {
   "cell_type": "markdown",
   "metadata": {
    "id": "wRfBsGOfbp3o"
   },
   "source": [
    "- **Q: \"Are all quantum operations represented by Unitary matrices?\"**\n",
    "  - Answer: no! The measurement operation, the reset of qubits, and the classical conditional operations are non-unitary operations.\n"
   ]
  },
  {
   "cell_type": "markdown",
   "metadata": {
    "id": "o2BOpMOcbspI"
   },
   "source": [
    "- **Q: \"Are all quantum evolutions represented by Unitary operators?\"**\n",
    "  - Answer: no! In open quantum systems, the dynamics (evolution) under a quantum channel can be represented by a Unitary operation acting on the global mixed¹ state of the composite Hilbert space (system of interest² + environment). However, the evolution of the system of interest, treated in isolation after tracing out the environment, is described by a non-unitary operation. The reason is that, via system-environment interactions, the environment will couple with the system creating correlations in such a way that it causes decoherence (a non-unitary process) in the system of interest, and sometimes entanglement³ between the two subsystems."
   ]
  },
  {
   "cell_type": "markdown",
   "metadata": {
    "id": "qlE3LmAVbujI"
   },
   "source": [
    "- **Q: \"Are all quantum gates represented by Linear operators?\"**\n",
    "  - Answer: yes! In [close quantum systems](https://github.com/QuCAI-Lab/open-quantum-systems/blob/dev/notebooks/1_evol_in_close_qsystems.ipynb), quantum gates perform quantum evolutions described by the Schrödinger equation that is a differential equation over a linear operator $\\hat{U}$:\n",
    "\n",
    "\\begin{equation} \n",
    "i\\hbar \\frac{d}{dt}(\\hat{U}(t) |\\psi_0\\rangle)=\\hat{H}(\\hat{U}(t) |\\psi_0\\rangle).\n",
    "\\end{equation}  "
   ]
  },
  {
   "cell_type": "markdown",
   "metadata": {
    "id": "ES8inCDWb1af"
   },
   "source": [
    "- **Q: \"Are all quantum gates reversible?\"**\n",
    "  - Answer: yes! This is a consequence of the linearity of quantum mechanics, since quantum gates are represented by Unitary operators with the property $\\hat{U}\\hat{U}^{\\dagger}=\\hat{U}\\hat{U}^{-1}=\\mathbb{I}$ which ca be used to undone their action."
   ]
  },
  {
   "cell_type": "markdown",
   "metadata": {
    "id": "c6jWfIz_tPwF"
   },
   "source": [
    "- **Q: \"Are all quantum evolutions represented by Linear operators?\"**\n",
    "  - Answer: yes! Quantum Mechanics is a Linear theory! Even quantum channels are described by linear CPTP maps. In general, a CPTP map is a superoperator (an operator acting on another operator). See [Open Quantum Systems](https://github.com/QuCAI-Lab/open-quantum-systems/blob/dev/notebooks/2_evol_in_open_qsystems.ipynb)."
   ]
  },
  {
   "cell_type": "markdown",
   "metadata": {
    "id": "E0yky_iK9ZWO"
   },
   "source": [
    "<br>\n",
    "\n",
    "---\n",
    "\n",
    "¹In noisy quantum systems, incoherent noise creates a mixed state, i.e, a probability distribution over pure states. Although a mixed state (see Ref. [1]) consists of an ensemble (statistical mixture) of $N$ pure states ($\\{p_j, |\\psi_j\\rangle\\}_{j=1}^n$), a mixed state cannot be represented by a linear combination of the aforementioned normalized state vectors (pure states) that are defined on a separable Hilbert Space. Therefore, the evolved mixed state must be represented by a [mixed density operator](https://qiskit.org/textbook/ch-quantum-hardware/density-matrix.html#:~:text=corrupted) rather than a statevector. Recall that coherent noise is described by unitary operations, while incoherent noise generates mixed states that are always random, regardless of the basis in which they are measured.\n",
    "\n",
    "²An open quantum system can be divided into two subsystems: the system of interest, and the environment. The system of interest can be isolated after tracing out the environment from the global state of the system.\n",
    "\n",
    "³Consider a system of interest interacting with the environment. It is possible to create entanglement even if the two systems are initially uncorrelated, but there must be coherence in one of them. One primer example is a system of interest initially in a coherent state (a 1-qubit state) and the environment in a classical state (say $|0\\rangle$)."
   ]
  }
 ],
 "metadata": {
  "colab": {
   "provenance": []
  },
  "kernelspec": {
   "display_name": "Python 3 (ipykernel)",
   "language": "python",
   "name": "python3"
  },
  "language_info": {
   "codemirror_mode": {
    "name": "ipython",
    "version": 3
   },
   "file_extension": ".py",
   "mimetype": "text/x-python",
   "name": "python",
   "nbconvert_exporter": "python",
   "pygments_lexer": "ipython3",
   "version": "3.11.2"
  }
 },
 "nbformat": 4,
 "nbformat_minor": 4
}
