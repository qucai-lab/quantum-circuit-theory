{
 "cells": [
  {
   "cell_type": "markdown",
   "id": "cd4add00-902d-49ae-98eb-07a672c49e71",
   "metadata": {},
   "source": [
    "<!-- Badges: -->\n",
    "\n",
    "<!-- Title: -->\n",
    "<div align=\"center\">\n",
    "  <h1><b> State Preparation </b></h1>\n",
    "  <h2> Quantum Circuit Theory and Implementations </h2>\n",
    "</div>\n",
    "<br>\n",
    "\n",
    "<b>Author:</b> <a target=\"_blank\" href=\"https://github.com/camponogaraviera\">Lucas Camponogara Viera</a>"
   ]
  },
  {
   "cell_type": "markdown",
   "id": "9b562acb-ce56-4226-97f5-c1b0d4fc65b5",
   "metadata": {},
   "source": [
    "<div align='center'>\n",
    "<table class=\"tfo-notebook-buttons\" align=\"head\">\n",
    "  <td>\n",
    "    <a target=\"_blank\" href=\"https://github.com/QuCAI-Lab/quantum-circuit-theory\"><img src=\"https://www.tensorflow.org/images/GitHub-Mark-32px.png\" /></a>\n",
    "  </td>\n",
    "</table>\n",
    "</div>"
   ]
  },
  {
   "cell_type": "markdown",
   "id": "986eee6e-2180-401a-a48a-a724fecd5c9e",
   "metadata": {
    "jp-MarkdownHeadingCollapsed": true
   },
   "source": [
    "# Table of Contents\n",
    "\n",
    "- Introduction\n",
    "- Unitary Decomposition\n",
    "- Schmidt Decomposition\n",
    "- Qiskit Examples"
   ]
  },
  {
   "cell_type": "markdown",
   "id": "738b93e8-b752-4455-b4d4-e41aabf55158",
   "metadata": {
    "jp-MarkdownHeadingCollapsed": true
   },
   "source": [
    "# Introduction"
   ]
  },
  {
   "cell_type": "markdown",
   "id": "14206a7d-dd8c-45c2-9211-9994f0bb742c",
   "metadata": {},
   "source": [
    "Quantum state preparation consists of finding a unitary matrix $\\hat{U}$ such that acting on an initial state $|0\\rangle^{\\otimes n} = [1,0,0,…,0]$ produces the intended target state $|\\psi \\rangle$. This operation can be represented by:\n",
    "\n",
    "$$ |\\psi \\rangle = \\hat{U} |0 \\rangle^{\\otimes n} = (\\alpha_1, . . . , \\alpha_N).$$\n",
    "\n",
    "One possible choice for $\\hat{U}$ is such that the first column of $\\hat{U}$ corresponds to the state vector $∣\\psi\\rangle$, while the remaining columns are chosen in such a way as to make the matrix unitary:\n",
    "\n",
    "$$ \n",
    "\\hat{U} = \\begin{bmatrix}\n",
    " \\alpha_0 & * & * & \\cdots \\\\\n",
    " \\alpha_1 & * & * & \\cdots \\\\\n",
    " \\vdots   & \\vdots & \\vdots & \\ddots \\\\\n",
    " \\alpha_{2^{n-1}} & * & * & \\cdots\n",
    "\\end{bmatrix}\n",
    "$$"
   ]
  },
  {
   "cell_type": "markdown",
   "id": "d8b9800b-943d-4e8b-bb59-a1e950223b10",
   "metadata": {},
   "source": [
    "Implementation via quantum circuits requires this matrix to be decomposed into a sequence of unitary quantum gates that are available in the quantum hardware. For example, on the IBM platform, at the software level, the sequence of finite universal gates (Clifford+T) is ${H, S, CNOT, T}$. While the sequence of continuous universal gates is: ${R_x(\\theta), R_y(\\theta), R_z(\\theta), P(\\lambda), CNOT}$. However, fault-tolerant implementation of these gates must be accomplished with native hardware-level gates. IBM's native gates are: $CNOT, \\sqrt{CNOT}, R_x(\\theta), R_y(\\theta), R_z(\\theta)$.  "
   ]
  },
  {
   "cell_type": "markdown",
   "id": "b9fee93a-ef81-468b-abbc-9c3de2684206",
   "metadata": {
    "jp-MarkdownHeadingCollapsed": true
   },
   "source": [
    "# Unitary Decomposition"
   ]
  },
  {
   "cell_type": "markdown",
   "id": "b1866e5a-0a86-478d-a003-cba0c836faa5",
   "metadata": {},
   "source": [
    "A well-known decomposition for 1-qubit unitary matrices is the Z-Y decomposition (Ref [1], theorem 4.1, pg. 175):\n",
    "\n",
    "\\begin{equation}\n",
    "\\hat{U} = e^{i\\alpha}R_z(\\beta)R_y(\\gamma)R_z(\\delta).\n",
    "\\end{equation}\n",
    "\n",
    "Where $\\alpha$, $\\beta$, $\\gamma$ e $\\delta$ are real numbers. The gate $R_y(\\gamma)$ can be written as follows:\n",
    "\n",
    "$$ R_y(\\gamma) = SHR_z(\\gamma)HSZ.$$\n",
    "\n",
    "Therefore, the problem of approximating arbitrary quantum states reduces to the problem of finding good approximations of the gate $R_y(\\gamma)$ through **algorithms** that vary the parameter $\\gamma$.\n",
    "\n",
    "Other algorithms exist for unitary gate decomposition. One of them is the algorithm `Quantum Shannon Decomposition` [2] which allows to decompose any unitary matrix into CNOT gates and single qubit gates. For a unitary $n$-qubit gate, this algorithm produces approximately $\\frac{1}{2} 4^n$ CNOT gates. Another algorithm for decomposing a unitary matrix into CNOT and single-qubit gates is the decomposition `cosseno-seno (Cosine-Sine Decomposition)` [2].\n",
    "\n",
    "For example, the Toffoli gate can be decomposed into H, S, CNOT, and T gates."
   ]
  },
  {
   "cell_type": "markdown",
   "id": "a6777af6-b45c-40db-9368-6303a8bbb95c",
   "metadata": {},
   "source": [
    "# Schmidt Decomposition"
   ]
  },
  {
   "cell_type": "markdown",
   "id": "d1acc047-6142-456b-8cab-4819d6e51169",
   "metadata": {},
   "source": [
    "Consider any bipartite (2-qudits) composite state defined by $|\\Psi\\rangle \\in \\mathcal{H}_{a}\\otimes\\mathcal{H}_{b}$:\n",
    "\n",
    "$$|\\psi_{AB}\\rangle = \\sum_{i=1}^{\\dim\\mathcal{H}_{a}}\\sum_{j=1}^{\\dim\\mathcal{H}_{b}}c_{i,j}|\\alpha_{i}\\rangle\\otimes|\\beta_{j}\\rangle.$$\n",
    "\n",
    "Schmidt decomposition allows us to write this state as:\n",
    "\n",
    "$$\n",
    "|\\Psi_{AB}\\rangle = \\sum_{i=1}^{\\min(\\dim\\mathcal{H}_{a},\\dim\\mathcal{H}_{b})}d_{i}|u_{i}\\rangle_A\\otimes|v_{i}\\rangle_B,\n",
    "$$\n",
    "\n",
    "where $\\{|u_{i}\\rangle\\}$ e $\\{|v_{i}\\rangle\\}$ are orthonormal bases of subsystems A and B formed by the basis transformation (or change of basis) $\\sum_{j}U_{j,i}|\\alpha_{j}\\rangle$ e $\\sum_{j}V_{j,i}|\\beta_{j}\\rangle$, respectively. While $\\{d_i\\}$ represents the Schmidt coefficients."
   ]
  },
  {
   "cell_type": "markdown",
   "id": "be40fbd8-514f-4f83-ad2d-d9add6f4323a",
   "metadata": {},
   "source": [
    "## Applications"
   ]
  },
  {
   "cell_type": "markdown",
   "id": "3bb58ed8-e36c-46ea-8d79-b32b84a9f10a",
   "metadata": {},
   "source": [
    "Schmidt decomposition can be used for state purification, for identification of a pure entangled quantum state, as well as for state preparation.\n",
    "\n",
    "- **State purification:** any mixed state $\\rho$ can be purified, i.e., represented as the partial trace of a pure state $∣\\psi\\rangle$:\n",
    "\n",
    "$$\\rho_A = Tr_B(|\\psi\\rangle \\langle \\psi |) = \\sum_{j=1}^n \\lambda_j |u_j\\rangle \\langle u_j|,$$\n",
    "\n",
    "where $\\lambda_j\\geq 0$ e $\\sum_j \\lambda_j = 1$\n",
    "\n",
    "- **Entanglement measurement:** schmidt decomposition allows us to determine the existence of entanglement in pure bipartite states by observing the coefficients of its reduced density operator $\\rho$:\n",
    "\n",
    "\\begin{equation}\n",
    "|\\Psi\\rangle = \\sum_{j=1}^{\\min(rank(A),rank(B))}\\sqrt{\\lambda}_{j}|u_{j}\\rangle_A\\otimes|v_{j}\\rangle_B,\n",
    "\\end{equation}\n",
    "\n",
    "for a reduced density operator $\\rho_A = Tr_B(|\\psi\\rangle \\langle \\psi |) = \\sum_{j=1}^n \\lambda_j |u_j\\rangle \\langle u_j|$, where $d_j^2 = \\lambda_j$ e $\\sum_j \\lambda_j =1$.\n",
    "\n",
    "The pure compound state $|\\Psi_{AB}\\rangle$ is considered entangled if and only if the Schmidt rank (the number of coefficients strictly greater than zero) is greater than 1, that is, if the spectral decomposition of the reduced density operator $\\rho$ has more than one eigenvalue $\\lambda_j$ nonzero, otherwise the state is separable. In this sense, a maximally entangled state is one for which all eigenvalues ​​are equal. \n",
    "\n",
    "- **State preparation:** the Schmidt decomposition allows a $2n$-qubit state to be initialized from an $n$-qubit state combined with at least two $n$-qubit gates and $n$ CNOT:\n",
    "\n",
    "\\begin{equation}\n",
    "|\\Psi\\rangle = \\sum_{j=1}^{2^n}b_{j1}U|e_j\\rangle \\otimes V|e_j\\rangle.\n",
    "\\end{equation}"
   ]
  },
  {
   "attachments": {
    "a0f769f8-6a05-42b1-a9b2-f09a4d152ddc.png": {
     "image/png": "[encoded data removed]"
    }
   },
   "cell_type": "markdown",
   "id": "85e5e856-4e53-4d8b-ac06-6bd6fe943408",
   "metadata": {},
   "source": [
    "![fig2.png](attachment:a0f769f8-6a05-42b1-a9b2-f09a4d152ddc.png)\n",
    "\n",
    "**Figura 1:** Schmidt decomposition for $2n=2$ qubits. Extracted from Ref. [4]."
   ]
  },
  {
   "attachments": {
    "226cead3-e7bb-43ac-902c-72e9326e61bc.png": {
     "image/png": "[encoded data removed]"
    }
   },
   "cell_type": "markdown",
   "id": "51448dbe-45d9-4246-822f-b26895f90b78",
   "metadata": {},
   "source": [
    "![fig1.png](attachment:226cead3-e7bb-43ac-902c-72e9326e61bc.png)\n",
    "\n",
    "**Figure 2:** Schmidt decomposition for $2n=12$ qubits. Extracted from Ref. [4]."
   ]
  },
  {
   "cell_type": "markdown",
   "id": "d57cf2fa-5144-43ce-8bee-a288b178062d",
   "metadata": {
    "jp-MarkdownHeadingCollapsed": true
   },
   "source": [
    "# Qiskit Examples"
   ]
  },
  {
   "cell_type": "markdown",
   "id": "a5fffb85-d66e-4fe0-9716-6a31518261ea",
   "metadata": {},
   "source": [
    "In Qiskit, when `state_vector` é passed, the quantum state is prepared based on the isometry synthesis described in [3]. Observe that `qc.initialize(state_vector, qubit)` is an instruction and not a quantum gate, since it contains a reset operation, which is not unitary."
   ]
  },
  {
   "cell_type": "code",
   "execution_count": 11,
   "id": "6b432874-4cbe-4311-88a9-f9cc7b90066a",
   "metadata": {},
   "outputs": [],
   "source": [
    "# Qiskit\n",
    "from qiskit import QuantumCircuit, QuantumRegister\n",
    "from qiskit.visualization import array_to_latex\n",
    "from qiskit.quantum_info import Statevector\n",
    "from qiskit.circuit import Parameter\n",
    "\n",
    "# NumPy\n",
    "import numpy as np"
   ]
  },
  {
   "cell_type": "markdown",
   "id": "1f541324-fec9-4ff6-bd2c-78a1b7cc2b1f",
   "metadata": {},
   "source": [
    "- 1-qubit state:\n",
    "\n",
    "$$ |\\psi\\rangle = \\frac{1}{\\sqrt 2}(|0\\rangle + |1\\rangle) =  \\frac{1}{\\sqrt 2} \\begin{bmatrix} 1 \\\\1 \\end{bmatrix}$$"
   ]
  },
  {
   "cell_type": "code",
   "execution_count": 16,
   "id": "6cf7e191-9308-48b6-a04c-53b1225ca347",
   "metadata": {},
   "outputs": [
    {
     "data": {
      "image/png": "[encoded data removed]",
      "text/plain": [
       "<Figure size 269.064x117.056 with 1 Axes>"
      ]
     },
     "execution_count": 16,
     "metadata": {},
     "output_type": "execute_result"
    }
   ],
   "source": [
    "# Target state:\n",
    "state_vector = [1/np.sqrt(2), 1/np.sqrt(2)]  # |ψ⟩ = (|0⟩ + |1⟩)/√2\n",
    "\n",
    "# Creating a quantum circuit with 1 qubit:\n",
    "qc = QuantumCircuit(1)\n",
    "\n",
    "# Initializing the state:\n",
    "qc.initialize(state_vector, 0)\n",
    "\n",
    "qc.draw(output='mpl')  "
   ]
  },
  {
   "cell_type": "markdown",
   "id": "2f52932d-bd81-4a56-a7fc-5390a790b2fe",
   "metadata": {},
   "source": [
    "- 2-qubit state:\n",
    "\n",
    "$$ |\\psi\\rangle = \\frac{1}{\\sqrt 2}(|00\\rangle + |01\\rangle) = \\frac{1}{\\sqrt 2} \\begin{bmatrix} 1 \\\\ 0 \\\\ 0 \\\\ 0 \\end{bmatrix} + \\frac{1}{\\sqrt 2} \\begin{bmatrix} 0 \\\\ 1 \\\\ 0 \\\\ 0 \\end{bmatrix} = \\frac{1}{\\sqrt 2} \\begin{bmatrix} 1 \\\\ 1 \\\\ 0 \\\\ 0 \\end{bmatrix}$$"
   ]
  },
  {
   "cell_type": "code",
   "execution_count": 18,
   "id": "f3853284-962a-4f40-85ea-1c2f5edcc413",
   "metadata": {},
   "outputs": [
    {
     "data": {
      "image/png": "[encoded data removed]",
      "text/plain": [
       "<Figure size 287.294x200.667 with 1 Axes>"
      ]
     },
     "execution_count": 18,
     "metadata": {},
     "output_type": "execute_result"
    }
   ],
   "source": [
    "# Target state:\n",
    "state_vector = [1/np.sqrt(2), 1/np.sqrt(2), 0, 0]  # (|00⟩ + |01⟩)/√2\n",
    "\n",
    "# Creating a quantum circuit with 2 qubits:\n",
    "qc = QuantumCircuit(2)\n",
    "\n",
    "# Initializing the state:\n",
    "qc.initialize(state_vector, [0, 1])\n",
    "\n",
    "qc.draw(output='mpl')  "
   ]
  },
  {
   "cell_type": "markdown",
   "id": "c15876d8-279d-41f1-9f07-cf37c8b70aff",
   "metadata": {
    "jp-MarkdownHeadingCollapsed": true
   },
   "source": [
    "# References"
   ]
  },
  {
   "cell_type": "markdown",
   "id": "464db799-7e5b-41de-934d-6500a757af3a",
   "metadata": {},
   "source": [
    "[1] Nielsen MA, Chuang IL. 2010. Quantum Computation and Quantum Information. New York: Cambridge Univ. Press. 10th Anniv. Ed.\n",
    "\n",
    "[2] V. Shende, S. S. Bullock, and I. Markov, \"Synthesis of quantum logic circuits,\" Computer-Aided Design of Integrated Circuits and Systems, IEEE Transactions on, vol. 25, pp. 1000 – 1010, July 2006.\n",
    "\n",
    "[3] Iten et al., Quantum circuits for isometries (2016). Phys. Rev. A 93, 032318.\n",
    "\n",
    "[4] J. Abhijith et al., Quantum Algorithm Implementations for Beginners. [arXiv:1804.03719](https://arxiv.org/abs/1804.03719)"
   ]
  }
 ],
 "metadata": {
  "kernelspec": {
   "display_name": "Python 3 (ipykernel)",
   "language": "python",
   "name": "python3"
  },
  "language_info": {
   "codemirror_mode": {
    "name": "ipython",
    "version": 3
   },
   "file_extension": ".py",
   "mimetype": "text/x-python",
   "name": "python",
   "nbconvert_exporter": "python",
   "pygments_lexer": "ipython3",
   "version": "3.11.5"
  }
 },
 "nbformat": 4,
 "nbformat_minor": 5
}
