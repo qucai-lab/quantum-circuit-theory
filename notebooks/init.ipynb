{
 "cells": [
  {
   "cell_type": "code",
   "execution_count": 1,
   "metadata": {
    "id": "t3k0BVVDbQaJ"
   },
   "outputs": [],
   "source": [
    "# Version Control\n",
    "import IPython\n",
    "import watermark\n",
    "\n",
    "# Linear Algebra\n",
    "import numpy as np\n",
    "import sympy as sym\n",
    "import scipy as sc\n",
    "from sympy import exp # Symbolic exponentiation.\n",
    "from scipy.linalg import expm # Numerical exponentiation.\n",
    "from sympy.physics.quantum import TensorProduct, OuterProduct\n",
    "#from pennylane import numpy as np # The Pennylane wrapped NumPy.\n",
    "\n",
    "# Quantum Circuis\n",
    "from qiskit import QuantumCircuit, QuantumRegister, Aer, execute#, QuantumRegister, QuantumCircuit, assemble, \n",
    "from qiskit.visualization import array_to_latex\n",
    "from qiskit.quantum_info import Statevector\n",
    "from qiskit.circuit import Parameter\n",
    "import pennylane as qml\n",
    "\n",
    "# Plotting\n",
    "import matplotlib\n",
    "from matplotlib import pyplot as plt\n",
    "plt.rcParams.update({'font.size': 10})  # Enlarge matplotlib fonts.\n",
    "\n",
    "import pylatexenc # Required to use 'MatplotlibDrawer'."
   ]
  },
  {
   "cell_type": "code",
   "execution_count": 10,
   "metadata": {
    "id": "h-FJ8IQqi1dv"
   },
   "outputs": [
    {
     "name": "stdout",
     "output_type": "stream",
     "text": [
      "Author: Lucas Camponogara Viera\n",
      "\n",
      "Github username: camponogaraviera\n",
      "\n",
      "Website: https://qucai-lab.github.io/\n",
      "\n",
      "Last updated: 2023-05-11\n",
      "\n",
      "Python implementation: CPython\n",
      "Python version       : 3.11.2\n",
      "IPython version      : 8.13.2\n",
      "\n",
      "Compiler    : GCC 11.2.0\n",
      "OS          : Linux\n",
      "Release     : 5.19.0-41-generic\n",
      "Machine     : x86_64\n",
      "Processor   : x86_64\n",
      "CPU cores   : 4\n",
      "Architecture: 64bit\n",
      "\n",
      "Git repo: https://github.com/QuCAI-Lab/quantum-circuit-theory.git\n",
      "\n",
      "Git branch: dev\n",
      "\n",
      "matplotlib: 3.6.2\n",
      "scipy     : 1.9.3\n",
      "pennylane : 0.28.0\n",
      "IPython   : 8.13.2\n",
      "watermark : 2.3.1\n",
      "numpy     : 1.23.5\n",
      "pylatexenc: 2.10\n",
      "sympy     : 1.11.1\n",
      "\n",
      "Watermark: 2.3.1\n",
      "\n"
     ]
    }
   ],
   "source": [
    "#%load_ext watermark\n",
    "%reload_ext watermark\n",
    "%watermark -a 'Lucas Camponogara Viera' -gu 'camponogaraviera' -ws 'https://qucai-lab.github.io/' -w -u -d -v -m -iv -r -b"
   ]
  },
  {
   "cell_type": "code",
   "execution_count": 11,
   "metadata": {
    "colab": {
     "base_uri": "https://localhost:8080/"
    },
    "executionInfo": {
     "elapsed": 20,
     "status": "ok",
     "timestamp": 1683496905184,
     "user": {
      "displayName": "Lucas Camponogara Viera",
      "userId": "13421704742725721901"
     },
     "user_tz": 180
    },
    "id": "H6G-Tbl_i6IV",
    "outputId": "483990ec-5cad-4949-f6ec-9ae0099471a9"
   },
   "outputs": [
    {
     "name": "stdout",
     "output_type": "stream",
     "text": [
      "{'commit_hash': '2c4c28a3a',\n",
      " 'commit_source': 'installation',\n",
      " 'default_encoding': 'utf-8',\n",
      " 'ipython_path': '/home/lucas/anaconda3/envs/qct/lib/python3.11/site-packages/IPython',\n",
      " 'ipython_version': '8.13.2',\n",
      " 'os_name': 'posix',\n",
      " 'platform': 'Linux-5.19.0-41-generic-x86_64-with-glibc2.35',\n",
      " 'sys_executable': '/home/lucas/anaconda3/envs/qct/bin/python',\n",
      " 'sys_platform': 'linux',\n",
      " 'sys_version': '3.11.2 (main, Mar 27 2023, 23:42:44) [GCC 11.2.0]'}\n"
     ]
    }
   ],
   "source": [
    "print(IPython.sys_info())"
   ]
  }
 ],
 "metadata": {
  "colab": {
   "provenance": []
  },
  "kernelspec": {
   "display_name": "Python 3 (ipykernel)",
   "language": "python",
   "name": "python3"
  },
  "language_info": {
   "codemirror_mode": {
    "name": "ipython",
    "version": 3
   },
   "file_extension": ".py",
   "mimetype": "text/x-python",
   "name": "python",
   "nbconvert_exporter": "python",
   "pygments_lexer": "ipython3",
   "version": "3.11.2"
  }
 },
 "nbformat": 4,
 "nbformat_minor": 4
}
