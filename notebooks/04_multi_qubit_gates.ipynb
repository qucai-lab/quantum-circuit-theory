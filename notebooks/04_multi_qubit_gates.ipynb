{
 "cells": [
  {
   "cell_type": "markdown",
   "metadata": {
    "id": "CuSWcHwc0SVj"
   },
   "source": [
    "<!-- Badges: -->\n",
    "\n",
    "<!-- Title: -->\n",
    "<div align=\"center\">\n",
    "  <h1><b> Multi-qubit gates </b></h1>\n",
    "  <h2> Quantum Circuit Theory and Implementations </h2>\n",
    "</div>\n",
    "<br>"
   ]
  },
  {
   "cell_type": "markdown",
   "metadata": {
    "id": "0U_0A5LcqCVY"
   },
   "source": [
    "<div align='center'>\n",
    "<table class=\"tfo-notebook-buttons\" align=\"head\">\n",
    "  <td>\n",
    "    <a target=\"_blank\" href=\"https://github.com/QuCAI-Lab/quantum-circuit-theory\"><img src=\"https://www.tensorflow.org/images/GitHub-Mark-32px.png\" /></a>\n",
    "  </td>\n",
    "</table>\n",
    "</div>"
   ]
  },
  {
   "cell_type": "code",
   "execution_count": 8,
   "metadata": {},
   "outputs": [
    {
     "name": "stdout",
     "output_type": "stream",
     "text": [
      "Author: Lucas Camponogara Viera\n",
      "\n",
      "Github username: camponogaraviera\n",
      "\n",
      "Website: https://qucai-lab.github.io/\n",
      "\n",
      "Last updated: 2024-03-08\n",
      "\n",
      "Python implementation: CPython\n",
      "Python version       : 3.11.2\n",
      "IPython version      : 8.22.1\n",
      "\n",
      "Compiler    : GCC 11.2.0\n",
      "OS          : Linux\n",
      "Release     : 6.5.0-21-generic\n",
      "Machine     : x86_64\n",
      "Processor   : x86_64\n",
      "CPU cores   : 4\n",
      "Architecture: 64bit\n",
      "\n",
      "Git repo: https://github.com/QuCAI-Lab/quantum-circuit-theory.git\n",
      "\n",
      "Git branch: dev\n",
      "\n",
      "scipy     : 1.9.3\n",
      "pennylane : 0.28.0\n",
      "pylatexenc: 2.10\n",
      "watermark : 2.3.1\n",
      "IPython   : 8.22.1\n",
      "sympy     : 1.11.1\n",
      "numpy     : 1.23.5\n",
      "matplotlib: 3.6.2\n",
      "\n",
      "Watermark: 2.3.1\n",
      "\n",
      "{'commit_hash': 'cf4a6f5b6',\n",
      " 'commit_source': 'installation',\n",
      " 'default_encoding': 'utf-8',\n",
      " 'ipython_path': '/home/lucas/anaconda3/envs/qct/lib/python3.11/site-packages/IPython',\n",
      " 'ipython_version': '8.22.1',\n",
      " 'os_name': 'posix',\n",
      " 'platform': 'Linux-6.5.0-21-generic-x86_64-with-glibc2.35',\n",
      " 'sys_executable': '/home/lucas/anaconda3/envs/qct/bin/python',\n",
      " 'sys_platform': 'linux',\n",
      " 'sys_version': '3.11.2 (main, Mar 27 2023, 23:42:44) [GCC 11.2.0]'}\n"
     ]
    }
   ],
   "source": [
    "%run 10_implementations.ipynb"
   ]
  },
  {
   "cell_type": "markdown",
   "metadata": {
    "id": "UthOPbZYpreF",
    "jp-MarkdownHeadingCollapsed": true
   },
   "source": [
    "# $C_n^{j}(U_{2^m})$ gate with $n$ control qubits and $m$ target qubits"
   ]
  },
  {
   "cell_type": "markdown",
   "metadata": {
    "id": "YqLcyRhDpW4-"
   },
   "source": [
    "Let $U_{2^m}$ be a $2^m$ x $2^m$ unitary matrix and $I_{2^m}$ be a $2^m$ x $2^m$ identity matrix, then a generic multicontrolled gate with $n$ control qubits and $m$ target qubits can be written as:\n",
    "\n",
    "\\begin{equation}\n",
    "C_n^{j}(U_{2^m}) = \\sum_{i=0, i\\neq j}^{2^n-1}I_{2^m} \\otimes |i\\rangle\\langle i|+ U_{2^m} \\otimes |j\\rangle\\langle j|.\n",
    "\\end{equation}"
   ]
  },
  {
   "cell_type": "markdown",
   "metadata": {
    "jp-MarkdownHeadingCollapsed": true
   },
   "source": [
    "## Particular cases"
   ]
  },
  {
   "cell_type": "markdown",
   "metadata": {},
   "source": [
    "CNOT Gate:\n",
    "\n",
    "\\begin{align}\n",
    "CX \\equiv C_1(X_{2^1}) = \\sum_{i=0, i\\neq j}^{2^1-1}I_{2^1} \\otimes |i\\rangle\\langle i|+ X_{2^1} \\otimes |j\\rangle\\langle j| = I_2 \\otimes |0\\rangle\\langle 0\\rangle + X \\otimes |1 \\rangle \\langle 1|.\n",
    "\\end{align}"
   ]
  },
  {
   "cell_type": "markdown",
   "metadata": {},
   "source": [
    "In a similar fashion:\n",
    "\n",
    "$CRY  = CU3(\\theta, 0,0) \\equiv C_1(RY_{2^1}) = I_2 \\otimes |0\\rangle\\langle 0\\rangle + RY(\\theta) \\otimes |1 \\rangle \\langle 1|$."
   ]
  },
  {
   "cell_type": "markdown",
   "metadata": {},
   "source": [
    "In a similar fashion:\n",
    "\n",
    "$CCRY \\equiv C_1(CRY)_{2^2} = I_2 \\otimes I_2 \\otimes |0\\rangle\\langle 0\\rangle + CRY \\otimes |1 \\rangle \\langle 1|$.\n",
    "\n",
    "$CCCX \\equiv C_1(CCX)_{2^3} = I_2 \\otimes I_2 \\otimes I_2 \\otimes |0\\rangle\\langle 0\\rangle + CCX \\otimes |1 \\rangle \\langle 1|$.\n",
    "\n",
    "$CCCRY \\equiv C_1(CCRY)_{2^3} = I_2 \\otimes I_2 \\otimes I_2 \\otimes |0\\rangle\\langle 0\\rangle + CCRY \\otimes |1 \\rangle \\langle 1|$."
   ]
  },
  {
   "cell_type": "markdown",
   "metadata": {
    "jp-MarkdownHeadingCollapsed": true
   },
   "source": [
    "# Toffoli gate"
   ]
  },
  {
   "cell_type": "markdown",
   "metadata": {},
   "source": [
    "$$CCX \\equiv C_1(CX)_{2^2} = \\sum_{i=0, i\\neq j}^{2^1-1}I_{2^2} \\otimes |i\\rangle\\langle i|+ (CX)_{2^2} \\otimes |j\\rangle\\langle j| = I_2 \\otimes I_2 \\otimes |0\\rangle\\langle 0\\rangle + CX \\otimes |1 \\rangle \\langle 1|.$$"
   ]
  },
  {
   "cell_type": "markdown",
   "metadata": {},
   "source": [
    "The action of the Toffoli gate is to negate the target bit if the first two control bits are 1. "
   ]
  },
  {
   "cell_type": "markdown",
   "metadata": {},
   "source": [
    "The Toffoli gate is not a native gate of NISQ quantum hardware, and it has to be decomposed into elementary single-qubit and two-qubit native gates.\n",
    "\n",
    "Decomposition in terms of the Clifford+T finite gate set {H, S, CNOT, T} (see Nielsen and Chuang Fig. 4.9):"
   ]
  },
  {
   "cell_type": "code",
   "execution_count": 39,
   "metadata": {},
   "outputs": [
    {
     "data": {
      "image/png": "[encoded data removed]",
      "text/plain": [
       "<Figure size 1327.69x284.278 with 1 Axes>"
      ]
     },
     "execution_count": 39,
     "metadata": {},
     "output_type": "execute_result"
    }
   ],
   "source": [
    "qr = QuantumRegister(3)                \n",
    "qc = QuantumCircuit(qr)\n",
    "qc.h(2)      \n",
    "qc.cnot(1,2)   \n",
    "qc.tdg(2)   \n",
    "qc.cnot(0,2)\n",
    "qc.t(2)   \n",
    "qc.cnot(1,2)\n",
    "qc.tdg(2)   \n",
    "qc.cnot(0,2)   \n",
    "qc.barrier()\n",
    "qc.tdg(1)   \n",
    "qc.t(2)   \n",
    "qc.cnot(0,1)   \n",
    "qc.h(2)\n",
    "qc.tdg(1)\n",
    "qc.cnot(0,1)  \n",
    "qc.t(0)  \n",
    "qc.s(1)  \n",
    "\n",
    "qc.draw(output='mpl')"
   ]
  }
 ],
 "metadata": {
  "colab": {
   "collapsed_sections": [
    "UthOPbZYpreF"
   ],
   "provenance": []
  },
  "kernelspec": {
   "display_name": "Python 3 (ipykernel)",
   "language": "python",
   "name": "python3"
  },
  "language_info": {
   "codemirror_mode": {
    "name": "ipython",
    "version": 3
   },
   "file_extension": ".py",
   "mimetype": "text/x-python",
   "name": "python",
   "nbconvert_exporter": "python",
   "pygments_lexer": "ipython3",
   "version": "3.11.2"
  }
 },
 "nbformat": 4,
 "nbformat_minor": 4
}
