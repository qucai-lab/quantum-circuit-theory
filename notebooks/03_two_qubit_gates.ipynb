{
 "cells": [
  {
   "cell_type": "markdown",
   "metadata": {
    "id": "CuSWcHwc0SVj"
   },
   "source": [
    "<!-- Badges: -->\n",
    "\n",
    "<!-- Title: -->\n",
    "<div align=\"center\">\n",
    "  <h1><b> Two-qubit gates </b></h1>\n",
    "  <h2> Quantum Circuit Theory and Implementations </h2>\n",
    "</div>\n",
    "<br>\n",
    "\n",
    "<b>Author:</b> <a target=\"_blank\" href=\"https://github.com/camponogaraviera\">Lucas Camponogara Viera</a>"
   ]
  },
  {
   "cell_type": "markdown",
   "metadata": {
    "id": "0U_0A5LcqCVY"
   },
   "source": [
    "<div align='center'>\n",
    "<table class=\"tfo-notebook-buttons\" align=\"head\">\n",
    "  <td>\n",
    "    <a target=\"_blank\" href=\"https://github.com/QuCAI-Lab/quantum-circuit-theory\"><img src=\"https://www.tensorflow.org/images/GitHub-Mark-32px.png\" /></a>\n",
    "  </td>\n",
    "</table>\n",
    "</div>"
   ]
  },
  {
   "cell_type": "markdown",
   "metadata": {
    "id": "VfiAbwtr7dzO"
   },
   "source": [
    "# Table of Contents\n",
    "\n",
    "- CNOT gate.\n",
    "- SWAP gate.\n",
    "- $ZZ(t)$ gate.\n",
    "- $XX(t)$ gate.\n",
    "- $YY(t)$ gate.\n",
    "- Verifying outer products."
   ]
  },
  {
   "cell_type": "code",
   "execution_count": 1,
   "metadata": {
    "id": "WVjX17k8v1zd",
    "outputId": "2a6906e9-532d-429b-932d-53ada1035c92"
   },
   "outputs": [
    {
     "name": "stdout",
     "output_type": "stream",
     "text": [
      "Author: Lucas Camponogara Viera\n",
      "\n",
      "Github username: camponogaraviera\n",
      "\n",
      "Website: https://qucai-lab.github.io/\n",
      "\n",
      "Last updated: 2023-06-08\n",
      "\n",
      "Python implementation: CPython\n",
      "Python version       : 3.11.2\n",
      "IPython version      : 8.14.0\n",
      "\n",
      "Compiler    : GCC 11.2.0\n",
      "OS          : Linux\n",
      "Release     : 5.19.0-43-generic\n",
      "Machine     : x86_64\n",
      "Processor   : x86_64\n",
      "CPU cores   : 4\n",
      "Architecture: 64bit\n",
      "\n",
      "Git repo: https://github.com/QuCAI-Lab/quantum-circuit-theory.git\n",
      "\n",
      "Git branch: dev\n",
      "\n",
      "IPython   : 8.14.0\n",
      "sympy     : 1.11.1\n",
      "numpy     : 1.23.5\n",
      "pennylane : 0.28.0\n",
      "matplotlib: 3.6.2\n",
      "scipy     : 1.9.3\n",
      "pylatexenc: 2.10\n",
      "watermark : 2.3.1\n",
      "\n",
      "Watermark: 2.3.1\n",
      "\n",
      "{'commit_hash': 'f11276427',\n",
      " 'commit_source': 'installation',\n",
      " 'default_encoding': 'utf-8',\n",
      " 'ipython_path': '/home/lucas/anaconda3/envs/qct/lib/python3.11/site-packages/IPython',\n",
      " 'ipython_version': '8.14.0',\n",
      " 'os_name': 'posix',\n",
      " 'platform': 'Linux-5.19.0-43-generic-x86_64-with-glibc2.35',\n",
      " 'sys_executable': '/home/lucas/anaconda3/envs/qct/bin/python',\n",
      " 'sys_platform': 'linux',\n",
      " 'sys_version': '3.11.2 (main, Mar 27 2023, 23:42:44) [GCC 11.2.0]'}\n"
     ]
    }
   ],
   "source": [
    "%run 10_implementations.ipynb"
   ]
  },
  {
   "cell_type": "markdown",
   "metadata": {
    "id": "tMcH_0LbV534"
   },
   "source": [
    "# CNOT gate"
   ]
  },
  {
   "cell_type": "markdown",
   "metadata": {
    "id": "xTA7q63AV3uc"
   },
   "source": [
    "[The $CNOT$ gate](https://qiskit.org/documentation/stubs/qiskit.circuit.library.CXGate.html) (a.k.a $CX$): a two-qubit `Hermitian` and `Clifford` gate used to flip ($\\pi$ radian) the state of the target qubit if the control qubit is in the state $|1\\rangle$. It is similar to a classical XOR gate.\n",
    "\n",
    "In the outerproduct representation, the CNOT gate with $q_0$ as control and $q_1$ as target reads:\n",
    "\n",
    "$$CX^{q_0q_1} = \\mathbb{I} \\otimes |0\\rangle\\langle 0| + X \\otimes |1 \\rangle \\langle 1|.$$"
   ]
  },
  {
   "cell_type": "code",
   "execution_count": 2,
   "metadata": {},
   "outputs": [
    {
     "data": {
      "image/png": "[encoded data removed]",
      "text/plain": [
       "<Figure size 221.712x200.667 with 1 Axes>"
      ]
     },
     "execution_count": 2,
     "metadata": {},
     "output_type": "execute_result"
    }
   ],
   "source": [
    "# CNOT gate with control qubit q0 and target qubit q1:\n",
    "\n",
    "qr = QuantumRegister(2) # Define the number of qubits in the quantum circuit.\n",
    "qc = QuantumCircuit(qr) # Create the circuit.\n",
    "qc.cnot(0,1)\n",
    "qc.draw(output='mpl')  "
   ]
  },
  {
   "cell_type": "code",
   "execution_count": 3,
   "metadata": {},
   "outputs": [
    {
     "data": {
      "text/plain": [
       "array([[1., 0., 0., 0.],\n",
       "       [0., 0., 0., 1.],\n",
       "       [0., 0., 1., 0.],\n",
       "       [0., 1., 0., 0.]])"
      ]
     },
     "execution_count": 3,
     "metadata": {},
     "output_type": "execute_result"
    }
   ],
   "source": [
    "zero=np.array([[1,0]])\n",
    "one = np.array([[0,1]])\n",
    "sigma1 = np.array([[0,1],[1,0]], dtype=(np.float32)) \n",
    "outzero = zero.T@zero # Matrix of the outer product |0><0|.\n",
    "outone = one.T@one # Matrix of the outer product |1><1|.\n",
    "np.kron(np.eye(2), outzero) + np.kron(sigma1, outone)"
   ]
  },
  {
   "cell_type": "markdown",
   "metadata": {},
   "source": [
    "In textbook convention, the CNOT gate with $q_1$ as control and $q_0$ as target reads:\n",
    "\n",
    "$$CX^{q_1q_0}=|0\\rangle\\langle 0|\\otimes \\mathbb{I} +|1\\rangle\\langle 1|\\otimes X.$$"
   ]
  },
  {
   "cell_type": "code",
   "execution_count": 4,
   "metadata": {},
   "outputs": [
    {
     "data": {
      "image/png": "[encoded data removed]",
      "text/plain": [
       "<Figure size 221.914x200.667 with 1 Axes>"
      ]
     },
     "execution_count": 4,
     "metadata": {},
     "output_type": "execute_result"
    }
   ],
   "source": [
    "# CNOT gate with control qubit q1 and target qubit q0:\n",
    "\n",
    "qr = QuantumRegister(2) # Define the number of qubits in the quantum circuit.\n",
    "qc = QuantumCircuit(qr) # Create the circuit.\n",
    "qc.cnot(1,0)\n",
    "qc.draw(output='mpl')  "
   ]
  },
  {
   "cell_type": "code",
   "execution_count": 5,
   "metadata": {},
   "outputs": [
    {
     "data": {
      "text/plain": [
       "array([[1., 0., 0., 0.],\n",
       "       [0., 1., 0., 0.],\n",
       "       [0., 0., 0., 1.],\n",
       "       [0., 0., 1., 0.]])"
      ]
     },
     "execution_count": 5,
     "metadata": {},
     "output_type": "execute_result"
    }
   ],
   "source": [
    "np.kron(outzero, np.eye(2)) + np.kron(outone, sigma1)"
   ]
  },
  {
   "cell_type": "markdown",
   "metadata": {},
   "source": [
    "## Action of CNOT gate"
   ]
  },
  {
   "cell_type": "markdown",
   "metadata": {},
   "source": [
    "The action of the CNOT gate can be represented by: \n",
    "\n",
    "$$|q_0,q_1\\rangle \\rightarrow |q_0,q_0\\oplus q_1\\rangle.$$\n",
    "\n",
    "$$CX|q_0q_1\\rangle = |q_0\\rangle \\otimes |q_0\\oplus q_1\\rangle.$$\n",
    "\n",
    "Where the $\\oplus$ symbol denotes the classical exclusive-OR (XOR) operation (a.k.a direct sum)."
   ]
  },
  {
   "cell_type": "markdown",
   "metadata": {},
   "source": [
    "Example:\n",
    "\n",
    "Recall the mixed product property $(A\\otimes B)(C\\otimes D) = AC\\otimes BD,$ and that, for orthonormal basis, $\\langle i|j\\rangle = \\delta_{ij}.$\n",
    "\n",
    "\\begin{align}\n",
    "CX_{01}|00\\rangle &= CX_{01} (|0\\rangle \\otimes |0\\rangle) = \\Big(\\mathbb{I} \\otimes |0\\rangle\\langle 0| + X \\otimes |1 \\rangle \\langle 1|\\Big) (|0\\rangle \\otimes |0\\rangle) \\\\\n",
    "&= \\Big(\\mathbb{I} \\otimes |0\\rangle\\langle 0|\\Big) \\Big(|0\\rangle \\otimes |0\\rangle\\Big) + \\Big(X \\otimes |1 \\rangle \\langle 1|\\Big) \\Big(|0\\rangle \\otimes |0\\rangle\\Big) \\\\\n",
    "&= \\Big(|0\\rangle \\otimes |0\\rangle\\langle 0|0\\rangle\\Big) + \\Big(X|0\\rangle \\otimes |1 \\rangle \\langle 1| |0\\rangle\\Big) \\\\\n",
    "&= |0\\rangle \\otimes |0\\rangle.\n",
    "\\end{align}\n",
    "\n"
   ]
  },
  {
   "cell_type": "markdown",
   "metadata": {},
   "source": [
    "Try to work out the math yourself for the following cases:\n",
    "\n",
    "\\begin{align}\n",
    "CX_{01}|00\\rangle &= |00\\rangle\\\\\n",
    "CX_{01}|01\\rangle &= |11\\rangle\\\\\n",
    "CX_{01}|10\\rangle &= |10\\rangle\\\\\n",
    "CX_{01}|11\\rangle &= |01\\rangle.\n",
    "\\end{align}\n",
    "\n",
    "\\begin{align}\n",
    "CX_{10}|00\\rangle &= |00\\rangle\\\\\n",
    "CX_{10}|01\\rangle &= |01\\rangle\\\\\n",
    "CX_{10}|10\\rangle &= |11\\rangle\\\\\n",
    "CX_{10}|11\\rangle &= |10\\rangle.\n",
    "\\end{align}"
   ]
  },
  {
   "cell_type": "markdown",
   "metadata": {},
   "source": [
    "### Verifying for $CX_{01}$ with NumPy:"
   ]
  },
  {
   "cell_type": "markdown",
   "metadata": {},
   "source": [
    "See the [10_implementations.ipynb](10_implementations.ipynb)."
   ]
  },
  {
   "cell_type": "code",
   "execution_count": 6,
   "metadata": {},
   "outputs": [
    {
     "data": {
      "text/plain": [
       "array([[1.],\n",
       "       [0.],\n",
       "       [0.],\n",
       "       [0.]])"
      ]
     },
     "execution_count": 6,
     "metadata": {},
     "output_type": "execute_result"
    }
   ],
   "source": [
    "cnot_01@zero_zero # |00>"
   ]
  },
  {
   "cell_type": "code",
   "execution_count": 7,
   "metadata": {},
   "outputs": [
    {
     "data": {
      "text/plain": [
       "array([[0.],\n",
       "       [0.],\n",
       "       [0.],\n",
       "       [1.]])"
      ]
     },
     "execution_count": 7,
     "metadata": {},
     "output_type": "execute_result"
    }
   ],
   "source": [
    "cnot_01@zero_one # |11>"
   ]
  },
  {
   "cell_type": "code",
   "execution_count": 8,
   "metadata": {},
   "outputs": [
    {
     "data": {
      "text/plain": [
       "array([[0.],\n",
       "       [0.],\n",
       "       [1.],\n",
       "       [0.]])"
      ]
     },
     "execution_count": 8,
     "metadata": {},
     "output_type": "execute_result"
    }
   ],
   "source": [
    "cnot_01@one_zero # |10>"
   ]
  },
  {
   "cell_type": "code",
   "execution_count": 9,
   "metadata": {},
   "outputs": [
    {
     "data": {
      "text/plain": [
       "array([[0.],\n",
       "       [1.],\n",
       "       [0.],\n",
       "       [0.]])"
      ]
     },
     "execution_count": 9,
     "metadata": {},
     "output_type": "execute_result"
    }
   ],
   "source": [
    "cnot_01@one_one # |01>"
   ]
  },
  {
   "cell_type": "markdown",
   "metadata": {},
   "source": [
    "- Verifying for $CX_{10}$ with NumPy:"
   ]
  },
  {
   "cell_type": "code",
   "execution_count": 10,
   "metadata": {},
   "outputs": [
    {
     "data": {
      "text/plain": [
       "array([[1.],\n",
       "       [0.],\n",
       "       [0.],\n",
       "       [0.]])"
      ]
     },
     "execution_count": 10,
     "metadata": {},
     "output_type": "execute_result"
    }
   ],
   "source": [
    "cnot_10@zero_zero # |00>"
   ]
  },
  {
   "cell_type": "code",
   "execution_count": 11,
   "metadata": {},
   "outputs": [
    {
     "data": {
      "text/plain": [
       "array([[0.],\n",
       "       [1.],\n",
       "       [0.],\n",
       "       [0.]])"
      ]
     },
     "execution_count": 11,
     "metadata": {},
     "output_type": "execute_result"
    }
   ],
   "source": [
    "cnot_10@zero_one # |01>"
   ]
  },
  {
   "cell_type": "code",
   "execution_count": 12,
   "metadata": {},
   "outputs": [
    {
     "data": {
      "text/plain": [
       "array([[0.],\n",
       "       [0.],\n",
       "       [0.],\n",
       "       [1.]])"
      ]
     },
     "execution_count": 12,
     "metadata": {},
     "output_type": "execute_result"
    }
   ],
   "source": [
    "cnot_10@one_zero # |11>"
   ]
  },
  {
   "cell_type": "code",
   "execution_count": 13,
   "metadata": {},
   "outputs": [
    {
     "data": {
      "text/plain": [
       "array([[0.],\n",
       "       [0.],\n",
       "       [1.],\n",
       "       [0.]])"
      ]
     },
     "execution_count": 13,
     "metadata": {},
     "output_type": "execute_result"
    }
   ],
   "source": [
    "cnot_10@one_one # |10>"
   ]
  },
  {
   "cell_type": "markdown",
   "metadata": {},
   "source": [
    "### Verifying for $CX_{01}$ with Qiskit:"
   ]
  },
  {
   "cell_type": "code",
   "execution_count": 14,
   "metadata": {},
   "outputs": [
    {
     "name": "stdout",
     "output_type": "stream",
     "text": [
      "Statevector([0.+0.j, 0.+0.j, 0.+0.j, 1.+0.j],\n",
      "            dims=(2, 2)) \n",
      "\n"
     ]
    },
    {
     "data": {
      "image/png": "[encoded data removed]",
      "text/plain": [
       "<Figure size 305.727x200.667 with 1 Axes>"
      ]
     },
     "execution_count": 14,
     "metadata": {},
     "output_type": "execute_result"
    }
   ],
   "source": [
    "# cnot_01 |01> = |11>\n",
    "\n",
    "backend = Aer.get_backend('unitary_simulator')\n",
    "dec = 2                                 # Number of decimals for the matrix elements.\n",
    "qr = QuantumRegister(2)                 # Define the number of qubits in the quantum circuit.\n",
    "qc = QuantumCircuit(qr, name='circuit') # Create the circuit.\n",
    "qc.x(0)\n",
    "qc.cx(0,1)                              # Apply the CNOT gate with control qubit q0 and target qubit q1:\n",
    "\n",
    "print(Statevector.from_instruction(qc), '\\n')\n",
    "qc.draw(output='mpl')"
   ]
  },
  {
   "cell_type": "code",
   "execution_count": 15,
   "metadata": {},
   "outputs": [
    {
     "name": "stdout",
     "output_type": "stream",
     "text": [
      "\n",
      " Statevector([0.+0.j, 0.+0.j, 1.+0.j, 0.+0.j],\n",
      "            dims=(2, 2))\n"
     ]
    },
    {
     "data": {
      "image/png": "[encoded data removed]",
      "text/plain": [
       "<Figure size 305.727x200.667 with 1 Axes>"
      ]
     },
     "execution_count": 15,
     "metadata": {},
     "output_type": "execute_result"
    }
   ],
   "source": [
    "# cnot_01 |10> = |10>\n",
    "\n",
    "backend = Aer.get_backend('unitary_simulator')\n",
    "dec = 2                                 # Number of decimals for the matrix elements.\n",
    "qr = QuantumRegister(2)                 # Define the number of qubits in the quantum circuit.\n",
    "qc = QuantumCircuit(qr, name='circuit') # Create the circuit.\n",
    "qc.x(1)\n",
    "qc.cx(0,1)                              # Apply the CNOT gate with control qubit q0 and target qubit q1:\n",
    "\n",
    "print('\\n', Statevector.from_instruction(qc))\n",
    "qc.draw(output='mpl')"
   ]
  },
  {
   "cell_type": "code",
   "execution_count": 16,
   "metadata": {},
   "outputs": [
    {
     "name": "stdout",
     "output_type": "stream",
     "text": [
      "\n",
      " Statevector([0.+0.j, 1.+0.j, 0.+0.j, 0.+0.j],\n",
      "            dims=(2, 2))\n"
     ]
    },
    {
     "data": {
      "image/png": "[encoded data removed]",
      "text/plain": [
       "<Figure size 305.727x200.667 with 1 Axes>"
      ]
     },
     "execution_count": 16,
     "metadata": {},
     "output_type": "execute_result"
    }
   ],
   "source": [
    "# cnot_01 |11> = |01>\n",
    "\n",
    "backend = Aer.get_backend('unitary_simulator')\n",
    "dec = 2                                 # Number of decimals for the matrix elements.\n",
    "qr = QuantumRegister(2)                 # Define the number of qubits in the quantum circuit.\n",
    "qc = QuantumCircuit(qr, name='circuit') # Create the circuit.\n",
    "qc.x(0), qc.x(1) \n",
    "qc.cx(0,1)                              # Apply the CNOT gate with control qubit q0 and target qubit q1:\n",
    "\n",
    "print('\\n', Statevector.from_instruction(qc))\n",
    "qc.draw(output='mpl')"
   ]
  },
  {
   "cell_type": "markdown",
   "metadata": {
    "id": "85n6UxmVt3iO"
   },
   "source": [
    "# SWAP gate"
   ]
  },
  {
   "cell_type": "markdown",
   "metadata": {
    "id": "vZTuezjJt3iP"
   },
   "source": [
    "The [SWAP](https://qiskit.org/documentation/stubs/qiskit.circuit.library.SwapGate.html) gate is a two-qubit gate used to swap the states between two qubits. Used mostly during qubit routing in order to match the topology (graph connectivity) of a specific quantum device.\n",
    "\n",
    "The action of the SWAP gate can be represented by: \n",
    "\n",
    "$$|a,b\\rangle \\rightarrow |b,a\\rangle.$$\n",
    "\n",
    "$$SWAP|ab\\rangle = |ba\\rangle.$$"
   ]
  },
  {
   "cell_type": "code",
   "execution_count": 17,
   "metadata": {},
   "outputs": [
    {
     "data": {
      "image/png": "[encoded data removed]",
      "text/plain": [
       "<Figure size 222.116x200.667 with 1 Axes>"
      ]
     },
     "execution_count": 17,
     "metadata": {},
     "output_type": "execute_result"
    }
   ],
   "source": [
    "# SWAP gate:\n",
    "\n",
    "qr = QuantumRegister(2) # Define the number of qubits in the quantum circuit.\n",
    "qc = QuantumCircuit(qr) # Create the circuit.\n",
    "qc.swap(1,0)\n",
    "qc.draw(output='mpl')  "
   ]
  },
  {
   "cell_type": "code",
   "execution_count": 18,
   "metadata": {},
   "outputs": [
    {
     "data": {
      "image/png": "[encoded data removed]",
      "text/plain": [
       "<Figure size 389.136x200.667 with 1 Axes>"
      ]
     },
     "execution_count": 18,
     "metadata": {},
     "output_type": "execute_result"
    }
   ],
   "source": [
    "# SWAP gate decomposition into CNOTs:\n",
    "\n",
    "qr = QuantumRegister(2) # Define the number of qubits in the quantum circuit.\n",
    "qc = QuantumCircuit(qr) # Create the circuit.\n",
    "qc.cnot(1,0), qc.cnot(0,1), qc.cnot(1,0)\n",
    "qc.draw(output='mpl')  "
   ]
  },
  {
   "cell_type": "markdown",
   "metadata": {},
   "source": [
    "From right to left:\n",
    "\n",
    "$$ SWAP = CX_{10}CX_{01}CX_{10} = \\Big(|0\\rangle\\langle 0|\\otimes \\mathbb{I} +|1\\rangle\\langle 1|\\otimes X\\Big)\\Big(\\mathbb{I} \\otimes |0\\rangle\\langle 0| + X \\otimes |1 \\rangle \\langle 1|\\Big)\\Big(|0\\rangle\\langle 0|\\otimes \\mathbb{I} +|1\\rangle\\langle 1|\\otimes X\\Big).$$\n",
    "\n",
    "$$SWAP = \\frac{1}{2}\\sum_{i=0}^3 \\sigma_i \\otimes \\sigma_i = \\frac{\\mathbb{I}\\otimes \\mathbb{I} + X \\otimes X + Y \\otimes Y + Z \\otimes Z}{2}.$$"
   ]
  },
  {
   "cell_type": "markdown",
   "metadata": {},
   "source": [
    "Matrix representation:"
   ]
  },
  {
   "cell_type": "code",
   "execution_count": 19,
   "metadata": {},
   "outputs": [
    {
     "data": {
      "text/plain": [
       "array([[1., 0., 0., 0.],\n",
       "       [0., 0., 1., 0.],\n",
       "       [0., 1., 0., 0.],\n",
       "       [0., 0., 0., 1.]])"
      ]
     },
     "execution_count": 19,
     "metadata": {},
     "output_type": "execute_result"
    }
   ],
   "source": [
    "(np.kron(outzero, np.eye(2)) + np.kron(outone, sigma1))@(np.kron(np.eye(2), outzero) + np.kron(sigma1, outone))@(np.kron(outzero, np.eye(2)) + np.kron(outone, sigma1))"
   ]
  },
  {
   "cell_type": "code",
   "execution_count": 20,
   "metadata": {},
   "outputs": [
    {
     "data": {
      "text/plain": [
       "array([[1.+0.j, 0.+0.j, 0.+0.j, 0.+0.j],\n",
       "       [0.+0.j, 0.+0.j, 1.+0.j, 0.+0.j],\n",
       "       [0.+0.j, 1.+0.j, 0.+0.j, 0.+0.j],\n",
       "       [0.+0.j, 0.+0.j, 0.+0.j, 1.+0.j]])"
      ]
     },
     "execution_count": 20,
     "metadata": {},
     "output_type": "execute_result"
    }
   ],
   "source": [
    "(np.kron(np.eye(2), np.eye(2)) + np.kron(sigma1, sigma1) + np.kron(sigma2, sigma2)+np.kron(sigma3, sigma3))/2"
   ]
  },
  {
   "cell_type": "markdown",
   "metadata": {
    "id": "K_2Y6TTKt3iP"
   },
   "source": [
    "# $CU$ gate"
   ]
  },
  {
   "cell_type": "code",
   "execution_count": 21,
   "metadata": {},
   "outputs": [
    {
     "data": {
      "image/png": "[encoded data removed]",
      "text/plain": [
       "<Figure size 222.116x200.667 with 1 Axes>"
      ]
     },
     "execution_count": 21,
     "metadata": {},
     "output_type": "execute_result"
    }
   ],
   "source": [
    "# Control-U gate:\n",
    "\n",
    "qr = QuantumRegister(2) # Define the number of qubits in the quantum circuit.\n",
    "qc = QuantumCircuit(qr) # Create the circuit.\n",
    "qc.cu(theta=0, phi=0, lam=0, gamma=0, control_qubit=0, target_qubit=1)\n",
    "qc.draw(output='mpl')  "
   ]
  },
  {
   "cell_type": "code",
   "execution_count": 22,
   "metadata": {},
   "outputs": [],
   "source": [
    "#help(qc.cu)"
   ]
  },
  {
   "cell_type": "markdown",
   "metadata": {
    "id": "9dyHn_eTt3iQ"
   },
   "source": [
    "A generic controlled single qubit rotation [$CU(\\theta, \\phi, \\lambda, \\gamma)$](https://qiskit.org/documentation/stubs/qiskit.circuit.library.CUGate.html) gate can be written as:\n",
    "\n",
    "\\begin{equation}\n",
    "CU(\\theta, \\phi, \\lambda, \\gamma) = I\\otimes |0\\rangle\\langle 0\\rangle + e^{i \\gamma } U(\\theta, \\phi, \\lambda, \\gamma) \\otimes |1 \\rangle \\langle 1|,\n",
    "\\end{equation}\n",
    "\n",
    "where $e^{i \\gamma }$ is a global phase shift that can be ignored.\n",
    "\n",
    "In textbook convention, the $CU$ gate reads:\n",
    "\n",
    "$$CU(\\theta, \\phi, \\lambda, \\gamma)=|0\\rangle\\langle 0|\\otimes \\mathbb{I} +|1\\rangle\\langle 1|\\otimes U(\\theta, \\phi, \\lambda, \\gamma).$$"
   ]
  },
  {
   "cell_type": "markdown",
   "metadata": {
    "id": "tBmjoW4bPpij"
   },
   "source": [
    "# $ZZ(t)$ gate\n",
    "\n",
    "Deriving the ZZ gate via spectral decomposition theorem and parity trick."
   ]
  },
  {
   "cell_type": "code",
   "execution_count": 23,
   "metadata": {
    "colab": {
     "base_uri": "https://localhost:8080/",
     "height": 191
    },
    "executionInfo": {
     "elapsed": 747,
     "status": "ok",
     "timestamp": 1683590043269,
     "user": {
      "displayName": "Lucas Camponogara Viera",
      "userId": "13421704742725721901"
     },
     "user_tz": 180
    },
    "id": "_-XB-2gmS0gR",
    "outputId": "97245241-1149-4f29-c27b-65f03a984096"
   },
   "outputs": [
    {
     "data": {
      "image/png": "[encoded data removed]",
      "text/plain": [
       "<Figure size 370.906x200.667 with 1 Axes>"
      ]
     },
     "execution_count": 23,
     "metadata": {},
     "output_type": "execute_result"
    }
   ],
   "source": [
    "# Circuit for the ZZ(t) gate:\n",
    "\n",
    "t = Parameter('t')\n",
    "qc = QuantumCircuit(2, name='ZZ')\n",
    "qc.cnot(0,1) # CX^{01}.\n",
    "qc.rz(2 * t, 1) # R_z(2t).\n",
    "qc.cnot(0,1) # CX^{01}.\n",
    "qc.draw(output='mpl') # '!pip install pylatexenc' library is required to use 'MatplotlibDrawer'."
   ]
  },
  {
   "cell_type": "markdown",
   "metadata": {
    "id": "nSUsnUnGU4x8"
   },
   "source": [
    "## Obtaining the $ZZ(t)$ gate via spectral decomposition theorem"
   ]
  },
  {
   "cell_type": "markdown",
   "metadata": {
    "id": "XcvM6VJ-7ByW"
   },
   "source": [
    "Recall that a general single-qubit standard rotation gate can be written as:\n",
    "\n",
    "$$ R_{\\hat{n}}(\\theta) \\doteq e^{\\pm i(\\hat{n} \\cdot \\vec{\\sigma})\\theta /2}= \\cos(\\theta/2) I \\pm i \\sin(\\theta/2)(\\hat{n}\\cdot \\hat{\\sigma}),$$\n",
    "\n",
    "and after defining $\\theta \\doteq 2t$, one has\n",
    "\n",
    "\\begin{eqnarray}\n",
    "RZ(2t) \\equiv R_z(2t)&=& R_{(0,0,1)}(2t) \\doteq \\exp(- iZ2t/2) = e^{-itZ} \n",
    "= cos(t)I -isin(t)Z = \n",
    "\\begin{bmatrix} e^{- it} & 0 \\\\0 &  e^{it}\n",
    "\\end{bmatrix} = e^{- it}|0 \\rangle\\langle 0| + e^{it} |1 \\rangle\\langle 1|.\n",
    "\\end{eqnarray}\n",
    "\n",
    "With that, the $e^{-itZZ}$ gate (a.k.a [RZZ](https://qiskit.org/documentation/stubs/qiskit.circuit.library.RZZGate.html)(2t)) can be written as follows:\n",
    "\n",
    "\\begin{equation}\n",
    "R_{zz}(2t)= \\exp(-it Z\\otimes Z)=cos\\left(t\\right)(\\mathbb{I}_2\\otimes \\mathbb{I}_2)-isin\\left(t\\right)(Z\\otimes Z).\n",
    "\\end{equation}"
   ]
  },
  {
   "cell_type": "markdown",
   "metadata": {
    "id": "sW6IkjucvrUo"
   },
   "source": [
    "The $e^{-itZ\\otimes Z}$ gate is already diagonalized in the canonical basis a.k.a $Z$-basis. To see this is true, recall that Pauli operators are Normal operators, therefore, one can write the following spectral decomposition for the Pauli-$Z$ gate in the canonical basis: \n",
    "\n",
    "$$Z=\\sum_{j=1}^{d} z_j |z_j \\rangle \\langle z_j|=|0\\rangle\\langle 0|-|1\\rangle\\langle 1|.$$\n",
    "\n",
    "Note that the eigenvalues are $o_j = \\pm 1$, since Pauli operators are represented by Involutory matrices. With that, one then has \n",
    "\n",
    "\\begin{eqnarray}\n",
    "Z\\otimes Z &=& (|0\\rangle\\langle 0|-|1\\rangle\\langle 1|)\\otimes(|0\\rangle\\langle 0|-|1\\rangle\\langle 1|) \\tag{ZZ1}\\\\\n",
    "&=& (|0\\rangle\\langle 0|) \\otimes (|0\\rangle\\langle 0|) - (|0\\rangle\\langle 0|) \\otimes (|1\\rangle\\langle 1|) - (|1\\rangle\\langle 1|) \\otimes (|0\\rangle\\langle 0|) + (|1\\rangle\\langle 1|)\\otimes(|1\\rangle\\langle 1|) \\tag{ZZ2}\\\\\n",
    "&=&|00\\rangle\\langle 00|-|01\\rangle\\langle 01|-|10\\rangle\\langle 10|+|11\\rangle\\langle 11| \\tag{ZZ3} \\\\\n",
    "&=& \n",
    "\\begin{bmatrix} \n",
    "1 & 0 & 0 & 0 \\\\ \n",
    "0 & -1 & 0 & 0 \\\\ \n",
    "0 & 0 & -1 & 0 \\\\\n",
    "0 & 0 & 0 & 1  \n",
    "\\end{bmatrix}.\n",
    "\\end{eqnarray}\n",
    "\n",
    "- Eq. ($ZZ2$) was obtained from Eq. ($ZZ1$) using the distributive property for matrices:\n",
    "\n",
    "$$(A+B) \\otimes (C+D)=A\\otimes C+A\\otimes D+B\\otimes C+B\\otimes D.$$\n",
    "\n",
    "- Eq. ($ZZ3$) was obtained from Eq. ($ZZ2$) using:\n",
    "\n",
    "$$|a\\rangle \\langle c| \\otimes |b\\rangle \\langle d|  = (|a\\rangle \\otimes |b\\rangle)(\\langle c| \\otimes \\langle d|) \\equiv |ab\\rangle\\langle cd|.$$\n",
    "\n",
    "Finally, \n",
    "\n",
    "\\begin{eqnarray}\n",
    "e^{-itZ \\otimes Z}&=&e^{-it}|00\\rangle\\langle 00|+ e^{it}|01\\rangle\\langle 01|+ e^{it}|10\\rangle\\langle 10|+e^{-it}|11\\rangle\\langle 11|\\tag{ZZ4} \\\\\n",
    "&=&e^{-it}\\bigg(|00\\rangle\\langle 00|+|11\\rangle\\langle 11|\\bigg)+e^{it}\\bigg(|01\\rangle\\langle 01|+|10\\rangle\\langle 10|\\bigg) \\\\\n",
    "&=& \n",
    "\\begin{bmatrix} \n",
    "e^{-it} & 0 & 0 & 0 \\\\ \n",
    "0 & e^{it} & 0 & 0 \\\\ \n",
    "0 & 0 & e^{it} & 0 \\\\ \n",
    "0 & 0 & 0 & e^{-it}  \n",
    "\\end{bmatrix}.\n",
    "\\end{eqnarray}\n",
    "\n",
    "- Eq. ($ZZ4$) is the result of acting an operator function (in this case $e^{i\\theta \\hat{O}}$) on a Normal matrix (in this case $Z\\otimes Z$) represented by its spectral decomposition, according to:\n",
    "\n",
    "$$ e^{i\\theta\\hat{O}} = \\sum_{j=1}^n e^{i\\theta o_j} |o_j\\rangle \\langle o_j| = e^{i\\theta o_1} |o_{1}\\rangle \\langle o_{1}| + \\cdots + e^{i\\theta o_n} |o_{n}\\rangle \\langle o_{n}|.$$\n",
    "\n",
    "In another perspective, when the matrix is diagonal, the operator function acts on its diagonal entries."
   ]
  },
  {
   "cell_type": "markdown",
   "metadata": {
    "id": "hMcXCCQWVPVY"
   },
   "source": [
    "## Obtaining the $ZZ(t)$ gate via parity trick\n",
    "\n",
    "- Computing the parity information by acting with the $ZZ$ operator."
   ]
  },
  {
   "cell_type": "markdown",
   "metadata": {
    "id": "W1Gc7mmwvrUo"
   },
   "source": [
    "\n",
    "To build quantum circuits corresponding to unitary evolution operators from exponentials of the form $U=e^{-i\\hat{H}\\Delta t}$, one can use the parity trick (see Ref. [[1](#ref1)], Sec. 4.7.3). In this case, one can obtain Eq. ($ZZ4$) by computing the parity information, as follows:\n",
    "\n",
    "\\begin{eqnarray}\n",
    "(Z\\otimes Z)|00\\rangle &=& |00\\rangle, \\\\\n",
    "(Z\\otimes Z)|10\\rangle &=& -|10\\rangle, \\\\\n",
    "(Z\\otimes Z)|01\\rangle &=& -|01\\rangle, \\\\\n",
    "(Z\\otimes Z)|11\\rangle &=& |11\\rangle. \\\\\n",
    "\\end{eqnarray}\n",
    "\n",
    "One can see that a minus sign (phase) is introduced whenever the basis state has odd parity (01 or 10). Therefore, in the computational basis, a phase shift will be applied to the system according to $e^{i\\Delta t}$ if the parity of the $n$ qubits in the computational basis is odd, otherwise, the phase shift will be $e^{-i\\Delta t}$ if the parity is even (see Ref. [[1](#ref1)], Sec. 4.7.3). With this result, one can write:\n",
    "\n",
    "\\begin{eqnarray}\n",
    "e^{-itZ \\otimes Z} = e^{-it} |00\\rangle\\langle 00| + e^{it} |01\\rangle\\langle 01| + e^{it} |10 \\rangle\\langle 10| + e^{-it} |11 \\rangle\\langle 11|.\n",
    "\\end{eqnarray}"
   ]
  },
  {
   "cell_type": "markdown",
   "metadata": {
    "id": "5ykI4VoJVpI-"
   },
   "source": [
    "## Implementing the parity computation circuit"
   ]
  },
  {
   "cell_type": "markdown",
   "metadata": {
    "id": "n9t4dM7BUyPN"
   },
   "source": [
    "The above circuit can be obtained using the parity trick, where the first CNOT gate (a.k.a CX) computes the parity, and the second CNOT gate uncomputes the operation, since the CNOT gate is both a Unitary and Hermitian operator ($CX \\cdot CX = CX \\cdot CX^{\\dagger} = \\mathbb{I}$)."
   ]
  },
  {
   "cell_type": "markdown",
   "metadata": {
    "id": "mFT2hncsDjEq"
   },
   "source": [
    "\\begin{eqnarray}\n",
    "CX^{01}\\big(\\mathbb{I} \\otimes R_z(2t)\\big)CX^{01} =\n",
    "CX^{01}\\big(\\mathbb{I} \\otimes e^{-itZ}\\big)CX^{01},\n",
    "\\end{eqnarray}\n",
    "\n",
    "where it was used $RZ(2t) = e^{-itZ}$.\n",
    "\n",
    "Using the equation for a generic CU gate, one can write $CX^{01} = \\mathbb{I} \\otimes |0\\rangle\\langle 0\\rangle + X \\otimes |1 \\rangle \\langle 1|$. However, in textbook convention the CNOT gate reads $CX^{01}=|0\\rangle\\langle 0|\\otimes \\mathbb{I} +|1\\rangle\\langle 1|\\otimes X$. One then has\n",
    "\n",
    "\\begin{eqnarray}\n",
    "CX^{01}\\big(\\mathbb{I} \\otimes e^{-itZ}\\big)CX^{01}=CX^{01}\\big( \\mathbb{I} \\otimes e^{-itZ}\\big)\\big(|0\\rangle\\langle 0|\\otimes \\mathbb{I}  +|1\\rangle\\langle 1|\\otimes X \\big).\n",
    "\\end{eqnarray}\n",
    "\n",
    "From here, the distributive property of matrix multiplication over matrix addition yelds:\n",
    "\n",
    "$$\\big(\\mathbb{I}\\otimes e^{-itZ}\\big)\\big(|0\\rangle\\langle 0|\\otimes \\mathbb{I} +|1\\rangle\\langle 1|\\otimes X \\big) = \\big(\\mathbb{I}\\otimes e^{-itZ}\\big) \\big(|0\\rangle\\langle 0|\\otimes \\mathbb{I} \\big) + \\big(\\mathbb{I} \\otimes e^{-itZ}\\big)\\big(|1\\rangle\\langle 1|\\otimes X \\big).$$\n",
    "\n",
    "Using $(A\\otimes B)\\cdot(C\\otimes D)=A\\cdot C\\otimes B\\cdot D$, the right hand side becomes:\n",
    "\n",
    "$$\\Bigg[(\\mathbb{I} \\cdot |0\\rangle\\langle 0|) \\otimes (e^{-itZ} \\cdot \\mathbb{I})\\Bigg] + \\Bigg[ (\\mathbb{I} \\cdot |1\\rangle\\langle 1|) \\otimes (e^{-itZ} \\cdot X) \\Bigg] = \\Bigg(|0\\rangle\\langle 0|\\otimes e^{-itZ} \\Bigg) + \\Bigg(|1\\rangle\\langle 1|\\otimes e^{-itZ}X \\Bigg) .$$ \n",
    "\n",
    "With that, one then has:\n",
    "\n",
    "\\begin{eqnarray}\n",
    "CX^{01}\\bigg(\\mathbb{I}\\otimes e^{-itZ}\\bigg)CX^{01} &=& CX^{01}\\bigg(|0\\rangle\\langle 0|\\otimes e^{-itZ} +|1\\rangle\\langle 1|\\otimes e^{-itZ}X \\bigg) = \\bigg(|0\\rangle\\langle 0|\\otimes \\mathbb{I} +|1\\rangle\\langle 1|\\otimes X \\bigg)\\bigg(|0\\rangle\\langle 0|\\otimes e^{-itZ} +|1\\rangle\\langle 1|\\otimes e^{-itZ}X \\bigg).\n",
    "\\end{eqnarray}\n",
    "\n",
    "Once again, applying the distributive property over matrix addition, the last term becomes\n",
    "\n",
    "\\begin{eqnarray}\n",
    "CX^{01}\\bigg(\\mathbb{I}\\otimes e^{-itZ}\\bigg)CX^{01} &=& \\bigg(|0\\rangle\\langle 0|\\otimes \\mathbb{I} \\Bigg)\\bigg(|0\\rangle\\langle 0|\\otimes e^{-itZ} \\Bigg)+\\bigg(|0\\rangle\\langle 0|\\otimes \\mathbb{I} \\Bigg)\\bigg(|1\\rangle\\langle 1|\\otimes e^{-itZ}X \\Bigg)\\\\\n",
    "&+&\\bigg(|1\\rangle\\langle 1|\\otimes X\\bigg)\\bigg(|0\\rangle\\langle 0|\\otimes e^{-itZ}\\bigg)+\\bigg(|1\\rangle\\langle 1|\\otimes X\\bigg)\\bigg(|1\\rangle\\langle 1|\\otimes e^{-itZ}X\\bigg).\n",
    "\\end{eqnarray}\n",
    "\n",
    "Now, applying $(A\\otimes B)\\cdot(C\\otimes D)=A\\cdot C\\otimes B\\cdot D$, one gets\n",
    "\n",
    "\\begin{eqnarray}\n",
    "CX^{01}\\bigg(\\mathbb{I}\\otimes e^{-itZ}\\bigg)CX^{01} &=& \\Bigg(|0\\rangle\\langle 0|0\\rangle\\langle 0| \\otimes e^{-itZ}\\Bigg)+\\Bigg(|0\\rangle\\langle 0|1\\rangle\\langle 1| \\otimes e^{-itZ}X\\Bigg)+\\Bigg(|1\\rangle\\langle 1|0\\rangle\\langle 0| \\otimes Xe^{-itZ}\\Bigg)+\\Bigg(|1\\rangle\\langle 1|1\\rangle\\langle 1| \\otimes Xe^{-itZ}X\\Bigg)\\\\\n",
    "&=& \\Bigg(|0\\rangle\\langle 0|\\otimes e^{-itZ} \\Bigg)+\\Bigg(|1\\rangle\\langle 1|\\otimes Xe^{-itZ}X \\Bigg),\n",
    "\\end{eqnarray}\n",
    "\n",
    "where it was used $\\langle i|j\\rangle = \\delta_{ij}$ for a set of orthonormal eigenvectors. \n",
    "\n",
    "From here, recall that $e^{-itZ}=e^{- it}|0 \\rangle\\langle 0| + e^{it} |1 \\rangle\\langle 1|$, such that the last term writes\n",
    "\n",
    "\\begin{eqnarray}\n",
    "CX^{01}\\bigg(\\mathbb{I}\\otimes e^{-itZ}\\bigg)CX^{01} &=& \\Bigg(|0\\rangle\\langle 0|\\otimes (e^{-it}|0\\rangle\\langle 0|+e^{it}|1\\rangle\\langle 1|)\\Bigg) +\\Bigg(|1\\rangle\\langle 1|\\otimes X (e^{-it}|0\\rangle\\langle 0|+e^{it}|1\\rangle\\langle 1|)X\\Bigg) \\\\\n",
    "&=&\\Bigg(|0\\rangle\\langle 0|\\otimes (e^{-it}|0\\rangle\\langle 0|+e^{it}|1\\rangle\\langle 1|)\\Bigg) +\\Bigg(|1\\rangle\\langle 1|\\otimes  (e^{-it}X|0\\rangle\\langle 0|X+e^{it}X|1\\rangle\\langle 1|X)\\Bigg).\n",
    "\\end{eqnarray}\n",
    "\n",
    "To compute $\\big(e^{-it}X|0\\rangle\\langle 0|X+e^{it}X|1\\rangle\\langle 1|X\\big)$, one should note that \n",
    "\n",
    "\\begin{eqnarray}\n",
    "X|0\\rangle &=& |1\\rangle, \\\\\n",
    "X|1\\rangle &=& |0\\rangle, \\\\\n",
    "(A|\\psi\\rangle)^{\\dagger} &=& |\\psi\\rangle^{\\dagger} A^{\\dagger} = \\langle \\psi| A^{\\dagger}, \\\\\n",
    "X^{\\dagger}&=&X,\\\\\n",
    "\\langle 0| X &=& (X|0\\rangle)^{\\dagger} = (|1\\rangle)^{\\dagger} = \\langle 1|,\\\\\n",
    "\\langle 1| X &=& (X|1\\rangle)^{\\dagger} = (|0\\rangle)^{\\dagger} = \\langle 0|.\n",
    "\\end{eqnarray}\n",
    "\n",
    "Finally,\n",
    "\\begin{eqnarray}\n",
    "CX^{01}(\\mathbb{I}\\otimes e^{-itZ})CX^{01}&=& \\Bigg(|0\\rangle\\langle 0|\\otimes (e^{-it}|0\\rangle\\langle 0|+e^{it}|1\\rangle\\langle 1|)\\Bigg) + \\Bigg(|1\\rangle\\langle 1|\\otimes (e^{-it}|1\\rangle\\langle 1|+e^{it}|0\\rangle\\langle 0|)\\Bigg) \\\\\n",
    "&=& \\Bigg(e^{-it}|0\\rangle\\langle 0|\\otimes|0\\rangle\\langle 0|+e^{it}|0\\rangle\\langle 0|\\otimes|1\\rangle\\langle 1|\\Bigg) + \\Bigg(e^{-it}|1\\rangle\\langle 1|\\otimes|1\\rangle\\langle 1|+e^{it}|1\\rangle\\langle 1|\\otimes|0\\rangle\\langle 0|\\Bigg) \\\\\n",
    "&=& e^{-it}|00\\rangle\\langle 00| + e^{it}|01\\rangle\\langle 01| + e^{-it}|11\\rangle\\langle 11|+ e^{it}|10\\rangle\\langle 10| \\\\\n",
    "&=& e^{-itZ \\otimes Z},\n",
    "\\end{eqnarray}\n",
    "\n",
    "where it was used the left–distributive property $$A \\otimes (B+C) = A\\otimes B+A\\otimes C,$$ and the identity $$(|a\\rangle \\langle c|) \\otimes (|b\\rangle \\langle d|)=(|a\\rangle \\otimes |b\\rangle)(\\langle c| \\otimes \\langle d|) \\equiv |ab\\rangle \\langle cd|.$$\n",
    "\n",
    "Q.E.D."
   ]
  },
  {
   "cell_type": "markdown",
   "metadata": {
    "id": "f640c94a-c8a9-4675-a91d-07e12b12aa1c",
    "jp-MarkdownHeadingCollapsed": true,
    "tags": []
   },
   "source": [
    "# $XX(t)$ gate\n",
    "\n",
    "Deriving the XX gate via spectral decomposition theorem and single-qubit rotations."
   ]
  },
  {
   "cell_type": "code",
   "execution_count": 24,
   "metadata": {
    "colab": {
     "base_uri": "https://localhost:8080/",
     "height": 191
    },
    "executionInfo": {
     "elapsed": 1221,
     "status": "ok",
     "timestamp": 1683589985677,
     "user": {
      "displayName": "Lucas Camponogara Viera",
      "userId": "13421704742725721901"
     },
     "user_tz": 180
    },
    "id": "hvjrgoOnPHtu",
    "outputId": "411d61bd-83aa-4a15-98c6-b66405ca394d"
   },
   "outputs": [
    {
     "data": {
      "image/png": "[encoded data removed]",
      "text/plain": [
       "<Figure size 538.128x200.667 with 1 Axes>"
      ]
     },
     "execution_count": 24,
     "metadata": {},
     "output_type": "execute_result"
    }
   ],
   "source": [
    "# Circuit for the XX(t) gate:\n",
    "\n",
    "t = Parameter('t')\n",
    "qc = QuantumCircuit(2, name='XX')\n",
    "qc.h([0,1])\n",
    "qc.cx(0, 1)\n",
    "qc.rz(2 * t, 1)\n",
    "qc.cx(0, 1)\n",
    "qc.h([0,1])\n",
    "qc.draw(output='mpl')"
   ]
  },
  {
   "cell_type": "markdown",
   "metadata": {
    "id": "Jrs0h4pmqrFc"
   },
   "source": [
    "## Obtaining the $XX(t)$ gate via spectral decomposition theorem"
   ]
  },
  {
   "cell_type": "markdown",
   "metadata": {
    "id": "7e08e7df-6055-4169-907d-db244ba97a6a"
   },
   "source": [
    "One should note that $e^{-itXX}$ is shorthand for $e^{-itX \\otimes X}.$ Recall that Pauli operators are all involutory operators, i.e, their eigenvalues are $o_j = \\pm 1$. According to the spectral decomposition theorem for Normal matrices, one then has:\n",
    "\n",
    "$$X = \\sum_{j=1}^{d} x_j |x_j \\rangle \\langle x_j| = |+\\rangle\\langle +|-|-\\rangle\\langle -|,$$\n",
    "\n",
    "where $$ |\\pm\\rangle \\equiv \\frac{1}{\\sqrt{2}}(|0\\rangle\\pm|1\\rangle) $$ \n",
    "\n",
    "denotes the two orthonormal eigenstates (eigenvectors) of the Pauli $X$-gate according to:\n",
    "\n",
    "$$X |+\\rangle = \\frac{1}{\\sqrt{2}}(X|0\\rangle+X|1\\rangle)=\\frac{1}{\\sqrt{2}}(|1\\rangle+|0\\rangle)=|+\\rangle,$$\n",
    "$$X |-\\rangle = \\frac{1}{\\sqrt{2}}(X|0\\rangle-X|1\\rangle) =\\frac{1}{\\sqrt{2}}(|1\\rangle-|0\\rangle)=-|-\\rangle.$$\n",
    "\n",
    "With that, one gets:\n",
    "\n",
    "\\begin{eqnarray}\n",
    "XX &\\equiv& X\\otimes X = (|+\\rangle\\langle +|-|-\\rangle\\langle -|)\\otimes(|+\\rangle\\langle +|-|-\\rangle\\langle -|) \\tag{XX1}\\\\\n",
    "&=& (|+\\rangle\\langle +|) \\otimes (|+\\rangle\\langle +|) - (|+\\rangle\\langle +|) \\otimes (|-\\rangle\\langle -|) - (|-\\rangle\\langle -|)\\otimes (|+\\rangle\\langle +|) + (|-\\rangle\\langle -|) \\otimes (|-\\rangle\\langle -|) \\tag{XX2} \\\\\n",
    "&=& (|++\\rangle\\langle ++|)-(|+-\\rangle\\langle +-|)-(|-+\\rangle\\langle -+|)+(|--\\rangle\\langle --|) \\tag{XX3} \\\\\n",
    "\\implies e^{-itX \\otimes X}\n",
    "&=&e^{-it}|++\\rangle\\langle ++|+ e^{-it}|--\\rangle\\langle --|+e^{it}|+-\\rangle\\langle +-|+ e^{it}|-+\\rangle\\langle -+|\\tag{XX4} \\\\\n",
    "&=&e^{-it}\\bigg(|++\\rangle\\langle ++|+|--\\rangle\\langle --|\\bigg)+e^{it}\\bigg(|+-\\rangle\\langle +-|+|-+\\rangle\\langle -+|\\bigg).\n",
    "\\end{eqnarray}\n",
    "\n",
    "- Eq. ($XX2$) was obtained from Eq. ($XX1$) using the distributive property for matrices:\n",
    "\n",
    "$$(A+B) \\otimes (C+D)=A\\otimes C+A\\otimes D+B\\otimes C+B\\otimes D.$$\n",
    "\n",
    "- Eq. ($XX3$) was obtained from Eq. ($XX2$) using:\n",
    "\n",
    "$$|a\\rangle \\langle c| \\otimes |b\\rangle \\langle d|  = (|a\\rangle \\otimes |b\\rangle)(\\langle c| \\otimes \\langle d|) \\equiv |ab\\rangle\\langle cd|.$$\n",
    "\n",
    "- Just as before, Eq. ($XX4$) is the result of acting an operator function (in this case $e^{i\\theta \\hat{O}}$) on a Normal matrix (in this case $X\\otimes X$) represented by its corresponding spectral decomposition. \n",
    "\n",
    "As one can see, the $e^{-itX\\otimes X}$ gate is not diagonalized in the $Z$-basis. Since measurements are computed in the $Z$-basis, one must apply a Hadamard gate to change between the $X$ and $Z$ bases according to\n",
    "\n",
    "\\begin{eqnarray}\n",
    "|+\\rangle &=& H|0\\rangle = R_y(\\pi/2)|0\\rangle, \\\\\n",
    "|-\\rangle &=& H|1\\rangle = R_y(-\\pi/2)|0\\rangle, \\\\\n",
    "\\langle +| &=& (|+\\rangle)^{\\dagger} = (H|0\\rangle)^{\\dagger} = (|0\\rangle)^{\\dagger}H^{\\dagger} = \\langle 0|H,\\\\\n",
    "\\langle -| &=& (|-\\rangle)^{\\dagger} = (H|1\\rangle)^{\\dagger} = (|1\\rangle)^{\\dagger}H^{\\dagger} = \\langle 1|H.\n",
    "\\end{eqnarray}"
   ]
  },
  {
   "cell_type": "markdown",
   "metadata": {
    "id": "OOzoRtcgcEmN"
   },
   "source": [
    "With that, and using $A |v\\rangle \\otimes B |w\\rangle = (A\\otimes B)(|v\\rangle \\otimes |w\\rangle),$ one can write the respective outer products as follows:\n",
    "\n",
    "\\begin{eqnarray}\n",
    "|++\\rangle\\langle ++| &=& (H|0\\rangle \\otimes H|0\\rangle)(\\langle 0| H \\otimes \\langle 0| H)\\\\\n",
    "&=& \\Bigg[(H \\otimes H)(|0\\rangle \\otimes |0\\rangle)\\Bigg]\\Bigg[(\\langle 0| \\otimes \\langle 0|)(H \\otimes H)\\Bigg] \\\\\n",
    "&=&(H\\otimes H)|00\\rangle\\langle 00|(H\\otimes H),\\\\\n",
    "\\end{eqnarray}"
   ]
  },
  {
   "cell_type": "markdown",
   "metadata": {
    "id": "04MLdxyqnP4X"
   },
   "source": [
    "\\begin{eqnarray}\n",
    "|--\\rangle\\langle --| &=& (H|1\\rangle \\otimes H|1\\rangle)(\\langle 1| H\\otimes \\langle 1| H)\\\\\n",
    "&=& \\Bigg[(H \\otimes H)(|1\\rangle \\otimes |1\\rangle)\\Bigg]\\Bigg[(\\langle 1| \\otimes \\langle 1|)(H \\otimes H)\\Bigg] \\\\\n",
    "&=&(H\\otimes H)|11\\rangle\\langle 11|(H\\otimes H),\n",
    "\\end{eqnarray}"
   ]
  },
  {
   "cell_type": "markdown",
   "metadata": {
    "id": "0PZzU-pLnQH4"
   },
   "source": [
    "\\begin{eqnarray}\n",
    "|+-\\rangle\\langle +-| &=& (H|0\\rangle \\otimes H|1\\rangle)(\\langle 0| H \\otimes \\langle 1| H)\\\\\n",
    "&=& \\Bigg[(H \\otimes H)(|0\\rangle \\otimes |1\\rangle)\\Bigg]\\Bigg[(\\langle 0| \\otimes \\langle 1|)(H \\otimes H)\\Bigg] \\\\\n",
    "&=&(H\\otimes H)|01\\rangle\\langle 01|(H\\otimes H),\n",
    "\\end{eqnarray}"
   ]
  },
  {
   "cell_type": "markdown",
   "metadata": {
    "id": "LTQESG6GolZd"
   },
   "source": [
    "\\begin{eqnarray}\n",
    "|-+\\rangle\\langle -+| &=& (H|1\\rangle \\otimes H|0\\rangle)(\\langle 1| H \\otimes \\langle 0| H)\\\\\n",
    "&=& \\Bigg[(H \\otimes H)(|1\\rangle \\otimes |0\\rangle)\\Bigg]\\Bigg[(\\langle 1| \\otimes \\langle 0|)(H \\otimes H)\\Bigg] \\\\\n",
    "&=&(H\\otimes H)|10\\rangle\\langle 10|(H\\otimes H).\n",
    "\\end{eqnarray}"
   ]
  },
  {
   "cell_type": "markdown",
   "metadata": {
    "id": "NPtcXZv3bxaU"
   },
   "source": [
    "Finally,\n",
    "\n",
    "\\begin{eqnarray}\n",
    "e^{-it X \\otimes X} &=& e^{-it}\\Bigg[(H\\otimes H)|00\\rangle\\langle 00|(H\\otimes H)+(H\\otimes H)|11\\rangle\\langle 11|(H\\otimes H)\\Bigg]+e^{it}\\Bigg[(H\\otimes H)|01\\rangle\\langle 01|(H\\otimes H)+(H\\otimes H)|10\\rangle\\langle 10|(H\\otimes H)\\Bigg] \\\\\n",
    "&=& (H\\otimes H)\\Bigg[e^{-it}\\Bigg(|00\\rangle\\langle 00|+|11\\rangle\\langle 11|\\Bigg)+e^{it}\\Bigg(|01\\rangle\\langle 01|+|10\\rangle\\langle 10|\\Bigg)\\Bigg](H\\otimes H)\\\\\n",
    "&=& (H\\otimes H) e^{-it Z \\otimes Z}(H\\otimes H) \\\\\n",
    "&=& (H\\otimes H) C_x^{01}\\big(\\mathbb{I}\\otimes e^{-itZ}\\big) C_x^{01}(H\\otimes H) \\\\\n",
    "&=& (H\\otimes H) C_x^{01}\\big(\\mathbb{I}\\otimes R_Z(2t)\\big) C_x^{01}(H\\otimes H),\n",
    "\\end{eqnarray}\n",
    "\n",
    "where it was used the previously obtained decomposition of the $ZZ(t)$ gate, given by\n",
    "\n",
    "\\begin{eqnarray}\n",
    "ZZ(t)=e^{-itZ\\otimes Z} &=& e^{-it}\\Bigg(|00\\rangle\\langle 00|+|11\\rangle\\langle 11|\\Bigg)+e^{it}\\Bigg(|01\\rangle\\langle 01|+|10\\rangle\\langle 10|\\Bigg)=C_x^{01}\\big(\\mathbb{I}\\otimes e^{-itZ}\\big)C_x^{01},\n",
    "\\end{eqnarray}\n",
    "\n",
    "and the fact that $e^{-itZ} = R_z(2t)$.\n",
    "\n",
    "Q.E.D."
   ]
  },
  {
   "cell_type": "markdown",
   "metadata": {
    "id": "ftiavwHYO1Zn"
   },
   "source": [
    "From the fact that \n",
    "\n",
    "$$H|0\\rangle = R_y(\\pi/2)|0\\rangle = \\frac{1}{\\sqrt{2}}(|0\\rangle+|1\\rangle) \\equiv |+\\rangle,$$ \n",
    "\n",
    "and \n",
    "\n",
    "$$H|1\\rangle = R_y(-\\pi/2)|0\\rangle = \\frac{1}{\\sqrt{2}}(|0\\rangle-|1\\rangle) \\equiv |-\\rangle,$$ \n",
    "\n",
    "one equivalent quantum circuit is:\n",
    "\n",
    "\\begin{eqnarray}\n",
    "(R_y(-\\pi/2) \\otimes R_y(-\\pi/2)) C_x^{01}\\big(\\mathbb{I}\\otimes R_Z(2t)\\big) C_x^{01}(R_y(\\pi/2) \\otimes R_y(\\pi/2)).\n",
    "\\end{eqnarray}"
   ]
  },
  {
   "cell_type": "code",
   "execution_count": 25,
   "metadata": {
    "colab": {
     "base_uri": "https://localhost:8080/"
    },
    "executionInfo": {
     "elapsed": 528,
     "status": "ok",
     "timestamp": 1663751425817,
     "user": {
      "displayName": "Lucas Camponogara Viera",
      "userId": "14322290658374940800"
     },
     "user_tz": -480
    },
    "id": "XMR4d5oZOz0q",
    "outputId": "529ca2be-2c94-467a-a9b4-841450e75dcc"
   },
   "outputs": [
    {
     "data": {
      "image/png": "[encoded data removed]",
      "text/plain": [
       "<Figure size 538.128x200.667 with 1 Axes>"
      ]
     },
     "execution_count": 25,
     "metadata": {},
     "output_type": "execute_result"
    }
   ],
   "source": [
    "# Equivalent circuit for the XX(t) gate:\n",
    "\n",
    "qc = QuantumCircuit(2, name='XX')\n",
    "qc.ry(np.pi/2,[0,1])\n",
    "qc.cnot(0,1)\n",
    "qc.rz(2 * t, 1)\n",
    "qc.cnot(0,1)\n",
    "qc.ry(-np.pi/2,[0,1])\n",
    "qc.draw(output='mpl')"
   ]
  },
  {
   "cell_type": "markdown",
   "metadata": {
    "id": "9r6uJ7Owq28n"
   },
   "source": [
    "## Obtaining the $XX(t)$ gate via single qubit rotations"
   ]
  },
  {
   "cell_type": "markdown",
   "metadata": {
    "id": "IVeHCX6vq3rv"
   },
   "source": [
    "Another method to obtain the $XX(t) \\equiv e^{(-it X\\otimes X)}$ gate is by performing single-qubit rotations on the $ZZ(t)$ gate. To this end, note that\n",
    "\n",
    "$$R_y(\\pi/2) Z R_y(-\\pi/2) = X,$$\n",
    "\n",
    "such that \n",
    "\n",
    "$$\\Bigg(R_y(\\pi/2) \\otimes R_y(\\pi/2) \\Bigg) (Z\\otimes Z) \\Bigg(R_y(-\\pi/2) \\otimes R_y(-\\pi/2) \\Bigg) = X\\otimes X.$$\n"
   ]
  },
  {
   "cell_type": "markdown",
   "metadata": {
    "id": "H3KgAu5N2UtJ"
   },
   "source": [
    "The corresponding $XX(t)^{(0,1)}$ circuit acting on qubits 0 and 1 is then obtained by exponentiating the $Z\\otimes Z$ operator in the equation above:\n",
    "\n",
    "\\begin{align}\n",
    "\\Bigg(R_y(\\pi/2) \\otimes R_y(\\pi/2) \\Bigg) e^{(-itZ\\otimes Z)} \\Bigg(R_y(-\\pi/2) \\otimes R_y(-\\pi/2) \\Bigg) =& \\\\\n",
    "e^{-i \\frac{\\pi}{4}(Y\\otimes I+I\\otimes Y)} e^{(-itZ\\otimes Z)} e^{i \\frac{\\pi}{4}(Y\\otimes I+I\\otimes Y)} =& \\cdots \\\\\n",
    "=& e^{(-it X\\otimes X)} \\\\\n",
    "\\equiv& XX(t).\n",
    "\\end{align}"
   ]
  },
  {
   "cell_type": "markdown",
   "metadata": {
    "id": "h1ELB_rvDUQJ"
   },
   "source": [
    "The full procedure can be found at [ibmq-qsim-sup-mat.ipynb](https://github.com/qiskit-community/open-science-prize-2021/blob/main/ibmq-qsim-sup-mat.ipynb), where the following identity was used: \n",
    "\n",
    "$$R_{\\hat{n}_j}(\\theta_1) \\otimes R_{\\hat{n}_k}(\\theta_2)=e^{-i(\\hat{n}_j\\cdot \\vec{\\sigma})\\theta_1/2} \\otimes e^{-i(\\hat{n}_k\\cdot \\vec{\\sigma})\\theta_2/2} = e^{-\\frac{i}{2}(\\hat{\\sigma}_j\\theta_1 \\otimes I+I \\otimes \\hat{\\sigma}_k\\theta_2)},$$\n",
    "\n",
    "which follows from\n",
    "\n",
    "$$e^A \\otimes e^B=e^{A \\otimes \\mathbb{I}_n} e^{\\mathbb{I}_m \\otimes B}=e^{A \\otimes \\mathbb{I}_n + \\mathbb{I}_m \\otimes B}.$$"
   ]
  },
  {
   "cell_type": "markdown",
   "metadata": {
    "id": "e8e7e781-9bca-4a00-acc0-d920b7bf3161",
    "jp-MarkdownHeadingCollapsed": true,
    "tags": []
   },
   "source": [
    "# $YY(t)$ gate\n",
    "\n",
    "Deriving the YY gate via spectral decomposition theorem."
   ]
  },
  {
   "cell_type": "code",
   "execution_count": 26,
   "metadata": {
    "colab": {
     "base_uri": "https://localhost:8080/",
     "height": 191
    },
    "executionInfo": {
     "elapsed": 561,
     "status": "ok",
     "timestamp": 1683590019690,
     "user": {
      "displayName": "Lucas Camponogara Viera",
      "userId": "13421704742725721901"
     },
     "user_tz": 180
    },
    "id": "36Ejq1rWNBem",
    "outputId": "5c33d8eb-0993-42fc-c2d3-e6a57d6f9e37"
   },
   "outputs": [
    {
     "data": {
      "image/png": "[encoded data removed]",
      "text/plain": [
       "<Figure size 723.581x200.667 with 1 Axes>"
      ]
     },
     "execution_count": 26,
     "metadata": {},
     "output_type": "execute_result"
    }
   ],
   "source": [
    "# Circuit for the YY(t) gate:\n",
    "\n",
    "t = Parameter('t')\n",
    "qr = QuantumRegister(2)\n",
    "qc = QuantumCircuit(qr, name='YY')\n",
    "qc.sdg([0,1])\n",
    "qc.h([0,1])\n",
    "qc.cx(0, 1)\n",
    "qc.rz(2 * t, 1)\n",
    "qc.cx(0, 1)\n",
    "qc.h([0,1])\n",
    "qc.s([0,1])\n",
    "qc.draw(output='mpl')"
   ]
  },
  {
   "cell_type": "markdown",
   "metadata": {
    "id": "8391ff44-f7df-4a49-a719-1f70fff7557a"
   },
   "source": [
    "One should note that $e^{-itYY}$ is shorthand for $e^{-itY \\otimes Y}$. Following the same thought process as before, one writes the spectral decomposition of the Pauli operator $Y$ in the basis of its eigenvectors:\n",
    "\n",
    "$$Y=\\sum_{j=1}^{d} y_j |y_j \\rangle \\langle y_j|=|\\oplus\\rangle\\langle \\oplus|-|\\ominus\\rangle\\langle \\ominus|,$$\n",
    "\n",
    "where\n",
    "\n",
    "\\begin{eqnarray}\n",
    "|+y\\rangle &\\equiv& |\\oplus\\rangle \\doteq \\frac{1}{\\sqrt{2}}(|0\\rangle+i|1\\rangle), \\\\\n",
    "|-y\\rangle &\\equiv& |\\ominus\\rangle \\doteq \\frac{1}{\\sqrt{2}}(|0\\rangle-i|1\\rangle),\n",
    "\\end{eqnarray}\n",
    "\n",
    "denotes the two orthonormal eigenstates (eigenvectors) of the Pauli $Y$-gate. "
   ]
  },
  {
   "cell_type": "markdown",
   "metadata": {
    "id": "v-YoV0T8RxDZ"
   },
   "source": [
    "With that, one has\n",
    "\n",
    "\\begin{eqnarray}\n",
    "YY &\\equiv& Y \\otimes Y = (|\\oplus\\rangle\\langle \\oplus|-|\\ominus\\rangle\\langle \\ominus|)\\otimes(|\\oplus\\rangle\\langle \\oplus|-|\\ominus\\rangle\\langle \\ominus|) \\tag{YY1}\\\\\n",
    "&=& (|\\oplus\\rangle\\langle \\oplus|) \\otimes (|\\oplus\\rangle\\langle \\oplus|) - (|\\oplus\\rangle\\langle \\oplus|) \\otimes (|\\ominus\\rangle\\langle \\ominus|) - (|\\ominus\\rangle\\langle \\ominus|)\\otimes(|\\oplus\\rangle\\langle \\oplus|) + (|\\ominus\\rangle\\langle \\ominus|)\\otimes(|\\ominus\\rangle\\langle \\ominus|) \\tag{YY2}\\\\\n",
    "&=&|\\oplus\\oplus\\rangle\\langle \\oplus\\oplus|-|\\oplus\\ominus\\rangle\\langle \\oplus\\ominus|-|\\ominus\\oplus\\rangle\\langle \\ominus\\oplus|+|\\ominus\\ominus\\rangle\\langle \\ominus\\ominus| \\tag{YY3}.\n",
    "\\end{eqnarray}\n",
    "\n",
    "- Eq. ($YY2$) was obtained from Eq. ($YY1$) using the distributive property for matrices:\n",
    "\n",
    "$$(A+B) \\otimes (C+D)=A\\otimes C+A\\otimes D+B\\otimes C+B\\otimes D.$$\n",
    "\n",
    "- Eq. ($YY3$) was obtained from Eq. ($YY2$) using:\n",
    "\n",
    "$$|a\\rangle \\langle c| \\otimes |b\\rangle \\langle d|  = (|a\\rangle \\otimes |b\\rangle)(\\langle c| \\otimes \\langle d|) \\equiv |ab\\rangle\\langle cd|.$$"
   ]
  },
  {
   "cell_type": "markdown",
   "metadata": {
    "id": "X6m_pwNwUPHe"
   },
   "source": [
    "Henceforth, \n",
    "\n",
    "\\begin{eqnarray}\n",
    "e^{-itY \\otimes Y}&=&e^{-it}|\\oplus\\oplus\\rangle\\langle \\oplus\\oplus|+ e^{it}|\\oplus\\ominus\\rangle\\langle \\oplus\\ominus|+ e^{it}|\\ominus\\oplus\\rangle\\langle \\ominus\\oplus|+e^{-it}|\\ominus\\ominus\\rangle\\langle \\ominus\\ominus|\\tag{YY4} \\\\\n",
    "&=&e^{-it}\\Bigg(|\\oplus\\oplus\\rangle\\langle \\oplus\\oplus|+|\\ominus\\ominus\\rangle\\langle \\ominus\\ominus|\\Bigg) + e^{it}\\Bigg(|\\oplus\\ominus\\rangle\\langle \\oplus\\ominus|+|\\ominus\\oplus\\rangle\\langle \\ominus\\oplus|\\Bigg).\n",
    "\\end{eqnarray}\n",
    "\n",
    "- Once more, Eq. ($YY4$) is the result of acting an operator function (in this case $e^{i\\theta \\hat{O}}$) on a Normal matrix (in this case $Y\\otimes Y$) with the spectral decomposition, according to:\n",
    "\n",
    "$$ e^{i\\theta\\hat{O}} = \\sum_{j=1}^n e^{i\\theta o_j} |o_j\\rangle \\langle o_j| = e^{i\\theta o_1} |o_{1}\\rangle \\langle o_{1}| + \\cdots + e^{i\\theta o_n} |o_{n}\\rangle \\langle o_{n}|.$$"
   ]
  },
  {
   "cell_type": "markdown",
   "metadata": {
    "id": "YFNot9kqS98Z"
   },
   "source": [
    "As one can see, the $e^{-itY\\otimes Y}$ gate is not diagonalized in the $Z$-basis. Since measurements are computed in the $Z$-basis, the next step is to apply a basis change, as follows:\n",
    "\n",
    "\\begin{eqnarray}\n",
    "|\\oplus\\rangle &=& SH|0\\rangle = R_x(-\\pi/2)|0\\rangle, \\\\\n",
    "|\\ominus\\rangle &=& SH|1\\rangle = R_x(\\pi/2)|0\\rangle, \\\\\n",
    "\\langle \\oplus| &=& (|\\oplus\\rangle)^{\\dagger} = (SH|0\\rangle)^{\\dagger} = (|0\\rangle)^{\\dagger} (SH)^{\\dagger} = \\langle 0| H^{\\dagger}S^{\\dagger}=\\langle 0|HS^{\\dagger},\\\\\n",
    "\\langle \\ominus| &=& (|\\ominus\\rangle)^{\\dagger} = (SH|1\\rangle)^{\\dagger} = (|1\\rangle)^{\\dagger} (SH)^{\\dagger} = \\langle 1| H^{\\dagger}S^{\\dagger}=\\langle 1|HS^{\\dagger}.\n",
    "\\end{eqnarray}"
   ]
  },
  {
   "cell_type": "markdown",
   "metadata": {
    "id": "m8rg8UVZFioC"
   },
   "source": [
    "With that, and using $A |v\\rangle \\otimes B |w\\rangle = (A\\otimes B)(|v\\rangle \\otimes |w\\rangle),$ one can write the respective outer products as follows:\n",
    "\n",
    "\\begin{eqnarray}\n",
    "|\\oplus\\oplus\\rangle\\langle \\oplus\\oplus| &=& (SH|0\\rangle \\otimes SH|0\\rangle)(\\langle 0| HS^{\\dagger} \\otimes \\langle 0| HS^{\\dagger})\\\\\n",
    "&=& \\Bigg[(SH \\otimes SH)(|0\\rangle \\otimes |0\\rangle)\\Bigg]\\Bigg[(\\langle 0| \\otimes \\langle 0|)(HS^{\\dagger} \\otimes HS^{\\dagger})\\Bigg] \\\\\n",
    "&=&(S\\otimes S)(H\\otimes H)|00\\rangle\\langle 00|(H\\otimes H)(S^{\\dagger}\\otimes S^{\\dagger}),\n",
    "\\end{eqnarray}"
   ]
  },
  {
   "cell_type": "markdown",
   "metadata": {
    "id": "u4womFgXFs4h"
   },
   "source": [
    "\\begin{eqnarray}\n",
    "|\\ominus\\ominus\\rangle\\langle \\ominus\\ominus| &=& (SH|1\\rangle \\otimes SH|1\\rangle)(\\langle 1| HS^{\\dagger} \\otimes \\langle 1| HS^{\\dagger})\\\\\n",
    "&=& \\Bigg[(SH \\otimes SH)(|1\\rangle \\otimes |1\\rangle)\\Bigg]\\Bigg[(\\langle 1| \\otimes \\langle 1|)(HS^{\\dagger} \\otimes HS^{\\dagger})\\Bigg] \\\\\n",
    "&=&(S\\otimes S)(H\\otimes H)|11\\rangle\\langle 11|(H\\otimes H)(S^{\\dagger}\\otimes S^{\\dagger}),\n",
    "\\end{eqnarray}"
   ]
  },
  {
   "cell_type": "markdown",
   "metadata": {
    "id": "-6R-H7OGJB7H"
   },
   "source": [
    "\\begin{eqnarray}\n",
    "|\\oplus\\ominus\\rangle\\langle \\oplus\\ominus| &=& (SH|0\\rangle \\otimes SH|1\\rangle)(\\langle 0| HS^{\\dagger} \\otimes \\langle 1| HS^{\\dagger})\\\\\n",
    "&=& \\Bigg[(SH \\otimes SH)(|0\\rangle \\otimes |1\\rangle)\\Bigg]\\Bigg[(\\langle 0| \\otimes \\langle 1|)(HS^{\\dagger} \\otimes HS^{\\dagger})\\Bigg] \\\\\n",
    "&=&(S\\otimes S)(H\\otimes H)|01\\rangle\\langle 01|(H\\otimes H)(S^{\\dagger}\\otimes S^{\\dagger}),\n",
    "\\end{eqnarray}"
   ]
  },
  {
   "cell_type": "markdown",
   "metadata": {
    "id": "74QSfo9jKTvA"
   },
   "source": [
    "\\begin{eqnarray}\n",
    "|\\ominus\\oplus\\rangle\\langle \\ominus\\oplus| &=& (SH|1\\rangle \\otimes SH|0\\rangle)(\\langle 1| HS^{\\dagger} \\otimes \\langle 0| HS^{\\dagger})\\\\\n",
    "&=& \\Bigg[(SH \\otimes SH)(|1\\rangle \\otimes |0\\rangle)\\Bigg]\\Bigg[(\\langle 1| \\otimes \\langle 0|)(HS^{\\dagger} \\otimes HS^{\\dagger})\\Bigg] \\\\\n",
    "&=&(S\\otimes S)(H\\otimes H)|10\\rangle\\langle 10|(H\\otimes H)(S^{\\dagger}\\otimes S^{\\dagger}).\n",
    "\\end{eqnarray}"
   ]
  },
  {
   "cell_type": "markdown",
   "metadata": {
    "id": "LcnEviuCnjP8"
   },
   "source": [
    "Finally,\n",
    "\n",
    "\\begin{eqnarray}\n",
    "e^{-itY\\otimes Y} &=& e^{-it}\\Bigg((S\\otimes S)(H\\otimes H)|00\\rangle\\langle 00|(H\\otimes H)(S^{\\dagger}\\otimes S^{\\dagger})+(S\\otimes S)(H\\otimes H)|11\\rangle\\langle 11|(H\\otimes H) (S^{\\dagger}\\otimes S^{\\dagger})\\Bigg) \\\\\n",
    "&+& e^{it}\\Bigg((S\\otimes S) (H\\otimes H)|01\\rangle\\langle 01|(H\\otimes H)(S^{\\dagger}\\otimes S^{\\dagger}) + (S\\otimes S)(H\\otimes H)|10\\rangle\\langle 10|(H\\otimes H)(S^{\\dagger}\\otimes S^{\\dagger}) \\Bigg)\\\\\n",
    "&=& (S\\otimes S)(H\\otimes H) \\Bigg[e^{-it}\\Bigg(|00\\rangle\\langle 00|+|11\\rangle\\langle 11|\\Bigg)+e^{it} \\Bigg(|01\\rangle\\langle 01|+|10\\rangle\\langle 10|\\Bigg)\\Bigg](H\\otimes H)(S^{\\dagger}\\otimes S^{\\dagger}) \\\\\n",
    "& =& (S\\otimes S) (H\\otimes H)e^{-itZ \\otimes Z}(H\\otimes H)(S^{\\dagger}\\otimes S^{\\dagger}) \\\\\n",
    "&=&(S \\otimes S) (H \\otimes H) C_x^{01}\\big(\\mathbb{I}\\otimes e^{-itZ}\\big) C_x^{01} (H \\otimes H) (S^{\\dagger} \\otimes S^{\\dagger}) \\\\\n",
    "&=& (S \\otimes S) (H \\otimes H) C_x^{01} \\big(\\mathbb{I}\\otimes R_z(2t)\\big) C_x^{01} (H \\otimes H) (S^{\\dagger} \\otimes S^{\\dagger}).\n",
    "\\end{eqnarray}\n",
    "\n",
    "Where it was used the previously obtained result for the decomposition of the $ZZ(t)=e^{-itZ\\otimes Z}$ gate and the equality $e^{-itZ} = R_z(2t)$.\n",
    "\n",
    "Q.E.D."
   ]
  },
  {
   "cell_type": "markdown",
   "metadata": {
    "id": "BFU_nbDWNUre"
   },
   "source": [
    "From the fact that \n",
    "\n",
    "$$SH|0\\rangle = R_x(-\\pi/2)|0\\rangle = \\frac{1}{\\sqrt{2}}(|0\\rangle+i|1\\rangle) \\equiv |\\oplus\\rangle,$$ \n",
    "\n",
    "and \n",
    "\n",
    "$$SH|1\\rangle = R_x(\\pi/2)|0\\rangle = \\frac{1}{\\sqrt{2}}(|0\\rangle-i|1\\rangle) \\equiv |\\ominus\\rangle,$$ \n",
    "\n",
    "one equivalent quantum circuit is:\n",
    "\n",
    "$$(R_x(-\\pi/2) \\otimes R_x(-\\pi/2)) C_x^{01} \\big(\\mathbb{I}\\otimes R_z(2t)\\big) C_x^{01} (R_x(\\pi/2) \\otimes R_x(\\pi/2)).$$"
   ]
  },
  {
   "cell_type": "code",
   "execution_count": 27,
   "metadata": {
    "colab": {
     "base_uri": "https://localhost:8080/",
     "height": 191
    },
    "executionInfo": {
     "elapsed": 630,
     "status": "ok",
     "timestamp": 1683590067899,
     "user": {
      "displayName": "Lucas Camponogara Viera",
      "userId": "13421704742725721901"
     },
     "user_tz": 180
    },
    "id": "YiD1rtEoNBem",
    "outputId": "e3b5114a-60ea-49ab-eec8-888e7e4619ce"
   },
   "outputs": [
    {
     "data": {
      "image/png": "[encoded data removed]",
      "text/plain": [
       "<Figure size 556.56x200.667 with 1 Axes>"
      ]
     },
     "execution_count": 27,
     "metadata": {},
     "output_type": "execute_result"
    }
   ],
   "source": [
    "# Equivalent circuit for the YY(t) gate:\n",
    "\n",
    "qr = QuantumRegister(2)\n",
    "qc = QuantumCircuit(qr, name='YY')\n",
    "qc.rx(np.pi/2,[0,1])\n",
    "qc.cnot(0,1)\n",
    "qc.rz(2 * t, 1)\n",
    "qc.cnot(0,1)\n",
    "qc.rx(-np.pi/2,[0,1])\n",
    "qc.draw(output='mpl')"
   ]
  },
  {
   "cell_type": "markdown",
   "metadata": {
    "id": "oQKV7kAJt3il"
   },
   "source": [
    "# Verifying outer products"
   ]
  },
  {
   "cell_type": "markdown",
   "metadata": {
    "id": "y4UsoT2_ybET"
   },
   "source": [
    "Let $H$ and $S$ be the single-qubit Hadamard gate and single-qubit phase gate, respectively. And let $|00\\rangle$, $|01\\rangle$, $|10\\rangle$, $|11\\rangle$ be the eigenvectors of the $ZZ$ gate.\n",
    "\n",
    "Given the eigenvectors $|+\\rangle$, $|-\\rangle$, $|++\\rangle$, $|+-\\rangle$, $|-+\\rangle$, and $|--\\rangle$ of the $XX$ gate, the following holds:\n",
    "\n",
    "\\begin{eqnarray}\n",
    "|++\\rangle\\langle ++|&=&(H\\otimes H)|00\\rangle\\langle 00|(H\\otimes H).\\\\\n",
    "|--\\rangle\\langle --|&=&(H\\otimes H)|11\\rangle\\langle 11|(H\\otimes H).\\\\\n",
    "|+-\\rangle\\langle +-|&=&(H\\otimes H)|01\\rangle\\langle 01|(H\\otimes H).\\\\\n",
    "|-+\\rangle\\langle -+|&=&(H\\otimes H)|10\\rangle\\langle 10|(H\\otimes H).\\\\\n",
    "\\end{eqnarray}\n",
    "\n",
    "Given the eigenvectors $|\\oplus\\rangle$, $|\\ominus\\rangle$, $|\\oplus \\oplus\\rangle$, $|\\oplus\\ominus\\rangle$, $|\\ominus\\oplus\\rangle$, and $|\\ominus\\ominus\\rangle$ of the $YY$ gate, the following holds:\n",
    "\n",
    "\\begin{eqnarray}\n",
    "|\\oplus\\oplus\\rangle\\langle \\oplus\\oplus|&=&(S\\otimes S)(H\\otimes H)|00\\rangle\\langle 00|(H\\otimes H)(S^{\\dagger}\\otimes S^{\\dagger}).\\\\\n",
    "|\\ominus\\ominus\\rangle\\langle \\ominus\\ominus|&=&(S\\otimes S)(H\\otimes H)|11\\rangle\\langle 11|(H\\otimes H)(S^{\\dagger}\\otimes S^{\\dagger}).\\\\\n",
    "|\\oplus\\ominus\\rangle\\langle \\oplus\\ominus|&=&(S\\otimes S)(H\\otimes H)|01\\rangle\\langle 01|(H\\otimes H)(S^{\\dagger}\\otimes S^{\\dagger}).\\\\\n",
    "|\\ominus\\oplus\\rangle\\langle \\ominus\\oplus|&=&(S\\otimes S)(H\\otimes H)|10\\rangle\\langle 10|(H\\otimes H)(S^{\\dagger}\\otimes S^{\\dagger}).\\\\\n",
    "\\end{eqnarray}"
   ]
  },
  {
   "cell_type": "markdown",
   "metadata": {
    "id": "7fb2137d-da89-4235-b909-4e6c74a4a872"
   },
   "source": [
    "## $|++\\rangle\\langle ++|=(H\\otimes H)|00\\rangle\\langle 00|(H\\otimes H)$"
   ]
  },
  {
   "cell_type": "markdown",
   "metadata": {
    "id": "ex7Fh7z4nxZ7"
   },
   "source": [
    "**Verifying with NumPy:**"
   ]
  },
  {
   "cell_type": "code",
   "execution_count": 28,
   "metadata": {
    "colab": {
     "base_uri": "https://localhost:8080/"
    },
    "executionInfo": {
     "elapsed": 11,
     "status": "ok",
     "timestamp": 1663628023877,
     "user": {
      "displayName": "Lucas Camponogara Viera",
      "userId": "14322290658374940800"
     },
     "user_tz": -480
    },
    "id": "49b77f90-ec76-41c7-bc21-e4bba83ec93b",
    "outputId": "23fe7666-ae77-4b5d-b9a6-50ca33fadd8f",
    "tags": []
   },
   "outputs": [
    {
     "data": {
      "text/plain": [
       "True"
      ]
     },
     "execution_count": 28,
     "metadata": {},
     "output_type": "execute_result"
    }
   ],
   "source": [
    "(np.kron(plus.T,plus.T)@np.kron(plus,plus) == (np.kron(had,had))@zeros@(np.kron(had,had))).all()"
   ]
  },
  {
   "cell_type": "code",
   "execution_count": 29,
   "metadata": {
    "colab": {
     "base_uri": "https://localhost:8080/"
    },
    "executionInfo": {
     "elapsed": 10,
     "status": "ok",
     "timestamp": 1663628023877,
     "user": {
      "displayName": "Lucas Camponogara Viera",
      "userId": "14322290658374940800"
     },
     "user_tz": -480
    },
    "id": "g9dmwygNgXkH",
    "outputId": "362174ba-59d0-4396-d02f-a461987b1d1e"
   },
   "outputs": [
    {
     "data": {
      "text/plain": [
       "array([[0.25, 0.25, 0.25, 0.25],\n",
       "       [0.25, 0.25, 0.25, 0.25],\n",
       "       [0.25, 0.25, 0.25, 0.25],\n",
       "       [0.25, 0.25, 0.25, 0.25]])"
      ]
     },
     "execution_count": 29,
     "metadata": {},
     "output_type": "execute_result"
    }
   ],
   "source": [
    "np.kron(plus.T,plus.T)@np.kron(plus,plus)"
   ]
  },
  {
   "cell_type": "code",
   "execution_count": 30,
   "metadata": {
    "colab": {
     "base_uri": "https://localhost:8080/"
    },
    "executionInfo": {
     "elapsed": 11,
     "status": "ok",
     "timestamp": 1663628023878,
     "user": {
      "displayName": "Lucas Camponogara Viera",
      "userId": "14322290658374940800"
     },
     "user_tz": -480
    },
    "id": "ZOWkEGX5gYml",
    "outputId": "d01ca8d6-e0c2-4629-f783-b30c8eee561b"
   },
   "outputs": [
    {
     "data": {
      "text/plain": [
       "array([[0.25, 0.25, 0.25, 0.25],\n",
       "       [0.25, 0.25, 0.25, 0.25],\n",
       "       [0.25, 0.25, 0.25, 0.25],\n",
       "       [0.25, 0.25, 0.25, 0.25]])"
      ]
     },
     "execution_count": 30,
     "metadata": {},
     "output_type": "execute_result"
    }
   ],
   "source": [
    "(np.kron(had,had))@zeros@(np.kron(had,had))"
   ]
  },
  {
   "cell_type": "markdown",
   "metadata": {
    "id": "ed3acf9f-8827-4f78-bb36-1b0572e8906a"
   },
   "source": [
    "## $|--\\rangle\\langle --|=(H\\otimes H)|11\\rangle\\langle 11|(H\\otimes H)$"
   ]
  },
  {
   "cell_type": "markdown",
   "metadata": {
    "id": "scuAjgrcnwX5"
   },
   "source": [
    "**Verifying with NumPy:**"
   ]
  },
  {
   "cell_type": "code",
   "execution_count": 31,
   "metadata": {
    "colab": {
     "base_uri": "https://localhost:8080/"
    },
    "executionInfo": {
     "elapsed": 10,
     "status": "ok",
     "timestamp": 1663628023878,
     "user": {
      "displayName": "Lucas Camponogara Viera",
      "userId": "14322290658374940800"
     },
     "user_tz": -480
    },
    "id": "b0f8f822-cb95-4de1-979b-09a329abf22d",
    "outputId": "e6284677-6e27-4d9a-d100-69448f951ca1"
   },
   "outputs": [
    {
     "data": {
      "text/plain": [
       "True"
      ]
     },
     "execution_count": 31,
     "metadata": {},
     "output_type": "execute_result"
    }
   ],
   "source": [
    "(np.kron(minus.T,minus.T)@np.kron(minus,minus) == (np.kron(had,had))@ones@(np.kron(had,had))).all()"
   ]
  },
  {
   "cell_type": "code",
   "execution_count": 32,
   "metadata": {
    "colab": {
     "base_uri": "https://localhost:8080/"
    },
    "executionInfo": {
     "elapsed": 11,
     "status": "ok",
     "timestamp": 1663628023879,
     "user": {
      "displayName": "Lucas Camponogara Viera",
      "userId": "14322290658374940800"
     },
     "user_tz": -480
    },
    "id": "txoLGCjLg5xj",
    "outputId": "9a24bfad-f3bd-494f-ee9b-10b59043be2e"
   },
   "outputs": [
    {
     "data": {
      "text/plain": [
       "array([[ 0.25, -0.25, -0.25,  0.25],\n",
       "       [-0.25,  0.25,  0.25, -0.25],\n",
       "       [-0.25,  0.25,  0.25, -0.25],\n",
       "       [ 0.25, -0.25, -0.25,  0.25]])"
      ]
     },
     "execution_count": 32,
     "metadata": {},
     "output_type": "execute_result"
    }
   ],
   "source": [
    "np.kron(minus.T,minus.T)@np.kron(minus,minus)"
   ]
  },
  {
   "cell_type": "code",
   "execution_count": 33,
   "metadata": {
    "colab": {
     "base_uri": "https://localhost:8080/"
    },
    "executionInfo": {
     "elapsed": 10,
     "status": "ok",
     "timestamp": 1663628023879,
     "user": {
      "displayName": "Lucas Camponogara Viera",
      "userId": "14322290658374940800"
     },
     "user_tz": -480
    },
    "id": "tEe_UfV2g_vG",
    "outputId": "586d9c58-d832-4ad7-858c-e9520d75ba79"
   },
   "outputs": [
    {
     "data": {
      "text/plain": [
       "array([[ 0.25, -0.25, -0.25,  0.25],\n",
       "       [-0.25,  0.25,  0.25, -0.25],\n",
       "       [-0.25,  0.25,  0.25, -0.25],\n",
       "       [ 0.25, -0.25, -0.25,  0.25]])"
      ]
     },
     "execution_count": 33,
     "metadata": {},
     "output_type": "execute_result"
    }
   ],
   "source": [
    "(np.kron(had,had))@ones@(np.kron(had,had))"
   ]
  },
  {
   "cell_type": "markdown",
   "metadata": {
    "id": "c880929d-a2dc-4c0d-848a-60f2d6619380"
   },
   "source": [
    "## $|+-\\rangle\\langle +-|=(H\\otimes H)|01\\rangle\\langle 01|(H\\otimes H)$"
   ]
  },
  {
   "cell_type": "markdown",
   "metadata": {
    "id": "nb2XR5VOnutj"
   },
   "source": [
    "**Verifying with NumPy:**"
   ]
  },
  {
   "cell_type": "code",
   "execution_count": 34,
   "metadata": {
    "colab": {
     "base_uri": "https://localhost:8080/"
    },
    "executionInfo": {
     "elapsed": 10,
     "status": "ok",
     "timestamp": 1663628023879,
     "user": {
      "displayName": "Lucas Camponogara Viera",
      "userId": "14322290658374940800"
     },
     "user_tz": -480
    },
    "id": "968ea01f-764d-4a2c-8b71-b8b949382e61",
    "outputId": "eeb72d37-0268-4ef4-c667-dfa6a673517e"
   },
   "outputs": [
    {
     "data": {
      "text/plain": [
       "True"
      ]
     },
     "execution_count": 34,
     "metadata": {},
     "output_type": "execute_result"
    }
   ],
   "source": [
    "(np.kron(plus.T,minus.T)@np.kron(plus,minus) == (np.kron(had,had))@(zerone)@(np.kron(had,had))).all()"
   ]
  },
  {
   "cell_type": "code",
   "execution_count": 35,
   "metadata": {
    "colab": {
     "base_uri": "https://localhost:8080/"
    },
    "executionInfo": {
     "elapsed": 10,
     "status": "ok",
     "timestamp": 1663628023879,
     "user": {
      "displayName": "Lucas Camponogara Viera",
      "userId": "14322290658374940800"
     },
     "user_tz": -480
    },
    "id": "ebkyvZUbhDAY",
    "outputId": "33fe1c47-5332-42fb-9213-965f1a8ee8a1"
   },
   "outputs": [
    {
     "data": {
      "text/plain": [
       "array([[ 0.25, -0.25,  0.25, -0.25],\n",
       "       [-0.25,  0.25, -0.25,  0.25],\n",
       "       [ 0.25, -0.25,  0.25, -0.25],\n",
       "       [-0.25,  0.25, -0.25,  0.25]])"
      ]
     },
     "execution_count": 35,
     "metadata": {},
     "output_type": "execute_result"
    }
   ],
   "source": [
    "np.kron(plus.T,minus.T)@np.kron(plus,minus)"
   ]
  },
  {
   "cell_type": "code",
   "execution_count": 36,
   "metadata": {
    "colab": {
     "base_uri": "https://localhost:8080/"
    },
    "executionInfo": {
     "elapsed": 9,
     "status": "ok",
     "timestamp": 1663628023879,
     "user": {
      "displayName": "Lucas Camponogara Viera",
      "userId": "14322290658374940800"
     },
     "user_tz": -480
    },
    "id": "ZqTueoNthDGX",
    "outputId": "fccd40e3-9203-4a88-e373-2b4668852fa8"
   },
   "outputs": [
    {
     "data": {
      "text/plain": [
       "array([[ 0.25, -0.25,  0.25, -0.25],\n",
       "       [-0.25,  0.25, -0.25,  0.25],\n",
       "       [ 0.25, -0.25,  0.25, -0.25],\n",
       "       [-0.25,  0.25, -0.25,  0.25]])"
      ]
     },
     "execution_count": 36,
     "metadata": {},
     "output_type": "execute_result"
    }
   ],
   "source": [
    "(np.kron(had,had))@(zerone)@(np.kron(had,had))"
   ]
  },
  {
   "cell_type": "markdown",
   "metadata": {
    "id": "48887a12-eceb-4ac8-bec6-1a5a435bd0c3"
   },
   "source": [
    "## $|-+\\rangle\\langle -+|=(H\\otimes H)|10\\rangle\\langle 10|(H\\otimes H)$"
   ]
  },
  {
   "cell_type": "markdown",
   "metadata": {
    "id": "1ZC-j5u2nrTg"
   },
   "source": [
    "**Verifying with NumPy:**"
   ]
  },
  {
   "cell_type": "code",
   "execution_count": 37,
   "metadata": {
    "colab": {
     "base_uri": "https://localhost:8080/"
    },
    "executionInfo": {
     "elapsed": 9,
     "status": "ok",
     "timestamp": 1663628023879,
     "user": {
      "displayName": "Lucas Camponogara Viera",
      "userId": "14322290658374940800"
     },
     "user_tz": -480
    },
    "id": "0836f311-4593-45d1-8e67-7ad6b6c90693",
    "outputId": "116191fa-e26a-4422-db7d-6743790a923f"
   },
   "outputs": [
    {
     "data": {
      "text/plain": [
       "True"
      ]
     },
     "execution_count": 37,
     "metadata": {},
     "output_type": "execute_result"
    }
   ],
   "source": [
    "(np.kron(minus.T,plus.T)@np.kron(minus,plus) == (np.kron(had,had))@(onezero)@(np.kron(had,had))).all()"
   ]
  },
  {
   "cell_type": "code",
   "execution_count": 38,
   "metadata": {
    "colab": {
     "base_uri": "https://localhost:8080/"
    },
    "executionInfo": {
     "elapsed": 10,
     "status": "ok",
     "timestamp": 1663628023880,
     "user": {
      "displayName": "Lucas Camponogara Viera",
      "userId": "14322290658374940800"
     },
     "user_tz": -480
    },
    "id": "TLHQw--KhPMG",
    "outputId": "c21e4260-6a3a-4f1d-8708-4d9e9299033c"
   },
   "outputs": [
    {
     "data": {
      "text/plain": [
       "array([[ 0.25,  0.25, -0.25, -0.25],\n",
       "       [ 0.25,  0.25, -0.25, -0.25],\n",
       "       [-0.25, -0.25,  0.25,  0.25],\n",
       "       [-0.25, -0.25,  0.25,  0.25]])"
      ]
     },
     "execution_count": 38,
     "metadata": {},
     "output_type": "execute_result"
    }
   ],
   "source": [
    "np.kron(minus.T,plus.T)@np.kron(minus,plus)"
   ]
  },
  {
   "cell_type": "code",
   "execution_count": 39,
   "metadata": {
    "colab": {
     "base_uri": "https://localhost:8080/"
    },
    "executionInfo": {
     "elapsed": 9,
     "status": "ok",
     "timestamp": 1663628023880,
     "user": {
      "displayName": "Lucas Camponogara Viera",
      "userId": "14322290658374940800"
     },
     "user_tz": -480
    },
    "id": "481Jb4iUhPOh",
    "outputId": "04078d26-771a-444c-f524-013ec067dd9c"
   },
   "outputs": [
    {
     "data": {
      "text/plain": [
       "array([[ 0.25,  0.25, -0.25, -0.25],\n",
       "       [ 0.25,  0.25, -0.25, -0.25],\n",
       "       [-0.25, -0.25,  0.25,  0.25],\n",
       "       [-0.25, -0.25,  0.25,  0.25]])"
      ]
     },
     "execution_count": 39,
     "metadata": {},
     "output_type": "execute_result"
    }
   ],
   "source": [
    "(np.kron(had,had))@(onezero)@(np.kron(had,had))"
   ]
  },
  {
   "cell_type": "markdown",
   "metadata": {
    "id": "do1SmhqTtjxw"
   },
   "source": [
    "## $(|+\\rangle \\langle+|)⊗(|−\\rangle \\langle−|)=(|+−\\rangle \\langle+−|)$"
   ]
  },
  {
   "cell_type": "markdown",
   "metadata": {
    "id": "3oK6TYpVnzj7"
   },
   "source": [
    "**Verifying with NumPy:**"
   ]
  },
  {
   "cell_type": "code",
   "execution_count": 40,
   "metadata": {
    "colab": {
     "base_uri": "https://localhost:8080/"
    },
    "executionInfo": {
     "elapsed": 9,
     "status": "ok",
     "timestamp": 1663628023880,
     "user": {
      "displayName": "Lucas Camponogara Viera",
      "userId": "14322290658374940800"
     },
     "user_tz": -480
    },
    "id": "JH6obmPhtl3t",
    "outputId": "10770509-c23a-4567-83c2-dea5693e9f21"
   },
   "outputs": [
    {
     "data": {
      "text/plain": [
       "True"
      ]
     },
     "execution_count": 40,
     "metadata": {},
     "output_type": "execute_result"
    }
   ],
   "source": [
    "#(|+⟩⟨+|)⊗(|−⟩⟨−|) == (|+−⟩⟨+−|)\n",
    "(np.kron(np.outer(plus.T,plus),np.outer(minus.T,minus)) == (np.kron(plus.T, minus.T))@(np.kron(plus, minus))).all()"
   ]
  },
  {
   "cell_type": "code",
   "execution_count": 41,
   "metadata": {
    "colab": {
     "base_uri": "https://localhost:8080/"
    },
    "executionInfo": {
     "elapsed": 8,
     "status": "ok",
     "timestamp": 1663628023880,
     "user": {
      "displayName": "Lucas Camponogara Viera",
      "userId": "14322290658374940800"
     },
     "user_tz": -480
    },
    "id": "vTAfmtqixHox",
    "outputId": "6712990d-143b-4f16-aabf-8ceb034ec96f"
   },
   "outputs": [
    {
     "data": {
      "text/plain": [
       "array([[ 0.25, -0.25,  0.25, -0.25],\n",
       "       [-0.25,  0.25, -0.25,  0.25],\n",
       "       [ 0.25, -0.25,  0.25, -0.25],\n",
       "       [-0.25,  0.25, -0.25,  0.25]])"
      ]
     },
     "execution_count": 41,
     "metadata": {},
     "output_type": "execute_result"
    }
   ],
   "source": [
    "(np.kron(plus.T, minus.T))@(np.kron(plus, minus))"
   ]
  },
  {
   "cell_type": "code",
   "execution_count": 42,
   "metadata": {
    "colab": {
     "base_uri": "https://localhost:8080/"
    },
    "executionInfo": {
     "elapsed": 8,
     "status": "ok",
     "timestamp": 1663628023880,
     "user": {
      "displayName": "Lucas Camponogara Viera",
      "userId": "14322290658374940800"
     },
     "user_tz": -480
    },
    "id": "tjLupcrSxBxv",
    "outputId": "456b22eb-5d11-4257-a71c-db8468f2b22c"
   },
   "outputs": [
    {
     "data": {
      "text/plain": [
       "array([[ 0.25, -0.25,  0.25, -0.25],\n",
       "       [-0.25,  0.25, -0.25,  0.25],\n",
       "       [ 0.25, -0.25,  0.25, -0.25],\n",
       "       [-0.25,  0.25, -0.25,  0.25]])"
      ]
     },
     "execution_count": 42,
     "metadata": {},
     "output_type": "execute_result"
    }
   ],
   "source": [
    "np.kron(np.outer(plus.T,plus),np.outer(minus.T,minus))"
   ]
  },
  {
   "cell_type": "markdown",
   "metadata": {
    "id": "_7p0lsFKxo01"
   },
   "source": [
    "## $(|-\\rangle \\langle-|)⊗(|+\\rangle \\langle+|) = (|−+\\rangle \\langle−+|)$"
   ]
  },
  {
   "cell_type": "markdown",
   "metadata": {
    "id": "BEM8UpnLnyZB"
   },
   "source": [
    "**Verifying with NumPy:**"
   ]
  },
  {
   "cell_type": "code",
   "execution_count": 43,
   "metadata": {
    "colab": {
     "base_uri": "https://localhost:8080/"
    },
    "executionInfo": {
     "elapsed": 8,
     "status": "ok",
     "timestamp": 1663628023880,
     "user": {
      "displayName": "Lucas Camponogara Viera",
      "userId": "14322290658374940800"
     },
     "user_tz": -480
    },
    "id": "7TFHRGxhxYWc",
    "outputId": "be75b3c3-d7e2-43cf-f79d-963ccb55aa0d"
   },
   "outputs": [
    {
     "data": {
      "text/plain": [
       "True"
      ]
     },
     "execution_count": 43,
     "metadata": {},
     "output_type": "execute_result"
    }
   ],
   "source": [
    "# (|-⟩⟨-|)⊗(|+⟩⟨+|) == (|−+⟩⟨−+|) >>> True\n",
    "(np.kron(np.outer(minus.T,minus),np.outer(plus.T,plus)) == (np.kron(minus.T, plus.T))@(np.kron(minus, plus))).all()"
   ]
  },
  {
   "cell_type": "code",
   "execution_count": 44,
   "metadata": {
    "colab": {
     "base_uri": "https://localhost:8080/"
    },
    "executionInfo": {
     "elapsed": 8,
     "status": "ok",
     "timestamp": 1663628024359,
     "user": {
      "displayName": "Lucas Camponogara Viera",
      "userId": "14322290658374940800"
     },
     "user_tz": -480
    },
    "id": "Chz38Ezh1wDA",
    "outputId": "510677aa-32e4-480f-ee2d-4b60dffabd54"
   },
   "outputs": [
    {
     "data": {
      "text/plain": [
       "array([[ 0.25,  0.25, -0.25, -0.25],\n",
       "       [ 0.25,  0.25, -0.25, -0.25],\n",
       "       [-0.25, -0.25,  0.25,  0.25],\n",
       "       [-0.25, -0.25,  0.25,  0.25]])"
      ]
     },
     "execution_count": 44,
     "metadata": {},
     "output_type": "execute_result"
    }
   ],
   "source": [
    "np.kron(np.outer(minus.T,minus),np.outer(plus.T,plus))"
   ]
  },
  {
   "cell_type": "code",
   "execution_count": 45,
   "metadata": {
    "colab": {
     "base_uri": "https://localhost:8080/"
    },
    "executionInfo": {
     "elapsed": 7,
     "status": "ok",
     "timestamp": 1663628024359,
     "user": {
      "displayName": "Lucas Camponogara Viera",
      "userId": "14322290658374940800"
     },
     "user_tz": -480
    },
    "id": "MlkIWKj41wVY",
    "outputId": "36d904e0-2e3d-4536-b1b9-035bc66cb959"
   },
   "outputs": [
    {
     "data": {
      "text/plain": [
       "array([[ 0.25,  0.25, -0.25, -0.25],\n",
       "       [ 0.25,  0.25, -0.25, -0.25],\n",
       "       [-0.25, -0.25,  0.25,  0.25],\n",
       "       [-0.25, -0.25,  0.25,  0.25]])"
      ]
     },
     "execution_count": 45,
     "metadata": {},
     "output_type": "execute_result"
    }
   ],
   "source": [
    "(np.kron(minus.T, plus.T))@(np.kron(minus, plus))"
   ]
  }
 ],
 "metadata": {
  "colab": {
   "collapsed_sections": [
    "tMcH_0LbV534",
    "85n6UxmVt3iO",
    "K_2Y6TTKt3iP",
    "tBmjoW4bPpij",
    "nSUsnUnGU4x8",
    "hMcXCCQWVPVY",
    "5ykI4VoJVpI-",
    "f640c94a-c8a9-4675-a91d-07e12b12aa1c",
    "Jrs0h4pmqrFc",
    "9r6uJ7Owq28n",
    "e8e7e781-9bca-4a00-acc0-d920b7bf3161",
    "oQKV7kAJt3il",
    "7fb2137d-da89-4235-b909-4e6c74a4a872",
    "ed3acf9f-8827-4f78-bb36-1b0572e8906a",
    "c880929d-a2dc-4c0d-848a-60f2d6619380",
    "48887a12-eceb-4ac8-bec6-1a5a435bd0c3",
    "do1SmhqTtjxw",
    "_7p0lsFKxo01"
   ],
   "provenance": []
  },
  "kernelspec": {
   "display_name": "Python 3 (ipykernel)",
   "language": "python",
   "name": "python3"
  },
  "language_info": {
   "codemirror_mode": {
    "name": "ipython",
    "version": 3
   },
   "file_extension": ".py",
   "mimetype": "text/x-python",
   "name": "python",
   "nbconvert_exporter": "python",
   "pygments_lexer": "ipython3",
   "version": "3.11.2"
  }
 },
 "nbformat": 4,
 "nbformat_minor": 4
}
